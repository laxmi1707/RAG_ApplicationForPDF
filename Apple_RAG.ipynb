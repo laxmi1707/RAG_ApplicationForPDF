{
  "nbformat": 4,
  "nbformat_minor": 0,
  "metadata": {
    "colab": {
      "provenance": [],
      "gpuType": "T4",
      "authorship_tag": "ABX9TyMqa80jy2cEngaZSz0vSFPU",
      "include_colab_link": true
    },
    "kernelspec": {
      "name": "python3",
      "display_name": "Python 3"
    },
    "language_info": {
      "name": "python"
    },
    "accelerator": "GPU",
    "widgets": {
      "application/vnd.jupyter.widget-state+json": {
        "78980feb7b894585ac1dd73bae1b75d1": {
          "model_module": "@jupyter-widgets/controls",
          "model_name": "HBoxModel",
          "model_module_version": "1.5.0",
          "state": {
            "_dom_classes": [],
            "_model_module": "@jupyter-widgets/controls",
            "_model_module_version": "1.5.0",
            "_model_name": "HBoxModel",
            "_view_count": null,
            "_view_module": "@jupyter-widgets/controls",
            "_view_module_version": "1.5.0",
            "_view_name": "HBoxView",
            "box_style": "",
            "children": [
              "IPY_MODEL_549b7a3c978d440390a7fda3231563eb",
              "IPY_MODEL_bda9e73e231a4c7b908accdf4099d0bf",
              "IPY_MODEL_2dc7a1e2dff24d98b4c980e90e86e138"
            ],
            "layout": "IPY_MODEL_0c21b674678d422792ae9a6b99a54eb8"
          }
        },
        "549b7a3c978d440390a7fda3231563eb": {
          "model_module": "@jupyter-widgets/controls",
          "model_name": "HTMLModel",
          "model_module_version": "1.5.0",
          "state": {
            "_dom_classes": [],
            "_model_module": "@jupyter-widgets/controls",
            "_model_module_version": "1.5.0",
            "_model_name": "HTMLModel",
            "_view_count": null,
            "_view_module": "@jupyter-widgets/controls",
            "_view_module_version": "1.5.0",
            "_view_name": "HTMLView",
            "description": "",
            "description_tooltip": null,
            "layout": "IPY_MODEL_e68b001c4d0f42019a54af4fbb8ff30c",
            "placeholder": "​",
            "style": "IPY_MODEL_aaef26dfa58e4f8fb5b90d3e67d0140d",
            "value": "modules.json: 100%"
          }
        },
        "bda9e73e231a4c7b908accdf4099d0bf": {
          "model_module": "@jupyter-widgets/controls",
          "model_name": "FloatProgressModel",
          "model_module_version": "1.5.0",
          "state": {
            "_dom_classes": [],
            "_model_module": "@jupyter-widgets/controls",
            "_model_module_version": "1.5.0",
            "_model_name": "FloatProgressModel",
            "_view_count": null,
            "_view_module": "@jupyter-widgets/controls",
            "_view_module_version": "1.5.0",
            "_view_name": "ProgressView",
            "bar_style": "success",
            "description": "",
            "description_tooltip": null,
            "layout": "IPY_MODEL_5cde94b6d2d04ee9baaf39d51db63a08",
            "max": 385,
            "min": 0,
            "orientation": "horizontal",
            "style": "IPY_MODEL_244ad095683448c280e6d02ccc0e199c",
            "value": 385
          }
        },
        "2dc7a1e2dff24d98b4c980e90e86e138": {
          "model_module": "@jupyter-widgets/controls",
          "model_name": "HTMLModel",
          "model_module_version": "1.5.0",
          "state": {
            "_dom_classes": [],
            "_model_module": "@jupyter-widgets/controls",
            "_model_module_version": "1.5.0",
            "_model_name": "HTMLModel",
            "_view_count": null,
            "_view_module": "@jupyter-widgets/controls",
            "_view_module_version": "1.5.0",
            "_view_name": "HTMLView",
            "description": "",
            "description_tooltip": null,
            "layout": "IPY_MODEL_66768a54ebda437bb50789a23d6ab345",
            "placeholder": "​",
            "style": "IPY_MODEL_15dcc2a25d14490183f72eda4d1e5e1e",
            "value": " 385/385 [00:00&lt;00:00, 25.9kB/s]"
          }
        },
        "0c21b674678d422792ae9a6b99a54eb8": {
          "model_module": "@jupyter-widgets/base",
          "model_name": "LayoutModel",
          "model_module_version": "1.2.0",
          "state": {
            "_model_module": "@jupyter-widgets/base",
            "_model_module_version": "1.2.0",
            "_model_name": "LayoutModel",
            "_view_count": null,
            "_view_module": "@jupyter-widgets/base",
            "_view_module_version": "1.2.0",
            "_view_name": "LayoutView",
            "align_content": null,
            "align_items": null,
            "align_self": null,
            "border": null,
            "bottom": null,
            "display": null,
            "flex": null,
            "flex_flow": null,
            "grid_area": null,
            "grid_auto_columns": null,
            "grid_auto_flow": null,
            "grid_auto_rows": null,
            "grid_column": null,
            "grid_gap": null,
            "grid_row": null,
            "grid_template_areas": null,
            "grid_template_columns": null,
            "grid_template_rows": null,
            "height": null,
            "justify_content": null,
            "justify_items": null,
            "left": null,
            "margin": null,
            "max_height": null,
            "max_width": null,
            "min_height": null,
            "min_width": null,
            "object_fit": null,
            "object_position": null,
            "order": null,
            "overflow": null,
            "overflow_x": null,
            "overflow_y": null,
            "padding": null,
            "right": null,
            "top": null,
            "visibility": null,
            "width": null
          }
        },
        "e68b001c4d0f42019a54af4fbb8ff30c": {
          "model_module": "@jupyter-widgets/base",
          "model_name": "LayoutModel",
          "model_module_version": "1.2.0",
          "state": {
            "_model_module": "@jupyter-widgets/base",
            "_model_module_version": "1.2.0",
            "_model_name": "LayoutModel",
            "_view_count": null,
            "_view_module": "@jupyter-widgets/base",
            "_view_module_version": "1.2.0",
            "_view_name": "LayoutView",
            "align_content": null,
            "align_items": null,
            "align_self": null,
            "border": null,
            "bottom": null,
            "display": null,
            "flex": null,
            "flex_flow": null,
            "grid_area": null,
            "grid_auto_columns": null,
            "grid_auto_flow": null,
            "grid_auto_rows": null,
            "grid_column": null,
            "grid_gap": null,
            "grid_row": null,
            "grid_template_areas": null,
            "grid_template_columns": null,
            "grid_template_rows": null,
            "height": null,
            "justify_content": null,
            "justify_items": null,
            "left": null,
            "margin": null,
            "max_height": null,
            "max_width": null,
            "min_height": null,
            "min_width": null,
            "object_fit": null,
            "object_position": null,
            "order": null,
            "overflow": null,
            "overflow_x": null,
            "overflow_y": null,
            "padding": null,
            "right": null,
            "top": null,
            "visibility": null,
            "width": null
          }
        },
        "aaef26dfa58e4f8fb5b90d3e67d0140d": {
          "model_module": "@jupyter-widgets/controls",
          "model_name": "DescriptionStyleModel",
          "model_module_version": "1.5.0",
          "state": {
            "_model_module": "@jupyter-widgets/controls",
            "_model_module_version": "1.5.0",
            "_model_name": "DescriptionStyleModel",
            "_view_count": null,
            "_view_module": "@jupyter-widgets/base",
            "_view_module_version": "1.2.0",
            "_view_name": "StyleView",
            "description_width": ""
          }
        },
        "5cde94b6d2d04ee9baaf39d51db63a08": {
          "model_module": "@jupyter-widgets/base",
          "model_name": "LayoutModel",
          "model_module_version": "1.2.0",
          "state": {
            "_model_module": "@jupyter-widgets/base",
            "_model_module_version": "1.2.0",
            "_model_name": "LayoutModel",
            "_view_count": null,
            "_view_module": "@jupyter-widgets/base",
            "_view_module_version": "1.2.0",
            "_view_name": "LayoutView",
            "align_content": null,
            "align_items": null,
            "align_self": null,
            "border": null,
            "bottom": null,
            "display": null,
            "flex": null,
            "flex_flow": null,
            "grid_area": null,
            "grid_auto_columns": null,
            "grid_auto_flow": null,
            "grid_auto_rows": null,
            "grid_column": null,
            "grid_gap": null,
            "grid_row": null,
            "grid_template_areas": null,
            "grid_template_columns": null,
            "grid_template_rows": null,
            "height": null,
            "justify_content": null,
            "justify_items": null,
            "left": null,
            "margin": null,
            "max_height": null,
            "max_width": null,
            "min_height": null,
            "min_width": null,
            "object_fit": null,
            "object_position": null,
            "order": null,
            "overflow": null,
            "overflow_x": null,
            "overflow_y": null,
            "padding": null,
            "right": null,
            "top": null,
            "visibility": null,
            "width": null
          }
        },
        "244ad095683448c280e6d02ccc0e199c": {
          "model_module": "@jupyter-widgets/controls",
          "model_name": "ProgressStyleModel",
          "model_module_version": "1.5.0",
          "state": {
            "_model_module": "@jupyter-widgets/controls",
            "_model_module_version": "1.5.0",
            "_model_name": "ProgressStyleModel",
            "_view_count": null,
            "_view_module": "@jupyter-widgets/base",
            "_view_module_version": "1.2.0",
            "_view_name": "StyleView",
            "bar_color": null,
            "description_width": ""
          }
        },
        "66768a54ebda437bb50789a23d6ab345": {
          "model_module": "@jupyter-widgets/base",
          "model_name": "LayoutModel",
          "model_module_version": "1.2.0",
          "state": {
            "_model_module": "@jupyter-widgets/base",
            "_model_module_version": "1.2.0",
            "_model_name": "LayoutModel",
            "_view_count": null,
            "_view_module": "@jupyter-widgets/base",
            "_view_module_version": "1.2.0",
            "_view_name": "LayoutView",
            "align_content": null,
            "align_items": null,
            "align_self": null,
            "border": null,
            "bottom": null,
            "display": null,
            "flex": null,
            "flex_flow": null,
            "grid_area": null,
            "grid_auto_columns": null,
            "grid_auto_flow": null,
            "grid_auto_rows": null,
            "grid_column": null,
            "grid_gap": null,
            "grid_row": null,
            "grid_template_areas": null,
            "grid_template_columns": null,
            "grid_template_rows": null,
            "height": null,
            "justify_content": null,
            "justify_items": null,
            "left": null,
            "margin": null,
            "max_height": null,
            "max_width": null,
            "min_height": null,
            "min_width": null,
            "object_fit": null,
            "object_position": null,
            "order": null,
            "overflow": null,
            "overflow_x": null,
            "overflow_y": null,
            "padding": null,
            "right": null,
            "top": null,
            "visibility": null,
            "width": null
          }
        },
        "15dcc2a25d14490183f72eda4d1e5e1e": {
          "model_module": "@jupyter-widgets/controls",
          "model_name": "DescriptionStyleModel",
          "model_module_version": "1.5.0",
          "state": {
            "_model_module": "@jupyter-widgets/controls",
            "_model_module_version": "1.5.0",
            "_model_name": "DescriptionStyleModel",
            "_view_count": null,
            "_view_module": "@jupyter-widgets/base",
            "_view_module_version": "1.2.0",
            "_view_name": "StyleView",
            "description_width": ""
          }
        },
        "437936e9819642dd831f0906b030e841": {
          "model_module": "@jupyter-widgets/controls",
          "model_name": "HBoxModel",
          "model_module_version": "1.5.0",
          "state": {
            "_dom_classes": [],
            "_model_module": "@jupyter-widgets/controls",
            "_model_module_version": "1.5.0",
            "_model_name": "HBoxModel",
            "_view_count": null,
            "_view_module": "@jupyter-widgets/controls",
            "_view_module_version": "1.5.0",
            "_view_name": "HBoxView",
            "box_style": "",
            "children": [
              "IPY_MODEL_5e9d98d69a9a4a16b39dfd483f4c02ee",
              "IPY_MODEL_35ec42edec7a4e6c917838650136ead7",
              "IPY_MODEL_fed0c72a1fea409dbf0a1414fb9a810f"
            ],
            "layout": "IPY_MODEL_2dfbf5f9cf9d413788e2ecb6194fa6da"
          }
        },
        "5e9d98d69a9a4a16b39dfd483f4c02ee": {
          "model_module": "@jupyter-widgets/controls",
          "model_name": "HTMLModel",
          "model_module_version": "1.5.0",
          "state": {
            "_dom_classes": [],
            "_model_module": "@jupyter-widgets/controls",
            "_model_module_version": "1.5.0",
            "_model_name": "HTMLModel",
            "_view_count": null,
            "_view_module": "@jupyter-widgets/controls",
            "_view_module_version": "1.5.0",
            "_view_name": "HTMLView",
            "description": "",
            "description_tooltip": null,
            "layout": "IPY_MODEL_78b94ace6aac4b8b86a551ee69ecd4f9",
            "placeholder": "​",
            "style": "IPY_MODEL_f82d197d6407491cbf2c49d356844976",
            "value": "README.md: "
          }
        },
        "35ec42edec7a4e6c917838650136ead7": {
          "model_module": "@jupyter-widgets/controls",
          "model_name": "FloatProgressModel",
          "model_module_version": "1.5.0",
          "state": {
            "_dom_classes": [],
            "_model_module": "@jupyter-widgets/controls",
            "_model_module_version": "1.5.0",
            "_model_name": "FloatProgressModel",
            "_view_count": null,
            "_view_module": "@jupyter-widgets/controls",
            "_view_module_version": "1.5.0",
            "_view_name": "ProgressView",
            "bar_style": "success",
            "description": "",
            "description_tooltip": null,
            "layout": "IPY_MODEL_93a332746b3241518e265404120aa2ef",
            "max": 1,
            "min": 0,
            "orientation": "horizontal",
            "style": "IPY_MODEL_17a807b094ec40bd92fb989be71fd93b",
            "value": 1
          }
        },
        "fed0c72a1fea409dbf0a1414fb9a810f": {
          "model_module": "@jupyter-widgets/controls",
          "model_name": "HTMLModel",
          "model_module_version": "1.5.0",
          "state": {
            "_dom_classes": [],
            "_model_module": "@jupyter-widgets/controls",
            "_model_module_version": "1.5.0",
            "_model_name": "HTMLModel",
            "_view_count": null,
            "_view_module": "@jupyter-widgets/controls",
            "_view_module_version": "1.5.0",
            "_view_name": "HTMLView",
            "description": "",
            "description_tooltip": null,
            "layout": "IPY_MODEL_2566bf4a07d24aef85fda85abfb9d979",
            "placeholder": "​",
            "style": "IPY_MODEL_a5ccc561d92b40d88bfc6c6d0062a561",
            "value": " 67.9k/? [00:00&lt;00:00, 958kB/s]"
          }
        },
        "2dfbf5f9cf9d413788e2ecb6194fa6da": {
          "model_module": "@jupyter-widgets/base",
          "model_name": "LayoutModel",
          "model_module_version": "1.2.0",
          "state": {
            "_model_module": "@jupyter-widgets/base",
            "_model_module_version": "1.2.0",
            "_model_name": "LayoutModel",
            "_view_count": null,
            "_view_module": "@jupyter-widgets/base",
            "_view_module_version": "1.2.0",
            "_view_name": "LayoutView",
            "align_content": null,
            "align_items": null,
            "align_self": null,
            "border": null,
            "bottom": null,
            "display": null,
            "flex": null,
            "flex_flow": null,
            "grid_area": null,
            "grid_auto_columns": null,
            "grid_auto_flow": null,
            "grid_auto_rows": null,
            "grid_column": null,
            "grid_gap": null,
            "grid_row": null,
            "grid_template_areas": null,
            "grid_template_columns": null,
            "grid_template_rows": null,
            "height": null,
            "justify_content": null,
            "justify_items": null,
            "left": null,
            "margin": null,
            "max_height": null,
            "max_width": null,
            "min_height": null,
            "min_width": null,
            "object_fit": null,
            "object_position": null,
            "order": null,
            "overflow": null,
            "overflow_x": null,
            "overflow_y": null,
            "padding": null,
            "right": null,
            "top": null,
            "visibility": null,
            "width": null
          }
        },
        "78b94ace6aac4b8b86a551ee69ecd4f9": {
          "model_module": "@jupyter-widgets/base",
          "model_name": "LayoutModel",
          "model_module_version": "1.2.0",
          "state": {
            "_model_module": "@jupyter-widgets/base",
            "_model_module_version": "1.2.0",
            "_model_name": "LayoutModel",
            "_view_count": null,
            "_view_module": "@jupyter-widgets/base",
            "_view_module_version": "1.2.0",
            "_view_name": "LayoutView",
            "align_content": null,
            "align_items": null,
            "align_self": null,
            "border": null,
            "bottom": null,
            "display": null,
            "flex": null,
            "flex_flow": null,
            "grid_area": null,
            "grid_auto_columns": null,
            "grid_auto_flow": null,
            "grid_auto_rows": null,
            "grid_column": null,
            "grid_gap": null,
            "grid_row": null,
            "grid_template_areas": null,
            "grid_template_columns": null,
            "grid_template_rows": null,
            "height": null,
            "justify_content": null,
            "justify_items": null,
            "left": null,
            "margin": null,
            "max_height": null,
            "max_width": null,
            "min_height": null,
            "min_width": null,
            "object_fit": null,
            "object_position": null,
            "order": null,
            "overflow": null,
            "overflow_x": null,
            "overflow_y": null,
            "padding": null,
            "right": null,
            "top": null,
            "visibility": null,
            "width": null
          }
        },
        "f82d197d6407491cbf2c49d356844976": {
          "model_module": "@jupyter-widgets/controls",
          "model_name": "DescriptionStyleModel",
          "model_module_version": "1.5.0",
          "state": {
            "_model_module": "@jupyter-widgets/controls",
            "_model_module_version": "1.5.0",
            "_model_name": "DescriptionStyleModel",
            "_view_count": null,
            "_view_module": "@jupyter-widgets/base",
            "_view_module_version": "1.2.0",
            "_view_name": "StyleView",
            "description_width": ""
          }
        },
        "93a332746b3241518e265404120aa2ef": {
          "model_module": "@jupyter-widgets/base",
          "model_name": "LayoutModel",
          "model_module_version": "1.2.0",
          "state": {
            "_model_module": "@jupyter-widgets/base",
            "_model_module_version": "1.2.0",
            "_model_name": "LayoutModel",
            "_view_count": null,
            "_view_module": "@jupyter-widgets/base",
            "_view_module_version": "1.2.0",
            "_view_name": "LayoutView",
            "align_content": null,
            "align_items": null,
            "align_self": null,
            "border": null,
            "bottom": null,
            "display": null,
            "flex": null,
            "flex_flow": null,
            "grid_area": null,
            "grid_auto_columns": null,
            "grid_auto_flow": null,
            "grid_auto_rows": null,
            "grid_column": null,
            "grid_gap": null,
            "grid_row": null,
            "grid_template_areas": null,
            "grid_template_columns": null,
            "grid_template_rows": null,
            "height": null,
            "justify_content": null,
            "justify_items": null,
            "left": null,
            "margin": null,
            "max_height": null,
            "max_width": null,
            "min_height": null,
            "min_width": null,
            "object_fit": null,
            "object_position": null,
            "order": null,
            "overflow": null,
            "overflow_x": null,
            "overflow_y": null,
            "padding": null,
            "right": null,
            "top": null,
            "visibility": null,
            "width": "20px"
          }
        },
        "17a807b094ec40bd92fb989be71fd93b": {
          "model_module": "@jupyter-widgets/controls",
          "model_name": "ProgressStyleModel",
          "model_module_version": "1.5.0",
          "state": {
            "_model_module": "@jupyter-widgets/controls",
            "_model_module_version": "1.5.0",
            "_model_name": "ProgressStyleModel",
            "_view_count": null,
            "_view_module": "@jupyter-widgets/base",
            "_view_module_version": "1.2.0",
            "_view_name": "StyleView",
            "bar_color": null,
            "description_width": ""
          }
        },
        "2566bf4a07d24aef85fda85abfb9d979": {
          "model_module": "@jupyter-widgets/base",
          "model_name": "LayoutModel",
          "model_module_version": "1.2.0",
          "state": {
            "_model_module": "@jupyter-widgets/base",
            "_model_module_version": "1.2.0",
            "_model_name": "LayoutModel",
            "_view_count": null,
            "_view_module": "@jupyter-widgets/base",
            "_view_module_version": "1.2.0",
            "_view_name": "LayoutView",
            "align_content": null,
            "align_items": null,
            "align_self": null,
            "border": null,
            "bottom": null,
            "display": null,
            "flex": null,
            "flex_flow": null,
            "grid_area": null,
            "grid_auto_columns": null,
            "grid_auto_flow": null,
            "grid_auto_rows": null,
            "grid_column": null,
            "grid_gap": null,
            "grid_row": null,
            "grid_template_areas": null,
            "grid_template_columns": null,
            "grid_template_rows": null,
            "height": null,
            "justify_content": null,
            "justify_items": null,
            "left": null,
            "margin": null,
            "max_height": null,
            "max_width": null,
            "min_height": null,
            "min_width": null,
            "object_fit": null,
            "object_position": null,
            "order": null,
            "overflow": null,
            "overflow_x": null,
            "overflow_y": null,
            "padding": null,
            "right": null,
            "top": null,
            "visibility": null,
            "width": null
          }
        },
        "a5ccc561d92b40d88bfc6c6d0062a561": {
          "model_module": "@jupyter-widgets/controls",
          "model_name": "DescriptionStyleModel",
          "model_module_version": "1.5.0",
          "state": {
            "_model_module": "@jupyter-widgets/controls",
            "_model_module_version": "1.5.0",
            "_model_name": "DescriptionStyleModel",
            "_view_count": null,
            "_view_module": "@jupyter-widgets/base",
            "_view_module_version": "1.2.0",
            "_view_name": "StyleView",
            "description_width": ""
          }
        },
        "9301e36dc6224d9a9ec8e7d81ffade50": {
          "model_module": "@jupyter-widgets/controls",
          "model_name": "HBoxModel",
          "model_module_version": "1.5.0",
          "state": {
            "_dom_classes": [],
            "_model_module": "@jupyter-widgets/controls",
            "_model_module_version": "1.5.0",
            "_model_name": "HBoxModel",
            "_view_count": null,
            "_view_module": "@jupyter-widgets/controls",
            "_view_module_version": "1.5.0",
            "_view_name": "HBoxView",
            "box_style": "",
            "children": [
              "IPY_MODEL_20a8e5bc84fd4c6787b3358d2ef92d57",
              "IPY_MODEL_049ea597a3ff49399cc257466fc85802",
              "IPY_MODEL_fd015575ab77430fbb8d91fb73f5b797"
            ],
            "layout": "IPY_MODEL_9a996e0705cb4c0db9c5c519ad6de96b"
          }
        },
        "20a8e5bc84fd4c6787b3358d2ef92d57": {
          "model_module": "@jupyter-widgets/controls",
          "model_name": "HTMLModel",
          "model_module_version": "1.5.0",
          "state": {
            "_dom_classes": [],
            "_model_module": "@jupyter-widgets/controls",
            "_model_module_version": "1.5.0",
            "_model_name": "HTMLModel",
            "_view_count": null,
            "_view_module": "@jupyter-widgets/controls",
            "_view_module_version": "1.5.0",
            "_view_name": "HTMLView",
            "description": "",
            "description_tooltip": null,
            "layout": "IPY_MODEL_dba00e1acf1d404ebcf613fcd169f422",
            "placeholder": "​",
            "style": "IPY_MODEL_fcc1efe4fe734608b0885d00502d419f",
            "value": "sentence_bert_config.json: 100%"
          }
        },
        "049ea597a3ff49399cc257466fc85802": {
          "model_module": "@jupyter-widgets/controls",
          "model_name": "FloatProgressModel",
          "model_module_version": "1.5.0",
          "state": {
            "_dom_classes": [],
            "_model_module": "@jupyter-widgets/controls",
            "_model_module_version": "1.5.0",
            "_model_name": "FloatProgressModel",
            "_view_count": null,
            "_view_module": "@jupyter-widgets/controls",
            "_view_module_version": "1.5.0",
            "_view_name": "ProgressView",
            "bar_style": "success",
            "description": "",
            "description_tooltip": null,
            "layout": "IPY_MODEL_a5bd444244c24d3d83f053cbd579d31c",
            "max": 57,
            "min": 0,
            "orientation": "horizontal",
            "style": "IPY_MODEL_f6ae64bbad484754ad3f4d077c5b3fcd",
            "value": 57
          }
        },
        "fd015575ab77430fbb8d91fb73f5b797": {
          "model_module": "@jupyter-widgets/controls",
          "model_name": "HTMLModel",
          "model_module_version": "1.5.0",
          "state": {
            "_dom_classes": [],
            "_model_module": "@jupyter-widgets/controls",
            "_model_module_version": "1.5.0",
            "_model_name": "HTMLModel",
            "_view_count": null,
            "_view_module": "@jupyter-widgets/controls",
            "_view_module_version": "1.5.0",
            "_view_name": "HTMLView",
            "description": "",
            "description_tooltip": null,
            "layout": "IPY_MODEL_da0f5d5ffc7241e9a38d0eabeb55a3a2",
            "placeholder": "​",
            "style": "IPY_MODEL_c91d64869e934a839640c1ec4af1a0c6",
            "value": " 57.0/57.0 [00:00&lt;00:00, 3.40kB/s]"
          }
        },
        "9a996e0705cb4c0db9c5c519ad6de96b": {
          "model_module": "@jupyter-widgets/base",
          "model_name": "LayoutModel",
          "model_module_version": "1.2.0",
          "state": {
            "_model_module": "@jupyter-widgets/base",
            "_model_module_version": "1.2.0",
            "_model_name": "LayoutModel",
            "_view_count": null,
            "_view_module": "@jupyter-widgets/base",
            "_view_module_version": "1.2.0",
            "_view_name": "LayoutView",
            "align_content": null,
            "align_items": null,
            "align_self": null,
            "border": null,
            "bottom": null,
            "display": null,
            "flex": null,
            "flex_flow": null,
            "grid_area": null,
            "grid_auto_columns": null,
            "grid_auto_flow": null,
            "grid_auto_rows": null,
            "grid_column": null,
            "grid_gap": null,
            "grid_row": null,
            "grid_template_areas": null,
            "grid_template_columns": null,
            "grid_template_rows": null,
            "height": null,
            "justify_content": null,
            "justify_items": null,
            "left": null,
            "margin": null,
            "max_height": null,
            "max_width": null,
            "min_height": null,
            "min_width": null,
            "object_fit": null,
            "object_position": null,
            "order": null,
            "overflow": null,
            "overflow_x": null,
            "overflow_y": null,
            "padding": null,
            "right": null,
            "top": null,
            "visibility": null,
            "width": null
          }
        },
        "dba00e1acf1d404ebcf613fcd169f422": {
          "model_module": "@jupyter-widgets/base",
          "model_name": "LayoutModel",
          "model_module_version": "1.2.0",
          "state": {
            "_model_module": "@jupyter-widgets/base",
            "_model_module_version": "1.2.0",
            "_model_name": "LayoutModel",
            "_view_count": null,
            "_view_module": "@jupyter-widgets/base",
            "_view_module_version": "1.2.0",
            "_view_name": "LayoutView",
            "align_content": null,
            "align_items": null,
            "align_self": null,
            "border": null,
            "bottom": null,
            "display": null,
            "flex": null,
            "flex_flow": null,
            "grid_area": null,
            "grid_auto_columns": null,
            "grid_auto_flow": null,
            "grid_auto_rows": null,
            "grid_column": null,
            "grid_gap": null,
            "grid_row": null,
            "grid_template_areas": null,
            "grid_template_columns": null,
            "grid_template_rows": null,
            "height": null,
            "justify_content": null,
            "justify_items": null,
            "left": null,
            "margin": null,
            "max_height": null,
            "max_width": null,
            "min_height": null,
            "min_width": null,
            "object_fit": null,
            "object_position": null,
            "order": null,
            "overflow": null,
            "overflow_x": null,
            "overflow_y": null,
            "padding": null,
            "right": null,
            "top": null,
            "visibility": null,
            "width": null
          }
        },
        "fcc1efe4fe734608b0885d00502d419f": {
          "model_module": "@jupyter-widgets/controls",
          "model_name": "DescriptionStyleModel",
          "model_module_version": "1.5.0",
          "state": {
            "_model_module": "@jupyter-widgets/controls",
            "_model_module_version": "1.5.0",
            "_model_name": "DescriptionStyleModel",
            "_view_count": null,
            "_view_module": "@jupyter-widgets/base",
            "_view_module_version": "1.2.0",
            "_view_name": "StyleView",
            "description_width": ""
          }
        },
        "a5bd444244c24d3d83f053cbd579d31c": {
          "model_module": "@jupyter-widgets/base",
          "model_name": "LayoutModel",
          "model_module_version": "1.2.0",
          "state": {
            "_model_module": "@jupyter-widgets/base",
            "_model_module_version": "1.2.0",
            "_model_name": "LayoutModel",
            "_view_count": null,
            "_view_module": "@jupyter-widgets/base",
            "_view_module_version": "1.2.0",
            "_view_name": "LayoutView",
            "align_content": null,
            "align_items": null,
            "align_self": null,
            "border": null,
            "bottom": null,
            "display": null,
            "flex": null,
            "flex_flow": null,
            "grid_area": null,
            "grid_auto_columns": null,
            "grid_auto_flow": null,
            "grid_auto_rows": null,
            "grid_column": null,
            "grid_gap": null,
            "grid_row": null,
            "grid_template_areas": null,
            "grid_template_columns": null,
            "grid_template_rows": null,
            "height": null,
            "justify_content": null,
            "justify_items": null,
            "left": null,
            "margin": null,
            "max_height": null,
            "max_width": null,
            "min_height": null,
            "min_width": null,
            "object_fit": null,
            "object_position": null,
            "order": null,
            "overflow": null,
            "overflow_x": null,
            "overflow_y": null,
            "padding": null,
            "right": null,
            "top": null,
            "visibility": null,
            "width": null
          }
        },
        "f6ae64bbad484754ad3f4d077c5b3fcd": {
          "model_module": "@jupyter-widgets/controls",
          "model_name": "ProgressStyleModel",
          "model_module_version": "1.5.0",
          "state": {
            "_model_module": "@jupyter-widgets/controls",
            "_model_module_version": "1.5.0",
            "_model_name": "ProgressStyleModel",
            "_view_count": null,
            "_view_module": "@jupyter-widgets/base",
            "_view_module_version": "1.2.0",
            "_view_name": "StyleView",
            "bar_color": null,
            "description_width": ""
          }
        },
        "da0f5d5ffc7241e9a38d0eabeb55a3a2": {
          "model_module": "@jupyter-widgets/base",
          "model_name": "LayoutModel",
          "model_module_version": "1.2.0",
          "state": {
            "_model_module": "@jupyter-widgets/base",
            "_model_module_version": "1.2.0",
            "_model_name": "LayoutModel",
            "_view_count": null,
            "_view_module": "@jupyter-widgets/base",
            "_view_module_version": "1.2.0",
            "_view_name": "LayoutView",
            "align_content": null,
            "align_items": null,
            "align_self": null,
            "border": null,
            "bottom": null,
            "display": null,
            "flex": null,
            "flex_flow": null,
            "grid_area": null,
            "grid_auto_columns": null,
            "grid_auto_flow": null,
            "grid_auto_rows": null,
            "grid_column": null,
            "grid_gap": null,
            "grid_row": null,
            "grid_template_areas": null,
            "grid_template_columns": null,
            "grid_template_rows": null,
            "height": null,
            "justify_content": null,
            "justify_items": null,
            "left": null,
            "margin": null,
            "max_height": null,
            "max_width": null,
            "min_height": null,
            "min_width": null,
            "object_fit": null,
            "object_position": null,
            "order": null,
            "overflow": null,
            "overflow_x": null,
            "overflow_y": null,
            "padding": null,
            "right": null,
            "top": null,
            "visibility": null,
            "width": null
          }
        },
        "c91d64869e934a839640c1ec4af1a0c6": {
          "model_module": "@jupyter-widgets/controls",
          "model_name": "DescriptionStyleModel",
          "model_module_version": "1.5.0",
          "state": {
            "_model_module": "@jupyter-widgets/controls",
            "_model_module_version": "1.5.0",
            "_model_name": "DescriptionStyleModel",
            "_view_count": null,
            "_view_module": "@jupyter-widgets/base",
            "_view_module_version": "1.2.0",
            "_view_name": "StyleView",
            "description_width": ""
          }
        },
        "7dcd932fe1174ca7a84d64e56c9b897e": {
          "model_module": "@jupyter-widgets/controls",
          "model_name": "HBoxModel",
          "model_module_version": "1.5.0",
          "state": {
            "_dom_classes": [],
            "_model_module": "@jupyter-widgets/controls",
            "_model_module_version": "1.5.0",
            "_model_name": "HBoxModel",
            "_view_count": null,
            "_view_module": "@jupyter-widgets/controls",
            "_view_module_version": "1.5.0",
            "_view_name": "HBoxView",
            "box_style": "",
            "children": [
              "IPY_MODEL_2f2aeb067d5a4d2cb2ab0ffbf6e779ef",
              "IPY_MODEL_a550d378d34d4df2a4abb4125ea8a30a",
              "IPY_MODEL_42f06a816cb546cabe7abd66fef819b6"
            ],
            "layout": "IPY_MODEL_22196df5705e44cf937a1cd172458362"
          }
        },
        "2f2aeb067d5a4d2cb2ab0ffbf6e779ef": {
          "model_module": "@jupyter-widgets/controls",
          "model_name": "HTMLModel",
          "model_module_version": "1.5.0",
          "state": {
            "_dom_classes": [],
            "_model_module": "@jupyter-widgets/controls",
            "_model_module_version": "1.5.0",
            "_model_name": "HTMLModel",
            "_view_count": null,
            "_view_module": "@jupyter-widgets/controls",
            "_view_module_version": "1.5.0",
            "_view_name": "HTMLView",
            "description": "",
            "description_tooltip": null,
            "layout": "IPY_MODEL_19ed723928d84db6a3e06f9f0964171d",
            "placeholder": "​",
            "style": "IPY_MODEL_6b299e93ef014f77b15a495702830cb2",
            "value": "config.json: 100%"
          }
        },
        "a550d378d34d4df2a4abb4125ea8a30a": {
          "model_module": "@jupyter-widgets/controls",
          "model_name": "FloatProgressModel",
          "model_module_version": "1.5.0",
          "state": {
            "_dom_classes": [],
            "_model_module": "@jupyter-widgets/controls",
            "_model_module_version": "1.5.0",
            "_model_name": "FloatProgressModel",
            "_view_count": null,
            "_view_module": "@jupyter-widgets/controls",
            "_view_module_version": "1.5.0",
            "_view_name": "ProgressView",
            "bar_style": "success",
            "description": "",
            "description_tooltip": null,
            "layout": "IPY_MODEL_f157ebb5c2ed46399f3be6a900d99e04",
            "max": 619,
            "min": 0,
            "orientation": "horizontal",
            "style": "IPY_MODEL_f934b0bb2c904770acd78a5156281154",
            "value": 619
          }
        },
        "42f06a816cb546cabe7abd66fef819b6": {
          "model_module": "@jupyter-widgets/controls",
          "model_name": "HTMLModel",
          "model_module_version": "1.5.0",
          "state": {
            "_dom_classes": [],
            "_model_module": "@jupyter-widgets/controls",
            "_model_module_version": "1.5.0",
            "_model_name": "HTMLModel",
            "_view_count": null,
            "_view_module": "@jupyter-widgets/controls",
            "_view_module_version": "1.5.0",
            "_view_name": "HTMLView",
            "description": "",
            "description_tooltip": null,
            "layout": "IPY_MODEL_e3585aed4a6747a29137876fa9955290",
            "placeholder": "​",
            "style": "IPY_MODEL_94c75f1373c44e2589705ccf7e594c45",
            "value": " 619/619 [00:00&lt;00:00, 39.4kB/s]"
          }
        },
        "22196df5705e44cf937a1cd172458362": {
          "model_module": "@jupyter-widgets/base",
          "model_name": "LayoutModel",
          "model_module_version": "1.2.0",
          "state": {
            "_model_module": "@jupyter-widgets/base",
            "_model_module_version": "1.2.0",
            "_model_name": "LayoutModel",
            "_view_count": null,
            "_view_module": "@jupyter-widgets/base",
            "_view_module_version": "1.2.0",
            "_view_name": "LayoutView",
            "align_content": null,
            "align_items": null,
            "align_self": null,
            "border": null,
            "bottom": null,
            "display": null,
            "flex": null,
            "flex_flow": null,
            "grid_area": null,
            "grid_auto_columns": null,
            "grid_auto_flow": null,
            "grid_auto_rows": null,
            "grid_column": null,
            "grid_gap": null,
            "grid_row": null,
            "grid_template_areas": null,
            "grid_template_columns": null,
            "grid_template_rows": null,
            "height": null,
            "justify_content": null,
            "justify_items": null,
            "left": null,
            "margin": null,
            "max_height": null,
            "max_width": null,
            "min_height": null,
            "min_width": null,
            "object_fit": null,
            "object_position": null,
            "order": null,
            "overflow": null,
            "overflow_x": null,
            "overflow_y": null,
            "padding": null,
            "right": null,
            "top": null,
            "visibility": null,
            "width": null
          }
        },
        "19ed723928d84db6a3e06f9f0964171d": {
          "model_module": "@jupyter-widgets/base",
          "model_name": "LayoutModel",
          "model_module_version": "1.2.0",
          "state": {
            "_model_module": "@jupyter-widgets/base",
            "_model_module_version": "1.2.0",
            "_model_name": "LayoutModel",
            "_view_count": null,
            "_view_module": "@jupyter-widgets/base",
            "_view_module_version": "1.2.0",
            "_view_name": "LayoutView",
            "align_content": null,
            "align_items": null,
            "align_self": null,
            "border": null,
            "bottom": null,
            "display": null,
            "flex": null,
            "flex_flow": null,
            "grid_area": null,
            "grid_auto_columns": null,
            "grid_auto_flow": null,
            "grid_auto_rows": null,
            "grid_column": null,
            "grid_gap": null,
            "grid_row": null,
            "grid_template_areas": null,
            "grid_template_columns": null,
            "grid_template_rows": null,
            "height": null,
            "justify_content": null,
            "justify_items": null,
            "left": null,
            "margin": null,
            "max_height": null,
            "max_width": null,
            "min_height": null,
            "min_width": null,
            "object_fit": null,
            "object_position": null,
            "order": null,
            "overflow": null,
            "overflow_x": null,
            "overflow_y": null,
            "padding": null,
            "right": null,
            "top": null,
            "visibility": null,
            "width": null
          }
        },
        "6b299e93ef014f77b15a495702830cb2": {
          "model_module": "@jupyter-widgets/controls",
          "model_name": "DescriptionStyleModel",
          "model_module_version": "1.5.0",
          "state": {
            "_model_module": "@jupyter-widgets/controls",
            "_model_module_version": "1.5.0",
            "_model_name": "DescriptionStyleModel",
            "_view_count": null,
            "_view_module": "@jupyter-widgets/base",
            "_view_module_version": "1.2.0",
            "_view_name": "StyleView",
            "description_width": ""
          }
        },
        "f157ebb5c2ed46399f3be6a900d99e04": {
          "model_module": "@jupyter-widgets/base",
          "model_name": "LayoutModel",
          "model_module_version": "1.2.0",
          "state": {
            "_model_module": "@jupyter-widgets/base",
            "_model_module_version": "1.2.0",
            "_model_name": "LayoutModel",
            "_view_count": null,
            "_view_module": "@jupyter-widgets/base",
            "_view_module_version": "1.2.0",
            "_view_name": "LayoutView",
            "align_content": null,
            "align_items": null,
            "align_self": null,
            "border": null,
            "bottom": null,
            "display": null,
            "flex": null,
            "flex_flow": null,
            "grid_area": null,
            "grid_auto_columns": null,
            "grid_auto_flow": null,
            "grid_auto_rows": null,
            "grid_column": null,
            "grid_gap": null,
            "grid_row": null,
            "grid_template_areas": null,
            "grid_template_columns": null,
            "grid_template_rows": null,
            "height": null,
            "justify_content": null,
            "justify_items": null,
            "left": null,
            "margin": null,
            "max_height": null,
            "max_width": null,
            "min_height": null,
            "min_width": null,
            "object_fit": null,
            "object_position": null,
            "order": null,
            "overflow": null,
            "overflow_x": null,
            "overflow_y": null,
            "padding": null,
            "right": null,
            "top": null,
            "visibility": null,
            "width": null
          }
        },
        "f934b0bb2c904770acd78a5156281154": {
          "model_module": "@jupyter-widgets/controls",
          "model_name": "ProgressStyleModel",
          "model_module_version": "1.5.0",
          "state": {
            "_model_module": "@jupyter-widgets/controls",
            "_model_module_version": "1.5.0",
            "_model_name": "ProgressStyleModel",
            "_view_count": null,
            "_view_module": "@jupyter-widgets/base",
            "_view_module_version": "1.2.0",
            "_view_name": "StyleView",
            "bar_color": null,
            "description_width": ""
          }
        },
        "e3585aed4a6747a29137876fa9955290": {
          "model_module": "@jupyter-widgets/base",
          "model_name": "LayoutModel",
          "model_module_version": "1.2.0",
          "state": {
            "_model_module": "@jupyter-widgets/base",
            "_model_module_version": "1.2.0",
            "_model_name": "LayoutModel",
            "_view_count": null,
            "_view_module": "@jupyter-widgets/base",
            "_view_module_version": "1.2.0",
            "_view_name": "LayoutView",
            "align_content": null,
            "align_items": null,
            "align_self": null,
            "border": null,
            "bottom": null,
            "display": null,
            "flex": null,
            "flex_flow": null,
            "grid_area": null,
            "grid_auto_columns": null,
            "grid_auto_flow": null,
            "grid_auto_rows": null,
            "grid_column": null,
            "grid_gap": null,
            "grid_row": null,
            "grid_template_areas": null,
            "grid_template_columns": null,
            "grid_template_rows": null,
            "height": null,
            "justify_content": null,
            "justify_items": null,
            "left": null,
            "margin": null,
            "max_height": null,
            "max_width": null,
            "min_height": null,
            "min_width": null,
            "object_fit": null,
            "object_position": null,
            "order": null,
            "overflow": null,
            "overflow_x": null,
            "overflow_y": null,
            "padding": null,
            "right": null,
            "top": null,
            "visibility": null,
            "width": null
          }
        },
        "94c75f1373c44e2589705ccf7e594c45": {
          "model_module": "@jupyter-widgets/controls",
          "model_name": "DescriptionStyleModel",
          "model_module_version": "1.5.0",
          "state": {
            "_model_module": "@jupyter-widgets/controls",
            "_model_module_version": "1.5.0",
            "_model_name": "DescriptionStyleModel",
            "_view_count": null,
            "_view_module": "@jupyter-widgets/base",
            "_view_module_version": "1.2.0",
            "_view_name": "StyleView",
            "description_width": ""
          }
        },
        "1e93756befa14040b2ac8be58754dfb7": {
          "model_module": "@jupyter-widgets/controls",
          "model_name": "HBoxModel",
          "model_module_version": "1.5.0",
          "state": {
            "_dom_classes": [],
            "_model_module": "@jupyter-widgets/controls",
            "_model_module_version": "1.5.0",
            "_model_name": "HBoxModel",
            "_view_count": null,
            "_view_module": "@jupyter-widgets/controls",
            "_view_module_version": "1.5.0",
            "_view_name": "HBoxView",
            "box_style": "",
            "children": [
              "IPY_MODEL_1bad39859656424e87ba6b5778faf8a3",
              "IPY_MODEL_84e1b151083a4b9eb5c066419e7d546a",
              "IPY_MODEL_89aa1121441c4129897fcf59b0c44f24"
            ],
            "layout": "IPY_MODEL_a4e43ef7569648cda0c2b3b83ec3d316"
          }
        },
        "1bad39859656424e87ba6b5778faf8a3": {
          "model_module": "@jupyter-widgets/controls",
          "model_name": "HTMLModel",
          "model_module_version": "1.5.0",
          "state": {
            "_dom_classes": [],
            "_model_module": "@jupyter-widgets/controls",
            "_model_module_version": "1.5.0",
            "_model_name": "HTMLModel",
            "_view_count": null,
            "_view_module": "@jupyter-widgets/controls",
            "_view_module_version": "1.5.0",
            "_view_name": "HTMLView",
            "description": "",
            "description_tooltip": null,
            "layout": "IPY_MODEL_831b060288494f3c9fbf87cd9c612e5b",
            "placeholder": "​",
            "style": "IPY_MODEL_de4a8b16d0654f5e8f89870a06f3b959",
            "value": "model.safetensors: 100%"
          }
        },
        "84e1b151083a4b9eb5c066419e7d546a": {
          "model_module": "@jupyter-widgets/controls",
          "model_name": "FloatProgressModel",
          "model_module_version": "1.5.0",
          "state": {
            "_dom_classes": [],
            "_model_module": "@jupyter-widgets/controls",
            "_model_module_version": "1.5.0",
            "_model_name": "FloatProgressModel",
            "_view_count": null,
            "_view_module": "@jupyter-widgets/controls",
            "_view_module_version": "1.5.0",
            "_view_name": "ProgressView",
            "bar_style": "success",
            "description": "",
            "description_tooltip": null,
            "layout": "IPY_MODEL_2b204cc3675942a69c43b6efeee6201f",
            "max": 670332568,
            "min": 0,
            "orientation": "horizontal",
            "style": "IPY_MODEL_235decdd3d244fa4b7ac489f7f791327",
            "value": 670332568
          }
        },
        "89aa1121441c4129897fcf59b0c44f24": {
          "model_module": "@jupyter-widgets/controls",
          "model_name": "HTMLModel",
          "model_module_version": "1.5.0",
          "state": {
            "_dom_classes": [],
            "_model_module": "@jupyter-widgets/controls",
            "_model_module_version": "1.5.0",
            "_model_name": "HTMLModel",
            "_view_count": null,
            "_view_module": "@jupyter-widgets/controls",
            "_view_module_version": "1.5.0",
            "_view_name": "HTMLView",
            "description": "",
            "description_tooltip": null,
            "layout": "IPY_MODEL_23ee797133b8469f9f28a78ea60f2356",
            "placeholder": "​",
            "style": "IPY_MODEL_ff5e54dbaad14ffb9b0cf097e2f6688c",
            "value": " 670M/670M [00:03&lt;00:00, 229MB/s]"
          }
        },
        "a4e43ef7569648cda0c2b3b83ec3d316": {
          "model_module": "@jupyter-widgets/base",
          "model_name": "LayoutModel",
          "model_module_version": "1.2.0",
          "state": {
            "_model_module": "@jupyter-widgets/base",
            "_model_module_version": "1.2.0",
            "_model_name": "LayoutModel",
            "_view_count": null,
            "_view_module": "@jupyter-widgets/base",
            "_view_module_version": "1.2.0",
            "_view_name": "LayoutView",
            "align_content": null,
            "align_items": null,
            "align_self": null,
            "border": null,
            "bottom": null,
            "display": null,
            "flex": null,
            "flex_flow": null,
            "grid_area": null,
            "grid_auto_columns": null,
            "grid_auto_flow": null,
            "grid_auto_rows": null,
            "grid_column": null,
            "grid_gap": null,
            "grid_row": null,
            "grid_template_areas": null,
            "grid_template_columns": null,
            "grid_template_rows": null,
            "height": null,
            "justify_content": null,
            "justify_items": null,
            "left": null,
            "margin": null,
            "max_height": null,
            "max_width": null,
            "min_height": null,
            "min_width": null,
            "object_fit": null,
            "object_position": null,
            "order": null,
            "overflow": null,
            "overflow_x": null,
            "overflow_y": null,
            "padding": null,
            "right": null,
            "top": null,
            "visibility": null,
            "width": null
          }
        },
        "831b060288494f3c9fbf87cd9c612e5b": {
          "model_module": "@jupyter-widgets/base",
          "model_name": "LayoutModel",
          "model_module_version": "1.2.0",
          "state": {
            "_model_module": "@jupyter-widgets/base",
            "_model_module_version": "1.2.0",
            "_model_name": "LayoutModel",
            "_view_count": null,
            "_view_module": "@jupyter-widgets/base",
            "_view_module_version": "1.2.0",
            "_view_name": "LayoutView",
            "align_content": null,
            "align_items": null,
            "align_self": null,
            "border": null,
            "bottom": null,
            "display": null,
            "flex": null,
            "flex_flow": null,
            "grid_area": null,
            "grid_auto_columns": null,
            "grid_auto_flow": null,
            "grid_auto_rows": null,
            "grid_column": null,
            "grid_gap": null,
            "grid_row": null,
            "grid_template_areas": null,
            "grid_template_columns": null,
            "grid_template_rows": null,
            "height": null,
            "justify_content": null,
            "justify_items": null,
            "left": null,
            "margin": null,
            "max_height": null,
            "max_width": null,
            "min_height": null,
            "min_width": null,
            "object_fit": null,
            "object_position": null,
            "order": null,
            "overflow": null,
            "overflow_x": null,
            "overflow_y": null,
            "padding": null,
            "right": null,
            "top": null,
            "visibility": null,
            "width": null
          }
        },
        "de4a8b16d0654f5e8f89870a06f3b959": {
          "model_module": "@jupyter-widgets/controls",
          "model_name": "DescriptionStyleModel",
          "model_module_version": "1.5.0",
          "state": {
            "_model_module": "@jupyter-widgets/controls",
            "_model_module_version": "1.5.0",
            "_model_name": "DescriptionStyleModel",
            "_view_count": null,
            "_view_module": "@jupyter-widgets/base",
            "_view_module_version": "1.2.0",
            "_view_name": "StyleView",
            "description_width": ""
          }
        },
        "2b204cc3675942a69c43b6efeee6201f": {
          "model_module": "@jupyter-widgets/base",
          "model_name": "LayoutModel",
          "model_module_version": "1.2.0",
          "state": {
            "_model_module": "@jupyter-widgets/base",
            "_model_module_version": "1.2.0",
            "_model_name": "LayoutModel",
            "_view_count": null,
            "_view_module": "@jupyter-widgets/base",
            "_view_module_version": "1.2.0",
            "_view_name": "LayoutView",
            "align_content": null,
            "align_items": null,
            "align_self": null,
            "border": null,
            "bottom": null,
            "display": null,
            "flex": null,
            "flex_flow": null,
            "grid_area": null,
            "grid_auto_columns": null,
            "grid_auto_flow": null,
            "grid_auto_rows": null,
            "grid_column": null,
            "grid_gap": null,
            "grid_row": null,
            "grid_template_areas": null,
            "grid_template_columns": null,
            "grid_template_rows": null,
            "height": null,
            "justify_content": null,
            "justify_items": null,
            "left": null,
            "margin": null,
            "max_height": null,
            "max_width": null,
            "min_height": null,
            "min_width": null,
            "object_fit": null,
            "object_position": null,
            "order": null,
            "overflow": null,
            "overflow_x": null,
            "overflow_y": null,
            "padding": null,
            "right": null,
            "top": null,
            "visibility": null,
            "width": null
          }
        },
        "235decdd3d244fa4b7ac489f7f791327": {
          "model_module": "@jupyter-widgets/controls",
          "model_name": "ProgressStyleModel",
          "model_module_version": "1.5.0",
          "state": {
            "_model_module": "@jupyter-widgets/controls",
            "_model_module_version": "1.5.0",
            "_model_name": "ProgressStyleModel",
            "_view_count": null,
            "_view_module": "@jupyter-widgets/base",
            "_view_module_version": "1.2.0",
            "_view_name": "StyleView",
            "bar_color": null,
            "description_width": ""
          }
        },
        "23ee797133b8469f9f28a78ea60f2356": {
          "model_module": "@jupyter-widgets/base",
          "model_name": "LayoutModel",
          "model_module_version": "1.2.0",
          "state": {
            "_model_module": "@jupyter-widgets/base",
            "_model_module_version": "1.2.0",
            "_model_name": "LayoutModel",
            "_view_count": null,
            "_view_module": "@jupyter-widgets/base",
            "_view_module_version": "1.2.0",
            "_view_name": "LayoutView",
            "align_content": null,
            "align_items": null,
            "align_self": null,
            "border": null,
            "bottom": null,
            "display": null,
            "flex": null,
            "flex_flow": null,
            "grid_area": null,
            "grid_auto_columns": null,
            "grid_auto_flow": null,
            "grid_auto_rows": null,
            "grid_column": null,
            "grid_gap": null,
            "grid_row": null,
            "grid_template_areas": null,
            "grid_template_columns": null,
            "grid_template_rows": null,
            "height": null,
            "justify_content": null,
            "justify_items": null,
            "left": null,
            "margin": null,
            "max_height": null,
            "max_width": null,
            "min_height": null,
            "min_width": null,
            "object_fit": null,
            "object_position": null,
            "order": null,
            "overflow": null,
            "overflow_x": null,
            "overflow_y": null,
            "padding": null,
            "right": null,
            "top": null,
            "visibility": null,
            "width": null
          }
        },
        "ff5e54dbaad14ffb9b0cf097e2f6688c": {
          "model_module": "@jupyter-widgets/controls",
          "model_name": "DescriptionStyleModel",
          "model_module_version": "1.5.0",
          "state": {
            "_model_module": "@jupyter-widgets/controls",
            "_model_module_version": "1.5.0",
            "_model_name": "DescriptionStyleModel",
            "_view_count": null,
            "_view_module": "@jupyter-widgets/base",
            "_view_module_version": "1.2.0",
            "_view_name": "StyleView",
            "description_width": ""
          }
        },
        "aac68935a0b142449526ad6062b848fe": {
          "model_module": "@jupyter-widgets/controls",
          "model_name": "HBoxModel",
          "model_module_version": "1.5.0",
          "state": {
            "_dom_classes": [],
            "_model_module": "@jupyter-widgets/controls",
            "_model_module_version": "1.5.0",
            "_model_name": "HBoxModel",
            "_view_count": null,
            "_view_module": "@jupyter-widgets/controls",
            "_view_module_version": "1.5.0",
            "_view_name": "HBoxView",
            "box_style": "",
            "children": [
              "IPY_MODEL_73e343bb92914343bf82bb8ecbd71c57",
              "IPY_MODEL_0bd8a278e9bf4c8d92af16e507edd146",
              "IPY_MODEL_31b69ede33b64311982c9107107821e4"
            ],
            "layout": "IPY_MODEL_c9be10f94a654d0591f252ee498c05ec"
          }
        },
        "73e343bb92914343bf82bb8ecbd71c57": {
          "model_module": "@jupyter-widgets/controls",
          "model_name": "HTMLModel",
          "model_module_version": "1.5.0",
          "state": {
            "_dom_classes": [],
            "_model_module": "@jupyter-widgets/controls",
            "_model_module_version": "1.5.0",
            "_model_name": "HTMLModel",
            "_view_count": null,
            "_view_module": "@jupyter-widgets/controls",
            "_view_module_version": "1.5.0",
            "_view_name": "HTMLView",
            "description": "",
            "description_tooltip": null,
            "layout": "IPY_MODEL_b61d9ec897014a08a58169eda5b158c7",
            "placeholder": "​",
            "style": "IPY_MODEL_4b96650c4f374016aa13a651f7ca9abe",
            "value": "tokenizer_config.json: 100%"
          }
        },
        "0bd8a278e9bf4c8d92af16e507edd146": {
          "model_module": "@jupyter-widgets/controls",
          "model_name": "FloatProgressModel",
          "model_module_version": "1.5.0",
          "state": {
            "_dom_classes": [],
            "_model_module": "@jupyter-widgets/controls",
            "_model_module_version": "1.5.0",
            "_model_name": "FloatProgressModel",
            "_view_count": null,
            "_view_module": "@jupyter-widgets/controls",
            "_view_module_version": "1.5.0",
            "_view_name": "ProgressView",
            "bar_style": "success",
            "description": "",
            "description_tooltip": null,
            "layout": "IPY_MODEL_f212ea99f9b3461987fbfd7cc8e67c41",
            "max": 342,
            "min": 0,
            "orientation": "horizontal",
            "style": "IPY_MODEL_6d3fbcb94bcd45979513c97083918f2b",
            "value": 342
          }
        },
        "31b69ede33b64311982c9107107821e4": {
          "model_module": "@jupyter-widgets/controls",
          "model_name": "HTMLModel",
          "model_module_version": "1.5.0",
          "state": {
            "_dom_classes": [],
            "_model_module": "@jupyter-widgets/controls",
            "_model_module_version": "1.5.0",
            "_model_name": "HTMLModel",
            "_view_count": null,
            "_view_module": "@jupyter-widgets/controls",
            "_view_module_version": "1.5.0",
            "_view_name": "HTMLView",
            "description": "",
            "description_tooltip": null,
            "layout": "IPY_MODEL_c2defbc423c340f9833121d5d9652db5",
            "placeholder": "​",
            "style": "IPY_MODEL_b96f4f26cdb943d5ba59a91e80bdef4e",
            "value": " 342/342 [00:00&lt;00:00, 17.5kB/s]"
          }
        },
        "c9be10f94a654d0591f252ee498c05ec": {
          "model_module": "@jupyter-widgets/base",
          "model_name": "LayoutModel",
          "model_module_version": "1.2.0",
          "state": {
            "_model_module": "@jupyter-widgets/base",
            "_model_module_version": "1.2.0",
            "_model_name": "LayoutModel",
            "_view_count": null,
            "_view_module": "@jupyter-widgets/base",
            "_view_module_version": "1.2.0",
            "_view_name": "LayoutView",
            "align_content": null,
            "align_items": null,
            "align_self": null,
            "border": null,
            "bottom": null,
            "display": null,
            "flex": null,
            "flex_flow": null,
            "grid_area": null,
            "grid_auto_columns": null,
            "grid_auto_flow": null,
            "grid_auto_rows": null,
            "grid_column": null,
            "grid_gap": null,
            "grid_row": null,
            "grid_template_areas": null,
            "grid_template_columns": null,
            "grid_template_rows": null,
            "height": null,
            "justify_content": null,
            "justify_items": null,
            "left": null,
            "margin": null,
            "max_height": null,
            "max_width": null,
            "min_height": null,
            "min_width": null,
            "object_fit": null,
            "object_position": null,
            "order": null,
            "overflow": null,
            "overflow_x": null,
            "overflow_y": null,
            "padding": null,
            "right": null,
            "top": null,
            "visibility": null,
            "width": null
          }
        },
        "b61d9ec897014a08a58169eda5b158c7": {
          "model_module": "@jupyter-widgets/base",
          "model_name": "LayoutModel",
          "model_module_version": "1.2.0",
          "state": {
            "_model_module": "@jupyter-widgets/base",
            "_model_module_version": "1.2.0",
            "_model_name": "LayoutModel",
            "_view_count": null,
            "_view_module": "@jupyter-widgets/base",
            "_view_module_version": "1.2.0",
            "_view_name": "LayoutView",
            "align_content": null,
            "align_items": null,
            "align_self": null,
            "border": null,
            "bottom": null,
            "display": null,
            "flex": null,
            "flex_flow": null,
            "grid_area": null,
            "grid_auto_columns": null,
            "grid_auto_flow": null,
            "grid_auto_rows": null,
            "grid_column": null,
            "grid_gap": null,
            "grid_row": null,
            "grid_template_areas": null,
            "grid_template_columns": null,
            "grid_template_rows": null,
            "height": null,
            "justify_content": null,
            "justify_items": null,
            "left": null,
            "margin": null,
            "max_height": null,
            "max_width": null,
            "min_height": null,
            "min_width": null,
            "object_fit": null,
            "object_position": null,
            "order": null,
            "overflow": null,
            "overflow_x": null,
            "overflow_y": null,
            "padding": null,
            "right": null,
            "top": null,
            "visibility": null,
            "width": null
          }
        },
        "4b96650c4f374016aa13a651f7ca9abe": {
          "model_module": "@jupyter-widgets/controls",
          "model_name": "DescriptionStyleModel",
          "model_module_version": "1.5.0",
          "state": {
            "_model_module": "@jupyter-widgets/controls",
            "_model_module_version": "1.5.0",
            "_model_name": "DescriptionStyleModel",
            "_view_count": null,
            "_view_module": "@jupyter-widgets/base",
            "_view_module_version": "1.2.0",
            "_view_name": "StyleView",
            "description_width": ""
          }
        },
        "f212ea99f9b3461987fbfd7cc8e67c41": {
          "model_module": "@jupyter-widgets/base",
          "model_name": "LayoutModel",
          "model_module_version": "1.2.0",
          "state": {
            "_model_module": "@jupyter-widgets/base",
            "_model_module_version": "1.2.0",
            "_model_name": "LayoutModel",
            "_view_count": null,
            "_view_module": "@jupyter-widgets/base",
            "_view_module_version": "1.2.0",
            "_view_name": "LayoutView",
            "align_content": null,
            "align_items": null,
            "align_self": null,
            "border": null,
            "bottom": null,
            "display": null,
            "flex": null,
            "flex_flow": null,
            "grid_area": null,
            "grid_auto_columns": null,
            "grid_auto_flow": null,
            "grid_auto_rows": null,
            "grid_column": null,
            "grid_gap": null,
            "grid_row": null,
            "grid_template_areas": null,
            "grid_template_columns": null,
            "grid_template_rows": null,
            "height": null,
            "justify_content": null,
            "justify_items": null,
            "left": null,
            "margin": null,
            "max_height": null,
            "max_width": null,
            "min_height": null,
            "min_width": null,
            "object_fit": null,
            "object_position": null,
            "order": null,
            "overflow": null,
            "overflow_x": null,
            "overflow_y": null,
            "padding": null,
            "right": null,
            "top": null,
            "visibility": null,
            "width": null
          }
        },
        "6d3fbcb94bcd45979513c97083918f2b": {
          "model_module": "@jupyter-widgets/controls",
          "model_name": "ProgressStyleModel",
          "model_module_version": "1.5.0",
          "state": {
            "_model_module": "@jupyter-widgets/controls",
            "_model_module_version": "1.5.0",
            "_model_name": "ProgressStyleModel",
            "_view_count": null,
            "_view_module": "@jupyter-widgets/base",
            "_view_module_version": "1.2.0",
            "_view_name": "StyleView",
            "bar_color": null,
            "description_width": ""
          }
        },
        "c2defbc423c340f9833121d5d9652db5": {
          "model_module": "@jupyter-widgets/base",
          "model_name": "LayoutModel",
          "model_module_version": "1.2.0",
          "state": {
            "_model_module": "@jupyter-widgets/base",
            "_model_module_version": "1.2.0",
            "_model_name": "LayoutModel",
            "_view_count": null,
            "_view_module": "@jupyter-widgets/base",
            "_view_module_version": "1.2.0",
            "_view_name": "LayoutView",
            "align_content": null,
            "align_items": null,
            "align_self": null,
            "border": null,
            "bottom": null,
            "display": null,
            "flex": null,
            "flex_flow": null,
            "grid_area": null,
            "grid_auto_columns": null,
            "grid_auto_flow": null,
            "grid_auto_rows": null,
            "grid_column": null,
            "grid_gap": null,
            "grid_row": null,
            "grid_template_areas": null,
            "grid_template_columns": null,
            "grid_template_rows": null,
            "height": null,
            "justify_content": null,
            "justify_items": null,
            "left": null,
            "margin": null,
            "max_height": null,
            "max_width": null,
            "min_height": null,
            "min_width": null,
            "object_fit": null,
            "object_position": null,
            "order": null,
            "overflow": null,
            "overflow_x": null,
            "overflow_y": null,
            "padding": null,
            "right": null,
            "top": null,
            "visibility": null,
            "width": null
          }
        },
        "b96f4f26cdb943d5ba59a91e80bdef4e": {
          "model_module": "@jupyter-widgets/controls",
          "model_name": "DescriptionStyleModel",
          "model_module_version": "1.5.0",
          "state": {
            "_model_module": "@jupyter-widgets/controls",
            "_model_module_version": "1.5.0",
            "_model_name": "DescriptionStyleModel",
            "_view_count": null,
            "_view_module": "@jupyter-widgets/base",
            "_view_module_version": "1.2.0",
            "_view_name": "StyleView",
            "description_width": ""
          }
        },
        "b4ab3416628147b98d21b6cf0e7bc056": {
          "model_module": "@jupyter-widgets/controls",
          "model_name": "HBoxModel",
          "model_module_version": "1.5.0",
          "state": {
            "_dom_classes": [],
            "_model_module": "@jupyter-widgets/controls",
            "_model_module_version": "1.5.0",
            "_model_name": "HBoxModel",
            "_view_count": null,
            "_view_module": "@jupyter-widgets/controls",
            "_view_module_version": "1.5.0",
            "_view_name": "HBoxView",
            "box_style": "",
            "children": [
              "IPY_MODEL_c9069cc337264415b6f7ef97186cb0d9",
              "IPY_MODEL_f6e10773a6c847f9ad1fdb98ec26b129",
              "IPY_MODEL_8d1d345813b64705878e90d718a25de8"
            ],
            "layout": "IPY_MODEL_6a5c5a8e9ff242cb8cae2423b3b9166c"
          }
        },
        "c9069cc337264415b6f7ef97186cb0d9": {
          "model_module": "@jupyter-widgets/controls",
          "model_name": "HTMLModel",
          "model_module_version": "1.5.0",
          "state": {
            "_dom_classes": [],
            "_model_module": "@jupyter-widgets/controls",
            "_model_module_version": "1.5.0",
            "_model_name": "HTMLModel",
            "_view_count": null,
            "_view_module": "@jupyter-widgets/controls",
            "_view_module_version": "1.5.0",
            "_view_name": "HTMLView",
            "description": "",
            "description_tooltip": null,
            "layout": "IPY_MODEL_d64808fcd59f4fdca204b791b7c2f62f",
            "placeholder": "​",
            "style": "IPY_MODEL_6dc53696af1c409cb1c518b02052c829",
            "value": "vocab.txt: "
          }
        },
        "f6e10773a6c847f9ad1fdb98ec26b129": {
          "model_module": "@jupyter-widgets/controls",
          "model_name": "FloatProgressModel",
          "model_module_version": "1.5.0",
          "state": {
            "_dom_classes": [],
            "_model_module": "@jupyter-widgets/controls",
            "_model_module_version": "1.5.0",
            "_model_name": "FloatProgressModel",
            "_view_count": null,
            "_view_module": "@jupyter-widgets/controls",
            "_view_module_version": "1.5.0",
            "_view_name": "ProgressView",
            "bar_style": "success",
            "description": "",
            "description_tooltip": null,
            "layout": "IPY_MODEL_9e644dfc89dc4f08b2cd9565db2589b3",
            "max": 1,
            "min": 0,
            "orientation": "horizontal",
            "style": "IPY_MODEL_e8a6fb6ef71240fdbbf8cafecca16241",
            "value": 1
          }
        },
        "8d1d345813b64705878e90d718a25de8": {
          "model_module": "@jupyter-widgets/controls",
          "model_name": "HTMLModel",
          "model_module_version": "1.5.0",
          "state": {
            "_dom_classes": [],
            "_model_module": "@jupyter-widgets/controls",
            "_model_module_version": "1.5.0",
            "_model_name": "HTMLModel",
            "_view_count": null,
            "_view_module": "@jupyter-widgets/controls",
            "_view_module_version": "1.5.0",
            "_view_name": "HTMLView",
            "description": "",
            "description_tooltip": null,
            "layout": "IPY_MODEL_78ee39966454437bb872cf9461eb34e7",
            "placeholder": "​",
            "style": "IPY_MODEL_27b08341915f44a2b6242ce192971916",
            "value": " 232k/? [00:00&lt;00:00, 11.9MB/s]"
          }
        },
        "6a5c5a8e9ff242cb8cae2423b3b9166c": {
          "model_module": "@jupyter-widgets/base",
          "model_name": "LayoutModel",
          "model_module_version": "1.2.0",
          "state": {
            "_model_module": "@jupyter-widgets/base",
            "_model_module_version": "1.2.0",
            "_model_name": "LayoutModel",
            "_view_count": null,
            "_view_module": "@jupyter-widgets/base",
            "_view_module_version": "1.2.0",
            "_view_name": "LayoutView",
            "align_content": null,
            "align_items": null,
            "align_self": null,
            "border": null,
            "bottom": null,
            "display": null,
            "flex": null,
            "flex_flow": null,
            "grid_area": null,
            "grid_auto_columns": null,
            "grid_auto_flow": null,
            "grid_auto_rows": null,
            "grid_column": null,
            "grid_gap": null,
            "grid_row": null,
            "grid_template_areas": null,
            "grid_template_columns": null,
            "grid_template_rows": null,
            "height": null,
            "justify_content": null,
            "justify_items": null,
            "left": null,
            "margin": null,
            "max_height": null,
            "max_width": null,
            "min_height": null,
            "min_width": null,
            "object_fit": null,
            "object_position": null,
            "order": null,
            "overflow": null,
            "overflow_x": null,
            "overflow_y": null,
            "padding": null,
            "right": null,
            "top": null,
            "visibility": null,
            "width": null
          }
        },
        "d64808fcd59f4fdca204b791b7c2f62f": {
          "model_module": "@jupyter-widgets/base",
          "model_name": "LayoutModel",
          "model_module_version": "1.2.0",
          "state": {
            "_model_module": "@jupyter-widgets/base",
            "_model_module_version": "1.2.0",
            "_model_name": "LayoutModel",
            "_view_count": null,
            "_view_module": "@jupyter-widgets/base",
            "_view_module_version": "1.2.0",
            "_view_name": "LayoutView",
            "align_content": null,
            "align_items": null,
            "align_self": null,
            "border": null,
            "bottom": null,
            "display": null,
            "flex": null,
            "flex_flow": null,
            "grid_area": null,
            "grid_auto_columns": null,
            "grid_auto_flow": null,
            "grid_auto_rows": null,
            "grid_column": null,
            "grid_gap": null,
            "grid_row": null,
            "grid_template_areas": null,
            "grid_template_columns": null,
            "grid_template_rows": null,
            "height": null,
            "justify_content": null,
            "justify_items": null,
            "left": null,
            "margin": null,
            "max_height": null,
            "max_width": null,
            "min_height": null,
            "min_width": null,
            "object_fit": null,
            "object_position": null,
            "order": null,
            "overflow": null,
            "overflow_x": null,
            "overflow_y": null,
            "padding": null,
            "right": null,
            "top": null,
            "visibility": null,
            "width": null
          }
        },
        "6dc53696af1c409cb1c518b02052c829": {
          "model_module": "@jupyter-widgets/controls",
          "model_name": "DescriptionStyleModel",
          "model_module_version": "1.5.0",
          "state": {
            "_model_module": "@jupyter-widgets/controls",
            "_model_module_version": "1.5.0",
            "_model_name": "DescriptionStyleModel",
            "_view_count": null,
            "_view_module": "@jupyter-widgets/base",
            "_view_module_version": "1.2.0",
            "_view_name": "StyleView",
            "description_width": ""
          }
        },
        "9e644dfc89dc4f08b2cd9565db2589b3": {
          "model_module": "@jupyter-widgets/base",
          "model_name": "LayoutModel",
          "model_module_version": "1.2.0",
          "state": {
            "_model_module": "@jupyter-widgets/base",
            "_model_module_version": "1.2.0",
            "_model_name": "LayoutModel",
            "_view_count": null,
            "_view_module": "@jupyter-widgets/base",
            "_view_module_version": "1.2.0",
            "_view_name": "LayoutView",
            "align_content": null,
            "align_items": null,
            "align_self": null,
            "border": null,
            "bottom": null,
            "display": null,
            "flex": null,
            "flex_flow": null,
            "grid_area": null,
            "grid_auto_columns": null,
            "grid_auto_flow": null,
            "grid_auto_rows": null,
            "grid_column": null,
            "grid_gap": null,
            "grid_row": null,
            "grid_template_areas": null,
            "grid_template_columns": null,
            "grid_template_rows": null,
            "height": null,
            "justify_content": null,
            "justify_items": null,
            "left": null,
            "margin": null,
            "max_height": null,
            "max_width": null,
            "min_height": null,
            "min_width": null,
            "object_fit": null,
            "object_position": null,
            "order": null,
            "overflow": null,
            "overflow_x": null,
            "overflow_y": null,
            "padding": null,
            "right": null,
            "top": null,
            "visibility": null,
            "width": "20px"
          }
        },
        "e8a6fb6ef71240fdbbf8cafecca16241": {
          "model_module": "@jupyter-widgets/controls",
          "model_name": "ProgressStyleModel",
          "model_module_version": "1.5.0",
          "state": {
            "_model_module": "@jupyter-widgets/controls",
            "_model_module_version": "1.5.0",
            "_model_name": "ProgressStyleModel",
            "_view_count": null,
            "_view_module": "@jupyter-widgets/base",
            "_view_module_version": "1.2.0",
            "_view_name": "StyleView",
            "bar_color": null,
            "description_width": ""
          }
        },
        "78ee39966454437bb872cf9461eb34e7": {
          "model_module": "@jupyter-widgets/base",
          "model_name": "LayoutModel",
          "model_module_version": "1.2.0",
          "state": {
            "_model_module": "@jupyter-widgets/base",
            "_model_module_version": "1.2.0",
            "_model_name": "LayoutModel",
            "_view_count": null,
            "_view_module": "@jupyter-widgets/base",
            "_view_module_version": "1.2.0",
            "_view_name": "LayoutView",
            "align_content": null,
            "align_items": null,
            "align_self": null,
            "border": null,
            "bottom": null,
            "display": null,
            "flex": null,
            "flex_flow": null,
            "grid_area": null,
            "grid_auto_columns": null,
            "grid_auto_flow": null,
            "grid_auto_rows": null,
            "grid_column": null,
            "grid_gap": null,
            "grid_row": null,
            "grid_template_areas": null,
            "grid_template_columns": null,
            "grid_template_rows": null,
            "height": null,
            "justify_content": null,
            "justify_items": null,
            "left": null,
            "margin": null,
            "max_height": null,
            "max_width": null,
            "min_height": null,
            "min_width": null,
            "object_fit": null,
            "object_position": null,
            "order": null,
            "overflow": null,
            "overflow_x": null,
            "overflow_y": null,
            "padding": null,
            "right": null,
            "top": null,
            "visibility": null,
            "width": null
          }
        },
        "27b08341915f44a2b6242ce192971916": {
          "model_module": "@jupyter-widgets/controls",
          "model_name": "DescriptionStyleModel",
          "model_module_version": "1.5.0",
          "state": {
            "_model_module": "@jupyter-widgets/controls",
            "_model_module_version": "1.5.0",
            "_model_name": "DescriptionStyleModel",
            "_view_count": null,
            "_view_module": "@jupyter-widgets/base",
            "_view_module_version": "1.2.0",
            "_view_name": "StyleView",
            "description_width": ""
          }
        },
        "3953f7023694488e898e20799aea716f": {
          "model_module": "@jupyter-widgets/controls",
          "model_name": "HBoxModel",
          "model_module_version": "1.5.0",
          "state": {
            "_dom_classes": [],
            "_model_module": "@jupyter-widgets/controls",
            "_model_module_version": "1.5.0",
            "_model_name": "HBoxModel",
            "_view_count": null,
            "_view_module": "@jupyter-widgets/controls",
            "_view_module_version": "1.5.0",
            "_view_name": "HBoxView",
            "box_style": "",
            "children": [
              "IPY_MODEL_146950167487435c8603effe3264084d",
              "IPY_MODEL_a739cd19ac144850ae315dc95702cca5",
              "IPY_MODEL_17e7f3c5fc6c46b596b06b49d9737d2c"
            ],
            "layout": "IPY_MODEL_21556c509c974dcfa71a222db30e625d"
          }
        },
        "146950167487435c8603effe3264084d": {
          "model_module": "@jupyter-widgets/controls",
          "model_name": "HTMLModel",
          "model_module_version": "1.5.0",
          "state": {
            "_dom_classes": [],
            "_model_module": "@jupyter-widgets/controls",
            "_model_module_version": "1.5.0",
            "_model_name": "HTMLModel",
            "_view_count": null,
            "_view_module": "@jupyter-widgets/controls",
            "_view_module_version": "1.5.0",
            "_view_name": "HTMLView",
            "description": "",
            "description_tooltip": null,
            "layout": "IPY_MODEL_4644aca8d0df405fa36bad8623c98331",
            "placeholder": "​",
            "style": "IPY_MODEL_d30ef4701995408a91e4e032cf8f6902",
            "value": "tokenizer.json: "
          }
        },
        "a739cd19ac144850ae315dc95702cca5": {
          "model_module": "@jupyter-widgets/controls",
          "model_name": "FloatProgressModel",
          "model_module_version": "1.5.0",
          "state": {
            "_dom_classes": [],
            "_model_module": "@jupyter-widgets/controls",
            "_model_module_version": "1.5.0",
            "_model_name": "FloatProgressModel",
            "_view_count": null,
            "_view_module": "@jupyter-widgets/controls",
            "_view_module_version": "1.5.0",
            "_view_name": "ProgressView",
            "bar_style": "success",
            "description": "",
            "description_tooltip": null,
            "layout": "IPY_MODEL_08b9e845a17c489891119e945c3eeeb0",
            "max": 1,
            "min": 0,
            "orientation": "horizontal",
            "style": "IPY_MODEL_51b934a729a84fbab7d19e7cde0e057e",
            "value": 1
          }
        },
        "17e7f3c5fc6c46b596b06b49d9737d2c": {
          "model_module": "@jupyter-widgets/controls",
          "model_name": "HTMLModel",
          "model_module_version": "1.5.0",
          "state": {
            "_dom_classes": [],
            "_model_module": "@jupyter-widgets/controls",
            "_model_module_version": "1.5.0",
            "_model_name": "HTMLModel",
            "_view_count": null,
            "_view_module": "@jupyter-widgets/controls",
            "_view_module_version": "1.5.0",
            "_view_name": "HTMLView",
            "description": "",
            "description_tooltip": null,
            "layout": "IPY_MODEL_52eb1033c457425ba605458729ccfd27",
            "placeholder": "​",
            "style": "IPY_MODEL_ef6e431aeb3d4b06b38b568f822804a2",
            "value": " 712k/? [00:00&lt;00:00, 40.8MB/s]"
          }
        },
        "21556c509c974dcfa71a222db30e625d": {
          "model_module": "@jupyter-widgets/base",
          "model_name": "LayoutModel",
          "model_module_version": "1.2.0",
          "state": {
            "_model_module": "@jupyter-widgets/base",
            "_model_module_version": "1.2.0",
            "_model_name": "LayoutModel",
            "_view_count": null,
            "_view_module": "@jupyter-widgets/base",
            "_view_module_version": "1.2.0",
            "_view_name": "LayoutView",
            "align_content": null,
            "align_items": null,
            "align_self": null,
            "border": null,
            "bottom": null,
            "display": null,
            "flex": null,
            "flex_flow": null,
            "grid_area": null,
            "grid_auto_columns": null,
            "grid_auto_flow": null,
            "grid_auto_rows": null,
            "grid_column": null,
            "grid_gap": null,
            "grid_row": null,
            "grid_template_areas": null,
            "grid_template_columns": null,
            "grid_template_rows": null,
            "height": null,
            "justify_content": null,
            "justify_items": null,
            "left": null,
            "margin": null,
            "max_height": null,
            "max_width": null,
            "min_height": null,
            "min_width": null,
            "object_fit": null,
            "object_position": null,
            "order": null,
            "overflow": null,
            "overflow_x": null,
            "overflow_y": null,
            "padding": null,
            "right": null,
            "top": null,
            "visibility": null,
            "width": null
          }
        },
        "4644aca8d0df405fa36bad8623c98331": {
          "model_module": "@jupyter-widgets/base",
          "model_name": "LayoutModel",
          "model_module_version": "1.2.0",
          "state": {
            "_model_module": "@jupyter-widgets/base",
            "_model_module_version": "1.2.0",
            "_model_name": "LayoutModel",
            "_view_count": null,
            "_view_module": "@jupyter-widgets/base",
            "_view_module_version": "1.2.0",
            "_view_name": "LayoutView",
            "align_content": null,
            "align_items": null,
            "align_self": null,
            "border": null,
            "bottom": null,
            "display": null,
            "flex": null,
            "flex_flow": null,
            "grid_area": null,
            "grid_auto_columns": null,
            "grid_auto_flow": null,
            "grid_auto_rows": null,
            "grid_column": null,
            "grid_gap": null,
            "grid_row": null,
            "grid_template_areas": null,
            "grid_template_columns": null,
            "grid_template_rows": null,
            "height": null,
            "justify_content": null,
            "justify_items": null,
            "left": null,
            "margin": null,
            "max_height": null,
            "max_width": null,
            "min_height": null,
            "min_width": null,
            "object_fit": null,
            "object_position": null,
            "order": null,
            "overflow": null,
            "overflow_x": null,
            "overflow_y": null,
            "padding": null,
            "right": null,
            "top": null,
            "visibility": null,
            "width": null
          }
        },
        "d30ef4701995408a91e4e032cf8f6902": {
          "model_module": "@jupyter-widgets/controls",
          "model_name": "DescriptionStyleModel",
          "model_module_version": "1.5.0",
          "state": {
            "_model_module": "@jupyter-widgets/controls",
            "_model_module_version": "1.5.0",
            "_model_name": "DescriptionStyleModel",
            "_view_count": null,
            "_view_module": "@jupyter-widgets/base",
            "_view_module_version": "1.2.0",
            "_view_name": "StyleView",
            "description_width": ""
          }
        },
        "08b9e845a17c489891119e945c3eeeb0": {
          "model_module": "@jupyter-widgets/base",
          "model_name": "LayoutModel",
          "model_module_version": "1.2.0",
          "state": {
            "_model_module": "@jupyter-widgets/base",
            "_model_module_version": "1.2.0",
            "_model_name": "LayoutModel",
            "_view_count": null,
            "_view_module": "@jupyter-widgets/base",
            "_view_module_version": "1.2.0",
            "_view_name": "LayoutView",
            "align_content": null,
            "align_items": null,
            "align_self": null,
            "border": null,
            "bottom": null,
            "display": null,
            "flex": null,
            "flex_flow": null,
            "grid_area": null,
            "grid_auto_columns": null,
            "grid_auto_flow": null,
            "grid_auto_rows": null,
            "grid_column": null,
            "grid_gap": null,
            "grid_row": null,
            "grid_template_areas": null,
            "grid_template_columns": null,
            "grid_template_rows": null,
            "height": null,
            "justify_content": null,
            "justify_items": null,
            "left": null,
            "margin": null,
            "max_height": null,
            "max_width": null,
            "min_height": null,
            "min_width": null,
            "object_fit": null,
            "object_position": null,
            "order": null,
            "overflow": null,
            "overflow_x": null,
            "overflow_y": null,
            "padding": null,
            "right": null,
            "top": null,
            "visibility": null,
            "width": "20px"
          }
        },
        "51b934a729a84fbab7d19e7cde0e057e": {
          "model_module": "@jupyter-widgets/controls",
          "model_name": "ProgressStyleModel",
          "model_module_version": "1.5.0",
          "state": {
            "_model_module": "@jupyter-widgets/controls",
            "_model_module_version": "1.5.0",
            "_model_name": "ProgressStyleModel",
            "_view_count": null,
            "_view_module": "@jupyter-widgets/base",
            "_view_module_version": "1.2.0",
            "_view_name": "StyleView",
            "bar_color": null,
            "description_width": ""
          }
        },
        "52eb1033c457425ba605458729ccfd27": {
          "model_module": "@jupyter-widgets/base",
          "model_name": "LayoutModel",
          "model_module_version": "1.2.0",
          "state": {
            "_model_module": "@jupyter-widgets/base",
            "_model_module_version": "1.2.0",
            "_model_name": "LayoutModel",
            "_view_count": null,
            "_view_module": "@jupyter-widgets/base",
            "_view_module_version": "1.2.0",
            "_view_name": "LayoutView",
            "align_content": null,
            "align_items": null,
            "align_self": null,
            "border": null,
            "bottom": null,
            "display": null,
            "flex": null,
            "flex_flow": null,
            "grid_area": null,
            "grid_auto_columns": null,
            "grid_auto_flow": null,
            "grid_auto_rows": null,
            "grid_column": null,
            "grid_gap": null,
            "grid_row": null,
            "grid_template_areas": null,
            "grid_template_columns": null,
            "grid_template_rows": null,
            "height": null,
            "justify_content": null,
            "justify_items": null,
            "left": null,
            "margin": null,
            "max_height": null,
            "max_width": null,
            "min_height": null,
            "min_width": null,
            "object_fit": null,
            "object_position": null,
            "order": null,
            "overflow": null,
            "overflow_x": null,
            "overflow_y": null,
            "padding": null,
            "right": null,
            "top": null,
            "visibility": null,
            "width": null
          }
        },
        "ef6e431aeb3d4b06b38b568f822804a2": {
          "model_module": "@jupyter-widgets/controls",
          "model_name": "DescriptionStyleModel",
          "model_module_version": "1.5.0",
          "state": {
            "_model_module": "@jupyter-widgets/controls",
            "_model_module_version": "1.5.0",
            "_model_name": "DescriptionStyleModel",
            "_view_count": null,
            "_view_module": "@jupyter-widgets/base",
            "_view_module_version": "1.2.0",
            "_view_name": "StyleView",
            "description_width": ""
          }
        },
        "3f0f8d8ae25e47cea976964f527cb443": {
          "model_module": "@jupyter-widgets/controls",
          "model_name": "HBoxModel",
          "model_module_version": "1.5.0",
          "state": {
            "_dom_classes": [],
            "_model_module": "@jupyter-widgets/controls",
            "_model_module_version": "1.5.0",
            "_model_name": "HBoxModel",
            "_view_count": null,
            "_view_module": "@jupyter-widgets/controls",
            "_view_module_version": "1.5.0",
            "_view_name": "HBoxView",
            "box_style": "",
            "children": [
              "IPY_MODEL_a4c42f302a8b4f6c907e7e1d35e2ffc0",
              "IPY_MODEL_f6a752060a8b44bd8e396e1a133aee60",
              "IPY_MODEL_fa0181dbd85049af9ad972f43e133207"
            ],
            "layout": "IPY_MODEL_b84e4f96ff544006a6f4b6ec98ee9b7c"
          }
        },
        "a4c42f302a8b4f6c907e7e1d35e2ffc0": {
          "model_module": "@jupyter-widgets/controls",
          "model_name": "HTMLModel",
          "model_module_version": "1.5.0",
          "state": {
            "_dom_classes": [],
            "_model_module": "@jupyter-widgets/controls",
            "_model_module_version": "1.5.0",
            "_model_name": "HTMLModel",
            "_view_count": null,
            "_view_module": "@jupyter-widgets/controls",
            "_view_module_version": "1.5.0",
            "_view_name": "HTMLView",
            "description": "",
            "description_tooltip": null,
            "layout": "IPY_MODEL_2405ae52a4f1423ead2e84ec39b53a04",
            "placeholder": "​",
            "style": "IPY_MODEL_3b1ef49a26b84818897f620634880ea3",
            "value": "special_tokens_map.json: 100%"
          }
        },
        "f6a752060a8b44bd8e396e1a133aee60": {
          "model_module": "@jupyter-widgets/controls",
          "model_name": "FloatProgressModel",
          "model_module_version": "1.5.0",
          "state": {
            "_dom_classes": [],
            "_model_module": "@jupyter-widgets/controls",
            "_model_module_version": "1.5.0",
            "_model_name": "FloatProgressModel",
            "_view_count": null,
            "_view_module": "@jupyter-widgets/controls",
            "_view_module_version": "1.5.0",
            "_view_name": "ProgressView",
            "bar_style": "success",
            "description": "",
            "description_tooltip": null,
            "layout": "IPY_MODEL_d3b903bd1f974928ac38bb8feefe0c58",
            "max": 125,
            "min": 0,
            "orientation": "horizontal",
            "style": "IPY_MODEL_9d223e2968294ca7bfed65e4a383c98a",
            "value": 125
          }
        },
        "fa0181dbd85049af9ad972f43e133207": {
          "model_module": "@jupyter-widgets/controls",
          "model_name": "HTMLModel",
          "model_module_version": "1.5.0",
          "state": {
            "_dom_classes": [],
            "_model_module": "@jupyter-widgets/controls",
            "_model_module_version": "1.5.0",
            "_model_name": "HTMLModel",
            "_view_count": null,
            "_view_module": "@jupyter-widgets/controls",
            "_view_module_version": "1.5.0",
            "_view_name": "HTMLView",
            "description": "",
            "description_tooltip": null,
            "layout": "IPY_MODEL_b108167f11394b588ada95557f56515d",
            "placeholder": "​",
            "style": "IPY_MODEL_91c76fed75944cabaf2d4a9ba0716bec",
            "value": " 125/125 [00:00&lt;00:00, 8.59kB/s]"
          }
        },
        "b84e4f96ff544006a6f4b6ec98ee9b7c": {
          "model_module": "@jupyter-widgets/base",
          "model_name": "LayoutModel",
          "model_module_version": "1.2.0",
          "state": {
            "_model_module": "@jupyter-widgets/base",
            "_model_module_version": "1.2.0",
            "_model_name": "LayoutModel",
            "_view_count": null,
            "_view_module": "@jupyter-widgets/base",
            "_view_module_version": "1.2.0",
            "_view_name": "LayoutView",
            "align_content": null,
            "align_items": null,
            "align_self": null,
            "border": null,
            "bottom": null,
            "display": null,
            "flex": null,
            "flex_flow": null,
            "grid_area": null,
            "grid_auto_columns": null,
            "grid_auto_flow": null,
            "grid_auto_rows": null,
            "grid_column": null,
            "grid_gap": null,
            "grid_row": null,
            "grid_template_areas": null,
            "grid_template_columns": null,
            "grid_template_rows": null,
            "height": null,
            "justify_content": null,
            "justify_items": null,
            "left": null,
            "margin": null,
            "max_height": null,
            "max_width": null,
            "min_height": null,
            "min_width": null,
            "object_fit": null,
            "object_position": null,
            "order": null,
            "overflow": null,
            "overflow_x": null,
            "overflow_y": null,
            "padding": null,
            "right": null,
            "top": null,
            "visibility": null,
            "width": null
          }
        },
        "2405ae52a4f1423ead2e84ec39b53a04": {
          "model_module": "@jupyter-widgets/base",
          "model_name": "LayoutModel",
          "model_module_version": "1.2.0",
          "state": {
            "_model_module": "@jupyter-widgets/base",
            "_model_module_version": "1.2.0",
            "_model_name": "LayoutModel",
            "_view_count": null,
            "_view_module": "@jupyter-widgets/base",
            "_view_module_version": "1.2.0",
            "_view_name": "LayoutView",
            "align_content": null,
            "align_items": null,
            "align_self": null,
            "border": null,
            "bottom": null,
            "display": null,
            "flex": null,
            "flex_flow": null,
            "grid_area": null,
            "grid_auto_columns": null,
            "grid_auto_flow": null,
            "grid_auto_rows": null,
            "grid_column": null,
            "grid_gap": null,
            "grid_row": null,
            "grid_template_areas": null,
            "grid_template_columns": null,
            "grid_template_rows": null,
            "height": null,
            "justify_content": null,
            "justify_items": null,
            "left": null,
            "margin": null,
            "max_height": null,
            "max_width": null,
            "min_height": null,
            "min_width": null,
            "object_fit": null,
            "object_position": null,
            "order": null,
            "overflow": null,
            "overflow_x": null,
            "overflow_y": null,
            "padding": null,
            "right": null,
            "top": null,
            "visibility": null,
            "width": null
          }
        },
        "3b1ef49a26b84818897f620634880ea3": {
          "model_module": "@jupyter-widgets/controls",
          "model_name": "DescriptionStyleModel",
          "model_module_version": "1.5.0",
          "state": {
            "_model_module": "@jupyter-widgets/controls",
            "_model_module_version": "1.5.0",
            "_model_name": "DescriptionStyleModel",
            "_view_count": null,
            "_view_module": "@jupyter-widgets/base",
            "_view_module_version": "1.2.0",
            "_view_name": "StyleView",
            "description_width": ""
          }
        },
        "d3b903bd1f974928ac38bb8feefe0c58": {
          "model_module": "@jupyter-widgets/base",
          "model_name": "LayoutModel",
          "model_module_version": "1.2.0",
          "state": {
            "_model_module": "@jupyter-widgets/base",
            "_model_module_version": "1.2.0",
            "_model_name": "LayoutModel",
            "_view_count": null,
            "_view_module": "@jupyter-widgets/base",
            "_view_module_version": "1.2.0",
            "_view_name": "LayoutView",
            "align_content": null,
            "align_items": null,
            "align_self": null,
            "border": null,
            "bottom": null,
            "display": null,
            "flex": null,
            "flex_flow": null,
            "grid_area": null,
            "grid_auto_columns": null,
            "grid_auto_flow": null,
            "grid_auto_rows": null,
            "grid_column": null,
            "grid_gap": null,
            "grid_row": null,
            "grid_template_areas": null,
            "grid_template_columns": null,
            "grid_template_rows": null,
            "height": null,
            "justify_content": null,
            "justify_items": null,
            "left": null,
            "margin": null,
            "max_height": null,
            "max_width": null,
            "min_height": null,
            "min_width": null,
            "object_fit": null,
            "object_position": null,
            "order": null,
            "overflow": null,
            "overflow_x": null,
            "overflow_y": null,
            "padding": null,
            "right": null,
            "top": null,
            "visibility": null,
            "width": null
          }
        },
        "9d223e2968294ca7bfed65e4a383c98a": {
          "model_module": "@jupyter-widgets/controls",
          "model_name": "ProgressStyleModel",
          "model_module_version": "1.5.0",
          "state": {
            "_model_module": "@jupyter-widgets/controls",
            "_model_module_version": "1.5.0",
            "_model_name": "ProgressStyleModel",
            "_view_count": null,
            "_view_module": "@jupyter-widgets/base",
            "_view_module_version": "1.2.0",
            "_view_name": "StyleView",
            "bar_color": null,
            "description_width": ""
          }
        },
        "b108167f11394b588ada95557f56515d": {
          "model_module": "@jupyter-widgets/base",
          "model_name": "LayoutModel",
          "model_module_version": "1.2.0",
          "state": {
            "_model_module": "@jupyter-widgets/base",
            "_model_module_version": "1.2.0",
            "_model_name": "LayoutModel",
            "_view_count": null,
            "_view_module": "@jupyter-widgets/base",
            "_view_module_version": "1.2.0",
            "_view_name": "LayoutView",
            "align_content": null,
            "align_items": null,
            "align_self": null,
            "border": null,
            "bottom": null,
            "display": null,
            "flex": null,
            "flex_flow": null,
            "grid_area": null,
            "grid_auto_columns": null,
            "grid_auto_flow": null,
            "grid_auto_rows": null,
            "grid_column": null,
            "grid_gap": null,
            "grid_row": null,
            "grid_template_areas": null,
            "grid_template_columns": null,
            "grid_template_rows": null,
            "height": null,
            "justify_content": null,
            "justify_items": null,
            "left": null,
            "margin": null,
            "max_height": null,
            "max_width": null,
            "min_height": null,
            "min_width": null,
            "object_fit": null,
            "object_position": null,
            "order": null,
            "overflow": null,
            "overflow_x": null,
            "overflow_y": null,
            "padding": null,
            "right": null,
            "top": null,
            "visibility": null,
            "width": null
          }
        },
        "91c76fed75944cabaf2d4a9ba0716bec": {
          "model_module": "@jupyter-widgets/controls",
          "model_name": "DescriptionStyleModel",
          "model_module_version": "1.5.0",
          "state": {
            "_model_module": "@jupyter-widgets/controls",
            "_model_module_version": "1.5.0",
            "_model_name": "DescriptionStyleModel",
            "_view_count": null,
            "_view_module": "@jupyter-widgets/base",
            "_view_module_version": "1.2.0",
            "_view_name": "StyleView",
            "description_width": ""
          }
        },
        "92adff18cdc6413caa677d4ec25544cf": {
          "model_module": "@jupyter-widgets/controls",
          "model_name": "HBoxModel",
          "model_module_version": "1.5.0",
          "state": {
            "_dom_classes": [],
            "_model_module": "@jupyter-widgets/controls",
            "_model_module_version": "1.5.0",
            "_model_name": "HBoxModel",
            "_view_count": null,
            "_view_module": "@jupyter-widgets/controls",
            "_view_module_version": "1.5.0",
            "_view_name": "HBoxView",
            "box_style": "",
            "children": [
              "IPY_MODEL_3449c8ead2d146e8978b64bc691b7e36",
              "IPY_MODEL_6dae219ef6794d559d5b0aa79b920333",
              "IPY_MODEL_b7deca97ae86473cbd3285b570dd25a3"
            ],
            "layout": "IPY_MODEL_8dc0bbe4c05940d8bf4f97676fe92f97"
          }
        },
        "3449c8ead2d146e8978b64bc691b7e36": {
          "model_module": "@jupyter-widgets/controls",
          "model_name": "HTMLModel",
          "model_module_version": "1.5.0",
          "state": {
            "_dom_classes": [],
            "_model_module": "@jupyter-widgets/controls",
            "_model_module_version": "1.5.0",
            "_model_name": "HTMLModel",
            "_view_count": null,
            "_view_module": "@jupyter-widgets/controls",
            "_view_module_version": "1.5.0",
            "_view_name": "HTMLView",
            "description": "",
            "description_tooltip": null,
            "layout": "IPY_MODEL_7834402546c7494885118005672b886e",
            "placeholder": "​",
            "style": "IPY_MODEL_f7068578ce8d4bf4add4eb16c458a76b",
            "value": "config.json: 100%"
          }
        },
        "6dae219ef6794d559d5b0aa79b920333": {
          "model_module": "@jupyter-widgets/controls",
          "model_name": "FloatProgressModel",
          "model_module_version": "1.5.0",
          "state": {
            "_dom_classes": [],
            "_model_module": "@jupyter-widgets/controls",
            "_model_module_version": "1.5.0",
            "_model_name": "FloatProgressModel",
            "_view_count": null,
            "_view_module": "@jupyter-widgets/controls",
            "_view_module_version": "1.5.0",
            "_view_name": "ProgressView",
            "bar_style": "success",
            "description": "",
            "description_tooltip": null,
            "layout": "IPY_MODEL_93dcd283d94948feb1732494b09b5283",
            "max": 191,
            "min": 0,
            "orientation": "horizontal",
            "style": "IPY_MODEL_189e7ba4f28945f38192c143a862be23",
            "value": 191
          }
        },
        "b7deca97ae86473cbd3285b570dd25a3": {
          "model_module": "@jupyter-widgets/controls",
          "model_name": "HTMLModel",
          "model_module_version": "1.5.0",
          "state": {
            "_dom_classes": [],
            "_model_module": "@jupyter-widgets/controls",
            "_model_module_version": "1.5.0",
            "_model_name": "HTMLModel",
            "_view_count": null,
            "_view_module": "@jupyter-widgets/controls",
            "_view_module_version": "1.5.0",
            "_view_name": "HTMLView",
            "description": "",
            "description_tooltip": null,
            "layout": "IPY_MODEL_265b17882b594fa9b3f7f7e1ad7726b4",
            "placeholder": "​",
            "style": "IPY_MODEL_007d7e9453a647d789ea789dc1341b82",
            "value": " 191/191 [00:00&lt;00:00, 12.2kB/s]"
          }
        },
        "8dc0bbe4c05940d8bf4f97676fe92f97": {
          "model_module": "@jupyter-widgets/base",
          "model_name": "LayoutModel",
          "model_module_version": "1.2.0",
          "state": {
            "_model_module": "@jupyter-widgets/base",
            "_model_module_version": "1.2.0",
            "_model_name": "LayoutModel",
            "_view_count": null,
            "_view_module": "@jupyter-widgets/base",
            "_view_module_version": "1.2.0",
            "_view_name": "LayoutView",
            "align_content": null,
            "align_items": null,
            "align_self": null,
            "border": null,
            "bottom": null,
            "display": null,
            "flex": null,
            "flex_flow": null,
            "grid_area": null,
            "grid_auto_columns": null,
            "grid_auto_flow": null,
            "grid_auto_rows": null,
            "grid_column": null,
            "grid_gap": null,
            "grid_row": null,
            "grid_template_areas": null,
            "grid_template_columns": null,
            "grid_template_rows": null,
            "height": null,
            "justify_content": null,
            "justify_items": null,
            "left": null,
            "margin": null,
            "max_height": null,
            "max_width": null,
            "min_height": null,
            "min_width": null,
            "object_fit": null,
            "object_position": null,
            "order": null,
            "overflow": null,
            "overflow_x": null,
            "overflow_y": null,
            "padding": null,
            "right": null,
            "top": null,
            "visibility": null,
            "width": null
          }
        },
        "7834402546c7494885118005672b886e": {
          "model_module": "@jupyter-widgets/base",
          "model_name": "LayoutModel",
          "model_module_version": "1.2.0",
          "state": {
            "_model_module": "@jupyter-widgets/base",
            "_model_module_version": "1.2.0",
            "_model_name": "LayoutModel",
            "_view_count": null,
            "_view_module": "@jupyter-widgets/base",
            "_view_module_version": "1.2.0",
            "_view_name": "LayoutView",
            "align_content": null,
            "align_items": null,
            "align_self": null,
            "border": null,
            "bottom": null,
            "display": null,
            "flex": null,
            "flex_flow": null,
            "grid_area": null,
            "grid_auto_columns": null,
            "grid_auto_flow": null,
            "grid_auto_rows": null,
            "grid_column": null,
            "grid_gap": null,
            "grid_row": null,
            "grid_template_areas": null,
            "grid_template_columns": null,
            "grid_template_rows": null,
            "height": null,
            "justify_content": null,
            "justify_items": null,
            "left": null,
            "margin": null,
            "max_height": null,
            "max_width": null,
            "min_height": null,
            "min_width": null,
            "object_fit": null,
            "object_position": null,
            "order": null,
            "overflow": null,
            "overflow_x": null,
            "overflow_y": null,
            "padding": null,
            "right": null,
            "top": null,
            "visibility": null,
            "width": null
          }
        },
        "f7068578ce8d4bf4add4eb16c458a76b": {
          "model_module": "@jupyter-widgets/controls",
          "model_name": "DescriptionStyleModel",
          "model_module_version": "1.5.0",
          "state": {
            "_model_module": "@jupyter-widgets/controls",
            "_model_module_version": "1.5.0",
            "_model_name": "DescriptionStyleModel",
            "_view_count": null,
            "_view_module": "@jupyter-widgets/base",
            "_view_module_version": "1.2.0",
            "_view_name": "StyleView",
            "description_width": ""
          }
        },
        "93dcd283d94948feb1732494b09b5283": {
          "model_module": "@jupyter-widgets/base",
          "model_name": "LayoutModel",
          "model_module_version": "1.2.0",
          "state": {
            "_model_module": "@jupyter-widgets/base",
            "_model_module_version": "1.2.0",
            "_model_name": "LayoutModel",
            "_view_count": null,
            "_view_module": "@jupyter-widgets/base",
            "_view_module_version": "1.2.0",
            "_view_name": "LayoutView",
            "align_content": null,
            "align_items": null,
            "align_self": null,
            "border": null,
            "bottom": null,
            "display": null,
            "flex": null,
            "flex_flow": null,
            "grid_area": null,
            "grid_auto_columns": null,
            "grid_auto_flow": null,
            "grid_auto_rows": null,
            "grid_column": null,
            "grid_gap": null,
            "grid_row": null,
            "grid_template_areas": null,
            "grid_template_columns": null,
            "grid_template_rows": null,
            "height": null,
            "justify_content": null,
            "justify_items": null,
            "left": null,
            "margin": null,
            "max_height": null,
            "max_width": null,
            "min_height": null,
            "min_width": null,
            "object_fit": null,
            "object_position": null,
            "order": null,
            "overflow": null,
            "overflow_x": null,
            "overflow_y": null,
            "padding": null,
            "right": null,
            "top": null,
            "visibility": null,
            "width": null
          }
        },
        "189e7ba4f28945f38192c143a862be23": {
          "model_module": "@jupyter-widgets/controls",
          "model_name": "ProgressStyleModel",
          "model_module_version": "1.5.0",
          "state": {
            "_model_module": "@jupyter-widgets/controls",
            "_model_module_version": "1.5.0",
            "_model_name": "ProgressStyleModel",
            "_view_count": null,
            "_view_module": "@jupyter-widgets/base",
            "_view_module_version": "1.2.0",
            "_view_name": "StyleView",
            "bar_color": null,
            "description_width": ""
          }
        },
        "265b17882b594fa9b3f7f7e1ad7726b4": {
          "model_module": "@jupyter-widgets/base",
          "model_name": "LayoutModel",
          "model_module_version": "1.2.0",
          "state": {
            "_model_module": "@jupyter-widgets/base",
            "_model_module_version": "1.2.0",
            "_model_name": "LayoutModel",
            "_view_count": null,
            "_view_module": "@jupyter-widgets/base",
            "_view_module_version": "1.2.0",
            "_view_name": "LayoutView",
            "align_content": null,
            "align_items": null,
            "align_self": null,
            "border": null,
            "bottom": null,
            "display": null,
            "flex": null,
            "flex_flow": null,
            "grid_area": null,
            "grid_auto_columns": null,
            "grid_auto_flow": null,
            "grid_auto_rows": null,
            "grid_column": null,
            "grid_gap": null,
            "grid_row": null,
            "grid_template_areas": null,
            "grid_template_columns": null,
            "grid_template_rows": null,
            "height": null,
            "justify_content": null,
            "justify_items": null,
            "left": null,
            "margin": null,
            "max_height": null,
            "max_width": null,
            "min_height": null,
            "min_width": null,
            "object_fit": null,
            "object_position": null,
            "order": null,
            "overflow": null,
            "overflow_x": null,
            "overflow_y": null,
            "padding": null,
            "right": null,
            "top": null,
            "visibility": null,
            "width": null
          }
        },
        "007d7e9453a647d789ea789dc1341b82": {
          "model_module": "@jupyter-widgets/controls",
          "model_name": "DescriptionStyleModel",
          "model_module_version": "1.5.0",
          "state": {
            "_model_module": "@jupyter-widgets/controls",
            "_model_module_version": "1.5.0",
            "_model_name": "DescriptionStyleModel",
            "_view_count": null,
            "_view_module": "@jupyter-widgets/base",
            "_view_module_version": "1.2.0",
            "_view_name": "StyleView",
            "description_width": ""
          }
        }
      }
    }
  },
  "cells": [
    {
      "cell_type": "markdown",
      "metadata": {
        "id": "view-in-github",
        "colab_type": "text"
      },
      "source": [
        "<a href=\"https://colab.research.google.com/github/laxmi1707/RAG_ApplicationForPDF/blob/main/Apple_RAG.ipynb\" target=\"_parent\"><img src=\"https://colab.research.google.com/assets/colab-badge.svg\" alt=\"Open In Colab\"/></a>"
      ]
    },
    {
      "cell_type": "code",
      "execution_count": null,
      "metadata": {
        "id": "rj7B_MZV_7GB"
      },
      "outputs": [],
      "source": []
    },
    {
      "cell_type": "markdown",
      "source": [
        "This is to do a RAG application over some apple report . It provides domain specific review.\n",
        "Problem statement\n",
        "Develop a RAG application to help business analysts efficiently extract key insights from extensive reports, such as How Apple is Organized for Innovation, enabling faster and more informed decision-making."
      ],
      "metadata": {
        "id": "XsJQyEJ6ALK7"
      }
    },
    {
      "cell_type": "code",
      "source": [
        "#For GPU llma cpu python\n",
        "!CMAKE_ARGS=\"-DLLAMA_CUBLAS=on\" FORCE_CMAKE=1 pip install llama-cpp-python==0.1.85 --force-reinstall --no-cache-dir -q"
      ],
      "metadata": {
        "colab": {
          "base_uri": "https://localhost:8080/"
        },
        "collapsed": true,
        "id": "GyHKcoOEA1kF",
        "outputId": "a45995d1-c801-47da-d8a7-99ea6d142750"
      },
      "execution_count": 1,
      "outputs": [
        {
          "output_type": "stream",
          "name": "stdout",
          "text": [
            "\u001b[?25l     \u001b[90m━━━━━━━━━━━━━━━━━━━━━━━━━━━━━━━━━━━━━━━━\u001b[0m \u001b[32m0.0/1.8 MB\u001b[0m \u001b[31m?\u001b[0m eta \u001b[36m-:--:--\u001b[0m\r\u001b[2K     \u001b[91m━━━━━━━━━━━━━━━━━━━\u001b[0m\u001b[90m╺\u001b[0m\u001b[90m━━━━━━━━━━━━━━━━━━━━\u001b[0m \u001b[32m0.9/1.8 MB\u001b[0m \u001b[31m25.9 MB/s\u001b[0m eta \u001b[36m0:00:01\u001b[0m\r\u001b[2K     \u001b[90m━━━━━━━━━━━━━━━━━━━━━━━━━━━━━━━━━━━━━━━━\u001b[0m \u001b[32m1.8/1.8 MB\u001b[0m \u001b[31m44.0 MB/s\u001b[0m eta \u001b[36m0:00:00\u001b[0m\n",
            "\u001b[?25h  Installing build dependencies ... \u001b[?25l\u001b[?25hdone\n",
            "  Getting requirements to build wheel ... \u001b[?25l\u001b[?25hdone\n",
            "  Preparing metadata (pyproject.toml) ... \u001b[?25l\u001b[?25hdone\n",
            "\u001b[2K     \u001b[90m━━━━━━━━━━━━━━━━━━━━━━━━━━━━━━━━━━━━━━━\u001b[0m \u001b[32m62.1/62.1 kB\u001b[0m \u001b[31m131.9 MB/s\u001b[0m eta \u001b[36m0:00:00\u001b[0m\n",
            "\u001b[2K   \u001b[90m━━━━━━━━━━━━━━━━━━━━━━━━━━━━━━━━━━━━━━━━\u001b[0m \u001b[32m45.5/45.5 kB\u001b[0m \u001b[31m276.6 MB/s\u001b[0m eta \u001b[36m0:00:00\u001b[0m\n",
            "\u001b[2K   \u001b[90m━━━━━━━━━━━━━━━━━━━━━━━━━━━━━━━━━━━━━━━━\u001b[0m \u001b[32m16.9/16.9 MB\u001b[0m \u001b[31m196.4 MB/s\u001b[0m eta \u001b[36m0:00:00\u001b[0m\n",
            "\u001b[2K   \u001b[90m━━━━━━━━━━━━━━━━━━━━━━━━━━━━━━━━━━━━━━━━\u001b[0m \u001b[32m43.8/43.8 kB\u001b[0m \u001b[31m191.5 MB/s\u001b[0m eta \u001b[36m0:00:00\u001b[0m\n",
            "\u001b[?25h  Building wheel for llama-cpp-python (pyproject.toml) ... \u001b[?25l\u001b[?25hdone\n",
            "\u001b[31mERROR: pip's dependency resolver does not currently take into account all the packages that are installed. This behaviour is the source of the following dependency conflicts.\n",
            "langchain-community 0.0.13 requires numpy<2,>=1, but you have numpy 2.3.1 which is incompatible.\n",
            "langchain 0.1.1 requires numpy<2,>=1, but you have numpy 2.3.1 which is incompatible.\n",
            "google-colab 1.0.0 requires pandas==2.2.2, but you have pandas 1.5.3 which is incompatible.\n",
            "dask-cudf-cu12 25.2.2 requires pandas<2.2.4dev0,>=2.0, but you have pandas 1.5.3 which is incompatible.\n",
            "peft 0.15.2 requires huggingface_hub>=0.25.0, but you have huggingface-hub 0.23.2 which is incompatible.\n",
            "diffusers 0.34.0 requires huggingface-hub>=0.27.0, but you have huggingface-hub 0.23.2 which is incompatible.\n",
            "xarray 2025.3.1 requires pandas>=2.1, but you have pandas 1.5.3 which is incompatible.\n",
            "mizani 0.13.5 requires pandas>=2.2.0, but you have pandas 1.5.3 which is incompatible.\n",
            "gradio 5.31.0 requires huggingface-hub>=0.28.1, but you have huggingface-hub 0.23.2 which is incompatible.\n",
            "cudf-cu12 25.2.1 requires pandas<2.2.4dev0,>=2.0, but you have pandas 1.5.3 which is incompatible.\n",
            "cupy-cuda12x 13.3.0 requires numpy<2.3,>=1.22, but you have numpy 2.3.1 which is incompatible.\n",
            "db-dtypes 1.4.3 requires packaging>=24.2.0, but you have packaging 23.2 which is incompatible.\n",
            "plotnine 0.14.5 requires pandas>=2.2.0, but you have pandas 1.5.3 which is incompatible.\n",
            "tensorflow 2.18.0 requires numpy<2.1.0,>=1.26.0, but you have numpy 2.3.1 which is incompatible.\n",
            "numba 0.60.0 requires numpy<2.1,>=1.22, but you have numpy 2.3.1 which is incompatible.\n",
            "dask-expr 1.1.21 requires pandas>=2, but you have pandas 1.5.3 which is incompatible.\u001b[0m\u001b[31m\n",
            "\u001b[0m"
          ]
        }
      ]
    },
    {
      "cell_type": "code",
      "source": [
        "!pip install huggingface_hub==0.23.2 pandas==1.5.3 tiktoken==0.6.0 pymupdf==1.25.1 langchain==0.1.1 langchain-community==0.0.13 chromadb==0.4.22 sentence-transformers==2.3.1 numpy==1.25.2 q"
      ],
      "metadata": {
        "colab": {
          "base_uri": "https://localhost:8080/",
          "height": 1000
        },
        "collapsed": true,
        "id": "unYAeAcpBN5-",
        "outputId": "01cc3ea6-e911-4bf5-e9c5-14836e44c8d5"
      },
      "execution_count": 2,
      "outputs": [
        {
          "output_type": "stream",
          "name": "stdout",
          "text": [
            "Requirement already satisfied: huggingface_hub==0.23.2 in /usr/local/lib/python3.11/dist-packages (0.23.2)\n",
            "Requirement already satisfied: pandas==1.5.3 in /usr/local/lib/python3.11/dist-packages (1.5.3)\n",
            "Requirement already satisfied: tiktoken==0.6.0 in /usr/local/lib/python3.11/dist-packages (0.6.0)\n",
            "Requirement already satisfied: pymupdf==1.25.1 in /usr/local/lib/python3.11/dist-packages (1.25.1)\n",
            "Requirement already satisfied: langchain==0.1.1 in /usr/local/lib/python3.11/dist-packages (0.1.1)\n",
            "Requirement already satisfied: langchain-community==0.0.13 in /usr/local/lib/python3.11/dist-packages (0.0.13)\n",
            "Requirement already satisfied: chromadb==0.4.22 in /usr/local/lib/python3.11/dist-packages (0.4.22)\n",
            "Requirement already satisfied: sentence-transformers==2.3.1 in /usr/local/lib/python3.11/dist-packages (2.3.1)\n",
            "Collecting numpy==1.25.2\n",
            "  Using cached numpy-1.25.2-cp311-cp311-manylinux_2_17_x86_64.manylinux2014_x86_64.whl.metadata (5.6 kB)\n",
            "Requirement already satisfied: q in /usr/local/lib/python3.11/dist-packages (2.7)\n",
            "Requirement already satisfied: filelock in /usr/local/lib/python3.11/dist-packages (from huggingface_hub==0.23.2) (3.18.0)\n",
            "Requirement already satisfied: fsspec>=2023.5.0 in /usr/local/lib/python3.11/dist-packages (from huggingface_hub==0.23.2) (2025.3.2)\n",
            "Requirement already satisfied: packaging>=20.9 in /usr/local/lib/python3.11/dist-packages (from huggingface_hub==0.23.2) (23.2)\n",
            "Requirement already satisfied: pyyaml>=5.1 in /usr/local/lib/python3.11/dist-packages (from huggingface_hub==0.23.2) (6.0.2)\n",
            "Requirement already satisfied: requests in /usr/local/lib/python3.11/dist-packages (from huggingface_hub==0.23.2) (2.32.3)\n",
            "Requirement already satisfied: tqdm>=4.42.1 in /usr/local/lib/python3.11/dist-packages (from huggingface_hub==0.23.2) (4.67.1)\n",
            "Requirement already satisfied: typing-extensions>=3.7.4.3 in /usr/local/lib/python3.11/dist-packages (from huggingface_hub==0.23.2) (4.14.0)\n",
            "Requirement already satisfied: python-dateutil>=2.8.1 in /usr/local/lib/python3.11/dist-packages (from pandas==1.5.3) (2.9.0.post0)\n",
            "Requirement already satisfied: pytz>=2020.1 in /usr/local/lib/python3.11/dist-packages (from pandas==1.5.3) (2025.2)\n",
            "Requirement already satisfied: regex>=2022.1.18 in /usr/local/lib/python3.11/dist-packages (from tiktoken==0.6.0) (2024.11.6)\n",
            "Requirement already satisfied: SQLAlchemy<3,>=1.4 in /usr/local/lib/python3.11/dist-packages (from langchain==0.1.1) (2.0.41)\n",
            "Requirement already satisfied: aiohttp<4.0.0,>=3.8.3 in /usr/local/lib/python3.11/dist-packages (from langchain==0.1.1) (3.11.15)\n",
            "Requirement already satisfied: dataclasses-json<0.7,>=0.5.7 in /usr/local/lib/python3.11/dist-packages (from langchain==0.1.1) (0.6.7)\n",
            "Requirement already satisfied: jsonpatch<2.0,>=1.33 in /usr/local/lib/python3.11/dist-packages (from langchain==0.1.1) (1.33)\n",
            "Requirement already satisfied: langchain-core<0.2,>=0.1.9 in /usr/local/lib/python3.11/dist-packages (from langchain==0.1.1) (0.1.23)\n",
            "Requirement already satisfied: langsmith<0.1.0,>=0.0.77 in /usr/local/lib/python3.11/dist-packages (from langchain==0.1.1) (0.0.87)\n",
            "Requirement already satisfied: pydantic<3,>=1 in /usr/local/lib/python3.11/dist-packages (from langchain==0.1.1) (2.11.7)\n",
            "Requirement already satisfied: tenacity<9.0.0,>=8.1.0 in /usr/local/lib/python3.11/dist-packages (from langchain==0.1.1) (8.5.0)\n",
            "Requirement already satisfied: build>=1.0.3 in /usr/local/lib/python3.11/dist-packages (from chromadb==0.4.22) (1.2.2.post1)\n",
            "Requirement already satisfied: chroma-hnswlib==0.7.3 in /usr/local/lib/python3.11/dist-packages (from chromadb==0.4.22) (0.7.3)\n",
            "Requirement already satisfied: fastapi>=0.95.2 in /usr/local/lib/python3.11/dist-packages (from chromadb==0.4.22) (0.115.13)\n",
            "Requirement already satisfied: uvicorn>=0.18.3 in /usr/local/lib/python3.11/dist-packages (from uvicorn[standard]>=0.18.3->chromadb==0.4.22) (0.34.3)\n",
            "Requirement already satisfied: posthog>=2.4.0 in /usr/local/lib/python3.11/dist-packages (from chromadb==0.4.22) (6.0.0)\n",
            "Requirement already satisfied: pulsar-client>=3.1.0 in /usr/local/lib/python3.11/dist-packages (from chromadb==0.4.22) (3.7.0)\n",
            "Requirement already satisfied: onnxruntime>=1.14.1 in /usr/local/lib/python3.11/dist-packages (from chromadb==0.4.22) (1.22.0)\n",
            "Requirement already satisfied: opentelemetry-api>=1.2.0 in /usr/local/lib/python3.11/dist-packages (from chromadb==0.4.22) (1.34.1)\n",
            "Requirement already satisfied: opentelemetry-exporter-otlp-proto-grpc>=1.2.0 in /usr/local/lib/python3.11/dist-packages (from chromadb==0.4.22) (1.34.1)\n",
            "Requirement already satisfied: opentelemetry-instrumentation-fastapi>=0.41b0 in /usr/local/lib/python3.11/dist-packages (from chromadb==0.4.22) (0.55b1)\n",
            "Requirement already satisfied: opentelemetry-sdk>=1.2.0 in /usr/local/lib/python3.11/dist-packages (from chromadb==0.4.22) (1.34.1)\n",
            "Requirement already satisfied: tokenizers>=0.13.2 in /usr/local/lib/python3.11/dist-packages (from chromadb==0.4.22) (0.20.3)\n",
            "Requirement already satisfied: pypika>=0.48.9 in /usr/local/lib/python3.11/dist-packages (from chromadb==0.4.22) (0.48.9)\n",
            "Requirement already satisfied: overrides>=7.3.1 in /usr/local/lib/python3.11/dist-packages (from chromadb==0.4.22) (7.7.0)\n",
            "Requirement already satisfied: importlib-resources in /usr/local/lib/python3.11/dist-packages (from chromadb==0.4.22) (6.5.2)\n",
            "Requirement already satisfied: grpcio>=1.58.0 in /usr/local/lib/python3.11/dist-packages (from chromadb==0.4.22) (1.73.0)\n",
            "Requirement already satisfied: bcrypt>=4.0.1 in /usr/local/lib/python3.11/dist-packages (from chromadb==0.4.22) (4.3.0)\n",
            "Requirement already satisfied: typer>=0.9.0 in /usr/local/lib/python3.11/dist-packages (from chromadb==0.4.22) (0.16.0)\n",
            "Requirement already satisfied: kubernetes>=28.1.0 in /usr/local/lib/python3.11/dist-packages (from chromadb==0.4.22) (33.1.0)\n",
            "Requirement already satisfied: mmh3>=4.0.1 in /usr/local/lib/python3.11/dist-packages (from chromadb==0.4.22) (5.1.0)\n",
            "Requirement already satisfied: transformers<5.0.0,>=4.32.0 in /usr/local/lib/python3.11/dist-packages (from sentence-transformers==2.3.1) (4.46.3)\n",
            "Requirement already satisfied: torch>=1.11.0 in /usr/local/lib/python3.11/dist-packages (from sentence-transformers==2.3.1) (2.6.0+cu124)\n",
            "Requirement already satisfied: scikit-learn in /usr/local/lib/python3.11/dist-packages (from sentence-transformers==2.3.1) (1.6.1)\n",
            "Requirement already satisfied: scipy in /usr/local/lib/python3.11/dist-packages (from sentence-transformers==2.3.1) (1.15.3)\n",
            "Requirement already satisfied: nltk in /usr/local/lib/python3.11/dist-packages (from sentence-transformers==2.3.1) (3.9.1)\n",
            "Requirement already satisfied: sentencepiece in /usr/local/lib/python3.11/dist-packages (from sentence-transformers==2.3.1) (0.2.0)\n",
            "Requirement already satisfied: Pillow in /usr/local/lib/python3.11/dist-packages (from sentence-transformers==2.3.1) (11.2.1)\n",
            "Requirement already satisfied: aiohappyeyeballs>=2.3.0 in /usr/local/lib/python3.11/dist-packages (from aiohttp<4.0.0,>=3.8.3->langchain==0.1.1) (2.6.1)\n",
            "Requirement already satisfied: aiosignal>=1.1.2 in /usr/local/lib/python3.11/dist-packages (from aiohttp<4.0.0,>=3.8.3->langchain==0.1.1) (1.3.2)\n",
            "Requirement already satisfied: attrs>=17.3.0 in /usr/local/lib/python3.11/dist-packages (from aiohttp<4.0.0,>=3.8.3->langchain==0.1.1) (25.3.0)\n",
            "Requirement already satisfied: frozenlist>=1.1.1 in /usr/local/lib/python3.11/dist-packages (from aiohttp<4.0.0,>=3.8.3->langchain==0.1.1) (1.7.0)\n",
            "Requirement already satisfied: multidict<7.0,>=4.5 in /usr/local/lib/python3.11/dist-packages (from aiohttp<4.0.0,>=3.8.3->langchain==0.1.1) (6.4.4)\n",
            "Requirement already satisfied: propcache>=0.2.0 in /usr/local/lib/python3.11/dist-packages (from aiohttp<4.0.0,>=3.8.3->langchain==0.1.1) (0.3.2)\n",
            "Requirement already satisfied: yarl<2.0,>=1.17.0 in /usr/local/lib/python3.11/dist-packages (from aiohttp<4.0.0,>=3.8.3->langchain==0.1.1) (1.20.1)\n",
            "Requirement already satisfied: pyproject_hooks in /usr/local/lib/python3.11/dist-packages (from build>=1.0.3->chromadb==0.4.22) (1.2.0)\n",
            "Requirement already satisfied: marshmallow<4.0.0,>=3.18.0 in /usr/local/lib/python3.11/dist-packages (from dataclasses-json<0.7,>=0.5.7->langchain==0.1.1) (3.26.1)\n",
            "Requirement already satisfied: typing-inspect<1,>=0.4.0 in /usr/local/lib/python3.11/dist-packages (from dataclasses-json<0.7,>=0.5.7->langchain==0.1.1) (0.9.0)\n",
            "Requirement already satisfied: starlette<0.47.0,>=0.40.0 in /usr/local/lib/python3.11/dist-packages (from fastapi>=0.95.2->chromadb==0.4.22) (0.46.2)\n",
            "Requirement already satisfied: jsonpointer>=1.9 in /usr/local/lib/python3.11/dist-packages (from jsonpatch<2.0,>=1.33->langchain==0.1.1) (3.0.0)\n",
            "Requirement already satisfied: certifi>=14.05.14 in /usr/local/lib/python3.11/dist-packages (from kubernetes>=28.1.0->chromadb==0.4.22) (2025.6.15)\n",
            "Requirement already satisfied: six>=1.9.0 in /usr/local/lib/python3.11/dist-packages (from kubernetes>=28.1.0->chromadb==0.4.22) (1.17.0)\n",
            "Requirement already satisfied: google-auth>=1.0.1 in /usr/local/lib/python3.11/dist-packages (from kubernetes>=28.1.0->chromadb==0.4.22) (2.38.0)\n",
            "Requirement already satisfied: websocket-client!=0.40.0,!=0.41.*,!=0.42.*,>=0.32.0 in /usr/local/lib/python3.11/dist-packages (from kubernetes>=28.1.0->chromadb==0.4.22) (1.8.0)\n",
            "Requirement already satisfied: requests-oauthlib in /usr/local/lib/python3.11/dist-packages (from kubernetes>=28.1.0->chromadb==0.4.22) (2.0.0)\n",
            "Requirement already satisfied: oauthlib>=3.2.2 in /usr/local/lib/python3.11/dist-packages (from kubernetes>=28.1.0->chromadb==0.4.22) (3.3.1)\n",
            "Requirement already satisfied: urllib3>=1.24.2 in /usr/local/lib/python3.11/dist-packages (from kubernetes>=28.1.0->chromadb==0.4.22) (2.4.0)\n",
            "Requirement already satisfied: durationpy>=0.7 in /usr/local/lib/python3.11/dist-packages (from kubernetes>=28.1.0->chromadb==0.4.22) (0.10)\n",
            "Requirement already satisfied: anyio<5,>=3 in /usr/local/lib/python3.11/dist-packages (from langchain-core<0.2,>=0.1.9->langchain==0.1.1) (4.9.0)\n",
            "Requirement already satisfied: coloredlogs in /usr/local/lib/python3.11/dist-packages (from onnxruntime>=1.14.1->chromadb==0.4.22) (15.0.1)\n",
            "Requirement already satisfied: flatbuffers in /usr/local/lib/python3.11/dist-packages (from onnxruntime>=1.14.1->chromadb==0.4.22) (25.2.10)\n",
            "Requirement already satisfied: protobuf in /usr/local/lib/python3.11/dist-packages (from onnxruntime>=1.14.1->chromadb==0.4.22) (5.29.5)\n",
            "Requirement already satisfied: sympy in /usr/local/lib/python3.11/dist-packages (from onnxruntime>=1.14.1->chromadb==0.4.22) (1.13.1)\n",
            "Requirement already satisfied: importlib-metadata<8.8.0,>=6.0 in /usr/local/lib/python3.11/dist-packages (from opentelemetry-api>=1.2.0->chromadb==0.4.22) (8.7.0)\n",
            "Requirement already satisfied: googleapis-common-protos~=1.52 in /usr/local/lib/python3.11/dist-packages (from opentelemetry-exporter-otlp-proto-grpc>=1.2.0->chromadb==0.4.22) (1.70.0)\n",
            "Requirement already satisfied: opentelemetry-exporter-otlp-proto-common==1.34.1 in /usr/local/lib/python3.11/dist-packages (from opentelemetry-exporter-otlp-proto-grpc>=1.2.0->chromadb==0.4.22) (1.34.1)\n",
            "Requirement already satisfied: opentelemetry-proto==1.34.1 in /usr/local/lib/python3.11/dist-packages (from opentelemetry-exporter-otlp-proto-grpc>=1.2.0->chromadb==0.4.22) (1.34.1)\n",
            "Requirement already satisfied: opentelemetry-instrumentation-asgi==0.55b1 in /usr/local/lib/python3.11/dist-packages (from opentelemetry-instrumentation-fastapi>=0.41b0->chromadb==0.4.22) (0.55b1)\n",
            "Requirement already satisfied: opentelemetry-instrumentation==0.55b1 in /usr/local/lib/python3.11/dist-packages (from opentelemetry-instrumentation-fastapi>=0.41b0->chromadb==0.4.22) (0.55b1)\n",
            "Requirement already satisfied: opentelemetry-semantic-conventions==0.55b1 in /usr/local/lib/python3.11/dist-packages (from opentelemetry-instrumentation-fastapi>=0.41b0->chromadb==0.4.22) (0.55b1)\n",
            "Requirement already satisfied: opentelemetry-util-http==0.55b1 in /usr/local/lib/python3.11/dist-packages (from opentelemetry-instrumentation-fastapi>=0.41b0->chromadb==0.4.22) (0.55b1)\n",
            "Requirement already satisfied: wrapt<2.0.0,>=1.0.0 in /usr/local/lib/python3.11/dist-packages (from opentelemetry-instrumentation==0.55b1->opentelemetry-instrumentation-fastapi>=0.41b0->chromadb==0.4.22) (1.17.2)\n",
            "Requirement already satisfied: asgiref~=3.0 in /usr/local/lib/python3.11/dist-packages (from opentelemetry-instrumentation-asgi==0.55b1->opentelemetry-instrumentation-fastapi>=0.41b0->chromadb==0.4.22) (3.8.1)\n",
            "Requirement already satisfied: backoff>=1.10.0 in /usr/local/lib/python3.11/dist-packages (from posthog>=2.4.0->chromadb==0.4.22) (2.2.1)\n",
            "Requirement already satisfied: distro>=1.5.0 in /usr/local/lib/python3.11/dist-packages (from posthog>=2.4.0->chromadb==0.4.22) (1.9.0)\n",
            "Requirement already satisfied: annotated-types>=0.6.0 in /usr/local/lib/python3.11/dist-packages (from pydantic<3,>=1->langchain==0.1.1) (0.7.0)\n",
            "Requirement already satisfied: pydantic-core==2.33.2 in /usr/local/lib/python3.11/dist-packages (from pydantic<3,>=1->langchain==0.1.1) (2.33.2)\n",
            "Requirement already satisfied: typing-inspection>=0.4.0 in /usr/local/lib/python3.11/dist-packages (from pydantic<3,>=1->langchain==0.1.1) (0.4.1)\n",
            "Requirement already satisfied: charset-normalizer<4,>=2 in /usr/local/lib/python3.11/dist-packages (from requests->huggingface_hub==0.23.2) (3.4.2)\n",
            "Requirement already satisfied: idna<4,>=2.5 in /usr/local/lib/python3.11/dist-packages (from requests->huggingface_hub==0.23.2) (3.10)\n",
            "Requirement already satisfied: greenlet>=1 in /usr/local/lib/python3.11/dist-packages (from SQLAlchemy<3,>=1.4->langchain==0.1.1) (3.2.3)\n",
            "Requirement already satisfied: networkx in /usr/local/lib/python3.11/dist-packages (from torch>=1.11.0->sentence-transformers==2.3.1) (3.5)\n",
            "Requirement already satisfied: jinja2 in /usr/local/lib/python3.11/dist-packages (from torch>=1.11.0->sentence-transformers==2.3.1) (3.1.6)\n",
            "Requirement already satisfied: nvidia-cuda-nvrtc-cu12==12.4.127 in /usr/local/lib/python3.11/dist-packages (from torch>=1.11.0->sentence-transformers==2.3.1) (12.4.127)\n",
            "Requirement already satisfied: nvidia-cuda-runtime-cu12==12.4.127 in /usr/local/lib/python3.11/dist-packages (from torch>=1.11.0->sentence-transformers==2.3.1) (12.4.127)\n",
            "Requirement already satisfied: nvidia-cuda-cupti-cu12==12.4.127 in /usr/local/lib/python3.11/dist-packages (from torch>=1.11.0->sentence-transformers==2.3.1) (12.4.127)\n",
            "Requirement already satisfied: nvidia-cudnn-cu12==9.1.0.70 in /usr/local/lib/python3.11/dist-packages (from torch>=1.11.0->sentence-transformers==2.3.1) (9.1.0.70)\n",
            "Requirement already satisfied: nvidia-cublas-cu12==12.4.5.8 in /usr/local/lib/python3.11/dist-packages (from torch>=1.11.0->sentence-transformers==2.3.1) (12.4.5.8)\n",
            "Requirement already satisfied: nvidia-cufft-cu12==11.2.1.3 in /usr/local/lib/python3.11/dist-packages (from torch>=1.11.0->sentence-transformers==2.3.1) (11.2.1.3)\n",
            "Requirement already satisfied: nvidia-curand-cu12==10.3.5.147 in /usr/local/lib/python3.11/dist-packages (from torch>=1.11.0->sentence-transformers==2.3.1) (10.3.5.147)\n",
            "Requirement already satisfied: nvidia-cusolver-cu12==11.6.1.9 in /usr/local/lib/python3.11/dist-packages (from torch>=1.11.0->sentence-transformers==2.3.1) (11.6.1.9)\n",
            "Requirement already satisfied: nvidia-cusparse-cu12==12.3.1.170 in /usr/local/lib/python3.11/dist-packages (from torch>=1.11.0->sentence-transformers==2.3.1) (12.3.1.170)\n",
            "Requirement already satisfied: nvidia-cusparselt-cu12==0.6.2 in /usr/local/lib/python3.11/dist-packages (from torch>=1.11.0->sentence-transformers==2.3.1) (0.6.2)\n",
            "Requirement already satisfied: nvidia-nccl-cu12==2.21.5 in /usr/local/lib/python3.11/dist-packages (from torch>=1.11.0->sentence-transformers==2.3.1) (2.21.5)\n",
            "Requirement already satisfied: nvidia-nvtx-cu12==12.4.127 in /usr/local/lib/python3.11/dist-packages (from torch>=1.11.0->sentence-transformers==2.3.1) (12.4.127)\n",
            "Requirement already satisfied: nvidia-nvjitlink-cu12==12.4.127 in /usr/local/lib/python3.11/dist-packages (from torch>=1.11.0->sentence-transformers==2.3.1) (12.4.127)\n",
            "Requirement already satisfied: triton==3.2.0 in /usr/local/lib/python3.11/dist-packages (from torch>=1.11.0->sentence-transformers==2.3.1) (3.2.0)\n",
            "Requirement already satisfied: mpmath<1.4,>=1.1.0 in /usr/local/lib/python3.11/dist-packages (from sympy->onnxruntime>=1.14.1->chromadb==0.4.22) (1.3.0)\n",
            "Requirement already satisfied: safetensors>=0.4.1 in /usr/local/lib/python3.11/dist-packages (from transformers<5.0.0,>=4.32.0->sentence-transformers==2.3.1) (0.5.3)\n",
            "Requirement already satisfied: click>=8.0.0 in /usr/local/lib/python3.11/dist-packages (from typer>=0.9.0->chromadb==0.4.22) (8.2.1)\n",
            "Requirement already satisfied: shellingham>=1.3.0 in /usr/local/lib/python3.11/dist-packages (from typer>=0.9.0->chromadb==0.4.22) (1.5.4)\n",
            "Requirement already satisfied: rich>=10.11.0 in /usr/local/lib/python3.11/dist-packages (from typer>=0.9.0->chromadb==0.4.22) (13.9.4)\n",
            "Requirement already satisfied: h11>=0.8 in /usr/local/lib/python3.11/dist-packages (from uvicorn>=0.18.3->uvicorn[standard]>=0.18.3->chromadb==0.4.22) (0.16.0)\n",
            "Requirement already satisfied: httptools>=0.6.3 in /usr/local/lib/python3.11/dist-packages (from uvicorn[standard]>=0.18.3->chromadb==0.4.22) (0.6.4)\n",
            "Requirement already satisfied: python-dotenv>=0.13 in /usr/local/lib/python3.11/dist-packages (from uvicorn[standard]>=0.18.3->chromadb==0.4.22) (1.1.1)\n",
            "Requirement already satisfied: uvloop>=0.15.1 in /usr/local/lib/python3.11/dist-packages (from uvicorn[standard]>=0.18.3->chromadb==0.4.22) (0.21.0)\n",
            "Requirement already satisfied: watchfiles>=0.13 in /usr/local/lib/python3.11/dist-packages (from uvicorn[standard]>=0.18.3->chromadb==0.4.22) (1.1.0)\n",
            "Requirement already satisfied: websockets>=10.4 in /usr/local/lib/python3.11/dist-packages (from uvicorn[standard]>=0.18.3->chromadb==0.4.22) (15.0.1)\n",
            "Requirement already satisfied: joblib in /usr/local/lib/python3.11/dist-packages (from nltk->sentence-transformers==2.3.1) (1.5.1)\n",
            "Requirement already satisfied: threadpoolctl>=3.1.0 in /usr/local/lib/python3.11/dist-packages (from scikit-learn->sentence-transformers==2.3.1) (3.6.0)\n",
            "Requirement already satisfied: sniffio>=1.1 in /usr/local/lib/python3.11/dist-packages (from anyio<5,>=3->langchain-core<0.2,>=0.1.9->langchain==0.1.1) (1.3.1)\n",
            "Requirement already satisfied: cachetools<6.0,>=2.0.0 in /usr/local/lib/python3.11/dist-packages (from google-auth>=1.0.1->kubernetes>=28.1.0->chromadb==0.4.22) (5.5.2)\n",
            "Requirement already satisfied: pyasn1-modules>=0.2.1 in /usr/local/lib/python3.11/dist-packages (from google-auth>=1.0.1->kubernetes>=28.1.0->chromadb==0.4.22) (0.4.2)\n",
            "Requirement already satisfied: rsa<5,>=3.1.4 in /usr/local/lib/python3.11/dist-packages (from google-auth>=1.0.1->kubernetes>=28.1.0->chromadb==0.4.22) (4.9.1)\n",
            "Requirement already satisfied: zipp>=3.20 in /usr/local/lib/python3.11/dist-packages (from importlib-metadata<8.8.0,>=6.0->opentelemetry-api>=1.2.0->chromadb==0.4.22) (3.23.0)\n",
            "Requirement already satisfied: markdown-it-py>=2.2.0 in /usr/local/lib/python3.11/dist-packages (from rich>=10.11.0->typer>=0.9.0->chromadb==0.4.22) (3.0.0)\n",
            "Requirement already satisfied: pygments<3.0.0,>=2.13.0 in /usr/local/lib/python3.11/dist-packages (from rich>=10.11.0->typer>=0.9.0->chromadb==0.4.22) (2.19.2)\n",
            "Requirement already satisfied: mypy-extensions>=0.3.0 in /usr/local/lib/python3.11/dist-packages (from typing-inspect<1,>=0.4.0->dataclasses-json<0.7,>=0.5.7->langchain==0.1.1) (1.1.0)\n",
            "Requirement already satisfied: humanfriendly>=9.1 in /usr/local/lib/python3.11/dist-packages (from coloredlogs->onnxruntime>=1.14.1->chromadb==0.4.22) (10.0)\n",
            "Requirement already satisfied: MarkupSafe>=2.0 in /usr/local/lib/python3.11/dist-packages (from jinja2->torch>=1.11.0->sentence-transformers==2.3.1) (3.0.2)\n",
            "Requirement already satisfied: mdurl~=0.1 in /usr/local/lib/python3.11/dist-packages (from markdown-it-py>=2.2.0->rich>=10.11.0->typer>=0.9.0->chromadb==0.4.22) (0.1.2)\n",
            "Requirement already satisfied: pyasn1<0.7.0,>=0.6.1 in /usr/local/lib/python3.11/dist-packages (from pyasn1-modules>=0.2.1->google-auth>=1.0.1->kubernetes>=28.1.0->chromadb==0.4.22) (0.6.1)\n",
            "Using cached numpy-1.25.2-cp311-cp311-manylinux_2_17_x86_64.manylinux2014_x86_64.whl (18.2 MB)\n",
            "Installing collected packages: numpy\n",
            "  Attempting uninstall: numpy\n",
            "    Found existing installation: numpy 2.3.1\n",
            "    Uninstalling numpy-2.3.1:\n",
            "      Successfully uninstalled numpy-2.3.1\n",
            "\u001b[31mERROR: pip's dependency resolver does not currently take into account all the packages that are installed. This behaviour is the source of the following dependency conflicts.\n",
            "google-colab 1.0.0 requires pandas==2.2.2, but you have pandas 1.5.3 which is incompatible.\n",
            "dask-cudf-cu12 25.2.2 requires pandas<2.2.4dev0,>=2.0, but you have pandas 1.5.3 which is incompatible.\n",
            "peft 0.15.2 requires huggingface_hub>=0.25.0, but you have huggingface-hub 0.23.2 which is incompatible.\n",
            "diffusers 0.34.0 requires huggingface-hub>=0.27.0, but you have huggingface-hub 0.23.2 which is incompatible.\n",
            "xarray 2025.3.1 requires pandas>=2.1, but you have pandas 1.5.3 which is incompatible.\n",
            "mizani 0.13.5 requires pandas>=2.2.0, but you have pandas 1.5.3 which is incompatible.\n",
            "gradio 5.31.0 requires huggingface-hub>=0.28.1, but you have huggingface-hub 0.23.2 which is incompatible.\n",
            "cudf-cu12 25.2.1 requires pandas<2.2.4dev0,>=2.0, but you have pandas 1.5.3 which is incompatible.\n",
            "blosc2 3.5.0 requires numpy>=1.26, but you have numpy 1.25.2 which is incompatible.\n",
            "db-dtypes 1.4.3 requires packaging>=24.2.0, but you have packaging 23.2 which is incompatible.\n",
            "plotnine 0.14.5 requires pandas>=2.2.0, but you have pandas 1.5.3 which is incompatible.\n",
            "tensorflow 2.18.0 requires numpy<2.1.0,>=1.26.0, but you have numpy 1.25.2 which is incompatible.\n",
            "thinc 8.3.6 requires numpy<3.0.0,>=2.0.0, but you have numpy 1.25.2 which is incompatible.\n",
            "dask-expr 1.1.21 requires pandas>=2, but you have pandas 1.5.3 which is incompatible.\u001b[0m\u001b[31m\n",
            "\u001b[0mSuccessfully installed numpy-1.25.2\n"
          ]
        },
        {
          "output_type": "display_data",
          "data": {
            "application/vnd.colab-display-data+json": {
              "pip_warning": {
                "packages": [
                  "numpy"
                ]
              },
              "id": "d65f9f03eae54793aacdd99450dc6efe"
            }
          },
          "metadata": {}
        }
      ]
    },
    {
      "cell_type": "code",
      "source": [
        "import json,os\n",
        "import numpy as np\n",
        "import tiktoken\n",
        "import pandas as pd\n",
        "\n",
        "\n",
        "#To do chunking\n",
        "from langchain_text_splitters import RecursiveCharacterTextSplitter\n",
        "#This is to load pdf\n",
        "from langchain_community.document_loaders import PyMuPDFLoader\n",
        "#For the embeddings\n",
        "from langchain_community.embeddings.sentence_transformer import SentenceTransformerEmbeddings\n",
        "#For the vector DB\n",
        "from langchain_community.vectorstores import Chroma\n",
        "\n",
        "#download the model from hf\n",
        "from huggingface_hub import hf_hub_download\n",
        "#this model is from hf\n",
        "from llama_cpp import  Llama\n"
      ],
      "metadata": {
        "id": "BGKMDMCmCN2_"
      },
      "execution_count": 1,
      "outputs": []
    },
    {
      "cell_type": "code",
      "source": [],
      "metadata": {
        "id": "2b9DLeQ0FIxr"
      },
      "execution_count": null,
      "outputs": []
    },
    {
      "cell_type": "markdown",
      "source": [
        "#Data Prep for RAG"
      ],
      "metadata": {
        "id": "nw6OmeuBKVfn"
      }
    },
    {
      "cell_type": "markdown",
      "source": [
        "## Loading the data"
      ],
      "metadata": {
        "id": "3aCooOjOKYWW"
      }
    },
    {
      "cell_type": "markdown",
      "source": [],
      "metadata": {
        "id": "y9OPHhMfKa6D"
      }
    },
    {
      "cell_type": "code",
      "source": [
        "from google.colab import drive\n",
        "\n",
        "apple_pdf_path = \"HBR_How_Apple_Is_Organized_For_Innovation-4.pdf\"\n",
        "path =\"/content/drive/MyDrive/AIMLUseCaseProjects/DataSetRAG/\"\n",
        "drive.mount('/content/drive')\n",
        "\n",
        "\n",
        "pdf_loader = PyMuPDFLoader(path+apple_pdf_path)\n",
        "apple= pdf_loader.load()"
      ],
      "metadata": {
        "colab": {
          "base_uri": "https://localhost:8080/"
        },
        "id": "wGZlflqTKfS_",
        "outputId": "07df3d36-de01-4301-a43d-8a881b4b53d2"
      },
      "execution_count": 2,
      "outputs": [
        {
          "output_type": "stream",
          "name": "stdout",
          "text": [
            "Mounted at /content/drive\n"
          ]
        }
      ]
    },
    {
      "cell_type": "markdown",
      "source": [
        "#Data Overview"
      ],
      "metadata": {
        "id": "BP9DOu8lNltb"
      }
    },
    {
      "cell_type": "markdown",
      "source": [
        "##Checking the first 3 pages"
      ],
      "metadata": {
        "id": "XfEWcU7pNnbx"
      }
    },
    {
      "cell_type": "code",
      "source": [
        "for i in range(3):\n",
        "  print(f\"Page num:{i+1}\", end=\"\\n\")\n",
        "  print(apple[i].page_content, end=\"\\n\")"
      ],
      "metadata": {
        "colab": {
          "base_uri": "https://localhost:8080/"
        },
        "id": "Rips81nNNtg2",
        "outputId": "cc4bf83a-28f3-453a-da2c-365b7110e332"
      },
      "execution_count": 4,
      "outputs": [
        {
          "output_type": "stream",
          "name": "stdout",
          "text": [
            "Page num:1\n",
            "REPRINT R2006F\n",
            "PUBLISHED IN HBR\n",
            "NOVEMBER–DECEMBER 2020\n",
            "ARTICLE\n",
            "ORGANIZATIONAL CULTURE\n",
            "How Apple Is \n",
            "Organized  \n",
            "for Innovation\n",
            "It’s about experts leading experts. \n",
            "by Joel M. Podolny and Morten T. Hansen\n",
            "This article is made available to you with compliments of Apple Inc for your personal use. Further posting, copying or distribution is not permitted.\n",
            "\n",
            "Page num:2\n",
            "2\n",
            "Harvard Business Review\n",
            "November–December 2020\n",
            "This article is made available to you with compliments of Apple Inc for your personal use. Further posting, copying or distribution is not permitted.\n",
            "\n",
            "Page num:3\n",
            "PHOTOGRAPHER MIKAEL JANSSON\n",
            "How Apple Is  \n",
            "Organized  \n",
            "for Innovation\n",
            "It’s about experts  \n",
            "leading experts.\n",
            "ORGANIZATIONAL \n",
            "CULTURE\n",
            "Joel M. \n",
            "Podolny\n",
            "Dean, Apple \n",
            "University\n",
            "Morten T. \n",
            "Hansen\n",
            "Faculty, Apple \n",
            "University\n",
            "AUTHORS\n",
            "FOR ARTICLE REPRINTS CALL 800-988-0886 OR 617-783-7500, OR VISIT HBR.ORG\n",
            "Harvard Business Review\n",
            "November–December 2020  3\n",
            "This article is made available to you with compliments of Apple Inc for your personal use. Further posting, copying or distribution is not permitted.\n",
            "\n"
          ]
        }
      ]
    },
    {
      "cell_type": "code",
      "source": [
        "#See page 6\n",
        "print(f\"Page 6 \",apple[7].page_content)"
      ],
      "metadata": {
        "colab": {
          "base_uri": "https://localhost:8080/"
        },
        "id": "E6BGcZmrOik2",
        "outputId": "b7da123a-25c8-45fd-e258-0c4fa6d0cc28"
      },
      "execution_count": 5,
      "outputs": [
        {
          "output_type": "stream",
          "name": "stdout",
          "text": [
            "Page 6  40 specialist teams: silicon design, camera software, reliabil-\n",
            "ity engineering, motion sensor hardware, video engineering, \n",
            "core motion, and camera sensor design, to name just a few. \n",
            "How on earth does Apple develop and ship products that \n",
            "require such coordination? The answer is collaborative \n",
            "debate. Because no function is responsible for a product or a \n",
            "service on its own, cross-functional collaboration is crucial.\n",
            "When debates reach an impasse, as some inevitably do, \n",
            "higher-level managers weigh in as tiebreakers, including at \n",
            "times the CEO and the senior VPs. To do this at speed with \n",
            "sufficient attention to detail is challenging for even the best \n",
            "of leaders, making it all the more important that the company \n",
            "fill many senior positions from within the ranks of its VPs, \n",
            "who have experience in Apple’s way of operating.\n",
            "However, given Apple’s size and scope, even the executive \n",
            "team can resolve only a limited number of stalemates. The \n",
            "many horizontal dependencies mean that ineffective peer \n",
            "relationships at the VP and director levels have the potential \n",
            "to undermine not only particular proj­ects but the entire \n",
            "company. Consequently, for people to attain and remain in \n",
            "a leadership position within a function, they must be highly \n",
            "effective collaborators.\n",
            "That doesn’t mean people can’t express their points of \n",
            "view. Leaders are expected to hold strong, well-grounded \n",
            "views and advocate forcefully for them, yet also be willing  \n",
            "to change their minds when presented with evidence \n",
            "that others’ views are better. Doing so is not always \n",
            "easy, of course. A leader’s ability to be both partisan and \n",
            "open-minded is facilitated by two things: deep understand-\n",
            "ing of and devotion to the company’s values and common \n",
            "purpose, and a commitment to separating how right from \n",
            "how hard a particular path is so that the difficulty of execut-\n",
            "ing a decision doesn’t prevent its being selected.\n",
            "The development of the iPhone’s portrait mode illustrates \n",
            "a fanatical attention to detail at the leadership level, intense \n",
            "collaborative debate among teams, and the power of a shared \n",
            "purpose to shape and ultimately resolve debates. In 2009 \n",
            "Hubel had the idea of developing an iPhone feature that \n",
            "would allow people to take portrait photos with bokeh— \n",
            "a Japanese term that refers to the pleasing blurring of a \n",
            "background—which photography experts generally consider \n",
            "to be of the highest quality. At that time only expensive \n",
            "single-lens reflex cameras could take such photos, but \n",
            "Hubel thought that with a dual-lens design and advanced \n",
            "8\n",
            "Harvard Business Review\n",
            "November–December 2020\n",
            "This article is made available to you with compliments of Apple Inc for your personal use. Further posting, copying or distribution is not permitted.\n",
            "\n"
          ]
        }
      ]
    },
    {
      "cell_type": "code",
      "source": [
        "#No of pages\n",
        "len(apple)"
      ],
      "metadata": {
        "colab": {
          "base_uri": "https://localhost:8080/"
        },
        "id": "d2GZLqSKOGKv",
        "outputId": "40a18a7a-1ff7-4088-c36a-8fe272aa0c17"
      },
      "execution_count": 6,
      "outputs": [
        {
          "output_type": "execute_result",
          "data": {
            "text/plain": [
              "11"
            ]
          },
          "metadata": {},
          "execution_count": 6
        }
      ]
    },
    {
      "cell_type": "markdown",
      "source": [
        "##Chunking the data"
      ],
      "metadata": {
        "id": "0WUu3Ou1PXyQ"
      }
    },
    {
      "cell_type": "code",
      "source": [
        "#Data chunking\n",
        "\n",
        "text_splitter = RecursiveCharacterTextSplitter.from_tiktoken_encoder(\n",
        "    encoding_name =\"cl100k_base\",\n",
        "    chunk_size=512,\n",
        "    chunk_overlap=20\n",
        ")"
      ],
      "metadata": {
        "id": "ZSqB0v73Pcg3"
      },
      "execution_count": 7,
      "outputs": []
    },
    {
      "cell_type": "code",
      "source": [
        "document_chunks= pdf_loader.load_and_split(text_splitter)"
      ],
      "metadata": {
        "id": "2Df5ZpJpP6pl"
      },
      "execution_count": 8,
      "outputs": []
    },
    {
      "cell_type": "code",
      "source": [
        "len(document_chunks)"
      ],
      "metadata": {
        "colab": {
          "base_uri": "https://localhost:8080/"
        },
        "id": "sNpiZmEVQBap",
        "outputId": "e041af12-74c0-41e0-f00c-5efda7be5b54"
      },
      "execution_count": 9,
      "outputs": [
        {
          "output_type": "execute_result",
          "data": {
            "text/plain": [
              "25"
            ]
          },
          "metadata": {},
          "execution_count": 9
        }
      ]
    },
    {
      "cell_type": "code",
      "source": [
        "document_chunks[0].page_content"
      ],
      "metadata": {
        "colab": {
          "base_uri": "https://localhost:8080/",
          "height": 72
        },
        "id": "sF1fyUGsQK9-",
        "outputId": "56fa10db-c0a1-446f-b3db-878c1e278a85"
      },
      "execution_count": 10,
      "outputs": [
        {
          "output_type": "execute_result",
          "data": {
            "text/plain": [
              "'REPRINT R2006F\\nPUBLISHED IN HBR\\nNOVEMBER–DECEMBER 2020\\nARTICLE\\nORGANIZATIONAL CULTURE\\nHow Apple Is \\nOrganized  \\nfor Innovation\\nIt’s about experts leading experts. \\nby Joel M. Podolny and Morten T. Hansen\\nThis article is made available to you with compliments of Apple Inc for your personal use. Further posting, copying or distribution is not permitted.'"
            ],
            "application/vnd.google.colaboratory.intrinsic+json": {
              "type": "string"
            }
          },
          "metadata": {},
          "execution_count": 10
        }
      ]
    },
    {
      "cell_type": "code",
      "source": [
        "document_chunks[1].page_content"
      ],
      "metadata": {
        "colab": {
          "base_uri": "https://localhost:8080/",
          "height": 54
        },
        "id": "wIKXLhoxQiaV",
        "outputId": "4642e783-771c-47d5-e972-ec84b767658c"
      },
      "execution_count": 11,
      "outputs": [
        {
          "output_type": "execute_result",
          "data": {
            "text/plain": [
              "'2\\nHarvard Business Review\\nNovember–December 2020\\nThis article is made available to you with compliments of Apple Inc for your personal use. Further posting, copying or distribution is not permitted.'"
            ],
            "application/vnd.google.colaboratory.intrinsic+json": {
              "type": "string"
            }
          },
          "metadata": {},
          "execution_count": 11
        }
      ]
    },
    {
      "cell_type": "code",
      "source": [
        "document_chunks[-1].page_content"
      ],
      "metadata": {
        "colab": {
          "base_uri": "https://localhost:8080/",
          "height": 127
        },
        "id": "5vkbThvsQ2qp",
        "outputId": "8e50827b-72bb-43e7-8a2f-0a305ba7b112"
      },
      "execution_count": 12,
      "outputs": [
        {
          "output_type": "execute_result",
          "data": {
            "text/plain": [
              "'to cultivate the experts-leading-experts model even within \\na business unit structure. For example, when filling the next \\nsenior management role, pick someone with deep expertise \\nin that area as opposed to someone who might make the best \\ngeneral manager. But a full-fledged transformation requires \\nthat leaders also transition to a functional organization. \\nApple’s track rec\\xadord proves that the rewards may justify the \\nrisks. Its approach can produce extraordinary results.\\u2002\\nHBR Reprint R2006F\\nJOEL M. PODOLNY is a vice president of Apple and the dean  \\nof Apple University. Prior to joining Apple, in 2009, he was  \\nthe dean of the Yale School of Management and on the faculty of \\nHarvard’s and Stanford’s business schools. MORTEN T. HANSEN  \\nis a member of Apple University’s faculty and a professor at the \\nUniversity of California, Berkeley. He was formerly on the faculties  \\nof Harvard Business School and INSEAD.\\nFOR ARTICLE REPRINTS CALL 800-988-0886 OR 617-783-7500, OR VISIT HBR.ORG\\nHarvard Business Review\\nNovember–December 2020 \\u200911\\nThis article is made available to you with compliments of Apple Inc for your personal use. Further posting, copying or distribution is not permitted.'"
            ],
            "application/vnd.google.colaboratory.intrinsic+json": {
              "type": "string"
            }
          },
          "metadata": {},
          "execution_count": 12
        }
      ]
    },
    {
      "cell_type": "markdown",
      "source": [
        "##As expected there are some overlaps\n",
        "\n",
        "This article is made available to you with compliments of Apple Inc for your personal use. Further posting, copying or distribution is not permitted\n",
        "\n",
        "#If we increase the chunk length then overlap increases"
      ],
      "metadata": {
        "id": "EPl0xo5IRAUu"
      }
    },
    {
      "cell_type": "markdown",
      "source": [
        "## Embeddings"
      ],
      "metadata": {
        "id": "FKWgpU1hSwIV"
      }
    },
    {
      "cell_type": "code",
      "source": [
        "embedding_model = SentenceTransformerEmbeddings(model_name=\"thenlper/gte-large\")"
      ],
      "metadata": {
        "colab": {
          "base_uri": "https://localhost:8080/",
          "height": 466,
          "referenced_widgets": [
            "78980feb7b894585ac1dd73bae1b75d1",
            "549b7a3c978d440390a7fda3231563eb",
            "bda9e73e231a4c7b908accdf4099d0bf",
            "2dc7a1e2dff24d98b4c980e90e86e138",
            "0c21b674678d422792ae9a6b99a54eb8",
            "e68b001c4d0f42019a54af4fbb8ff30c",
            "aaef26dfa58e4f8fb5b90d3e67d0140d",
            "5cde94b6d2d04ee9baaf39d51db63a08",
            "244ad095683448c280e6d02ccc0e199c",
            "66768a54ebda437bb50789a23d6ab345",
            "15dcc2a25d14490183f72eda4d1e5e1e",
            "437936e9819642dd831f0906b030e841",
            "5e9d98d69a9a4a16b39dfd483f4c02ee",
            "35ec42edec7a4e6c917838650136ead7",
            "fed0c72a1fea409dbf0a1414fb9a810f",
            "2dfbf5f9cf9d413788e2ecb6194fa6da",
            "78b94ace6aac4b8b86a551ee69ecd4f9",
            "f82d197d6407491cbf2c49d356844976",
            "93a332746b3241518e265404120aa2ef",
            "17a807b094ec40bd92fb989be71fd93b",
            "2566bf4a07d24aef85fda85abfb9d979",
            "a5ccc561d92b40d88bfc6c6d0062a561",
            "9301e36dc6224d9a9ec8e7d81ffade50",
            "20a8e5bc84fd4c6787b3358d2ef92d57",
            "049ea597a3ff49399cc257466fc85802",
            "fd015575ab77430fbb8d91fb73f5b797",
            "9a996e0705cb4c0db9c5c519ad6de96b",
            "dba00e1acf1d404ebcf613fcd169f422",
            "fcc1efe4fe734608b0885d00502d419f",
            "a5bd444244c24d3d83f053cbd579d31c",
            "f6ae64bbad484754ad3f4d077c5b3fcd",
            "da0f5d5ffc7241e9a38d0eabeb55a3a2",
            "c91d64869e934a839640c1ec4af1a0c6",
            "7dcd932fe1174ca7a84d64e56c9b897e",
            "2f2aeb067d5a4d2cb2ab0ffbf6e779ef",
            "a550d378d34d4df2a4abb4125ea8a30a",
            "42f06a816cb546cabe7abd66fef819b6",
            "22196df5705e44cf937a1cd172458362",
            "19ed723928d84db6a3e06f9f0964171d",
            "6b299e93ef014f77b15a495702830cb2",
            "f157ebb5c2ed46399f3be6a900d99e04",
            "f934b0bb2c904770acd78a5156281154",
            "e3585aed4a6747a29137876fa9955290",
            "94c75f1373c44e2589705ccf7e594c45",
            "1e93756befa14040b2ac8be58754dfb7",
            "1bad39859656424e87ba6b5778faf8a3",
            "84e1b151083a4b9eb5c066419e7d546a",
            "89aa1121441c4129897fcf59b0c44f24",
            "a4e43ef7569648cda0c2b3b83ec3d316",
            "831b060288494f3c9fbf87cd9c612e5b",
            "de4a8b16d0654f5e8f89870a06f3b959",
            "2b204cc3675942a69c43b6efeee6201f",
            "235decdd3d244fa4b7ac489f7f791327",
            "23ee797133b8469f9f28a78ea60f2356",
            "ff5e54dbaad14ffb9b0cf097e2f6688c",
            "aac68935a0b142449526ad6062b848fe",
            "73e343bb92914343bf82bb8ecbd71c57",
            "0bd8a278e9bf4c8d92af16e507edd146",
            "31b69ede33b64311982c9107107821e4",
            "c9be10f94a654d0591f252ee498c05ec",
            "b61d9ec897014a08a58169eda5b158c7",
            "4b96650c4f374016aa13a651f7ca9abe",
            "f212ea99f9b3461987fbfd7cc8e67c41",
            "6d3fbcb94bcd45979513c97083918f2b",
            "c2defbc423c340f9833121d5d9652db5",
            "b96f4f26cdb943d5ba59a91e80bdef4e",
            "b4ab3416628147b98d21b6cf0e7bc056",
            "c9069cc337264415b6f7ef97186cb0d9",
            "f6e10773a6c847f9ad1fdb98ec26b129",
            "8d1d345813b64705878e90d718a25de8",
            "6a5c5a8e9ff242cb8cae2423b3b9166c",
            "d64808fcd59f4fdca204b791b7c2f62f",
            "6dc53696af1c409cb1c518b02052c829",
            "9e644dfc89dc4f08b2cd9565db2589b3",
            "e8a6fb6ef71240fdbbf8cafecca16241",
            "78ee39966454437bb872cf9461eb34e7",
            "27b08341915f44a2b6242ce192971916",
            "3953f7023694488e898e20799aea716f",
            "146950167487435c8603effe3264084d",
            "a739cd19ac144850ae315dc95702cca5",
            "17e7f3c5fc6c46b596b06b49d9737d2c",
            "21556c509c974dcfa71a222db30e625d",
            "4644aca8d0df405fa36bad8623c98331",
            "d30ef4701995408a91e4e032cf8f6902",
            "08b9e845a17c489891119e945c3eeeb0",
            "51b934a729a84fbab7d19e7cde0e057e",
            "52eb1033c457425ba605458729ccfd27",
            "ef6e431aeb3d4b06b38b568f822804a2",
            "3f0f8d8ae25e47cea976964f527cb443",
            "a4c42f302a8b4f6c907e7e1d35e2ffc0",
            "f6a752060a8b44bd8e396e1a133aee60",
            "fa0181dbd85049af9ad972f43e133207",
            "b84e4f96ff544006a6f4b6ec98ee9b7c",
            "2405ae52a4f1423ead2e84ec39b53a04",
            "3b1ef49a26b84818897f620634880ea3",
            "d3b903bd1f974928ac38bb8feefe0c58",
            "9d223e2968294ca7bfed65e4a383c98a",
            "b108167f11394b588ada95557f56515d",
            "91c76fed75944cabaf2d4a9ba0716bec",
            "92adff18cdc6413caa677d4ec25544cf",
            "3449c8ead2d146e8978b64bc691b7e36",
            "6dae219ef6794d559d5b0aa79b920333",
            "b7deca97ae86473cbd3285b570dd25a3",
            "8dc0bbe4c05940d8bf4f97676fe92f97",
            "7834402546c7494885118005672b886e",
            "f7068578ce8d4bf4add4eb16c458a76b",
            "93dcd283d94948feb1732494b09b5283",
            "189e7ba4f28945f38192c143a862be23",
            "265b17882b594fa9b3f7f7e1ad7726b4",
            "007d7e9453a647d789ea789dc1341b82"
          ]
        },
        "id": "Mwauxp_ReDnU",
        "outputId": "101ebcf9-bd0a-477c-edc9-95e4c421f393"
      },
      "execution_count": 13,
      "outputs": [
        {
          "output_type": "stream",
          "name": "stderr",
          "text": [
            "/usr/local/lib/python3.11/dist-packages/huggingface_hub/utils/_token.py:89: UserWarning: \n",
            "The secret `HF_TOKEN` does not exist in your Colab secrets.\n",
            "To authenticate with the Hugging Face Hub, create a token in your settings tab (https://huggingface.co/settings/tokens), set it as secret in your Google Colab and restart your session.\n",
            "You will be able to reuse this secret in all of your notebooks.\n",
            "Please note that authentication is recommended but still optional to access public models or datasets.\n",
            "  warnings.warn(\n"
          ]
        },
        {
          "output_type": "display_data",
          "data": {
            "text/plain": [
              "modules.json:   0%|          | 0.00/385 [00:00<?, ?B/s]"
            ],
            "application/vnd.jupyter.widget-view+json": {
              "version_major": 2,
              "version_minor": 0,
              "model_id": "78980feb7b894585ac1dd73bae1b75d1"
            }
          },
          "metadata": {}
        },
        {
          "output_type": "display_data",
          "data": {
            "text/plain": [
              "README.md: 0.00B [00:00, ?B/s]"
            ],
            "application/vnd.jupyter.widget-view+json": {
              "version_major": 2,
              "version_minor": 0,
              "model_id": "437936e9819642dd831f0906b030e841"
            }
          },
          "metadata": {}
        },
        {
          "output_type": "display_data",
          "data": {
            "text/plain": [
              "sentence_bert_config.json:   0%|          | 0.00/57.0 [00:00<?, ?B/s]"
            ],
            "application/vnd.jupyter.widget-view+json": {
              "version_major": 2,
              "version_minor": 0,
              "model_id": "9301e36dc6224d9a9ec8e7d81ffade50"
            }
          },
          "metadata": {}
        },
        {
          "output_type": "display_data",
          "data": {
            "text/plain": [
              "config.json:   0%|          | 0.00/619 [00:00<?, ?B/s]"
            ],
            "application/vnd.jupyter.widget-view+json": {
              "version_major": 2,
              "version_minor": 0,
              "model_id": "7dcd932fe1174ca7a84d64e56c9b897e"
            }
          },
          "metadata": {}
        },
        {
          "output_type": "display_data",
          "data": {
            "text/plain": [
              "model.safetensors:   0%|          | 0.00/670M [00:00<?, ?B/s]"
            ],
            "application/vnd.jupyter.widget-view+json": {
              "version_major": 2,
              "version_minor": 0,
              "model_id": "1e93756befa14040b2ac8be58754dfb7"
            }
          },
          "metadata": {}
        },
        {
          "output_type": "display_data",
          "data": {
            "text/plain": [
              "tokenizer_config.json:   0%|          | 0.00/342 [00:00<?, ?B/s]"
            ],
            "application/vnd.jupyter.widget-view+json": {
              "version_major": 2,
              "version_minor": 0,
              "model_id": "aac68935a0b142449526ad6062b848fe"
            }
          },
          "metadata": {}
        },
        {
          "output_type": "display_data",
          "data": {
            "text/plain": [
              "vocab.txt: 0.00B [00:00, ?B/s]"
            ],
            "application/vnd.jupyter.widget-view+json": {
              "version_major": 2,
              "version_minor": 0,
              "model_id": "b4ab3416628147b98d21b6cf0e7bc056"
            }
          },
          "metadata": {}
        },
        {
          "output_type": "display_data",
          "data": {
            "text/plain": [
              "tokenizer.json: 0.00B [00:00, ?B/s]"
            ],
            "application/vnd.jupyter.widget-view+json": {
              "version_major": 2,
              "version_minor": 0,
              "model_id": "3953f7023694488e898e20799aea716f"
            }
          },
          "metadata": {}
        },
        {
          "output_type": "display_data",
          "data": {
            "text/plain": [
              "special_tokens_map.json:   0%|          | 0.00/125 [00:00<?, ?B/s]"
            ],
            "application/vnd.jupyter.widget-view+json": {
              "version_major": 2,
              "version_minor": 0,
              "model_id": "3f0f8d8ae25e47cea976964f527cb443"
            }
          },
          "metadata": {}
        },
        {
          "output_type": "display_data",
          "data": {
            "text/plain": [
              "config.json:   0%|          | 0.00/191 [00:00<?, ?B/s]"
            ],
            "application/vnd.jupyter.widget-view+json": {
              "version_major": 2,
              "version_minor": 0,
              "model_id": "92adff18cdc6413caa677d4ec25544cf"
            }
          },
          "metadata": {}
        }
      ]
    },
    {
      "cell_type": "code",
      "source": [
        "embedding_1 = embedding_model.embed_query(document_chunks[0].page_content)\n",
        "embedding_2 = embedding_model.embed_query(document_chunks[1].page_content)"
      ],
      "metadata": {
        "id": "UG7fbgNjFKbZ"
      },
      "execution_count": 16,
      "outputs": []
    },
    {
      "cell_type": "code",
      "source": [
        "print(\"Dimensions of the embedding vector\", len(embedding_1))\n",
        "print(\"Dimensions of the embedding vector\", len(embedding_2))\n",
        "\n",
        "print(\"Embedding vector\",embedding_1)\n",
        "print(\"Embedding vector\",embedding_2)"
      ],
      "metadata": {
        "colab": {
          "base_uri": "https://localhost:8080/"
        },
        "id": "ZopE0JxHFi56",
        "outputId": "aa445651-29f2-4016-8ea8-63405dbba62f"
      },
      "execution_count": 17,
      "outputs": [
        {
          "output_type": "stream",
          "name": "stdout",
          "text": [
            "Dimensions of the embedding vector 1024\n",
            "Dimensions of the embedding vector 1024\n",
            "Embedding vector [-0.007790964096784592, -0.0288176741451025, -0.027877110987901688, -0.02246643416583538, 0.022144237533211708, -0.006249097175896168, 0.008647195994853973, 0.016467047855257988, 0.018209118396043777, 0.053493041545152664, 0.013901167549192905, -0.00016959481581579894, 0.007971166633069515, -0.028715034946799278, 0.01758621260523796, -0.00955386646091938, -0.011853267438709736, -0.010937211103737354, 0.010688173584640026, 0.006078250240534544, 0.01815146952867508, 0.008558928966522217, -0.059489812701940536, -0.023468146100640297, -0.05630359798669815, 0.06647870689630508, 0.026126118376851082, 0.010339600034058094, 0.09469927102327347, 0.060104191303253174, -0.030409671366214752, -0.04133659973740578, 0.018987996503710747, -0.0794404149055481, -0.017287464812397957, -0.05677452310919762, 0.04051440581679344, -0.03622545301914215, -0.04527204483747482, -0.028730036690831184, -0.0002669151872396469, -0.022881001234054565, 0.031096534803509712, -0.031759995967149734, -0.044691652059555054, 0.004193033557385206, 0.00779648358002305, -0.047390323132276535, 0.018355008214712143, -0.05658811703324318, 0.010980268009006977, -0.0056526269763708115, -0.01262866985052824, 0.024388723075389862, 0.03816215321421623, -0.005674845539033413, 0.03546811640262604, 0.003756855847314, -0.005723650101572275, 0.03945857286453247, 0.03934377804398537, -0.00021109699446242303, 0.02819039858877659, -0.04790826514363289, 0.026284916326403618, 0.012105235829949379, 0.001389901153743267, -0.026750100776553154, -0.018483564257621765, -0.04037819430232048, -0.01792553998529911, 0.013302170671522617, 0.01837090589106083, -0.03483550623059273, 0.0023835578467696905, -0.01702415943145752, 0.005632253363728523, -0.02225915528833866, -0.007638673763722181, -0.022336238995194435, 0.040111687034368515, 0.0703377053141594, -0.011179760098457336, 0.0454462394118309, -0.04475647583603859, -0.008066712878644466, -0.009505427442491055, -0.019266143441200256, -0.016056450083851814, 0.001798765268176794, 0.020199136808514595, 0.06874877214431763, 0.0001615752262296155, -0.0011714593274518847, 0.020066579803824425, 0.041902218014001846, -0.03645288199186325, 0.008908212184906006, 0.004414613824337721, 0.018918927758932114, 0.037454307079315186, 0.03389330208301544, 0.0016579971415922046, 0.03109831176698208, -0.05913204327225685, 0.012134374119341373, 0.00931454822421074, 0.009343721903860569, 0.023664752021431923, -0.03506592661142349, 0.02311553992331028, 0.00211516791023314, 0.010343699716031551, 0.004496408626437187, -0.012501802295446396, 0.027836089953780174, 0.021700413897633553, 0.023193595930933952, -0.03731156513094902, 0.03327472135424614, 0.012102543376386166, 0.002419260796159506, 0.026587121188640594, -0.01814591884613037, 0.006761073134839535, -0.00477412436157465, -0.0005083294818177819, 0.07106434553861618, -0.03257353603839874, 0.0003193122975062579, 0.012042425572872162, -0.032601453363895416, -0.007024130318313837, 0.022750284522771835, 0.008958022110164165, 0.03437722474336624, -0.013280490413308144, 0.044764261692762375, 0.04738464951515198, -0.04618556797504425, 0.05296250432729721, 0.031030593439936638, 0.011251186951994896, 0.07765626907348633, -0.013507332652807236, 0.010094484314322472, -0.012382839806377888, -0.019070472568273544, -0.01827216148376465, 0.008055848069489002, -0.0006942167528904974, 0.021291546523571014, 0.008655179291963577, 0.031786832958459854, -0.02900967001914978, 0.01619795151054859, -0.02026101015508175, 0.016918297857046127, 0.04510938748717308, 0.057074133306741714, -0.02864854224026203, 0.028916284441947937, 0.016198111698031425, 0.054581474512815475, -0.026038553565740585, 0.055064406245946884, -0.023074829950928688, -0.023056982085108757, -0.028009632602334023, -0.011935614049434662, 0.028383497148752213, 0.0001349111698800698, -0.03809382766485214, -0.0035173180513083935, 0.03788788244128227, 0.06294764578342438, 0.042613375931978226, 0.01685810461640358, 0.03119823709130287, 0.025302043184638023, -0.0009260789956897497, 0.006804457399994135, 0.005450758151710033, 0.048576708883047104, -0.001588071696460247, 0.020416466519236565, -0.011761432513594627, -0.006490425206720829, -0.025265555828809738, -0.029707778245210648, -0.022084476426243782, 0.051353927701711655, -0.03396362066268921, 0.027775252237915993, 0.004502026829868555, -0.003992409445345402, 0.009167466312646866, 0.0017284168861806393, -0.007167996373027563, -0.06490939855575562, -0.04345407336950302, 0.01895572431385517, -0.040961842983961105, 0.007188605144619942, -0.006032079923897982, -0.02668306790292263, 0.0025173937901854515, 0.055527012795209885, -0.061728328466415405, -0.007894684560596943, 0.05826837942004204, 0.005006690043956041, -0.028307514265179634, 0.009736984968185425, -0.004110289271920919, -0.030289843678474426, -0.012046187184751034, 0.0017335317097604275, 0.008298135362565517, -0.002989239292219281, 0.012915133498609066, 0.002013295656070113, 0.053366582840681076, 0.027354929596185684, -0.024595504626631737, 0.011733628809452057, 0.03400722146034241, 0.05750822648406029, -0.05039559677243233, -0.0207001231610775, 0.003736684564501047, 0.04993383586406708, 0.02140851318836212, 0.06211471185088158, 0.0547221377491951, 0.019614918157458305, 0.04470084607601166, 0.042369745671749115, -0.00483612809330225, -0.01748092845082283, 0.043728120625019073, -0.0068342718295753, 0.021110057830810547, 0.008633260615170002, -0.0224594809114933, 0.01939455233514309, -0.004308236762881279, 0.01901870407164097, -0.0012658457271754742, 0.04884294047951698, -0.006421984639018774, 0.03359239175915718, 0.04740355908870697, 0.0333685539662838, -0.019127491861581802, 0.002844342030584812, 0.01904650405049324, 0.04616409167647362, -0.02682727947831154, -0.009472133591771126, -0.015276235528290272, -0.0029776250012218952, -0.014953028410673141, 0.010414058342576027, -0.007102283649146557, 0.0015936470590531826, -0.003012373112142086, 0.03767092153429985, -0.011630742810666561, -0.02977926842868328, -0.051253240555524826, -0.04746251180768013, -0.05241663381457329, -0.01803334802389145, -0.05897463858127594, 0.03775278478860855, -0.005160000175237656, -0.03988344967365265, 0.015785163268446922, -0.006445968057960272, -0.006286634132266045, 0.0038558554369956255, 0.020841486752033234, 0.022990724071860313, 0.021555209532380104, 0.03471910580992699, -0.024621399119496346, 0.025924189016222954, -0.025048861280083656, 0.05576859042048454, -0.017965395003557205, 0.022818082943558693, -0.022824745625257492, -0.02991314046084881, 0.026980772614479065, 0.0009394086082465947, 0.01323199924081564, 0.015169267542660236, -0.053326644003391266, -0.06333599984645844, -0.017394602298736572, 0.025098348036408424, -0.00885979924350977, 0.0019542148802429438, -0.03925124555826187, 0.059576183557510376, -0.0032574040815234184, -0.04988788813352585, 0.058576323091983795, 0.019074367359280586, -0.054842330515384674, 0.03944628685712814, 0.016841184347867966, 0.008440995588898659, -0.056007057428359985, 0.039070699363946915, 0.020657584071159363, 0.0132300341501832, -0.025039171800017357, -0.015793327242136, -0.04571400582790375, -0.031339652836322784, 0.0360579639673233, -0.028336305171251297, -0.0382254384458065, 0.031297218054533005, 0.024913407862186432, -0.08245423436164856, 0.041822921484708786, -0.04291073605418205, -0.0296401996165514, -0.03426656499505043, -0.03563506901264191, 0.049505505710840225, 0.017594803124666214, 0.004333151038736105, 0.01585223898291588, -0.023563837632536888, 0.012970450334250927, 0.06045536324381828, 0.009062177501618862, -0.01959674246609211, 0.013137276284396648, 0.029323764145374298, -0.008128390647470951, 0.03635667264461517, 0.03451365977525711, -0.029900791123509407, 0.01912744529545307, -0.011450729332864285, 0.016852010041475296, 0.006100841332226992, 0.025087645277380943, 0.006875438150018454, 0.04509812220931053, 0.0325390100479126, -0.06517215818166733, -0.007746470160782337, -0.018268432468175888, -0.012776064686477184, -0.01113117765635252, 0.010224065743386745, 0.012900184839963913, 0.009342281147837639, -0.05555979162454605, -0.04407689720392227, 0.00020892776956316084, 0.02728063240647316, 0.051327966153621674, -0.06054956465959549, 0.02499161660671234, 0.0019519519992172718, -0.0609302781522274, 0.059126488864421844, -0.07272762805223465, -0.01424806285649538, 0.06958480179309845, 0.016959521919488907, 0.04803051799535751, -0.05550309643149376, 0.0015918724238872528, -0.019765010103583336, 0.007614363916218281, 0.031771592795848846, 0.005235952790826559, 0.03141225501894951, -0.04935610294342041, 0.016522571444511414, -0.021750878542661667, -0.015315799042582512, 0.01417613122612238, -0.050220850855112076, 0.005926844198256731, -0.0029714303091168404, -0.05930493399500847, -0.03744513913989067, 0.028844179585576057, 0.03469686582684517, 0.030733183026313782, -0.01384195126593113, 0.06750653684139252, 0.014390246942639351, 0.03227886185050011, 0.019757110625505447, -0.011809315532445908, -0.0012791154440492392, -0.023860694840550423, 0.05387502536177635, 0.02192765660583973, -0.01291437353938818, -0.01796935684978962, -0.007027361076325178, -0.008130759000778198, 0.04996415972709656, -0.01882500946521759, -0.011575870215892792, -0.02879689261317253, -0.009010838344693184, 0.0283938217908144, 0.04114779457449913, -0.05839039757847786, -0.005205769557505846, -0.030325502157211304, 0.03295981511473656, 0.04368217661976814, -0.039672914892435074, -0.014434410259127617, -0.050090543925762177, 0.03862776234745979, 0.046950194984674454, -0.023574229329824448, -0.05873848870396614, -0.00991032924503088, -0.030879445374011993, -0.0075566889718174934, 0.00648889783769846, 0.030507050454616547, -0.0049935514107346535, 0.011082793585956097, -0.0340251550078392, 0.023581329733133316, 0.020940208807587624, 0.011161377653479576, 0.020781373605132103, 0.0032252403907477856, 0.03280176594853401, 0.029956402257084846, 0.02602124586701393, -0.03149314969778061, -0.0034039271995425224, 0.03123071976006031, -0.06107205152511597, -0.007740515284240246, 0.011185780167579651, -0.03184143826365471, -0.016777077689766884, 0.029552670195698738, 0.03629566729068756, 0.011563657782971859, 0.0036102021113038063, 0.016774820163846016, 0.00952561292797327, 0.04709632694721222, -0.045781396329402924, -0.03988313302397728, 0.0696684718132019, -0.0005088039906695485, -0.020148679614067078, 0.020345477387309074, 0.05696197226643562, 0.002637644996866584, -0.02015972137451172, 0.019108813256025314, -0.034992314875125885, 0.049399059265851974, -0.040862198919057846, 0.03532979637384415, -0.021374603733420372, -0.04462546110153198, -0.009443663991987705, -0.029057761654257774, 0.036776233464479446, 0.015265562571585178, 0.023055095225572586, -0.04443559795618057, -0.024004127830266953, -0.01850394904613495, -0.003345736302435398, -0.0021182349883019924, 0.03742244094610214, -0.00481844088062644, 0.0013024421641603112, -0.008710366673767567, -0.005779210478067398, 0.003959036432206631, 0.0013443826464936137, -0.024907240644097328, -0.019297076389193535, 0.00536197517067194, -0.02161656692624092, 0.015806857496500015, -0.028361011296510696, -0.036299727857112885, -0.0041368138045072556, 0.011363974772393703, -0.03617100417613983, -0.008297388441860676, -0.0025777893606573343, -0.012101083993911743, -0.0030157624278217554, -0.0321056954562664, -0.0134566156193614, -0.002952076029032469, 0.03981693461537361, 0.030702175572514534, -0.011447249911725521, 0.0011377327609807253, 0.03775738552212715, -0.05102646350860596, 0.06920153647661209, 0.010185075923800468, -0.04966859519481659, -0.04259493947029114, 0.038799531757831573, -0.042637310922145844, 0.029882684350013733, -0.006246666423976421, -0.03161374852061272, -0.059866294264793396, -0.061103660613298416, 0.02201336994767189, -0.030545968562364578, -0.019474592059850693, -0.04854202643036842, 0.004003015346825123, -0.020541341975331306, 0.044377006590366364, -0.01895270310342312, 0.00014560158888343722, 0.0136489262804389, -0.020389661192893982, -0.021665474399924278, -0.04208587855100632, -0.01085385400801897, 0.021570736542344093, -0.007020462770015001, -0.02354677952826023, 0.05561918765306473, 0.010947215370833874, -0.011683745309710503, 0.02136506512761116, -0.010132979601621628, 0.013419322669506073, -0.04057261720299721, -0.06028928607702255, -0.017297061160206795, -0.0271560437977314, 0.02941231057047844, -0.008173285983502865, -0.005933415610343218, -0.024890055879950523, 0.07870903611183167, -0.03865986317396164, 0.008808769285678864, 0.0025498855393379927, 0.010354194790124893, -0.0533001683652401, -0.0036855631042271852, 0.08178318291902542, -0.04400964826345444, 0.0022257782984524965, -0.015142074786126614, 0.04880951717495918, 0.04588903486728668, -0.014098551124334335, -0.05725705251097679, -0.0093896659091115, -0.025058336555957794, -0.03920362517237663, 0.008471130393445492, -0.038925085216760635, -0.008047321811318398, -0.03619411215186119, -0.02269867993891239, 0.04590558260679245, -0.030171548947691917, 0.04733892157673836, 0.056530293077230453, 0.004304584581404924, -0.014619497582316399, -0.018337883055210114, 0.03811933100223541, 0.023429494351148605, -0.019283700734376907, 0.019833682104945183, -0.030563034117221832, -0.01678922027349472, -0.028501566499471664, -0.015630770474672318, -0.03368748724460602, -0.018095726147294044, -0.029478522017598152, 0.06455212831497192, -0.029363706707954407, 0.02292775921523571, -0.008455063216388226, -0.03561030328273773, -0.022680236026644707, 0.04895082861185074, -0.0366908423602581, 0.011062370613217354, 0.03465230390429497, 0.013118511997163296, -0.028607996180653572, -0.000882255844771862, -0.01875315047800541, -0.013024690560996532, -0.039732374250888824, 0.0685451328754425, 0.01750662364065647, -0.05446818470954895, 0.013633043505251408, 0.0643240436911583, -0.05629697069525719, -0.028918322175741196, 0.01744455099105835, 0.02359042502939701, 0.02580270543694496, -0.020631225779652596, 0.021555526182055473, 0.010402376763522625, -0.01153331995010376, 0.030917322263121605, 0.052906498312950134, -0.004069211892783642, 0.0581958144903183, 0.005637120921164751, 0.03443210944533348, -0.03380018472671509, 0.010963006876409054, 0.020862238481640816, -0.00639639887958765, -0.031971197575330734, -0.04770132899284363, 0.013574067503213882, -0.008487053215503693, -0.0478706881403923, 0.057331763207912445, -0.00770119484513998, -0.015501510351896286, 0.04208323732018471, -0.016510626301169395, 0.03127400204539299, -0.015286059118807316, -0.02367408014833927, -0.0017221944872289896, -0.016167132183909416, -0.06157820671796799, -0.03319665789604187, 0.03823684900999069, -0.011654599569737911, 0.02918991446495056, -0.05329829081892967, 0.002096152398735285, 0.0307109747081995, -0.0007936217007227242, -0.0036557000130414963, -0.029645737260580063, -0.030717896297574043, -0.04663419350981712, -0.03769940510392189, -0.01032211072742939, -0.02038099430501461, -0.0024491448421031237, -0.018086135387420654, 0.03150336816906929, -0.034153737127780914, -0.013373016379773617, -0.010302307084202766, -0.028013715520501137, -0.003919086419045925, -0.03828704357147217, 0.03134608268737793, -0.04402796924114227, -0.028097709640860558, -0.044516101479530334, -0.004172173794358969, -0.038958773016929626, 0.00805420521646738, -0.02394804172217846, -0.005397491622716188, 0.016915354877710342, 0.037282686680555344, 0.0026517841033637524, 0.0074029345996677876, -0.02920965850353241, -0.027700206264853477, -0.0055762422271072865, 0.02313896454870701, -0.012674229219555855, 0.03904614970088005, 0.02080518752336502, -0.007310242857784033, 0.03142515942454338, -0.011430729180574417, 0.0009436522959731519, -0.043275874108076096, 0.004628059454262257, -0.014028436504304409, -0.015007667243480682, -0.023177698254585266, -0.024473274126648903, -0.01923666149377823, -0.04189850389957428, 0.03479088470339775, 0.015807662159204483, 0.007824343629181385, 0.00924520380795002, -0.019715305417776108, -0.011247198097407818, 0.05872422456741333, 0.0003798898833338171, 0.02196785993874073, 0.02798309735953808, 0.012529227882623672, 0.03542093560099602, -0.02707001008093357, 0.003758602775633335, 0.02004009485244751, -0.007689786143600941, -0.030521273612976074, -0.04038234427571297, 0.027042459696531296, -0.0018351655453443527, 0.005327194929122925, -0.03644363209605217, -0.04210031405091286, -0.05779841169714928, -0.010217525064945221, -0.013990585692226887, 0.04155614599585533, 0.00652929674834013, 0.006700129248201847, 0.011004636064171791, -0.034534767270088196, -0.025999873876571655, -0.00919745396822691, -0.05374820902943611, -0.03301742672920227, 0.0498046800494194, -0.022981733083724976, 0.0030905487947165966, 0.019206974655389786, -0.015416685491800308, -0.00671812379732728, 0.007235931232571602, -0.010046715848147869, -0.01747894287109375, 0.029035119339823723, 0.007065577898174524, 0.0346083827316761, -0.00664704293012619, -0.023183073848485947, -0.001194868586026132, 0.04268379881978035, -0.029565731063485146, -0.02680071070790291, 0.016120944172143936, 0.027275439351797104, 0.0074727414175868034, -0.005753045901656151, -0.012399011291563511, 0.020977145060896873, 0.02772185206413269, -0.005857805721461773, -0.020638495683670044, 0.012414715252816677, 0.01466013491153717, 0.02363133803009987, 0.026745600625872612, 0.017342517152428627, -0.028475021943449974, 0.038204923272132874, 0.029270553961396217, -0.035655342042446136, -0.0191639494150877, 0.04453709349036217, 0.02914918214082718, -0.044022493064403534, 0.02624405547976494, 0.006934182718396187, 0.035845328122377396, -0.00921659730374813, 0.02571914903819561, -0.006815134081989527, 0.03924538567662239, 0.009836510755121708, 0.029246391728520393, -0.012177589349448681, 0.01593683660030365, 0.05892927199602127, -0.023345712572336197, 0.01682751253247261, 0.007710854988545179, -0.006422147620469332, -0.041791047900915146, -0.008831738494336605, -0.034131817519664764, 0.036219216883182526, 0.015504985116422176, -0.007959701120853424, 0.004764993209391832, -0.030100902542471886, -0.0025434319395571947, -0.03380490466952324, 0.008261454291641712, 0.04351790249347687, -0.06385891139507294, -0.03932693973183632, 0.00761366356164217, -0.03461164981126785, -0.017118025571107864, 0.04378528892993927, 0.027660153806209564, 0.008004220202565193, -0.0014737447490915656, 0.03382500261068344, -0.021254679188132286, 0.04572053253650665, 0.038848672062158585, -0.00688497768715024, -0.028230175375938416, -0.0035776225849986076, -0.0025168508291244507, -0.013432666659355164, -0.0007003038772381842, -4.9065047278418206e-06, -0.0029946432914584875, 0.05739692971110344, -0.01816440187394619, -0.02046595886349678, 0.0634378120303154, -0.04882665351033211, -0.009425338357686996, -0.06799165904521942, 0.03167584165930748, -0.06351757049560547, -0.02243860624730587, 0.02464304119348526, -0.017357131466269493, -0.03813415765762329, 0.050926174968481064, -0.02599661611020565, 0.02446025237441063, 0.02960638329386711, 0.04167356714606285, -0.004836642183363438, 0.04391736164689064, 0.05166783556342125, -0.03357495367527008, -0.02511627785861492, 0.007745249662548304, -0.006395977921783924, -0.02234904281795025, -0.01499373558908701, -0.039938587695360184, -0.02422785386443138, -0.005986621603369713, 0.0028666025027632713, 0.007122422102838755, 0.03696822747588158, 0.009060520678758621, -0.025223521515727043, -0.010320155881345272, 0.04767289757728577, -0.03176216036081314, 0.010347011499106884, -0.0017264597117900848, 0.020329993218183517, -0.009377637878060341, -0.01126922108232975, 0.016482049599289894, -0.021069835871458054, -0.019241508096456528, -0.05539968982338905, 0.060973793268203735, -0.01510560978204012, -0.012919291853904724, -0.02532915212213993, -0.08310048282146454, -0.017121531069278717, 0.010931035503745079, -0.03635343536734581, -0.033055175095796585, 0.02982752025127411, 0.010923370718955994, 0.015215092338621616, -0.018122943118214607, -0.016738375648856163, 0.019999969750642776, 0.015154154039919376, 0.09013837575912476, 0.01167860347777605, 0.05339600518345833, 0.0499299056828022, 0.006308581214398146, 0.008168177679181099, -0.019638067111372948, 0.02954142540693283, -0.026773853227496147, 0.008640792220830917, -0.015588752925395966, 0.0034625858534127474, -0.0024592443369328976, -0.09044933319091797, 0.006175708491355181, 0.011497363448143005, 0.006996328942477703, -0.015047204680740833, -0.06432611495256424, 0.0069238729774951935, -0.04562271758913994, 0.0055416179820895195, -0.052471090108156204, -0.011205759830772877, -0.008602382615208626, 0.01531598623842001, 0.007909245789051056, -0.05286762863397598, 0.14503151178359985, 0.05882878974080086, 0.02779015153646469, 0.0449642688035965, 0.021909087896347046, 0.03582596406340599, 0.03402204066514969, -0.02506377547979355, 0.015771955251693726, -0.0440405011177063, 0.005154151935130358, -0.04119957983493805, 0.013604518957436085, 0.022763721644878387, 0.024934984743595123, 0.05176210403442383, -0.057351067662239075, 0.004385170992463827, -0.010892732068896294, -0.02786608226597309, -0.06916451454162598, 0.01551290974020958, -0.006004972383379936, 0.0070936414413154125, -0.032558731734752655, 0.04178052395582199, 0.03304481878876686, -0.012964347377419472, -0.027395004406571388, -0.01702496036887169, 0.01363049540668726, -0.050579983741045, 0.03079007938504219, -0.013469710014760494, -0.02161390893161297, 0.054395392537117004, 0.018830250948667526, -0.01420212909579277, -3.463731627562083e-05, 0.03581182658672333, -0.018770212307572365, -0.0080253342166543, 0.02659481205046177, -0.04324971139431, -0.00014817033661529422, 0.054086457937955856, -0.030117742717266083, 0.0057609910145401955, 0.007475866004824638, -0.0368170402944088, 0.06867898255586624, -0.04864721745252609, 0.0069801704958081245, 0.026304129511117935, -0.02192387543618679, 0.030198359861969948, 0.023623453453183174, -0.04587927460670471, -0.012791563756763935, -0.014720010571181774, 0.033760227262973785, -0.03470241278409958, -0.014739474281668663, -0.008785691112279892, -0.02950688824057579, -0.014474659226834774, 0.03826701268553734, 0.027867091819643974, 0.020269721746444702, -0.01294794213026762, -0.01245915424078703, 0.01576688326895237, -0.009103762917220592, -0.01634155958890915, 0.05143880099058151, 0.022708788514137268, -0.024878183379769325, 0.04166821762919426, -0.02069276012480259, -0.047794368118047714, -0.01638365350663662, -0.037897784262895584, -0.013090492226183414, -0.02637837454676628, 0.023162398487329483, 0.012230479158461094, -0.04856308177113533, -0.047327395528554916, -0.044408008456230164, 0.039186105132102966, 0.05201376974582672, -0.018154742196202278, -0.031096933409571648, 0.0038803466595709324, -0.0003721035609487444]\n",
            "Embedding vector [-0.008491194806993008, -0.010614107362926006, -0.0038855874445289373, 0.005622991360723972, 0.0009092110558412969, -0.024581730365753174, -0.0037148776464164257, 0.009767480194568634, 0.010138697922229767, 0.058320872485637665, 0.015504078939557076, 0.011453131213784218, -0.0015469265636056662, -0.02435365319252014, 0.024560438469052315, -0.011533595621585846, -0.024241669103503227, -0.03346140682697296, 0.01084201317280531, -0.008066011592745781, 0.006819781381636858, 0.01026026252657175, -0.06488431245088577, -0.040745243430137634, -0.03494834527373314, 0.040379948914051056, 0.016366809606552124, 0.0023179289419203997, 0.10353552550077438, 0.06061103940010071, -0.03905188664793968, -0.026012474671006203, 0.028908660635352135, -0.046270109713077545, -0.013943902216851711, -0.025474734604358673, 0.05122731253504753, -0.024727577343583107, -0.027632957324385643, -0.023929955437779427, 0.015866946429014206, -0.0019200242822989821, 0.043868307024240494, -0.023429054766893387, -0.024791650474071503, -0.01703999564051628, -0.00518649211153388, -0.030407167971134186, -0.00016404969210270792, -0.052432749420404434, 0.0035965978167951107, -0.0062429397366940975, 0.004838415887206793, 0.01075782161206007, 0.03213930130004883, 0.02759615145623684, -0.002458171918988228, -0.018718799576163292, -0.009548799134790897, 0.04468955472111702, 0.02258310839533806, 0.011941428296267986, 0.04446686431765556, -0.05677422136068344, 0.034167803823947906, 0.02420559711754322, 0.0034868044313043356, -0.034362487494945526, -0.0008842179086059332, -0.012024374678730965, -0.022965041920542717, -0.0018219085177406669, -0.019018109887838364, -0.025432253256440163, 0.016525663435459137, -0.03656567260622978, -0.021044377237558365, -0.011714290827512741, 0.0051866997964680195, 0.01113509014248848, 0.004770394880324602, 0.027546284720301628, -0.008879597298800945, 0.02351716347038746, -0.04269661009311676, -0.016540568321943283, 0.03287626802921295, -0.017702102661132812, 0.010747229680418968, -0.008500361815094948, 0.011283070780336857, 0.05834885686635971, -0.00791905913501978, -0.006594034843146801, 0.01853012666106224, 0.04608196020126343, -0.04651806131005287, 0.01484325435012579, 0.0001519572688266635, 0.0007712810765951872, 0.05522940307855606, 0.012376704253256321, 0.0037564013618975878, 0.06845353543758392, -0.06041684374213219, -0.01711786538362503, 0.04235747456550598, -0.03255562484264374, -0.008058090694248676, -0.047241516411304474, -0.014210070483386517, -0.021641483530402184, 0.008656482212245464, 0.004609173163771629, -0.009318271651864052, 0.0006836404791101813, 0.01851910725235939, 0.0412607379257679, -0.033132947981357574, 0.01715133897960186, 0.016330497339367867, 0.03208053857088089, 0.010848592966794968, -0.006271452642977238, 0.016483599320054054, -0.03620195388793945, -0.006856679916381836, 0.05481202155351639, -0.0505363903939724, -0.010899942368268967, 0.007088750135153532, -0.037427157163619995, -0.0011871692258864641, 0.05672761797904968, -0.018838217481970787, 0.007273118942975998, 0.013651682063937187, 0.04425770789384842, 0.030942432582378387, -0.051701560616493225, 0.040747277438640594, 0.023363223299384117, -0.006310636177659035, 0.09579002857208252, -0.0013604616979137063, 0.033073607832193375, -0.015198559500277042, -0.004952669143676758, -0.044087715446949005, 0.0268552266061306, -0.002312585012987256, 0.05477648228406906, -0.014231570065021515, 0.019118163734674454, -0.025453578680753708, 0.020382942631840706, -0.017878960818052292, 0.007077156100422144, 0.011417517438530922, 0.05946243554353714, -0.006869937293231487, 0.04992048814892769, -0.0009670198778621852, 0.045059457421302795, -0.02764439396560192, 0.06624934822320938, -0.03350500389933586, -0.011405742727220058, -0.015460016205906868, -0.02659115195274353, 0.0086343539878726, -0.007489610463380814, -0.039380867034196854, 0.0015019859420135617, 0.0328642763197422, 0.04458807781338692, 0.04477964714169502, 0.004242125432938337, 0.04333624243736267, 0.032843951135873795, -0.030697813257575035, 0.026359273120760918, 0.02058211900293827, 0.07885357737541199, -0.027784621343016624, 0.002977177035063505, 0.005492383148521185, -0.013250540941953659, -0.02492247335612774, -0.04778888821601868, -0.030610250309109688, 0.04839450120925903, -0.03967421129345894, 0.0273283664137125, -0.00027307283016853034, -0.007917897775769234, -0.037817128002643585, -0.008650177158415318, -0.0017498134402558208, -0.05912129208445549, -0.03244948387145996, 0.02012457512319088, -0.04665340110659599, 0.03197470307350159, -0.033167578279972076, -0.018469899892807007, 0.04495220631361008, 0.05862133577466011, -0.06198519095778465, 0.009781992994248867, 0.03817589953541756, 0.004865371156483889, -0.028200948610901833, -0.008395213633775711, 0.015216290019452572, -0.0180942602455616, -0.017344029620289803, 0.047647006809711456, 0.007371322717517614, 0.006846700329333544, 0.018595252186059952, -0.017138611525297165, 0.042188867926597595, 0.013690894469618797, -0.013132982887327671, 0.013141858391463757, 0.04470966011285782, 0.0345977321267128, -0.03642316162586212, 0.013719389215111732, -0.03373182192444801, 0.040311675518751144, 0.006525196600705385, 0.05406224727630615, 0.02151619642972946, 0.007836065255105495, 0.04386324808001518, 0.034937046468257904, 0.013343379832804203, 0.017431894317269325, 0.03437967598438263, 0.00577643234282732, 0.03608938679099083, 0.019727682694792747, -0.004725201521068811, 0.03058716468513012, -0.0002447325095999986, 0.00031991672585718334, 0.011860703118145466, 0.03825308382511139, -0.0158658679574728, 0.03620694577693939, 0.044910021126270294, 0.021575700491666794, -0.04390130192041397, -0.005089765880256891, 0.02778450958430767, 0.05793668329715729, -0.01848212443292141, -0.00616012467071414, -0.01973024569451809, 0.03880630433559418, -0.00984400138258934, 0.01608722098171711, 0.007170380558818579, 0.005355816334486008, -0.003779386868700385, 0.04746684804558754, 0.016034068539738655, -0.02788950316607952, -0.06479837000370026, -0.036036837846040726, -0.06840526312589645, -0.03849290683865547, -0.04796430841088295, 0.02586515061557293, 0.03366445377469063, -0.03282099962234497, 0.030083101242780685, -0.015239969827234745, -0.016970161348581314, 0.0073732477612793446, 0.013195288367569447, 0.020921854302287102, 0.03590927645564079, 0.04457433149218559, -0.04884575679898262, 0.028717245906591415, -0.012385993264615536, 0.047262486070394516, -0.01782023161649704, 0.005385154392570257, -0.0113587137311697, 0.0022998014464974403, 0.026873627677559853, -0.022412464022636414, -0.008807335048913956, -0.017530780285596848, -0.050548721104860306, -0.03849829360842705, 0.007827188819646835, 0.007916205562651157, 0.00428823521360755, -0.006982333492487669, -0.028744207695126534, 0.07794299721717834, 0.0020348397083580494, -0.03256339579820633, 0.08460672944784164, 0.0069452268071472645, -0.05297425761818886, 0.03216920420527458, 0.009100578725337982, 0.015070234425365925, -0.04106336086988449, 0.044011324644088745, 0.05386414751410484, -0.00013660278636962175, -0.027348464354872704, -0.012407846748828888, -0.026394173502922058, -0.024921441450715065, 0.032335445284843445, -0.027490166947245598, -0.04035084322094917, 0.010262368246912956, 0.048114027827978134, -0.10534711182117462, 0.03594152629375458, -0.03572271391749382, -0.026177633553743362, -0.03333091735839844, -0.022881047800183296, 0.03936753049492836, 0.03573675453662872, 0.015971854329109192, 0.02420845255255699, -0.029413670301437378, 0.006451284978538752, 0.04477890208363533, 0.049263253808021545, -0.023734118789434433, 0.01755366660654545, 0.020055007189512253, -0.011391743086278439, 0.028839126229286194, 0.02652241475880146, -0.038860440254211426, -0.0004763465840369463, 0.00452536903321743, 0.01411161944270134, 0.017741812393069267, 0.016177594661712646, 0.023340025916695595, 0.04776677489280701, 0.050141315907239914, -0.03049764782190323, -0.007606456521898508, -0.0014987982576712966, 0.009463566355407238, -0.0014774483861401677, 0.002748041180893779, 0.010053103789687157, 0.002645180094987154, -0.03990571200847626, -0.051633015275001526, 0.027901045978069305, 0.04203944653272629, 0.06694482266902924, -0.05476398020982742, 0.03530198708176613, 0.0172891803085804, -0.049720652401447296, 0.06237565726041794, -0.07489077746868134, -0.01125872042030096, 0.04246180132031441, -0.0007378697628155351, 0.04024926573038101, -0.04150637239217758, -0.0006600620690733194, -0.03514916077256203, 0.02465726248919964, 0.03483641892671585, 0.0026854313910007477, 0.03829571604728699, -0.04735340178012848, -0.002678660210222006, -0.016458429396152496, -0.026209060102701187, -0.02064226008951664, -0.037300217896699905, 0.008524716831743717, -0.006355921272188425, -0.051358211785554886, -0.0481104739010334, 0.026374652981758118, 0.030838606879115105, 0.03147468343377113, -0.011979523114860058, 0.05471115559339523, -0.013922059908509254, 0.012302905321121216, 0.009331862442195415, 0.000961766520049423, -0.015889553353190422, -0.03305147960782051, 0.06756816059350967, -0.004873540252447128, -0.0014078164240345359, -0.01670321263372898, -0.008740058168768883, -0.0060225799679756165, 0.04744745045900345, -0.021349690854549408, -0.028523996472358704, -0.03578431159257889, -0.014591291546821594, 0.011740347370505333, 0.04018077626824379, -0.02074974961578846, -0.001207968918606639, -0.05626574158668518, 0.038717638701200485, 0.04651779681444168, -0.04731432721018791, 0.013797569088637829, -0.044434770941734314, 0.03875572234392166, 0.039414629340171814, -0.014545150101184845, -0.05692330002784729, 0.003995608072727919, -0.02384856902062893, -0.062066830694675446, 0.017483029514551163, 0.00812076497823, -0.010787676088511944, 0.0015710439765825868, -0.034915052354335785, 0.015170327387750149, 0.035601645708084106, 0.0026317730080336332, -0.012270030565559864, 0.01644735597074032, 0.027165615931153297, -0.005494787823408842, 0.041439976543188095, -0.013315381482243538, -0.014008973725140095, 0.052922725677490234, -0.05773372948169708, 0.0003906301863025874, 0.0067337737418711185, -0.04812498763203621, 0.009564049541950226, 0.019317403435707092, 0.02720778062939644, 0.006854700390249491, -0.018920285627245903, 0.019717739894986153, -0.0009854533709585667, 0.04839494079351425, -0.013623766601085663, -0.04267868027091026, 0.04644038900732994, 0.0018757522339001298, -0.024095354601740837, 0.02682505175471306, 0.038219235837459564, -0.0045260717160999775, 0.006569293327629566, 0.031173638999462128, -0.0367862693965435, 0.04325893893837929, -0.01839817501604557, 0.03153747320175171, -0.015663953498005867, -0.04075715318322182, 0.017076898366212845, -0.04886896163225174, 0.02127639576792717, -0.010881904512643814, 0.015404862351715565, -0.059283722192049026, -0.024271663278341293, -0.01802440918982029, -0.0057652294635772705, -0.02250004932284355, 0.04800781235098839, 0.0026981846895068884, 0.021206244826316833, -0.007838799618184566, -0.00556985754519701, -0.025558240711688995, 0.006213205400854349, -0.018428782001137733, -0.014917564578354359, -0.009570817463099957, 0.01681835763156414, 0.01655717007815838, -0.033303890377283096, -0.03358710557222366, 0.004279647953808308, -0.01593938283622265, -0.047814369201660156, -0.04653279483318329, -0.01917983964085579, -0.016923032701015472, -0.024745265021920204, -0.040220580995082855, 0.016132475808262825, 0.007669616024941206, 0.011682981625199318, 0.03680414706468582, -0.005290003959089518, 0.010779394768178463, 0.024258334189653397, -0.0355948880314827, 0.04785512015223503, 0.02938355691730976, -0.0394846610724926, -0.040346261113882065, 0.04684276133775711, -0.04247349500656128, 0.042071957141160965, -0.02995726279914379, -0.04222181439399719, -0.02953159809112549, -0.034097347408533096, -0.020587658509612083, -0.013428774662315845, -0.006888017989695072, -0.036813147366046906, -0.02496086061000824, -0.017559856176376343, 0.0651077926158905, 0.0006263678660616279, -0.009167659096419811, 0.018882986158132553, -0.037479158490896225, -0.015616736374795437, -0.038671959191560745, -0.006454077083617449, -0.023884469643235207, -0.018725639209151268, -0.007841037586331367, 0.0693841353058815, 0.0011412906460464, -0.009226175025105476, 0.0009619344491511583, -0.004439078271389008, 0.00941165816038847, -0.01126488484442234, -0.03702319413423538, -0.03347405418753624, -0.0034416927956044674, 0.024656925350427628, 0.004724906291812658, 0.00019102443184237927, -0.04355612397193909, 0.08201154321432114, -0.033245302736759186, 0.013880725018680096, 0.0022319506388157606, -0.0070659685879945755, -0.03732241690158844, 0.002993316389620304, 0.047337427735328674, -0.035122428089380264, 0.0225366298109293, -0.02624335139989853, 0.04552510380744934, 0.0558677539229393, 0.029855424538254738, -0.05830736458301544, -0.001081025111488998, -0.04680584371089935, -0.047923505306243896, -0.0018057727720588446, -0.025827329605817795, -0.009302802383899689, -0.03877679258584976, -0.03556474670767784, 0.02676633931696415, -0.017841972410678864, 0.07598541676998138, 0.06566432863473892, 0.009450361132621765, 0.0022288754116743803, -0.02741083689033985, 0.0295669324696064, 0.03795943781733513, -0.012783979065716267, 0.03238518163561821, -0.019612058997154236, -0.021795501932501793, 0.01174402330070734, -0.030511723831295967, -0.025017399340867996, -0.044466301798820496, -0.00019789401267189533, 0.04854273796081543, -0.05613906681537628, 0.022470718249678612, 1.6498259356012568e-05, -0.05007883906364441, -0.015493391081690788, 0.0467449389398098, -0.010351805947721004, 0.03005293756723404, 0.03883553668856621, -0.009913509711623192, -0.02677927166223526, -0.0005465195281431079, -0.00836181640625, -0.029310258105397224, -0.047845810651779175, 0.05565382540225983, 0.01884828507900238, -0.048977840691804886, 0.026672178879380226, 0.04915514588356018, -0.05606992542743683, -0.05930403992533684, 0.023905642330646515, 0.020353160798549652, 0.019081078469753265, -0.023359842598438263, 0.023335691541433334, 0.027233866974711418, -0.01227717287838459, 0.020050661638379097, 0.027736065909266472, -0.0070366449654102325, 0.03033391758799553, 0.025533583015203476, 0.028012476861476898, -0.024765627458691597, -0.00920428428798914, 0.026315273717045784, -0.012519186362624168, -0.0422668531537056, -0.03319183737039566, 0.017730869352817535, 0.01655692607164383, -0.0015014680102467537, 0.05861745402216911, -0.0031787054613232613, -0.009832493960857391, 0.04695027694106102, -0.0043389820493757725, 0.03356176242232323, -0.0028110090643167496, -0.027567924931645393, -0.012430386617779732, -0.009510130621492863, -0.05908598378300667, -0.011903115548193455, 0.024933386594057083, 0.005937651731073856, 0.025956619530916214, -0.05993792042136192, 0.0014641248853877187, 0.03358634561300278, -0.005132518708705902, -0.015285923145711422, -0.045717593282461166, -0.04497826471924782, -0.03983854502439499, -0.041282929480075836, 0.008036492392420769, -0.010320338420569897, -0.014322217553853989, 0.00746110687032342, 0.03495853394269943, -0.031546734273433685, -0.025402313098311424, 0.04655048996210098, -0.03428022563457489, -0.011165806092321873, -0.03176524490118027, 0.00892980769276619, -0.026093022897839546, -0.036807578057050705, -0.035937558859586716, 0.007755975238978863, -0.029301008209586143, -0.002778962254524231, -0.02931610308587551, -0.0053347013890743256, -0.0005636268761008978, 0.02478293515741825, 0.003269644221290946, 0.005637874826788902, -0.019656138494610786, -0.03484106436371803, -0.004167783539742231, 0.012932740151882172, 0.006015334744006395, 0.012064448557794094, 0.026127813383936882, -0.015321174636483192, 0.040795739740133286, 0.0033943364396691322, 0.01429392583668232, -0.03989279270172119, 0.022057991474866867, 0.0077131749130785465, 0.0014188522472977638, -0.03753454610705376, -0.04304322227835655, -0.0026173798833042383, -0.044023774564266205, 0.027491096407175064, -0.00602595042437315, 0.015518361702561378, 0.01974431984126568, -0.03575919196009636, -0.021655607968568802, 0.05206321179866791, 0.007563883438706398, 0.03594883903861046, -0.0071826656349003315, 0.018898911774158478, 0.03140811249613762, -0.020938608795404434, 0.01205422542989254, 0.004207685124129057, 0.024665383622050285, -0.038429781794548035, -0.01011110283434391, 0.0033909606281667948, -0.008976969867944717, 0.028105879202485085, -0.024425160139799118, -0.026045359671115875, -0.05878482013940811, -0.009146828204393387, -0.0062232110649347305, 0.05431254580616951, 0.033843185752630234, 0.0323711596429348, 0.01567603088915348, -0.009004604071378708, -0.0759832113981247, 0.01446661539375782, -0.04879802465438843, -0.04223107174038887, 0.03173937276005745, -0.03385186195373535, -0.016864029690623283, 0.022516584023833275, -0.019582394510507584, -0.019321536645293236, -0.011484191752970219, -0.0022421148605644703, -0.01974537782371044, 0.019351735711097717, -0.0016868504462763667, 0.04000118374824524, 0.00022557302145287395, -0.017943155020475388, -0.009165811352431774, 0.06627003103494644, -0.04420465603470802, -0.04151519015431404, 0.011103115044534206, 0.008425632491707802, -0.017305610701441765, 0.001429255004040897, -0.03099260851740837, 0.001354884123429656, 0.02766014076769352, 0.02988111600279808, -0.0009189269039779902, 0.01443953812122345, -0.007907062768936157, 0.03151363506913185, 0.025804053992033005, -0.013345037586987019, -0.03572281077504158, 0.020974814891815186, -0.01297503150999546, -0.024643106386065483, -0.02917035110294819, 0.028504159301519394, 0.006419966462999582, -0.01103117410093546, 0.02669011615216732, 0.01797562837600708, 0.03492186591029167, -0.03516783565282822, 0.018856074661016464, -0.020068414509296417, 0.034629784524440765, 0.02697465941309929, 0.03335244581103325, 0.00801560003310442, 0.040043510496616364, 0.06249199062585831, -0.006965205539017916, 0.0022727439645677805, 0.033231381326913834, 0.012010189704596996, -0.06824543327093124, -0.017731444910168648, -0.06636925041675568, 0.03423963487148285, -0.014379967004060745, -0.012432345189154148, -0.01736789010465145, -0.03671779856085777, 0.019389431923627853, -0.029181774705648422, -0.027180887758731842, 0.04561921954154968, -0.05542484670877457, -0.025664309039711952, -0.004730466287583113, -0.0072579109109938145, -0.022800544276833534, 0.010535608045756817, 0.03553733229637146, 0.025631166994571686, 0.03807530924677849, 0.030357196927070618, -0.0006207585684023798, 0.05389345809817314, 0.023118872195482254, 0.011095012538135052, -0.029790664091706276, -0.005086010321974754, -0.0021233840379863977, -0.008715055882930756, -0.010642025619745255, -0.01804841309785843, -0.03539325296878815, 0.05202585831284523, -0.020483698695898056, -0.024178998544812202, 0.05059579387307167, -0.04273437708616257, -0.0029715660493820906, -0.06623765081167221, 0.05369677022099495, -0.04711480066180229, -0.016193032264709473, 0.04363415017724037, -0.010400027967989445, -0.026383768767118454, 0.04970628395676613, -0.00701636029407382, 0.007534535601735115, 0.026406796649098396, 0.03296554461121559, -0.008162597194314003, 0.006557141896337271, 0.07328684628009796, -0.024396419525146484, -0.014946206472814083, 0.018927037715911865, -0.02073015086352825, -0.021418698132038116, -0.009679767303168774, -0.04241355508565903, -0.016787774860858917, -0.013464116491377354, 0.006967067252844572, -0.004826740361750126, 0.027636056765913963, 0.018525300547480583, -0.03158041834831238, -0.014538983814418316, -0.005592145025730133, -0.03428110480308533, 0.0014002469833940268, -0.005612654611468315, 0.004027551040053368, 0.007117554545402527, -0.0220022052526474, 0.012762057594954967, -0.026268186047673225, 0.00968784186989069, -0.03903162479400635, 0.049181677401065826, 0.0050438581965863705, -0.033734265714883804, -0.02770092338323593, -0.0742875337600708, -0.012501275166869164, 0.0004172499757260084, -0.05961667373776436, -0.034875255078077316, 0.038674622774124146, 0.019645188003778458, 0.027979345992207527, 0.01408603135496378, -0.02672981657087803, 0.0014934387290850282, 0.027724457904696465, 0.07243978977203369, 0.02014215476810932, 0.04655802994966507, 0.03136969357728958, 0.018598085269331932, 0.00881075020879507, -0.032881010323762894, 0.031055251136422157, 0.00330534391105175, -0.01134520210325718, -0.024453578516840935, 0.016864556819200516, -0.015206859447062016, -0.05712250620126724, 0.008528466336429119, 0.020862607285380363, 0.000571044918615371, -0.031718675047159195, -0.07530102133750916, 0.0156897883862257, -0.05788771063089371, 0.01060680765658617, -0.03565918654203415, 0.0006031366647221148, 0.012975774705410004, 0.0026199205312877893, -0.02648574858903885, -0.0635567232966423, 0.14769375324249268, 0.07140034437179565, 0.025364475324749947, 0.012567159719765186, 0.025093115866184235, 0.03309226036071777, 0.029750699177384377, -0.027577705681324005, 0.014142175205051899, -0.03421584889292717, 0.024846011772751808, -0.03040909953415394, 0.022566361352801323, 0.03564776852726936, 0.017314337193965912, 0.05303659290075302, -0.046816471964120865, 0.0005382670788094401, -0.003755531506612897, -0.04965372756123543, -0.07760457694530487, 0.0328267402946949, 0.008904948830604553, 0.008375757373869419, -0.012914477847516537, 0.025812290608882904, 0.009057403542101383, -0.04884319752454758, -0.00910406094044447, -0.0068346778862178326, 0.019391054287552834, -0.03888936713337898, 0.04244903847575188, -0.031964074820280075, -0.03401471674442291, 0.06637468934059143, 0.01748659275472164, -0.036923058331012726, -0.0052507719956338406, 0.025859199464321136, -0.03627709671854973, 0.007574702147394419, 0.032341908663511276, -0.037241142243146896, 0.00010461030615260825, 0.029046615585684776, -0.022957252338528633, 0.0195088442414999, -0.0005024407873861492, -0.05159366875886917, 0.052853647619485855, -0.03147530183196068, 0.017456062138080597, -0.019438428804278374, -0.03312758728861809, 0.013500248081982136, -0.0019211285980418324, -0.04902297258377075, 0.003989561926573515, -0.0012133753625676036, 0.027919575572013855, 0.019926849752664566, -0.015776023268699646, 0.007805501110851765, -0.032113317400217056, 0.011086655780673027, 0.03402412310242653, 0.03208564221858978, 0.006208515260368586, -0.007160472217947245, -0.020759906619787216, 0.027888406068086624, -0.023970501497387886, -0.03459527716040611, 0.03387337177991867, 0.021962014958262444, -0.027925405651330948, 0.03598398715257645, 0.007125142030417919, -0.05228627473115921, -0.012447377666831017, -0.033839449286460876, -0.013109471648931503, -0.023216137662529945, 0.017047882080078125, 0.03996305167675018, -0.047081075608730316, -0.04128982871770859, -0.027178917080163956, 0.03238508477807045, 0.06488548964262009, 0.010281163267791271, -0.003892890876159072, -0.01691153459250927, -0.014824400655925274]\n"
          ]
        }
      ]
    },
    {
      "cell_type": "markdown",
      "source": [
        "Dimensions of embedding vector is 1024\n",
        "All vector dimensions are same\n",
        "\n",
        "\n",
        "\n",
        "*   The embedding vector provides a fixed length vector\n"
      ],
      "metadata": {
        "id": "zmHtKo1gJast"
      }
    },
    {
      "cell_type": "markdown",
      "source": [
        "## **Vector Database**"
      ],
      "metadata": {
        "id": "JJpxvH4gJz65"
      }
    },
    {
      "cell_type": "code",
      "source": [
        "# Uninstall existing chromadb to avoid conflicts\n",
        "!pip uninstall chromadb -y\n",
        "# Install a specific, known-working version of chromadb\n",
        "!pip install chromadb==0.4.18 -q"
      ],
      "metadata": {
        "colab": {
          "base_uri": "https://localhost:8080/"
        },
        "id": "upFiUd_QLMWt",
        "outputId": "efe8e94e-9a3c-4df3-9675-229779ac422c"
      },
      "execution_count": 23,
      "outputs": [
        {
          "output_type": "stream",
          "name": "stdout",
          "text": [
            "Found existing installation: chromadb 0.4.22\n",
            "Uninstalling chromadb-0.4.22:\n",
            "  Successfully uninstalled chromadb-0.4.22\n",
            "\u001b[2K   \u001b[90m━━━━━━━━━━━━━━━━━━━━━━━━━━━━━━━━━━━━━━━━\u001b[0m \u001b[32m502.4/502.4 kB\u001b[0m \u001b[31m9.8 MB/s\u001b[0m eta \u001b[36m0:00:00\u001b[0m\n",
            "\u001b[?25h"
          ]
        }
      ]
    },
    {
      "cell_type": "code",
      "source": [
        "!pip show chromadb"
      ],
      "metadata": {
        "colab": {
          "base_uri": "https://localhost:8080/"
        },
        "id": "e5PLOw3vL2V6",
        "outputId": "7b58e3d1-8416-463f-92bb-7ed23e61ff23"
      },
      "execution_count": 30,
      "outputs": [
        {
          "output_type": "stream",
          "name": "stdout",
          "text": [
            "Name: chromadb\n",
            "Version: 0.4.18\n",
            "Summary: Chroma.\n",
            "Home-page: https://github.com/chroma-core/chroma\n",
            "Author: \n",
            "Author-email: Jeff Huber <jeff@trychroma.com>, Anton Troynikov <anton@trychroma.com>\n",
            "License: \n",
            "Location: /usr/local/lib/python3.11/dist-packages\n",
            "Requires: bcrypt, chroma-hnswlib, fastapi, grpcio, importlib-resources, kubernetes, mmh3, numpy, onnxruntime, opentelemetry-api, opentelemetry-exporter-otlp-proto-grpc, opentelemetry-instrumentation-fastapi, opentelemetry-sdk, overrides, posthog, pulsar-client, pydantic, pypika, PyYAML, requests, tenacity, tokenizers, tqdm, typer, typing-extensions, uvicorn\n",
            "Required-by: \n"
          ]
        }
      ]
    },
    {
      "cell_type": "code",
      "source": [
        "import chromadb.settings\n",
        "chromadb.settings.Settings(allow_reset=True, anonymized_telemetry=False)"
      ],
      "metadata": {
        "colab": {
          "base_uri": "https://localhost:8080/",
          "height": 344
        },
        "id": "twrE1It3MHKk",
        "outputId": "c2509835-a4a1-4c54-b374-c968121b5d20"
      },
      "execution_count": 41,
      "outputs": [
        {
          "output_type": "error",
          "ename": "ModuleNotFoundError",
          "evalue": "No module named 'chromadb.settings'",
          "traceback": [
            "\u001b[0;31m---------------------------------------------------------------------------\u001b[0m",
            "\u001b[0;31mModuleNotFoundError\u001b[0m                       Traceback (most recent call last)",
            "\u001b[0;32m/tmp/ipython-input-41-783635334.py\u001b[0m in \u001b[0;36m<cell line: 0>\u001b[0;34m()\u001b[0m\n\u001b[0;32m----> 1\u001b[0;31m \u001b[0;32mimport\u001b[0m \u001b[0mchromadb\u001b[0m\u001b[0;34m.\u001b[0m\u001b[0msettings\u001b[0m\u001b[0;34m\u001b[0m\u001b[0;34m\u001b[0m\u001b[0m\n\u001b[0m\u001b[1;32m      2\u001b[0m \u001b[0mchromadb\u001b[0m\u001b[0;34m.\u001b[0m\u001b[0msettings\u001b[0m\u001b[0;34m.\u001b[0m\u001b[0mSettings\u001b[0m\u001b[0;34m(\u001b[0m\u001b[0mallow_reset\u001b[0m\u001b[0;34m=\u001b[0m\u001b[0;32mTrue\u001b[0m\u001b[0;34m,\u001b[0m \u001b[0manonymized_telemetry\u001b[0m\u001b[0;34m=\u001b[0m\u001b[0;32mFalse\u001b[0m\u001b[0;34m)\u001b[0m\u001b[0;34m\u001b[0m\u001b[0;34m\u001b[0m\u001b[0m\n",
            "\u001b[0;31mModuleNotFoundError\u001b[0m: No module named 'chromadb.settings'",
            "",
            "\u001b[0;31m---------------------------------------------------------------------------\u001b[0;32m\nNOTE: If your import is failing due to a missing package, you can\nmanually install dependencies using either !pip or !apt.\n\nTo view examples of installing some common dependencies, click the\n\"Open Examples\" button below.\n\u001b[0;31m---------------------------------------------------------------------------\u001b[0m\n"
          ],
          "errorDetails": {
            "actions": [
              {
                "action": "open_url",
                "actionText": "Open Examples",
                "url": "/notebooks/snippets/importing_libraries.ipynb"
              }
            ]
          }
        }
      ]
    },
    {
      "cell_type": "code",
      "source": [
        "out_dir = 'apple_db'"
      ],
      "metadata": {
        "id": "qwIBCGZEJQiO"
      },
      "execution_count": 37,
      "outputs": []
    },
    {
      "cell_type": "code",
      "source": [
        "if not os.path.exists(out_dir):\n",
        "  os.makedirs(out_dir)\n"
      ],
      "metadata": {
        "id": "vRZbkFK-KEtK"
      },
      "execution_count": 38,
      "outputs": []
    },
    {
      "cell_type": "code",
      "source": [
        "vectorstore = Chroma.from_documents(document_chunks,\n",
        "                                    embedding_model,\n",
        "                                    persist_directory=out_dir)"
      ],
      "metadata": {
        "colab": {
          "base_uri": "https://localhost:8080/"
        },
        "id": "G4fMYJY8KU83",
        "outputId": "be2f3bcb-0b4e-491e-a2c9-a5fbde6b142c"
      },
      "execution_count": 39,
      "outputs": [
        {
          "output_type": "stream",
          "name": "stderr",
          "text": [
            "ERROR:chromadb.telemetry.product.posthog:Failed to send telemetry event ClientStartEvent: capture() takes 1 positional argument but 3 were given\n",
            "ERROR:chromadb.telemetry.product.posthog:Failed to send telemetry event ClientCreateCollectionEvent: capture() takes 1 positional argument but 3 were given\n"
          ]
        }
      ]
    },
    {
      "cell_type": "code",
      "source": [
        "vectorstore = Chroma(persist_directory=out_dir,embedding_function=embedding_model)"
      ],
      "metadata": {
        "colab": {
          "base_uri": "https://localhost:8080/"
        },
        "id": "O-FRER4FKnoz",
        "outputId": "b1582a25-c0e6-435f-d4f1-fa53f4faaa34"
      },
      "execution_count": 40,
      "outputs": [
        {
          "output_type": "stream",
          "name": "stderr",
          "text": [
            "ERROR:chromadb.telemetry.product.posthog:Failed to send telemetry event ClientStartEvent: capture() takes 1 positional argument but 3 were given\n",
            "ERROR:chromadb.telemetry.product.posthog:Failed to send telemetry event ClientCreateCollectionEvent: capture() takes 1 positional argument but 3 were given\n"
          ]
        }
      ]
    },
    {
      "cell_type": "code",
      "metadata": {
        "colab": {
          "base_uri": "https://localhost:8080/"
        },
        "id": "6a4404f1",
        "outputId": "35918bcb-7d57-41e1-f922-f81bce6162e1"
      },
      "source": [
        "from langchain_community.vectorstores import Chroma\n",
        "from langchain_community.embeddings.sentence_transformer import SentenceTransformerEmbeddings\n",
        "import os\n",
        "\n",
        "out_dir = 'apple_db'\n",
        "embedding_model = SentenceTransformerEmbeddings(model_name=\"thenlper/gte-large\")\n",
        "\n",
        "# Try creating the vectorstore without specifying persist_directory initially\n",
        "vectorstore = Chroma.from_documents(document_chunks, embedding_model)\n",
        "\n",
        "# Attempt to persist the vectorstore\n",
        "if not os.path.exists(out_dir):\n",
        "  os.makedirs(out_dir)\n",
        "vectorstore.persist()"
      ],
      "execution_count": 42,
      "outputs": [
        {
          "output_type": "stream",
          "name": "stderr",
          "text": [
            "ERROR:chromadb.telemetry.product.posthog:Failed to send telemetry event ClientStartEvent: capture() takes 1 positional argument but 3 were given\n",
            "ERROR:chromadb.telemetry.product.posthog:Failed to send telemetry event ClientCreateCollectionEvent: capture() takes 1 positional argument but 3 were given\n"
          ]
        }
      ]
    }
  ]
}