{
  "nbformat": 4,
  "nbformat_minor": 0,
  "metadata": {
    "colab": {
      "provenance": [],
      "gpuType": "T4",
      "authorship_tag": "ABX9TyNUB1G3ZexvTTTwfG8ceG5k",
      "include_colab_link": true
    },
    "kernelspec": {
      "name": "python3",
      "display_name": "Python 3"
    },
    "language_info": {
      "name": "python"
    },
    "accelerator": "GPU",
    "widgets": {
      "application/vnd.jupyter.widget-state+json": {
        "a33aa0ca1a3741069562575c681e64d7": {
          "model_module": "@jupyter-widgets/controls",
          "model_name": "HBoxModel",
          "model_module_version": "1.5.0",
          "state": {
            "_dom_classes": [],
            "_model_module": "@jupyter-widgets/controls",
            "_model_module_version": "1.5.0",
            "_model_name": "HBoxModel",
            "_view_count": null,
            "_view_module": "@jupyter-widgets/controls",
            "_view_module_version": "1.5.0",
            "_view_name": "HBoxView",
            "box_style": "",
            "children": [
              "IPY_MODEL_ac294a1964254aef91b808f163d4ae84",
              "IPY_MODEL_ede17d4943bc459fbcb20b859bc685b2",
              "IPY_MODEL_be61336e350f412cad8186b9ca7b9e99"
            ],
            "layout": "IPY_MODEL_c657b3de08ed4091b264dff6159c84ad"
          }
        },
        "ac294a1964254aef91b808f163d4ae84": {
          "model_module": "@jupyter-widgets/controls",
          "model_name": "HTMLModel",
          "model_module_version": "1.5.0",
          "state": {
            "_dom_classes": [],
            "_model_module": "@jupyter-widgets/controls",
            "_model_module_version": "1.5.0",
            "_model_name": "HTMLModel",
            "_view_count": null,
            "_view_module": "@jupyter-widgets/controls",
            "_view_module_version": "1.5.0",
            "_view_name": "HTMLView",
            "description": "",
            "description_tooltip": null,
            "layout": "IPY_MODEL_d1475a8939634c56827e87b9d9e84db3",
            "placeholder": "​",
            "style": "IPY_MODEL_e2dd6a5655994e898f930cd94f2e95a3",
            "value": "modules.json: 100%"
          }
        },
        "ede17d4943bc459fbcb20b859bc685b2": {
          "model_module": "@jupyter-widgets/controls",
          "model_name": "FloatProgressModel",
          "model_module_version": "1.5.0",
          "state": {
            "_dom_classes": [],
            "_model_module": "@jupyter-widgets/controls",
            "_model_module_version": "1.5.0",
            "_model_name": "FloatProgressModel",
            "_view_count": null,
            "_view_module": "@jupyter-widgets/controls",
            "_view_module_version": "1.5.0",
            "_view_name": "ProgressView",
            "bar_style": "success",
            "description": "",
            "description_tooltip": null,
            "layout": "IPY_MODEL_b740f03ff28c47d58bbaec3dc544050f",
            "max": 385,
            "min": 0,
            "orientation": "horizontal",
            "style": "IPY_MODEL_c9f403f6b3344d6aa5e211d9c2fae34d",
            "value": 385
          }
        },
        "be61336e350f412cad8186b9ca7b9e99": {
          "model_module": "@jupyter-widgets/controls",
          "model_name": "HTMLModel",
          "model_module_version": "1.5.0",
          "state": {
            "_dom_classes": [],
            "_model_module": "@jupyter-widgets/controls",
            "_model_module_version": "1.5.0",
            "_model_name": "HTMLModel",
            "_view_count": null,
            "_view_module": "@jupyter-widgets/controls",
            "_view_module_version": "1.5.0",
            "_view_name": "HTMLView",
            "description": "",
            "description_tooltip": null,
            "layout": "IPY_MODEL_8ebff44bca0740dd9aa54a9633b56066",
            "placeholder": "​",
            "style": "IPY_MODEL_d2e712847da04448915c59278ceed213",
            "value": " 385/385 [00:00&lt;00:00, 40.7kB/s]"
          }
        },
        "c657b3de08ed4091b264dff6159c84ad": {
          "model_module": "@jupyter-widgets/base",
          "model_name": "LayoutModel",
          "model_module_version": "1.2.0",
          "state": {
            "_model_module": "@jupyter-widgets/base",
            "_model_module_version": "1.2.0",
            "_model_name": "LayoutModel",
            "_view_count": null,
            "_view_module": "@jupyter-widgets/base",
            "_view_module_version": "1.2.0",
            "_view_name": "LayoutView",
            "align_content": null,
            "align_items": null,
            "align_self": null,
            "border": null,
            "bottom": null,
            "display": null,
            "flex": null,
            "flex_flow": null,
            "grid_area": null,
            "grid_auto_columns": null,
            "grid_auto_flow": null,
            "grid_auto_rows": null,
            "grid_column": null,
            "grid_gap": null,
            "grid_row": null,
            "grid_template_areas": null,
            "grid_template_columns": null,
            "grid_template_rows": null,
            "height": null,
            "justify_content": null,
            "justify_items": null,
            "left": null,
            "margin": null,
            "max_height": null,
            "max_width": null,
            "min_height": null,
            "min_width": null,
            "object_fit": null,
            "object_position": null,
            "order": null,
            "overflow": null,
            "overflow_x": null,
            "overflow_y": null,
            "padding": null,
            "right": null,
            "top": null,
            "visibility": null,
            "width": null
          }
        },
        "d1475a8939634c56827e87b9d9e84db3": {
          "model_module": "@jupyter-widgets/base",
          "model_name": "LayoutModel",
          "model_module_version": "1.2.0",
          "state": {
            "_model_module": "@jupyter-widgets/base",
            "_model_module_version": "1.2.0",
            "_model_name": "LayoutModel",
            "_view_count": null,
            "_view_module": "@jupyter-widgets/base",
            "_view_module_version": "1.2.0",
            "_view_name": "LayoutView",
            "align_content": null,
            "align_items": null,
            "align_self": null,
            "border": null,
            "bottom": null,
            "display": null,
            "flex": null,
            "flex_flow": null,
            "grid_area": null,
            "grid_auto_columns": null,
            "grid_auto_flow": null,
            "grid_auto_rows": null,
            "grid_column": null,
            "grid_gap": null,
            "grid_row": null,
            "grid_template_areas": null,
            "grid_template_columns": null,
            "grid_template_rows": null,
            "height": null,
            "justify_content": null,
            "justify_items": null,
            "left": null,
            "margin": null,
            "max_height": null,
            "max_width": null,
            "min_height": null,
            "min_width": null,
            "object_fit": null,
            "object_position": null,
            "order": null,
            "overflow": null,
            "overflow_x": null,
            "overflow_y": null,
            "padding": null,
            "right": null,
            "top": null,
            "visibility": null,
            "width": null
          }
        },
        "e2dd6a5655994e898f930cd94f2e95a3": {
          "model_module": "@jupyter-widgets/controls",
          "model_name": "DescriptionStyleModel",
          "model_module_version": "1.5.0",
          "state": {
            "_model_module": "@jupyter-widgets/controls",
            "_model_module_version": "1.5.0",
            "_model_name": "DescriptionStyleModel",
            "_view_count": null,
            "_view_module": "@jupyter-widgets/base",
            "_view_module_version": "1.2.0",
            "_view_name": "StyleView",
            "description_width": ""
          }
        },
        "b740f03ff28c47d58bbaec3dc544050f": {
          "model_module": "@jupyter-widgets/base",
          "model_name": "LayoutModel",
          "model_module_version": "1.2.0",
          "state": {
            "_model_module": "@jupyter-widgets/base",
            "_model_module_version": "1.2.0",
            "_model_name": "LayoutModel",
            "_view_count": null,
            "_view_module": "@jupyter-widgets/base",
            "_view_module_version": "1.2.0",
            "_view_name": "LayoutView",
            "align_content": null,
            "align_items": null,
            "align_self": null,
            "border": null,
            "bottom": null,
            "display": null,
            "flex": null,
            "flex_flow": null,
            "grid_area": null,
            "grid_auto_columns": null,
            "grid_auto_flow": null,
            "grid_auto_rows": null,
            "grid_column": null,
            "grid_gap": null,
            "grid_row": null,
            "grid_template_areas": null,
            "grid_template_columns": null,
            "grid_template_rows": null,
            "height": null,
            "justify_content": null,
            "justify_items": null,
            "left": null,
            "margin": null,
            "max_height": null,
            "max_width": null,
            "min_height": null,
            "min_width": null,
            "object_fit": null,
            "object_position": null,
            "order": null,
            "overflow": null,
            "overflow_x": null,
            "overflow_y": null,
            "padding": null,
            "right": null,
            "top": null,
            "visibility": null,
            "width": null
          }
        },
        "c9f403f6b3344d6aa5e211d9c2fae34d": {
          "model_module": "@jupyter-widgets/controls",
          "model_name": "ProgressStyleModel",
          "model_module_version": "1.5.0",
          "state": {
            "_model_module": "@jupyter-widgets/controls",
            "_model_module_version": "1.5.0",
            "_model_name": "ProgressStyleModel",
            "_view_count": null,
            "_view_module": "@jupyter-widgets/base",
            "_view_module_version": "1.2.0",
            "_view_name": "StyleView",
            "bar_color": null,
            "description_width": ""
          }
        },
        "8ebff44bca0740dd9aa54a9633b56066": {
          "model_module": "@jupyter-widgets/base",
          "model_name": "LayoutModel",
          "model_module_version": "1.2.0",
          "state": {
            "_model_module": "@jupyter-widgets/base",
            "_model_module_version": "1.2.0",
            "_model_name": "LayoutModel",
            "_view_count": null,
            "_view_module": "@jupyter-widgets/base",
            "_view_module_version": "1.2.0",
            "_view_name": "LayoutView",
            "align_content": null,
            "align_items": null,
            "align_self": null,
            "border": null,
            "bottom": null,
            "display": null,
            "flex": null,
            "flex_flow": null,
            "grid_area": null,
            "grid_auto_columns": null,
            "grid_auto_flow": null,
            "grid_auto_rows": null,
            "grid_column": null,
            "grid_gap": null,
            "grid_row": null,
            "grid_template_areas": null,
            "grid_template_columns": null,
            "grid_template_rows": null,
            "height": null,
            "justify_content": null,
            "justify_items": null,
            "left": null,
            "margin": null,
            "max_height": null,
            "max_width": null,
            "min_height": null,
            "min_width": null,
            "object_fit": null,
            "object_position": null,
            "order": null,
            "overflow": null,
            "overflow_x": null,
            "overflow_y": null,
            "padding": null,
            "right": null,
            "top": null,
            "visibility": null,
            "width": null
          }
        },
        "d2e712847da04448915c59278ceed213": {
          "model_module": "@jupyter-widgets/controls",
          "model_name": "DescriptionStyleModel",
          "model_module_version": "1.5.0",
          "state": {
            "_model_module": "@jupyter-widgets/controls",
            "_model_module_version": "1.5.0",
            "_model_name": "DescriptionStyleModel",
            "_view_count": null,
            "_view_module": "@jupyter-widgets/base",
            "_view_module_version": "1.2.0",
            "_view_name": "StyleView",
            "description_width": ""
          }
        },
        "d2cbef5fb1f3442d8caaf92f7bbc3d68": {
          "model_module": "@jupyter-widgets/controls",
          "model_name": "HBoxModel",
          "model_module_version": "1.5.0",
          "state": {
            "_dom_classes": [],
            "_model_module": "@jupyter-widgets/controls",
            "_model_module_version": "1.5.0",
            "_model_name": "HBoxModel",
            "_view_count": null,
            "_view_module": "@jupyter-widgets/controls",
            "_view_module_version": "1.5.0",
            "_view_name": "HBoxView",
            "box_style": "",
            "children": [
              "IPY_MODEL_3e12dcbed2844d5aaa5e0522a7410c6c",
              "IPY_MODEL_f639be94c28540398ded7240c909eee4",
              "IPY_MODEL_fa14c24e1aaf4c678e8547ed321726e7"
            ],
            "layout": "IPY_MODEL_2825d936ff6e480baf47d4c815fe6bf6"
          }
        },
        "3e12dcbed2844d5aaa5e0522a7410c6c": {
          "model_module": "@jupyter-widgets/controls",
          "model_name": "HTMLModel",
          "model_module_version": "1.5.0",
          "state": {
            "_dom_classes": [],
            "_model_module": "@jupyter-widgets/controls",
            "_model_module_version": "1.5.0",
            "_model_name": "HTMLModel",
            "_view_count": null,
            "_view_module": "@jupyter-widgets/controls",
            "_view_module_version": "1.5.0",
            "_view_name": "HTMLView",
            "description": "",
            "description_tooltip": null,
            "layout": "IPY_MODEL_70bf6a4d8b25454aa44351c38140809d",
            "placeholder": "​",
            "style": "IPY_MODEL_910cc8fc4296495db19a9fb8ee49b1d7",
            "value": "README.md: "
          }
        },
        "f639be94c28540398ded7240c909eee4": {
          "model_module": "@jupyter-widgets/controls",
          "model_name": "FloatProgressModel",
          "model_module_version": "1.5.0",
          "state": {
            "_dom_classes": [],
            "_model_module": "@jupyter-widgets/controls",
            "_model_module_version": "1.5.0",
            "_model_name": "FloatProgressModel",
            "_view_count": null,
            "_view_module": "@jupyter-widgets/controls",
            "_view_module_version": "1.5.0",
            "_view_name": "ProgressView",
            "bar_style": "success",
            "description": "",
            "description_tooltip": null,
            "layout": "IPY_MODEL_9b6e56a80b86433fb56791c7171ba31f",
            "max": 1,
            "min": 0,
            "orientation": "horizontal",
            "style": "IPY_MODEL_94ff578c4efa4e83b66e765fdaeb5168",
            "value": 1
          }
        },
        "fa14c24e1aaf4c678e8547ed321726e7": {
          "model_module": "@jupyter-widgets/controls",
          "model_name": "HTMLModel",
          "model_module_version": "1.5.0",
          "state": {
            "_dom_classes": [],
            "_model_module": "@jupyter-widgets/controls",
            "_model_module_version": "1.5.0",
            "_model_name": "HTMLModel",
            "_view_count": null,
            "_view_module": "@jupyter-widgets/controls",
            "_view_module_version": "1.5.0",
            "_view_name": "HTMLView",
            "description": "",
            "description_tooltip": null,
            "layout": "IPY_MODEL_09dec3faa8cd477280b9e8a9c41763c3",
            "placeholder": "​",
            "style": "IPY_MODEL_c51bdc3206254113b756ddd967115fe6",
            "value": " 67.9k/? [00:00&lt;00:00, 5.94MB/s]"
          }
        },
        "2825d936ff6e480baf47d4c815fe6bf6": {
          "model_module": "@jupyter-widgets/base",
          "model_name": "LayoutModel",
          "model_module_version": "1.2.0",
          "state": {
            "_model_module": "@jupyter-widgets/base",
            "_model_module_version": "1.2.0",
            "_model_name": "LayoutModel",
            "_view_count": null,
            "_view_module": "@jupyter-widgets/base",
            "_view_module_version": "1.2.0",
            "_view_name": "LayoutView",
            "align_content": null,
            "align_items": null,
            "align_self": null,
            "border": null,
            "bottom": null,
            "display": null,
            "flex": null,
            "flex_flow": null,
            "grid_area": null,
            "grid_auto_columns": null,
            "grid_auto_flow": null,
            "grid_auto_rows": null,
            "grid_column": null,
            "grid_gap": null,
            "grid_row": null,
            "grid_template_areas": null,
            "grid_template_columns": null,
            "grid_template_rows": null,
            "height": null,
            "justify_content": null,
            "justify_items": null,
            "left": null,
            "margin": null,
            "max_height": null,
            "max_width": null,
            "min_height": null,
            "min_width": null,
            "object_fit": null,
            "object_position": null,
            "order": null,
            "overflow": null,
            "overflow_x": null,
            "overflow_y": null,
            "padding": null,
            "right": null,
            "top": null,
            "visibility": null,
            "width": null
          }
        },
        "70bf6a4d8b25454aa44351c38140809d": {
          "model_module": "@jupyter-widgets/base",
          "model_name": "LayoutModel",
          "model_module_version": "1.2.0",
          "state": {
            "_model_module": "@jupyter-widgets/base",
            "_model_module_version": "1.2.0",
            "_model_name": "LayoutModel",
            "_view_count": null,
            "_view_module": "@jupyter-widgets/base",
            "_view_module_version": "1.2.0",
            "_view_name": "LayoutView",
            "align_content": null,
            "align_items": null,
            "align_self": null,
            "border": null,
            "bottom": null,
            "display": null,
            "flex": null,
            "flex_flow": null,
            "grid_area": null,
            "grid_auto_columns": null,
            "grid_auto_flow": null,
            "grid_auto_rows": null,
            "grid_column": null,
            "grid_gap": null,
            "grid_row": null,
            "grid_template_areas": null,
            "grid_template_columns": null,
            "grid_template_rows": null,
            "height": null,
            "justify_content": null,
            "justify_items": null,
            "left": null,
            "margin": null,
            "max_height": null,
            "max_width": null,
            "min_height": null,
            "min_width": null,
            "object_fit": null,
            "object_position": null,
            "order": null,
            "overflow": null,
            "overflow_x": null,
            "overflow_y": null,
            "padding": null,
            "right": null,
            "top": null,
            "visibility": null,
            "width": null
          }
        },
        "910cc8fc4296495db19a9fb8ee49b1d7": {
          "model_module": "@jupyter-widgets/controls",
          "model_name": "DescriptionStyleModel",
          "model_module_version": "1.5.0",
          "state": {
            "_model_module": "@jupyter-widgets/controls",
            "_model_module_version": "1.5.0",
            "_model_name": "DescriptionStyleModel",
            "_view_count": null,
            "_view_module": "@jupyter-widgets/base",
            "_view_module_version": "1.2.0",
            "_view_name": "StyleView",
            "description_width": ""
          }
        },
        "9b6e56a80b86433fb56791c7171ba31f": {
          "model_module": "@jupyter-widgets/base",
          "model_name": "LayoutModel",
          "model_module_version": "1.2.0",
          "state": {
            "_model_module": "@jupyter-widgets/base",
            "_model_module_version": "1.2.0",
            "_model_name": "LayoutModel",
            "_view_count": null,
            "_view_module": "@jupyter-widgets/base",
            "_view_module_version": "1.2.0",
            "_view_name": "LayoutView",
            "align_content": null,
            "align_items": null,
            "align_self": null,
            "border": null,
            "bottom": null,
            "display": null,
            "flex": null,
            "flex_flow": null,
            "grid_area": null,
            "grid_auto_columns": null,
            "grid_auto_flow": null,
            "grid_auto_rows": null,
            "grid_column": null,
            "grid_gap": null,
            "grid_row": null,
            "grid_template_areas": null,
            "grid_template_columns": null,
            "grid_template_rows": null,
            "height": null,
            "justify_content": null,
            "justify_items": null,
            "left": null,
            "margin": null,
            "max_height": null,
            "max_width": null,
            "min_height": null,
            "min_width": null,
            "object_fit": null,
            "object_position": null,
            "order": null,
            "overflow": null,
            "overflow_x": null,
            "overflow_y": null,
            "padding": null,
            "right": null,
            "top": null,
            "visibility": null,
            "width": "20px"
          }
        },
        "94ff578c4efa4e83b66e765fdaeb5168": {
          "model_module": "@jupyter-widgets/controls",
          "model_name": "ProgressStyleModel",
          "model_module_version": "1.5.0",
          "state": {
            "_model_module": "@jupyter-widgets/controls",
            "_model_module_version": "1.5.0",
            "_model_name": "ProgressStyleModel",
            "_view_count": null,
            "_view_module": "@jupyter-widgets/base",
            "_view_module_version": "1.2.0",
            "_view_name": "StyleView",
            "bar_color": null,
            "description_width": ""
          }
        },
        "09dec3faa8cd477280b9e8a9c41763c3": {
          "model_module": "@jupyter-widgets/base",
          "model_name": "LayoutModel",
          "model_module_version": "1.2.0",
          "state": {
            "_model_module": "@jupyter-widgets/base",
            "_model_module_version": "1.2.0",
            "_model_name": "LayoutModel",
            "_view_count": null,
            "_view_module": "@jupyter-widgets/base",
            "_view_module_version": "1.2.0",
            "_view_name": "LayoutView",
            "align_content": null,
            "align_items": null,
            "align_self": null,
            "border": null,
            "bottom": null,
            "display": null,
            "flex": null,
            "flex_flow": null,
            "grid_area": null,
            "grid_auto_columns": null,
            "grid_auto_flow": null,
            "grid_auto_rows": null,
            "grid_column": null,
            "grid_gap": null,
            "grid_row": null,
            "grid_template_areas": null,
            "grid_template_columns": null,
            "grid_template_rows": null,
            "height": null,
            "justify_content": null,
            "justify_items": null,
            "left": null,
            "margin": null,
            "max_height": null,
            "max_width": null,
            "min_height": null,
            "min_width": null,
            "object_fit": null,
            "object_position": null,
            "order": null,
            "overflow": null,
            "overflow_x": null,
            "overflow_y": null,
            "padding": null,
            "right": null,
            "top": null,
            "visibility": null,
            "width": null
          }
        },
        "c51bdc3206254113b756ddd967115fe6": {
          "model_module": "@jupyter-widgets/controls",
          "model_name": "DescriptionStyleModel",
          "model_module_version": "1.5.0",
          "state": {
            "_model_module": "@jupyter-widgets/controls",
            "_model_module_version": "1.5.0",
            "_model_name": "DescriptionStyleModel",
            "_view_count": null,
            "_view_module": "@jupyter-widgets/base",
            "_view_module_version": "1.2.0",
            "_view_name": "StyleView",
            "description_width": ""
          }
        },
        "4634ed0e43d246a6b088f4fc49a11d0c": {
          "model_module": "@jupyter-widgets/controls",
          "model_name": "HBoxModel",
          "model_module_version": "1.5.0",
          "state": {
            "_dom_classes": [],
            "_model_module": "@jupyter-widgets/controls",
            "_model_module_version": "1.5.0",
            "_model_name": "HBoxModel",
            "_view_count": null,
            "_view_module": "@jupyter-widgets/controls",
            "_view_module_version": "1.5.0",
            "_view_name": "HBoxView",
            "box_style": "",
            "children": [
              "IPY_MODEL_d826e1a516c346e2b85f8b2476674dfe",
              "IPY_MODEL_75e77768e49c47f09c18c4c75c9a3075",
              "IPY_MODEL_1c254ff3bff24848b9c9e1586b73711b"
            ],
            "layout": "IPY_MODEL_1c2c7423b00543139ece31a039cb30fb"
          }
        },
        "d826e1a516c346e2b85f8b2476674dfe": {
          "model_module": "@jupyter-widgets/controls",
          "model_name": "HTMLModel",
          "model_module_version": "1.5.0",
          "state": {
            "_dom_classes": [],
            "_model_module": "@jupyter-widgets/controls",
            "_model_module_version": "1.5.0",
            "_model_name": "HTMLModel",
            "_view_count": null,
            "_view_module": "@jupyter-widgets/controls",
            "_view_module_version": "1.5.0",
            "_view_name": "HTMLView",
            "description": "",
            "description_tooltip": null,
            "layout": "IPY_MODEL_90e369ef411a4a9fbe007818fb9db1f5",
            "placeholder": "​",
            "style": "IPY_MODEL_0513c22879684f94b7682643ada06a25",
            "value": "sentence_bert_config.json: 100%"
          }
        },
        "75e77768e49c47f09c18c4c75c9a3075": {
          "model_module": "@jupyter-widgets/controls",
          "model_name": "FloatProgressModel",
          "model_module_version": "1.5.0",
          "state": {
            "_dom_classes": [],
            "_model_module": "@jupyter-widgets/controls",
            "_model_module_version": "1.5.0",
            "_model_name": "FloatProgressModel",
            "_view_count": null,
            "_view_module": "@jupyter-widgets/controls",
            "_view_module_version": "1.5.0",
            "_view_name": "ProgressView",
            "bar_style": "success",
            "description": "",
            "description_tooltip": null,
            "layout": "IPY_MODEL_b216de2d3e234944bf01022357076375",
            "max": 57,
            "min": 0,
            "orientation": "horizontal",
            "style": "IPY_MODEL_ae4325d5ee5d4e78a13adaef0757c064",
            "value": 57
          }
        },
        "1c254ff3bff24848b9c9e1586b73711b": {
          "model_module": "@jupyter-widgets/controls",
          "model_name": "HTMLModel",
          "model_module_version": "1.5.0",
          "state": {
            "_dom_classes": [],
            "_model_module": "@jupyter-widgets/controls",
            "_model_module_version": "1.5.0",
            "_model_name": "HTMLModel",
            "_view_count": null,
            "_view_module": "@jupyter-widgets/controls",
            "_view_module_version": "1.5.0",
            "_view_name": "HTMLView",
            "description": "",
            "description_tooltip": null,
            "layout": "IPY_MODEL_a6cd0c65fd2f4e599df18f70935da0a9",
            "placeholder": "​",
            "style": "IPY_MODEL_128f3c4e139046ce8137891fbd2185ab",
            "value": " 57.0/57.0 [00:00&lt;00:00, 6.38kB/s]"
          }
        },
        "1c2c7423b00543139ece31a039cb30fb": {
          "model_module": "@jupyter-widgets/base",
          "model_name": "LayoutModel",
          "model_module_version": "1.2.0",
          "state": {
            "_model_module": "@jupyter-widgets/base",
            "_model_module_version": "1.2.0",
            "_model_name": "LayoutModel",
            "_view_count": null,
            "_view_module": "@jupyter-widgets/base",
            "_view_module_version": "1.2.0",
            "_view_name": "LayoutView",
            "align_content": null,
            "align_items": null,
            "align_self": null,
            "border": null,
            "bottom": null,
            "display": null,
            "flex": null,
            "flex_flow": null,
            "grid_area": null,
            "grid_auto_columns": null,
            "grid_auto_flow": null,
            "grid_auto_rows": null,
            "grid_column": null,
            "grid_gap": null,
            "grid_row": null,
            "grid_template_areas": null,
            "grid_template_columns": null,
            "grid_template_rows": null,
            "height": null,
            "justify_content": null,
            "justify_items": null,
            "left": null,
            "margin": null,
            "max_height": null,
            "max_width": null,
            "min_height": null,
            "min_width": null,
            "object_fit": null,
            "object_position": null,
            "order": null,
            "overflow": null,
            "overflow_x": null,
            "overflow_y": null,
            "padding": null,
            "right": null,
            "top": null,
            "visibility": null,
            "width": null
          }
        },
        "90e369ef411a4a9fbe007818fb9db1f5": {
          "model_module": "@jupyter-widgets/base",
          "model_name": "LayoutModel",
          "model_module_version": "1.2.0",
          "state": {
            "_model_module": "@jupyter-widgets/base",
            "_model_module_version": "1.2.0",
            "_model_name": "LayoutModel",
            "_view_count": null,
            "_view_module": "@jupyter-widgets/base",
            "_view_module_version": "1.2.0",
            "_view_name": "LayoutView",
            "align_content": null,
            "align_items": null,
            "align_self": null,
            "border": null,
            "bottom": null,
            "display": null,
            "flex": null,
            "flex_flow": null,
            "grid_area": null,
            "grid_auto_columns": null,
            "grid_auto_flow": null,
            "grid_auto_rows": null,
            "grid_column": null,
            "grid_gap": null,
            "grid_row": null,
            "grid_template_areas": null,
            "grid_template_columns": null,
            "grid_template_rows": null,
            "height": null,
            "justify_content": null,
            "justify_items": null,
            "left": null,
            "margin": null,
            "max_height": null,
            "max_width": null,
            "min_height": null,
            "min_width": null,
            "object_fit": null,
            "object_position": null,
            "order": null,
            "overflow": null,
            "overflow_x": null,
            "overflow_y": null,
            "padding": null,
            "right": null,
            "top": null,
            "visibility": null,
            "width": null
          }
        },
        "0513c22879684f94b7682643ada06a25": {
          "model_module": "@jupyter-widgets/controls",
          "model_name": "DescriptionStyleModel",
          "model_module_version": "1.5.0",
          "state": {
            "_model_module": "@jupyter-widgets/controls",
            "_model_module_version": "1.5.0",
            "_model_name": "DescriptionStyleModel",
            "_view_count": null,
            "_view_module": "@jupyter-widgets/base",
            "_view_module_version": "1.2.0",
            "_view_name": "StyleView",
            "description_width": ""
          }
        },
        "b216de2d3e234944bf01022357076375": {
          "model_module": "@jupyter-widgets/base",
          "model_name": "LayoutModel",
          "model_module_version": "1.2.0",
          "state": {
            "_model_module": "@jupyter-widgets/base",
            "_model_module_version": "1.2.0",
            "_model_name": "LayoutModel",
            "_view_count": null,
            "_view_module": "@jupyter-widgets/base",
            "_view_module_version": "1.2.0",
            "_view_name": "LayoutView",
            "align_content": null,
            "align_items": null,
            "align_self": null,
            "border": null,
            "bottom": null,
            "display": null,
            "flex": null,
            "flex_flow": null,
            "grid_area": null,
            "grid_auto_columns": null,
            "grid_auto_flow": null,
            "grid_auto_rows": null,
            "grid_column": null,
            "grid_gap": null,
            "grid_row": null,
            "grid_template_areas": null,
            "grid_template_columns": null,
            "grid_template_rows": null,
            "height": null,
            "justify_content": null,
            "justify_items": null,
            "left": null,
            "margin": null,
            "max_height": null,
            "max_width": null,
            "min_height": null,
            "min_width": null,
            "object_fit": null,
            "object_position": null,
            "order": null,
            "overflow": null,
            "overflow_x": null,
            "overflow_y": null,
            "padding": null,
            "right": null,
            "top": null,
            "visibility": null,
            "width": null
          }
        },
        "ae4325d5ee5d4e78a13adaef0757c064": {
          "model_module": "@jupyter-widgets/controls",
          "model_name": "ProgressStyleModel",
          "model_module_version": "1.5.0",
          "state": {
            "_model_module": "@jupyter-widgets/controls",
            "_model_module_version": "1.5.0",
            "_model_name": "ProgressStyleModel",
            "_view_count": null,
            "_view_module": "@jupyter-widgets/base",
            "_view_module_version": "1.2.0",
            "_view_name": "StyleView",
            "bar_color": null,
            "description_width": ""
          }
        },
        "a6cd0c65fd2f4e599df18f70935da0a9": {
          "model_module": "@jupyter-widgets/base",
          "model_name": "LayoutModel",
          "model_module_version": "1.2.0",
          "state": {
            "_model_module": "@jupyter-widgets/base",
            "_model_module_version": "1.2.0",
            "_model_name": "LayoutModel",
            "_view_count": null,
            "_view_module": "@jupyter-widgets/base",
            "_view_module_version": "1.2.0",
            "_view_name": "LayoutView",
            "align_content": null,
            "align_items": null,
            "align_self": null,
            "border": null,
            "bottom": null,
            "display": null,
            "flex": null,
            "flex_flow": null,
            "grid_area": null,
            "grid_auto_columns": null,
            "grid_auto_flow": null,
            "grid_auto_rows": null,
            "grid_column": null,
            "grid_gap": null,
            "grid_row": null,
            "grid_template_areas": null,
            "grid_template_columns": null,
            "grid_template_rows": null,
            "height": null,
            "justify_content": null,
            "justify_items": null,
            "left": null,
            "margin": null,
            "max_height": null,
            "max_width": null,
            "min_height": null,
            "min_width": null,
            "object_fit": null,
            "object_position": null,
            "order": null,
            "overflow": null,
            "overflow_x": null,
            "overflow_y": null,
            "padding": null,
            "right": null,
            "top": null,
            "visibility": null,
            "width": null
          }
        },
        "128f3c4e139046ce8137891fbd2185ab": {
          "model_module": "@jupyter-widgets/controls",
          "model_name": "DescriptionStyleModel",
          "model_module_version": "1.5.0",
          "state": {
            "_model_module": "@jupyter-widgets/controls",
            "_model_module_version": "1.5.0",
            "_model_name": "DescriptionStyleModel",
            "_view_count": null,
            "_view_module": "@jupyter-widgets/base",
            "_view_module_version": "1.2.0",
            "_view_name": "StyleView",
            "description_width": ""
          }
        },
        "88060847d43f4d78ac06e30f8d7f010a": {
          "model_module": "@jupyter-widgets/controls",
          "model_name": "HBoxModel",
          "model_module_version": "1.5.0",
          "state": {
            "_dom_classes": [],
            "_model_module": "@jupyter-widgets/controls",
            "_model_module_version": "1.5.0",
            "_model_name": "HBoxModel",
            "_view_count": null,
            "_view_module": "@jupyter-widgets/controls",
            "_view_module_version": "1.5.0",
            "_view_name": "HBoxView",
            "box_style": "",
            "children": [
              "IPY_MODEL_35de3e548dcd4ad8b69f597bc9698cfa",
              "IPY_MODEL_afa1ca03635640d3b149aa8e26673ce6",
              "IPY_MODEL_803f0b7a75484b0cb3186f319f79327b"
            ],
            "layout": "IPY_MODEL_1dbae081b319404abeb9ec18acf99fea"
          }
        },
        "35de3e548dcd4ad8b69f597bc9698cfa": {
          "model_module": "@jupyter-widgets/controls",
          "model_name": "HTMLModel",
          "model_module_version": "1.5.0",
          "state": {
            "_dom_classes": [],
            "_model_module": "@jupyter-widgets/controls",
            "_model_module_version": "1.5.0",
            "_model_name": "HTMLModel",
            "_view_count": null,
            "_view_module": "@jupyter-widgets/controls",
            "_view_module_version": "1.5.0",
            "_view_name": "HTMLView",
            "description": "",
            "description_tooltip": null,
            "layout": "IPY_MODEL_df2f82d7336b4f3b9902b0451349b68e",
            "placeholder": "​",
            "style": "IPY_MODEL_a4d0df0f843d4bdba09b98db61a7da61",
            "value": "config.json: 100%"
          }
        },
        "afa1ca03635640d3b149aa8e26673ce6": {
          "model_module": "@jupyter-widgets/controls",
          "model_name": "FloatProgressModel",
          "model_module_version": "1.5.0",
          "state": {
            "_dom_classes": [],
            "_model_module": "@jupyter-widgets/controls",
            "_model_module_version": "1.5.0",
            "_model_name": "FloatProgressModel",
            "_view_count": null,
            "_view_module": "@jupyter-widgets/controls",
            "_view_module_version": "1.5.0",
            "_view_name": "ProgressView",
            "bar_style": "success",
            "description": "",
            "description_tooltip": null,
            "layout": "IPY_MODEL_9fe498922f0d4dd3969053c780445182",
            "max": 619,
            "min": 0,
            "orientation": "horizontal",
            "style": "IPY_MODEL_5abf4cf854934baca37713bd8a924256",
            "value": 619
          }
        },
        "803f0b7a75484b0cb3186f319f79327b": {
          "model_module": "@jupyter-widgets/controls",
          "model_name": "HTMLModel",
          "model_module_version": "1.5.0",
          "state": {
            "_dom_classes": [],
            "_model_module": "@jupyter-widgets/controls",
            "_model_module_version": "1.5.0",
            "_model_name": "HTMLModel",
            "_view_count": null,
            "_view_module": "@jupyter-widgets/controls",
            "_view_module_version": "1.5.0",
            "_view_name": "HTMLView",
            "description": "",
            "description_tooltip": null,
            "layout": "IPY_MODEL_ae2b1aeb87fe42f69f8086e130bd29ec",
            "placeholder": "​",
            "style": "IPY_MODEL_3d09a87a2f4641c3ba51d26a1003e219",
            "value": " 619/619 [00:00&lt;00:00, 69.0kB/s]"
          }
        },
        "1dbae081b319404abeb9ec18acf99fea": {
          "model_module": "@jupyter-widgets/base",
          "model_name": "LayoutModel",
          "model_module_version": "1.2.0",
          "state": {
            "_model_module": "@jupyter-widgets/base",
            "_model_module_version": "1.2.0",
            "_model_name": "LayoutModel",
            "_view_count": null,
            "_view_module": "@jupyter-widgets/base",
            "_view_module_version": "1.2.0",
            "_view_name": "LayoutView",
            "align_content": null,
            "align_items": null,
            "align_self": null,
            "border": null,
            "bottom": null,
            "display": null,
            "flex": null,
            "flex_flow": null,
            "grid_area": null,
            "grid_auto_columns": null,
            "grid_auto_flow": null,
            "grid_auto_rows": null,
            "grid_column": null,
            "grid_gap": null,
            "grid_row": null,
            "grid_template_areas": null,
            "grid_template_columns": null,
            "grid_template_rows": null,
            "height": null,
            "justify_content": null,
            "justify_items": null,
            "left": null,
            "margin": null,
            "max_height": null,
            "max_width": null,
            "min_height": null,
            "min_width": null,
            "object_fit": null,
            "object_position": null,
            "order": null,
            "overflow": null,
            "overflow_x": null,
            "overflow_y": null,
            "padding": null,
            "right": null,
            "top": null,
            "visibility": null,
            "width": null
          }
        },
        "df2f82d7336b4f3b9902b0451349b68e": {
          "model_module": "@jupyter-widgets/base",
          "model_name": "LayoutModel",
          "model_module_version": "1.2.0",
          "state": {
            "_model_module": "@jupyter-widgets/base",
            "_model_module_version": "1.2.0",
            "_model_name": "LayoutModel",
            "_view_count": null,
            "_view_module": "@jupyter-widgets/base",
            "_view_module_version": "1.2.0",
            "_view_name": "LayoutView",
            "align_content": null,
            "align_items": null,
            "align_self": null,
            "border": null,
            "bottom": null,
            "display": null,
            "flex": null,
            "flex_flow": null,
            "grid_area": null,
            "grid_auto_columns": null,
            "grid_auto_flow": null,
            "grid_auto_rows": null,
            "grid_column": null,
            "grid_gap": null,
            "grid_row": null,
            "grid_template_areas": null,
            "grid_template_columns": null,
            "grid_template_rows": null,
            "height": null,
            "justify_content": null,
            "justify_items": null,
            "left": null,
            "margin": null,
            "max_height": null,
            "max_width": null,
            "min_height": null,
            "min_width": null,
            "object_fit": null,
            "object_position": null,
            "order": null,
            "overflow": null,
            "overflow_x": null,
            "overflow_y": null,
            "padding": null,
            "right": null,
            "top": null,
            "visibility": null,
            "width": null
          }
        },
        "a4d0df0f843d4bdba09b98db61a7da61": {
          "model_module": "@jupyter-widgets/controls",
          "model_name": "DescriptionStyleModel",
          "model_module_version": "1.5.0",
          "state": {
            "_model_module": "@jupyter-widgets/controls",
            "_model_module_version": "1.5.0",
            "_model_name": "DescriptionStyleModel",
            "_view_count": null,
            "_view_module": "@jupyter-widgets/base",
            "_view_module_version": "1.2.0",
            "_view_name": "StyleView",
            "description_width": ""
          }
        },
        "9fe498922f0d4dd3969053c780445182": {
          "model_module": "@jupyter-widgets/base",
          "model_name": "LayoutModel",
          "model_module_version": "1.2.0",
          "state": {
            "_model_module": "@jupyter-widgets/base",
            "_model_module_version": "1.2.0",
            "_model_name": "LayoutModel",
            "_view_count": null,
            "_view_module": "@jupyter-widgets/base",
            "_view_module_version": "1.2.0",
            "_view_name": "LayoutView",
            "align_content": null,
            "align_items": null,
            "align_self": null,
            "border": null,
            "bottom": null,
            "display": null,
            "flex": null,
            "flex_flow": null,
            "grid_area": null,
            "grid_auto_columns": null,
            "grid_auto_flow": null,
            "grid_auto_rows": null,
            "grid_column": null,
            "grid_gap": null,
            "grid_row": null,
            "grid_template_areas": null,
            "grid_template_columns": null,
            "grid_template_rows": null,
            "height": null,
            "justify_content": null,
            "justify_items": null,
            "left": null,
            "margin": null,
            "max_height": null,
            "max_width": null,
            "min_height": null,
            "min_width": null,
            "object_fit": null,
            "object_position": null,
            "order": null,
            "overflow": null,
            "overflow_x": null,
            "overflow_y": null,
            "padding": null,
            "right": null,
            "top": null,
            "visibility": null,
            "width": null
          }
        },
        "5abf4cf854934baca37713bd8a924256": {
          "model_module": "@jupyter-widgets/controls",
          "model_name": "ProgressStyleModel",
          "model_module_version": "1.5.0",
          "state": {
            "_model_module": "@jupyter-widgets/controls",
            "_model_module_version": "1.5.0",
            "_model_name": "ProgressStyleModel",
            "_view_count": null,
            "_view_module": "@jupyter-widgets/base",
            "_view_module_version": "1.2.0",
            "_view_name": "StyleView",
            "bar_color": null,
            "description_width": ""
          }
        },
        "ae2b1aeb87fe42f69f8086e130bd29ec": {
          "model_module": "@jupyter-widgets/base",
          "model_name": "LayoutModel",
          "model_module_version": "1.2.0",
          "state": {
            "_model_module": "@jupyter-widgets/base",
            "_model_module_version": "1.2.0",
            "_model_name": "LayoutModel",
            "_view_count": null,
            "_view_module": "@jupyter-widgets/base",
            "_view_module_version": "1.2.0",
            "_view_name": "LayoutView",
            "align_content": null,
            "align_items": null,
            "align_self": null,
            "border": null,
            "bottom": null,
            "display": null,
            "flex": null,
            "flex_flow": null,
            "grid_area": null,
            "grid_auto_columns": null,
            "grid_auto_flow": null,
            "grid_auto_rows": null,
            "grid_column": null,
            "grid_gap": null,
            "grid_row": null,
            "grid_template_areas": null,
            "grid_template_columns": null,
            "grid_template_rows": null,
            "height": null,
            "justify_content": null,
            "justify_items": null,
            "left": null,
            "margin": null,
            "max_height": null,
            "max_width": null,
            "min_height": null,
            "min_width": null,
            "object_fit": null,
            "object_position": null,
            "order": null,
            "overflow": null,
            "overflow_x": null,
            "overflow_y": null,
            "padding": null,
            "right": null,
            "top": null,
            "visibility": null,
            "width": null
          }
        },
        "3d09a87a2f4641c3ba51d26a1003e219": {
          "model_module": "@jupyter-widgets/controls",
          "model_name": "DescriptionStyleModel",
          "model_module_version": "1.5.0",
          "state": {
            "_model_module": "@jupyter-widgets/controls",
            "_model_module_version": "1.5.0",
            "_model_name": "DescriptionStyleModel",
            "_view_count": null,
            "_view_module": "@jupyter-widgets/base",
            "_view_module_version": "1.2.0",
            "_view_name": "StyleView",
            "description_width": ""
          }
        },
        "224434d2ca094221b6b8912da0361fd5": {
          "model_module": "@jupyter-widgets/controls",
          "model_name": "HBoxModel",
          "model_module_version": "1.5.0",
          "state": {
            "_dom_classes": [],
            "_model_module": "@jupyter-widgets/controls",
            "_model_module_version": "1.5.0",
            "_model_name": "HBoxModel",
            "_view_count": null,
            "_view_module": "@jupyter-widgets/controls",
            "_view_module_version": "1.5.0",
            "_view_name": "HBoxView",
            "box_style": "",
            "children": [
              "IPY_MODEL_63e8dd257c61402baa1e4f54fa859f4e",
              "IPY_MODEL_4be9a2ac23414fd99384311014f3e2ae",
              "IPY_MODEL_fad49db93e264186b5bcf9f1170b4cba"
            ],
            "layout": "IPY_MODEL_7c3ad5f1fab842dea5bbc50eaeb83513"
          }
        },
        "63e8dd257c61402baa1e4f54fa859f4e": {
          "model_module": "@jupyter-widgets/controls",
          "model_name": "HTMLModel",
          "model_module_version": "1.5.0",
          "state": {
            "_dom_classes": [],
            "_model_module": "@jupyter-widgets/controls",
            "_model_module_version": "1.5.0",
            "_model_name": "HTMLModel",
            "_view_count": null,
            "_view_module": "@jupyter-widgets/controls",
            "_view_module_version": "1.5.0",
            "_view_name": "HTMLView",
            "description": "",
            "description_tooltip": null,
            "layout": "IPY_MODEL_5d7c9a350eb24127ae7ecdca52cb6b50",
            "placeholder": "​",
            "style": "IPY_MODEL_d8344c7f6fe448448c7ce853a53ff365",
            "value": "model.safetensors: 100%"
          }
        },
        "4be9a2ac23414fd99384311014f3e2ae": {
          "model_module": "@jupyter-widgets/controls",
          "model_name": "FloatProgressModel",
          "model_module_version": "1.5.0",
          "state": {
            "_dom_classes": [],
            "_model_module": "@jupyter-widgets/controls",
            "_model_module_version": "1.5.0",
            "_model_name": "FloatProgressModel",
            "_view_count": null,
            "_view_module": "@jupyter-widgets/controls",
            "_view_module_version": "1.5.0",
            "_view_name": "ProgressView",
            "bar_style": "success",
            "description": "",
            "description_tooltip": null,
            "layout": "IPY_MODEL_3345b3204c994313a0fdbedf135c8191",
            "max": 670332568,
            "min": 0,
            "orientation": "horizontal",
            "style": "IPY_MODEL_dae0e6e3bdbf4ad3b2437b9f4cc001c9",
            "value": 670332568
          }
        },
        "fad49db93e264186b5bcf9f1170b4cba": {
          "model_module": "@jupyter-widgets/controls",
          "model_name": "HTMLModel",
          "model_module_version": "1.5.0",
          "state": {
            "_dom_classes": [],
            "_model_module": "@jupyter-widgets/controls",
            "_model_module_version": "1.5.0",
            "_model_name": "HTMLModel",
            "_view_count": null,
            "_view_module": "@jupyter-widgets/controls",
            "_view_module_version": "1.5.0",
            "_view_name": "HTMLView",
            "description": "",
            "description_tooltip": null,
            "layout": "IPY_MODEL_1beb65a32fc34c4eb8b2500daa736d6a",
            "placeholder": "​",
            "style": "IPY_MODEL_c0ae6fc8f0d8443d90c7cbacbff60e8f",
            "value": " 670M/670M [00:02&lt;00:00, 146MB/s]"
          }
        },
        "7c3ad5f1fab842dea5bbc50eaeb83513": {
          "model_module": "@jupyter-widgets/base",
          "model_name": "LayoutModel",
          "model_module_version": "1.2.0",
          "state": {
            "_model_module": "@jupyter-widgets/base",
            "_model_module_version": "1.2.0",
            "_model_name": "LayoutModel",
            "_view_count": null,
            "_view_module": "@jupyter-widgets/base",
            "_view_module_version": "1.2.0",
            "_view_name": "LayoutView",
            "align_content": null,
            "align_items": null,
            "align_self": null,
            "border": null,
            "bottom": null,
            "display": null,
            "flex": null,
            "flex_flow": null,
            "grid_area": null,
            "grid_auto_columns": null,
            "grid_auto_flow": null,
            "grid_auto_rows": null,
            "grid_column": null,
            "grid_gap": null,
            "grid_row": null,
            "grid_template_areas": null,
            "grid_template_columns": null,
            "grid_template_rows": null,
            "height": null,
            "justify_content": null,
            "justify_items": null,
            "left": null,
            "margin": null,
            "max_height": null,
            "max_width": null,
            "min_height": null,
            "min_width": null,
            "object_fit": null,
            "object_position": null,
            "order": null,
            "overflow": null,
            "overflow_x": null,
            "overflow_y": null,
            "padding": null,
            "right": null,
            "top": null,
            "visibility": null,
            "width": null
          }
        },
        "5d7c9a350eb24127ae7ecdca52cb6b50": {
          "model_module": "@jupyter-widgets/base",
          "model_name": "LayoutModel",
          "model_module_version": "1.2.0",
          "state": {
            "_model_module": "@jupyter-widgets/base",
            "_model_module_version": "1.2.0",
            "_model_name": "LayoutModel",
            "_view_count": null,
            "_view_module": "@jupyter-widgets/base",
            "_view_module_version": "1.2.0",
            "_view_name": "LayoutView",
            "align_content": null,
            "align_items": null,
            "align_self": null,
            "border": null,
            "bottom": null,
            "display": null,
            "flex": null,
            "flex_flow": null,
            "grid_area": null,
            "grid_auto_columns": null,
            "grid_auto_flow": null,
            "grid_auto_rows": null,
            "grid_column": null,
            "grid_gap": null,
            "grid_row": null,
            "grid_template_areas": null,
            "grid_template_columns": null,
            "grid_template_rows": null,
            "height": null,
            "justify_content": null,
            "justify_items": null,
            "left": null,
            "margin": null,
            "max_height": null,
            "max_width": null,
            "min_height": null,
            "min_width": null,
            "object_fit": null,
            "object_position": null,
            "order": null,
            "overflow": null,
            "overflow_x": null,
            "overflow_y": null,
            "padding": null,
            "right": null,
            "top": null,
            "visibility": null,
            "width": null
          }
        },
        "d8344c7f6fe448448c7ce853a53ff365": {
          "model_module": "@jupyter-widgets/controls",
          "model_name": "DescriptionStyleModel",
          "model_module_version": "1.5.0",
          "state": {
            "_model_module": "@jupyter-widgets/controls",
            "_model_module_version": "1.5.0",
            "_model_name": "DescriptionStyleModel",
            "_view_count": null,
            "_view_module": "@jupyter-widgets/base",
            "_view_module_version": "1.2.0",
            "_view_name": "StyleView",
            "description_width": ""
          }
        },
        "3345b3204c994313a0fdbedf135c8191": {
          "model_module": "@jupyter-widgets/base",
          "model_name": "LayoutModel",
          "model_module_version": "1.2.0",
          "state": {
            "_model_module": "@jupyter-widgets/base",
            "_model_module_version": "1.2.0",
            "_model_name": "LayoutModel",
            "_view_count": null,
            "_view_module": "@jupyter-widgets/base",
            "_view_module_version": "1.2.0",
            "_view_name": "LayoutView",
            "align_content": null,
            "align_items": null,
            "align_self": null,
            "border": null,
            "bottom": null,
            "display": null,
            "flex": null,
            "flex_flow": null,
            "grid_area": null,
            "grid_auto_columns": null,
            "grid_auto_flow": null,
            "grid_auto_rows": null,
            "grid_column": null,
            "grid_gap": null,
            "grid_row": null,
            "grid_template_areas": null,
            "grid_template_columns": null,
            "grid_template_rows": null,
            "height": null,
            "justify_content": null,
            "justify_items": null,
            "left": null,
            "margin": null,
            "max_height": null,
            "max_width": null,
            "min_height": null,
            "min_width": null,
            "object_fit": null,
            "object_position": null,
            "order": null,
            "overflow": null,
            "overflow_x": null,
            "overflow_y": null,
            "padding": null,
            "right": null,
            "top": null,
            "visibility": null,
            "width": null
          }
        },
        "dae0e6e3bdbf4ad3b2437b9f4cc001c9": {
          "model_module": "@jupyter-widgets/controls",
          "model_name": "ProgressStyleModel",
          "model_module_version": "1.5.0",
          "state": {
            "_model_module": "@jupyter-widgets/controls",
            "_model_module_version": "1.5.0",
            "_model_name": "ProgressStyleModel",
            "_view_count": null,
            "_view_module": "@jupyter-widgets/base",
            "_view_module_version": "1.2.0",
            "_view_name": "StyleView",
            "bar_color": null,
            "description_width": ""
          }
        },
        "1beb65a32fc34c4eb8b2500daa736d6a": {
          "model_module": "@jupyter-widgets/base",
          "model_name": "LayoutModel",
          "model_module_version": "1.2.0",
          "state": {
            "_model_module": "@jupyter-widgets/base",
            "_model_module_version": "1.2.0",
            "_model_name": "LayoutModel",
            "_view_count": null,
            "_view_module": "@jupyter-widgets/base",
            "_view_module_version": "1.2.0",
            "_view_name": "LayoutView",
            "align_content": null,
            "align_items": null,
            "align_self": null,
            "border": null,
            "bottom": null,
            "display": null,
            "flex": null,
            "flex_flow": null,
            "grid_area": null,
            "grid_auto_columns": null,
            "grid_auto_flow": null,
            "grid_auto_rows": null,
            "grid_column": null,
            "grid_gap": null,
            "grid_row": null,
            "grid_template_areas": null,
            "grid_template_columns": null,
            "grid_template_rows": null,
            "height": null,
            "justify_content": null,
            "justify_items": null,
            "left": null,
            "margin": null,
            "max_height": null,
            "max_width": null,
            "min_height": null,
            "min_width": null,
            "object_fit": null,
            "object_position": null,
            "order": null,
            "overflow": null,
            "overflow_x": null,
            "overflow_y": null,
            "padding": null,
            "right": null,
            "top": null,
            "visibility": null,
            "width": null
          }
        },
        "c0ae6fc8f0d8443d90c7cbacbff60e8f": {
          "model_module": "@jupyter-widgets/controls",
          "model_name": "DescriptionStyleModel",
          "model_module_version": "1.5.0",
          "state": {
            "_model_module": "@jupyter-widgets/controls",
            "_model_module_version": "1.5.0",
            "_model_name": "DescriptionStyleModel",
            "_view_count": null,
            "_view_module": "@jupyter-widgets/base",
            "_view_module_version": "1.2.0",
            "_view_name": "StyleView",
            "description_width": ""
          }
        },
        "bc987b63a2d2496b8bd5a4edaf5499e6": {
          "model_module": "@jupyter-widgets/controls",
          "model_name": "HBoxModel",
          "model_module_version": "1.5.0",
          "state": {
            "_dom_classes": [],
            "_model_module": "@jupyter-widgets/controls",
            "_model_module_version": "1.5.0",
            "_model_name": "HBoxModel",
            "_view_count": null,
            "_view_module": "@jupyter-widgets/controls",
            "_view_module_version": "1.5.0",
            "_view_name": "HBoxView",
            "box_style": "",
            "children": [
              "IPY_MODEL_20a75b18451844a2bdf591995e6752f7",
              "IPY_MODEL_1fc73d8d688045609823ddb63227590f",
              "IPY_MODEL_55fe04bfd96b4fd4bf6a25bc78f8d525"
            ],
            "layout": "IPY_MODEL_683aa74b1b3740ff998eae088648d55d"
          }
        },
        "20a75b18451844a2bdf591995e6752f7": {
          "model_module": "@jupyter-widgets/controls",
          "model_name": "HTMLModel",
          "model_module_version": "1.5.0",
          "state": {
            "_dom_classes": [],
            "_model_module": "@jupyter-widgets/controls",
            "_model_module_version": "1.5.0",
            "_model_name": "HTMLModel",
            "_view_count": null,
            "_view_module": "@jupyter-widgets/controls",
            "_view_module_version": "1.5.0",
            "_view_name": "HTMLView",
            "description": "",
            "description_tooltip": null,
            "layout": "IPY_MODEL_bc37cb3a18d94228a97a37fd3cde5d9c",
            "placeholder": "​",
            "style": "IPY_MODEL_801d67bd1ecc4080ba80cf0de4165d8e",
            "value": "tokenizer_config.json: 100%"
          }
        },
        "1fc73d8d688045609823ddb63227590f": {
          "model_module": "@jupyter-widgets/controls",
          "model_name": "FloatProgressModel",
          "model_module_version": "1.5.0",
          "state": {
            "_dom_classes": [],
            "_model_module": "@jupyter-widgets/controls",
            "_model_module_version": "1.5.0",
            "_model_name": "FloatProgressModel",
            "_view_count": null,
            "_view_module": "@jupyter-widgets/controls",
            "_view_module_version": "1.5.0",
            "_view_name": "ProgressView",
            "bar_style": "success",
            "description": "",
            "description_tooltip": null,
            "layout": "IPY_MODEL_94d7ad0d6e5747f2958282a0c269d6d9",
            "max": 342,
            "min": 0,
            "orientation": "horizontal",
            "style": "IPY_MODEL_048f2eb2528e4ed9a362c82c2ddeefe7",
            "value": 342
          }
        },
        "55fe04bfd96b4fd4bf6a25bc78f8d525": {
          "model_module": "@jupyter-widgets/controls",
          "model_name": "HTMLModel",
          "model_module_version": "1.5.0",
          "state": {
            "_dom_classes": [],
            "_model_module": "@jupyter-widgets/controls",
            "_model_module_version": "1.5.0",
            "_model_name": "HTMLModel",
            "_view_count": null,
            "_view_module": "@jupyter-widgets/controls",
            "_view_module_version": "1.5.0",
            "_view_name": "HTMLView",
            "description": "",
            "description_tooltip": null,
            "layout": "IPY_MODEL_5e86501ba0744a6984948817b6994fc6",
            "placeholder": "​",
            "style": "IPY_MODEL_056e3679570643b3a15531cbd9d28740",
            "value": " 342/342 [00:00&lt;00:00, 30.6kB/s]"
          }
        },
        "683aa74b1b3740ff998eae088648d55d": {
          "model_module": "@jupyter-widgets/base",
          "model_name": "LayoutModel",
          "model_module_version": "1.2.0",
          "state": {
            "_model_module": "@jupyter-widgets/base",
            "_model_module_version": "1.2.0",
            "_model_name": "LayoutModel",
            "_view_count": null,
            "_view_module": "@jupyter-widgets/base",
            "_view_module_version": "1.2.0",
            "_view_name": "LayoutView",
            "align_content": null,
            "align_items": null,
            "align_self": null,
            "border": null,
            "bottom": null,
            "display": null,
            "flex": null,
            "flex_flow": null,
            "grid_area": null,
            "grid_auto_columns": null,
            "grid_auto_flow": null,
            "grid_auto_rows": null,
            "grid_column": null,
            "grid_gap": null,
            "grid_row": null,
            "grid_template_areas": null,
            "grid_template_columns": null,
            "grid_template_rows": null,
            "height": null,
            "justify_content": null,
            "justify_items": null,
            "left": null,
            "margin": null,
            "max_height": null,
            "max_width": null,
            "min_height": null,
            "min_width": null,
            "object_fit": null,
            "object_position": null,
            "order": null,
            "overflow": null,
            "overflow_x": null,
            "overflow_y": null,
            "padding": null,
            "right": null,
            "top": null,
            "visibility": null,
            "width": null
          }
        },
        "bc37cb3a18d94228a97a37fd3cde5d9c": {
          "model_module": "@jupyter-widgets/base",
          "model_name": "LayoutModel",
          "model_module_version": "1.2.0",
          "state": {
            "_model_module": "@jupyter-widgets/base",
            "_model_module_version": "1.2.0",
            "_model_name": "LayoutModel",
            "_view_count": null,
            "_view_module": "@jupyter-widgets/base",
            "_view_module_version": "1.2.0",
            "_view_name": "LayoutView",
            "align_content": null,
            "align_items": null,
            "align_self": null,
            "border": null,
            "bottom": null,
            "display": null,
            "flex": null,
            "flex_flow": null,
            "grid_area": null,
            "grid_auto_columns": null,
            "grid_auto_flow": null,
            "grid_auto_rows": null,
            "grid_column": null,
            "grid_gap": null,
            "grid_row": null,
            "grid_template_areas": null,
            "grid_template_columns": null,
            "grid_template_rows": null,
            "height": null,
            "justify_content": null,
            "justify_items": null,
            "left": null,
            "margin": null,
            "max_height": null,
            "max_width": null,
            "min_height": null,
            "min_width": null,
            "object_fit": null,
            "object_position": null,
            "order": null,
            "overflow": null,
            "overflow_x": null,
            "overflow_y": null,
            "padding": null,
            "right": null,
            "top": null,
            "visibility": null,
            "width": null
          }
        },
        "801d67bd1ecc4080ba80cf0de4165d8e": {
          "model_module": "@jupyter-widgets/controls",
          "model_name": "DescriptionStyleModel",
          "model_module_version": "1.5.0",
          "state": {
            "_model_module": "@jupyter-widgets/controls",
            "_model_module_version": "1.5.0",
            "_model_name": "DescriptionStyleModel",
            "_view_count": null,
            "_view_module": "@jupyter-widgets/base",
            "_view_module_version": "1.2.0",
            "_view_name": "StyleView",
            "description_width": ""
          }
        },
        "94d7ad0d6e5747f2958282a0c269d6d9": {
          "model_module": "@jupyter-widgets/base",
          "model_name": "LayoutModel",
          "model_module_version": "1.2.0",
          "state": {
            "_model_module": "@jupyter-widgets/base",
            "_model_module_version": "1.2.0",
            "_model_name": "LayoutModel",
            "_view_count": null,
            "_view_module": "@jupyter-widgets/base",
            "_view_module_version": "1.2.0",
            "_view_name": "LayoutView",
            "align_content": null,
            "align_items": null,
            "align_self": null,
            "border": null,
            "bottom": null,
            "display": null,
            "flex": null,
            "flex_flow": null,
            "grid_area": null,
            "grid_auto_columns": null,
            "grid_auto_flow": null,
            "grid_auto_rows": null,
            "grid_column": null,
            "grid_gap": null,
            "grid_row": null,
            "grid_template_areas": null,
            "grid_template_columns": null,
            "grid_template_rows": null,
            "height": null,
            "justify_content": null,
            "justify_items": null,
            "left": null,
            "margin": null,
            "max_height": null,
            "max_width": null,
            "min_height": null,
            "min_width": null,
            "object_fit": null,
            "object_position": null,
            "order": null,
            "overflow": null,
            "overflow_x": null,
            "overflow_y": null,
            "padding": null,
            "right": null,
            "top": null,
            "visibility": null,
            "width": null
          }
        },
        "048f2eb2528e4ed9a362c82c2ddeefe7": {
          "model_module": "@jupyter-widgets/controls",
          "model_name": "ProgressStyleModel",
          "model_module_version": "1.5.0",
          "state": {
            "_model_module": "@jupyter-widgets/controls",
            "_model_module_version": "1.5.0",
            "_model_name": "ProgressStyleModel",
            "_view_count": null,
            "_view_module": "@jupyter-widgets/base",
            "_view_module_version": "1.2.0",
            "_view_name": "StyleView",
            "bar_color": null,
            "description_width": ""
          }
        },
        "5e86501ba0744a6984948817b6994fc6": {
          "model_module": "@jupyter-widgets/base",
          "model_name": "LayoutModel",
          "model_module_version": "1.2.0",
          "state": {
            "_model_module": "@jupyter-widgets/base",
            "_model_module_version": "1.2.0",
            "_model_name": "LayoutModel",
            "_view_count": null,
            "_view_module": "@jupyter-widgets/base",
            "_view_module_version": "1.2.0",
            "_view_name": "LayoutView",
            "align_content": null,
            "align_items": null,
            "align_self": null,
            "border": null,
            "bottom": null,
            "display": null,
            "flex": null,
            "flex_flow": null,
            "grid_area": null,
            "grid_auto_columns": null,
            "grid_auto_flow": null,
            "grid_auto_rows": null,
            "grid_column": null,
            "grid_gap": null,
            "grid_row": null,
            "grid_template_areas": null,
            "grid_template_columns": null,
            "grid_template_rows": null,
            "height": null,
            "justify_content": null,
            "justify_items": null,
            "left": null,
            "margin": null,
            "max_height": null,
            "max_width": null,
            "min_height": null,
            "min_width": null,
            "object_fit": null,
            "object_position": null,
            "order": null,
            "overflow": null,
            "overflow_x": null,
            "overflow_y": null,
            "padding": null,
            "right": null,
            "top": null,
            "visibility": null,
            "width": null
          }
        },
        "056e3679570643b3a15531cbd9d28740": {
          "model_module": "@jupyter-widgets/controls",
          "model_name": "DescriptionStyleModel",
          "model_module_version": "1.5.0",
          "state": {
            "_model_module": "@jupyter-widgets/controls",
            "_model_module_version": "1.5.0",
            "_model_name": "DescriptionStyleModel",
            "_view_count": null,
            "_view_module": "@jupyter-widgets/base",
            "_view_module_version": "1.2.0",
            "_view_name": "StyleView",
            "description_width": ""
          }
        },
        "384f3abfe1604ca79282472f84404e49": {
          "model_module": "@jupyter-widgets/controls",
          "model_name": "HBoxModel",
          "model_module_version": "1.5.0",
          "state": {
            "_dom_classes": [],
            "_model_module": "@jupyter-widgets/controls",
            "_model_module_version": "1.5.0",
            "_model_name": "HBoxModel",
            "_view_count": null,
            "_view_module": "@jupyter-widgets/controls",
            "_view_module_version": "1.5.0",
            "_view_name": "HBoxView",
            "box_style": "",
            "children": [
              "IPY_MODEL_9392a9e168e042d68381db4dc86dc355",
              "IPY_MODEL_25e8e75928324c9fbf1859b47818203f",
              "IPY_MODEL_4c2800d89d254f8884467b8d0db54210"
            ],
            "layout": "IPY_MODEL_78c96959343c4401b6adde636e5f7d89"
          }
        },
        "9392a9e168e042d68381db4dc86dc355": {
          "model_module": "@jupyter-widgets/controls",
          "model_name": "HTMLModel",
          "model_module_version": "1.5.0",
          "state": {
            "_dom_classes": [],
            "_model_module": "@jupyter-widgets/controls",
            "_model_module_version": "1.5.0",
            "_model_name": "HTMLModel",
            "_view_count": null,
            "_view_module": "@jupyter-widgets/controls",
            "_view_module_version": "1.5.0",
            "_view_name": "HTMLView",
            "description": "",
            "description_tooltip": null,
            "layout": "IPY_MODEL_f80dcaadfe204979973f04f4db8d6583",
            "placeholder": "​",
            "style": "IPY_MODEL_a28f488b77d2472f830a1b17169cf0d3",
            "value": "vocab.txt: "
          }
        },
        "25e8e75928324c9fbf1859b47818203f": {
          "model_module": "@jupyter-widgets/controls",
          "model_name": "FloatProgressModel",
          "model_module_version": "1.5.0",
          "state": {
            "_dom_classes": [],
            "_model_module": "@jupyter-widgets/controls",
            "_model_module_version": "1.5.0",
            "_model_name": "FloatProgressModel",
            "_view_count": null,
            "_view_module": "@jupyter-widgets/controls",
            "_view_module_version": "1.5.0",
            "_view_name": "ProgressView",
            "bar_style": "success",
            "description": "",
            "description_tooltip": null,
            "layout": "IPY_MODEL_03e4f97c8e5447bf8107da78c1bcf52d",
            "max": 1,
            "min": 0,
            "orientation": "horizontal",
            "style": "IPY_MODEL_9bcb327a92bb4fd594cb01d4c463a8a3",
            "value": 1
          }
        },
        "4c2800d89d254f8884467b8d0db54210": {
          "model_module": "@jupyter-widgets/controls",
          "model_name": "HTMLModel",
          "model_module_version": "1.5.0",
          "state": {
            "_dom_classes": [],
            "_model_module": "@jupyter-widgets/controls",
            "_model_module_version": "1.5.0",
            "_model_name": "HTMLModel",
            "_view_count": null,
            "_view_module": "@jupyter-widgets/controls",
            "_view_module_version": "1.5.0",
            "_view_name": "HTMLView",
            "description": "",
            "description_tooltip": null,
            "layout": "IPY_MODEL_c0ef2f1007684c919bd028e6f933f206",
            "placeholder": "​",
            "style": "IPY_MODEL_af97bf95615144a2ac2f5c47707c7f3b",
            "value": " 232k/? [00:00&lt;00:00, 9.37MB/s]"
          }
        },
        "78c96959343c4401b6adde636e5f7d89": {
          "model_module": "@jupyter-widgets/base",
          "model_name": "LayoutModel",
          "model_module_version": "1.2.0",
          "state": {
            "_model_module": "@jupyter-widgets/base",
            "_model_module_version": "1.2.0",
            "_model_name": "LayoutModel",
            "_view_count": null,
            "_view_module": "@jupyter-widgets/base",
            "_view_module_version": "1.2.0",
            "_view_name": "LayoutView",
            "align_content": null,
            "align_items": null,
            "align_self": null,
            "border": null,
            "bottom": null,
            "display": null,
            "flex": null,
            "flex_flow": null,
            "grid_area": null,
            "grid_auto_columns": null,
            "grid_auto_flow": null,
            "grid_auto_rows": null,
            "grid_column": null,
            "grid_gap": null,
            "grid_row": null,
            "grid_template_areas": null,
            "grid_template_columns": null,
            "grid_template_rows": null,
            "height": null,
            "justify_content": null,
            "justify_items": null,
            "left": null,
            "margin": null,
            "max_height": null,
            "max_width": null,
            "min_height": null,
            "min_width": null,
            "object_fit": null,
            "object_position": null,
            "order": null,
            "overflow": null,
            "overflow_x": null,
            "overflow_y": null,
            "padding": null,
            "right": null,
            "top": null,
            "visibility": null,
            "width": null
          }
        },
        "f80dcaadfe204979973f04f4db8d6583": {
          "model_module": "@jupyter-widgets/base",
          "model_name": "LayoutModel",
          "model_module_version": "1.2.0",
          "state": {
            "_model_module": "@jupyter-widgets/base",
            "_model_module_version": "1.2.0",
            "_model_name": "LayoutModel",
            "_view_count": null,
            "_view_module": "@jupyter-widgets/base",
            "_view_module_version": "1.2.0",
            "_view_name": "LayoutView",
            "align_content": null,
            "align_items": null,
            "align_self": null,
            "border": null,
            "bottom": null,
            "display": null,
            "flex": null,
            "flex_flow": null,
            "grid_area": null,
            "grid_auto_columns": null,
            "grid_auto_flow": null,
            "grid_auto_rows": null,
            "grid_column": null,
            "grid_gap": null,
            "grid_row": null,
            "grid_template_areas": null,
            "grid_template_columns": null,
            "grid_template_rows": null,
            "height": null,
            "justify_content": null,
            "justify_items": null,
            "left": null,
            "margin": null,
            "max_height": null,
            "max_width": null,
            "min_height": null,
            "min_width": null,
            "object_fit": null,
            "object_position": null,
            "order": null,
            "overflow": null,
            "overflow_x": null,
            "overflow_y": null,
            "padding": null,
            "right": null,
            "top": null,
            "visibility": null,
            "width": null
          }
        },
        "a28f488b77d2472f830a1b17169cf0d3": {
          "model_module": "@jupyter-widgets/controls",
          "model_name": "DescriptionStyleModel",
          "model_module_version": "1.5.0",
          "state": {
            "_model_module": "@jupyter-widgets/controls",
            "_model_module_version": "1.5.0",
            "_model_name": "DescriptionStyleModel",
            "_view_count": null,
            "_view_module": "@jupyter-widgets/base",
            "_view_module_version": "1.2.0",
            "_view_name": "StyleView",
            "description_width": ""
          }
        },
        "03e4f97c8e5447bf8107da78c1bcf52d": {
          "model_module": "@jupyter-widgets/base",
          "model_name": "LayoutModel",
          "model_module_version": "1.2.0",
          "state": {
            "_model_module": "@jupyter-widgets/base",
            "_model_module_version": "1.2.0",
            "_model_name": "LayoutModel",
            "_view_count": null,
            "_view_module": "@jupyter-widgets/base",
            "_view_module_version": "1.2.0",
            "_view_name": "LayoutView",
            "align_content": null,
            "align_items": null,
            "align_self": null,
            "border": null,
            "bottom": null,
            "display": null,
            "flex": null,
            "flex_flow": null,
            "grid_area": null,
            "grid_auto_columns": null,
            "grid_auto_flow": null,
            "grid_auto_rows": null,
            "grid_column": null,
            "grid_gap": null,
            "grid_row": null,
            "grid_template_areas": null,
            "grid_template_columns": null,
            "grid_template_rows": null,
            "height": null,
            "justify_content": null,
            "justify_items": null,
            "left": null,
            "margin": null,
            "max_height": null,
            "max_width": null,
            "min_height": null,
            "min_width": null,
            "object_fit": null,
            "object_position": null,
            "order": null,
            "overflow": null,
            "overflow_x": null,
            "overflow_y": null,
            "padding": null,
            "right": null,
            "top": null,
            "visibility": null,
            "width": "20px"
          }
        },
        "9bcb327a92bb4fd594cb01d4c463a8a3": {
          "model_module": "@jupyter-widgets/controls",
          "model_name": "ProgressStyleModel",
          "model_module_version": "1.5.0",
          "state": {
            "_model_module": "@jupyter-widgets/controls",
            "_model_module_version": "1.5.0",
            "_model_name": "ProgressStyleModel",
            "_view_count": null,
            "_view_module": "@jupyter-widgets/base",
            "_view_module_version": "1.2.0",
            "_view_name": "StyleView",
            "bar_color": null,
            "description_width": ""
          }
        },
        "c0ef2f1007684c919bd028e6f933f206": {
          "model_module": "@jupyter-widgets/base",
          "model_name": "LayoutModel",
          "model_module_version": "1.2.0",
          "state": {
            "_model_module": "@jupyter-widgets/base",
            "_model_module_version": "1.2.0",
            "_model_name": "LayoutModel",
            "_view_count": null,
            "_view_module": "@jupyter-widgets/base",
            "_view_module_version": "1.2.0",
            "_view_name": "LayoutView",
            "align_content": null,
            "align_items": null,
            "align_self": null,
            "border": null,
            "bottom": null,
            "display": null,
            "flex": null,
            "flex_flow": null,
            "grid_area": null,
            "grid_auto_columns": null,
            "grid_auto_flow": null,
            "grid_auto_rows": null,
            "grid_column": null,
            "grid_gap": null,
            "grid_row": null,
            "grid_template_areas": null,
            "grid_template_columns": null,
            "grid_template_rows": null,
            "height": null,
            "justify_content": null,
            "justify_items": null,
            "left": null,
            "margin": null,
            "max_height": null,
            "max_width": null,
            "min_height": null,
            "min_width": null,
            "object_fit": null,
            "object_position": null,
            "order": null,
            "overflow": null,
            "overflow_x": null,
            "overflow_y": null,
            "padding": null,
            "right": null,
            "top": null,
            "visibility": null,
            "width": null
          }
        },
        "af97bf95615144a2ac2f5c47707c7f3b": {
          "model_module": "@jupyter-widgets/controls",
          "model_name": "DescriptionStyleModel",
          "model_module_version": "1.5.0",
          "state": {
            "_model_module": "@jupyter-widgets/controls",
            "_model_module_version": "1.5.0",
            "_model_name": "DescriptionStyleModel",
            "_view_count": null,
            "_view_module": "@jupyter-widgets/base",
            "_view_module_version": "1.2.0",
            "_view_name": "StyleView",
            "description_width": ""
          }
        },
        "ec5784b840a94daeb3e3b58eed4878e7": {
          "model_module": "@jupyter-widgets/controls",
          "model_name": "HBoxModel",
          "model_module_version": "1.5.0",
          "state": {
            "_dom_classes": [],
            "_model_module": "@jupyter-widgets/controls",
            "_model_module_version": "1.5.0",
            "_model_name": "HBoxModel",
            "_view_count": null,
            "_view_module": "@jupyter-widgets/controls",
            "_view_module_version": "1.5.0",
            "_view_name": "HBoxView",
            "box_style": "",
            "children": [
              "IPY_MODEL_390ec9bc521f4c0eb99da3b8eb59ad49",
              "IPY_MODEL_f902e58a9ae44d48980b963c2d7c9e1b",
              "IPY_MODEL_56dc17bea9e04379865a997c6b70c4d5"
            ],
            "layout": "IPY_MODEL_757ce92f641842e8ba94dde37989dfcd"
          }
        },
        "390ec9bc521f4c0eb99da3b8eb59ad49": {
          "model_module": "@jupyter-widgets/controls",
          "model_name": "HTMLModel",
          "model_module_version": "1.5.0",
          "state": {
            "_dom_classes": [],
            "_model_module": "@jupyter-widgets/controls",
            "_model_module_version": "1.5.0",
            "_model_name": "HTMLModel",
            "_view_count": null,
            "_view_module": "@jupyter-widgets/controls",
            "_view_module_version": "1.5.0",
            "_view_name": "HTMLView",
            "description": "",
            "description_tooltip": null,
            "layout": "IPY_MODEL_f786fc1846b94419b8e24964afeef04c",
            "placeholder": "​",
            "style": "IPY_MODEL_42b4ddd521374fd2b542dac0cf857b34",
            "value": "tokenizer.json: "
          }
        },
        "f902e58a9ae44d48980b963c2d7c9e1b": {
          "model_module": "@jupyter-widgets/controls",
          "model_name": "FloatProgressModel",
          "model_module_version": "1.5.0",
          "state": {
            "_dom_classes": [],
            "_model_module": "@jupyter-widgets/controls",
            "_model_module_version": "1.5.0",
            "_model_name": "FloatProgressModel",
            "_view_count": null,
            "_view_module": "@jupyter-widgets/controls",
            "_view_module_version": "1.5.0",
            "_view_name": "ProgressView",
            "bar_style": "success",
            "description": "",
            "description_tooltip": null,
            "layout": "IPY_MODEL_89d161288b2d484a9ee86be585a6ab5f",
            "max": 1,
            "min": 0,
            "orientation": "horizontal",
            "style": "IPY_MODEL_598745b3bdc245299bf5ff540362b035",
            "value": 1
          }
        },
        "56dc17bea9e04379865a997c6b70c4d5": {
          "model_module": "@jupyter-widgets/controls",
          "model_name": "HTMLModel",
          "model_module_version": "1.5.0",
          "state": {
            "_dom_classes": [],
            "_model_module": "@jupyter-widgets/controls",
            "_model_module_version": "1.5.0",
            "_model_name": "HTMLModel",
            "_view_count": null,
            "_view_module": "@jupyter-widgets/controls",
            "_view_module_version": "1.5.0",
            "_view_name": "HTMLView",
            "description": "",
            "description_tooltip": null,
            "layout": "IPY_MODEL_0171d7e1123e4fd395534c40437353d3",
            "placeholder": "​",
            "style": "IPY_MODEL_15ef8b00f8274abe8cb607f4db03007d",
            "value": " 712k/? [00:00&lt;00:00, 33.8MB/s]"
          }
        },
        "757ce92f641842e8ba94dde37989dfcd": {
          "model_module": "@jupyter-widgets/base",
          "model_name": "LayoutModel",
          "model_module_version": "1.2.0",
          "state": {
            "_model_module": "@jupyter-widgets/base",
            "_model_module_version": "1.2.0",
            "_model_name": "LayoutModel",
            "_view_count": null,
            "_view_module": "@jupyter-widgets/base",
            "_view_module_version": "1.2.0",
            "_view_name": "LayoutView",
            "align_content": null,
            "align_items": null,
            "align_self": null,
            "border": null,
            "bottom": null,
            "display": null,
            "flex": null,
            "flex_flow": null,
            "grid_area": null,
            "grid_auto_columns": null,
            "grid_auto_flow": null,
            "grid_auto_rows": null,
            "grid_column": null,
            "grid_gap": null,
            "grid_row": null,
            "grid_template_areas": null,
            "grid_template_columns": null,
            "grid_template_rows": null,
            "height": null,
            "justify_content": null,
            "justify_items": null,
            "left": null,
            "margin": null,
            "max_height": null,
            "max_width": null,
            "min_height": null,
            "min_width": null,
            "object_fit": null,
            "object_position": null,
            "order": null,
            "overflow": null,
            "overflow_x": null,
            "overflow_y": null,
            "padding": null,
            "right": null,
            "top": null,
            "visibility": null,
            "width": null
          }
        },
        "f786fc1846b94419b8e24964afeef04c": {
          "model_module": "@jupyter-widgets/base",
          "model_name": "LayoutModel",
          "model_module_version": "1.2.0",
          "state": {
            "_model_module": "@jupyter-widgets/base",
            "_model_module_version": "1.2.0",
            "_model_name": "LayoutModel",
            "_view_count": null,
            "_view_module": "@jupyter-widgets/base",
            "_view_module_version": "1.2.0",
            "_view_name": "LayoutView",
            "align_content": null,
            "align_items": null,
            "align_self": null,
            "border": null,
            "bottom": null,
            "display": null,
            "flex": null,
            "flex_flow": null,
            "grid_area": null,
            "grid_auto_columns": null,
            "grid_auto_flow": null,
            "grid_auto_rows": null,
            "grid_column": null,
            "grid_gap": null,
            "grid_row": null,
            "grid_template_areas": null,
            "grid_template_columns": null,
            "grid_template_rows": null,
            "height": null,
            "justify_content": null,
            "justify_items": null,
            "left": null,
            "margin": null,
            "max_height": null,
            "max_width": null,
            "min_height": null,
            "min_width": null,
            "object_fit": null,
            "object_position": null,
            "order": null,
            "overflow": null,
            "overflow_x": null,
            "overflow_y": null,
            "padding": null,
            "right": null,
            "top": null,
            "visibility": null,
            "width": null
          }
        },
        "42b4ddd521374fd2b542dac0cf857b34": {
          "model_module": "@jupyter-widgets/controls",
          "model_name": "DescriptionStyleModel",
          "model_module_version": "1.5.0",
          "state": {
            "_model_module": "@jupyter-widgets/controls",
            "_model_module_version": "1.5.0",
            "_model_name": "DescriptionStyleModel",
            "_view_count": null,
            "_view_module": "@jupyter-widgets/base",
            "_view_module_version": "1.2.0",
            "_view_name": "StyleView",
            "description_width": ""
          }
        },
        "89d161288b2d484a9ee86be585a6ab5f": {
          "model_module": "@jupyter-widgets/base",
          "model_name": "LayoutModel",
          "model_module_version": "1.2.0",
          "state": {
            "_model_module": "@jupyter-widgets/base",
            "_model_module_version": "1.2.0",
            "_model_name": "LayoutModel",
            "_view_count": null,
            "_view_module": "@jupyter-widgets/base",
            "_view_module_version": "1.2.0",
            "_view_name": "LayoutView",
            "align_content": null,
            "align_items": null,
            "align_self": null,
            "border": null,
            "bottom": null,
            "display": null,
            "flex": null,
            "flex_flow": null,
            "grid_area": null,
            "grid_auto_columns": null,
            "grid_auto_flow": null,
            "grid_auto_rows": null,
            "grid_column": null,
            "grid_gap": null,
            "grid_row": null,
            "grid_template_areas": null,
            "grid_template_columns": null,
            "grid_template_rows": null,
            "height": null,
            "justify_content": null,
            "justify_items": null,
            "left": null,
            "margin": null,
            "max_height": null,
            "max_width": null,
            "min_height": null,
            "min_width": null,
            "object_fit": null,
            "object_position": null,
            "order": null,
            "overflow": null,
            "overflow_x": null,
            "overflow_y": null,
            "padding": null,
            "right": null,
            "top": null,
            "visibility": null,
            "width": "20px"
          }
        },
        "598745b3bdc245299bf5ff540362b035": {
          "model_module": "@jupyter-widgets/controls",
          "model_name": "ProgressStyleModel",
          "model_module_version": "1.5.0",
          "state": {
            "_model_module": "@jupyter-widgets/controls",
            "_model_module_version": "1.5.0",
            "_model_name": "ProgressStyleModel",
            "_view_count": null,
            "_view_module": "@jupyter-widgets/base",
            "_view_module_version": "1.2.0",
            "_view_name": "StyleView",
            "bar_color": null,
            "description_width": ""
          }
        },
        "0171d7e1123e4fd395534c40437353d3": {
          "model_module": "@jupyter-widgets/base",
          "model_name": "LayoutModel",
          "model_module_version": "1.2.0",
          "state": {
            "_model_module": "@jupyter-widgets/base",
            "_model_module_version": "1.2.0",
            "_model_name": "LayoutModel",
            "_view_count": null,
            "_view_module": "@jupyter-widgets/base",
            "_view_module_version": "1.2.0",
            "_view_name": "LayoutView",
            "align_content": null,
            "align_items": null,
            "align_self": null,
            "border": null,
            "bottom": null,
            "display": null,
            "flex": null,
            "flex_flow": null,
            "grid_area": null,
            "grid_auto_columns": null,
            "grid_auto_flow": null,
            "grid_auto_rows": null,
            "grid_column": null,
            "grid_gap": null,
            "grid_row": null,
            "grid_template_areas": null,
            "grid_template_columns": null,
            "grid_template_rows": null,
            "height": null,
            "justify_content": null,
            "justify_items": null,
            "left": null,
            "margin": null,
            "max_height": null,
            "max_width": null,
            "min_height": null,
            "min_width": null,
            "object_fit": null,
            "object_position": null,
            "order": null,
            "overflow": null,
            "overflow_x": null,
            "overflow_y": null,
            "padding": null,
            "right": null,
            "top": null,
            "visibility": null,
            "width": null
          }
        },
        "15ef8b00f8274abe8cb607f4db03007d": {
          "model_module": "@jupyter-widgets/controls",
          "model_name": "DescriptionStyleModel",
          "model_module_version": "1.5.0",
          "state": {
            "_model_module": "@jupyter-widgets/controls",
            "_model_module_version": "1.5.0",
            "_model_name": "DescriptionStyleModel",
            "_view_count": null,
            "_view_module": "@jupyter-widgets/base",
            "_view_module_version": "1.2.0",
            "_view_name": "StyleView",
            "description_width": ""
          }
        },
        "b32fde7f7dc648128a7e5cb6cf523790": {
          "model_module": "@jupyter-widgets/controls",
          "model_name": "HBoxModel",
          "model_module_version": "1.5.0",
          "state": {
            "_dom_classes": [],
            "_model_module": "@jupyter-widgets/controls",
            "_model_module_version": "1.5.0",
            "_model_name": "HBoxModel",
            "_view_count": null,
            "_view_module": "@jupyter-widgets/controls",
            "_view_module_version": "1.5.0",
            "_view_name": "HBoxView",
            "box_style": "",
            "children": [
              "IPY_MODEL_16852bb375964e7dba829b46c705048a",
              "IPY_MODEL_b73469806af04565b178987630b73d9e",
              "IPY_MODEL_d224f2cf2c3541f285fc20a78067c94b"
            ],
            "layout": "IPY_MODEL_54eb73c45b2e42b19bd135675c0ab3e5"
          }
        },
        "16852bb375964e7dba829b46c705048a": {
          "model_module": "@jupyter-widgets/controls",
          "model_name": "HTMLModel",
          "model_module_version": "1.5.0",
          "state": {
            "_dom_classes": [],
            "_model_module": "@jupyter-widgets/controls",
            "_model_module_version": "1.5.0",
            "_model_name": "HTMLModel",
            "_view_count": null,
            "_view_module": "@jupyter-widgets/controls",
            "_view_module_version": "1.5.0",
            "_view_name": "HTMLView",
            "description": "",
            "description_tooltip": null,
            "layout": "IPY_MODEL_efdf341c1064428d9e97a13573a43780",
            "placeholder": "​",
            "style": "IPY_MODEL_cd9f0a4216d14c248cec012821559760",
            "value": "special_tokens_map.json: 100%"
          }
        },
        "b73469806af04565b178987630b73d9e": {
          "model_module": "@jupyter-widgets/controls",
          "model_name": "FloatProgressModel",
          "model_module_version": "1.5.0",
          "state": {
            "_dom_classes": [],
            "_model_module": "@jupyter-widgets/controls",
            "_model_module_version": "1.5.0",
            "_model_name": "FloatProgressModel",
            "_view_count": null,
            "_view_module": "@jupyter-widgets/controls",
            "_view_module_version": "1.5.0",
            "_view_name": "ProgressView",
            "bar_style": "success",
            "description": "",
            "description_tooltip": null,
            "layout": "IPY_MODEL_4969d561f879406584e75cff9a4b42b0",
            "max": 125,
            "min": 0,
            "orientation": "horizontal",
            "style": "IPY_MODEL_c40f5279cf484587ab16b7aaa1d8c4e5",
            "value": 125
          }
        },
        "d224f2cf2c3541f285fc20a78067c94b": {
          "model_module": "@jupyter-widgets/controls",
          "model_name": "HTMLModel",
          "model_module_version": "1.5.0",
          "state": {
            "_dom_classes": [],
            "_model_module": "@jupyter-widgets/controls",
            "_model_module_version": "1.5.0",
            "_model_name": "HTMLModel",
            "_view_count": null,
            "_view_module": "@jupyter-widgets/controls",
            "_view_module_version": "1.5.0",
            "_view_name": "HTMLView",
            "description": "",
            "description_tooltip": null,
            "layout": "IPY_MODEL_9d499b7312964fd9a3a80260924bfab5",
            "placeholder": "​",
            "style": "IPY_MODEL_359c50eca51d4c279a0461da55f68a46",
            "value": " 125/125 [00:00&lt;00:00, 11.9kB/s]"
          }
        },
        "54eb73c45b2e42b19bd135675c0ab3e5": {
          "model_module": "@jupyter-widgets/base",
          "model_name": "LayoutModel",
          "model_module_version": "1.2.0",
          "state": {
            "_model_module": "@jupyter-widgets/base",
            "_model_module_version": "1.2.0",
            "_model_name": "LayoutModel",
            "_view_count": null,
            "_view_module": "@jupyter-widgets/base",
            "_view_module_version": "1.2.0",
            "_view_name": "LayoutView",
            "align_content": null,
            "align_items": null,
            "align_self": null,
            "border": null,
            "bottom": null,
            "display": null,
            "flex": null,
            "flex_flow": null,
            "grid_area": null,
            "grid_auto_columns": null,
            "grid_auto_flow": null,
            "grid_auto_rows": null,
            "grid_column": null,
            "grid_gap": null,
            "grid_row": null,
            "grid_template_areas": null,
            "grid_template_columns": null,
            "grid_template_rows": null,
            "height": null,
            "justify_content": null,
            "justify_items": null,
            "left": null,
            "margin": null,
            "max_height": null,
            "max_width": null,
            "min_height": null,
            "min_width": null,
            "object_fit": null,
            "object_position": null,
            "order": null,
            "overflow": null,
            "overflow_x": null,
            "overflow_y": null,
            "padding": null,
            "right": null,
            "top": null,
            "visibility": null,
            "width": null
          }
        },
        "efdf341c1064428d9e97a13573a43780": {
          "model_module": "@jupyter-widgets/base",
          "model_name": "LayoutModel",
          "model_module_version": "1.2.0",
          "state": {
            "_model_module": "@jupyter-widgets/base",
            "_model_module_version": "1.2.0",
            "_model_name": "LayoutModel",
            "_view_count": null,
            "_view_module": "@jupyter-widgets/base",
            "_view_module_version": "1.2.0",
            "_view_name": "LayoutView",
            "align_content": null,
            "align_items": null,
            "align_self": null,
            "border": null,
            "bottom": null,
            "display": null,
            "flex": null,
            "flex_flow": null,
            "grid_area": null,
            "grid_auto_columns": null,
            "grid_auto_flow": null,
            "grid_auto_rows": null,
            "grid_column": null,
            "grid_gap": null,
            "grid_row": null,
            "grid_template_areas": null,
            "grid_template_columns": null,
            "grid_template_rows": null,
            "height": null,
            "justify_content": null,
            "justify_items": null,
            "left": null,
            "margin": null,
            "max_height": null,
            "max_width": null,
            "min_height": null,
            "min_width": null,
            "object_fit": null,
            "object_position": null,
            "order": null,
            "overflow": null,
            "overflow_x": null,
            "overflow_y": null,
            "padding": null,
            "right": null,
            "top": null,
            "visibility": null,
            "width": null
          }
        },
        "cd9f0a4216d14c248cec012821559760": {
          "model_module": "@jupyter-widgets/controls",
          "model_name": "DescriptionStyleModel",
          "model_module_version": "1.5.0",
          "state": {
            "_model_module": "@jupyter-widgets/controls",
            "_model_module_version": "1.5.0",
            "_model_name": "DescriptionStyleModel",
            "_view_count": null,
            "_view_module": "@jupyter-widgets/base",
            "_view_module_version": "1.2.0",
            "_view_name": "StyleView",
            "description_width": ""
          }
        },
        "4969d561f879406584e75cff9a4b42b0": {
          "model_module": "@jupyter-widgets/base",
          "model_name": "LayoutModel",
          "model_module_version": "1.2.0",
          "state": {
            "_model_module": "@jupyter-widgets/base",
            "_model_module_version": "1.2.0",
            "_model_name": "LayoutModel",
            "_view_count": null,
            "_view_module": "@jupyter-widgets/base",
            "_view_module_version": "1.2.0",
            "_view_name": "LayoutView",
            "align_content": null,
            "align_items": null,
            "align_self": null,
            "border": null,
            "bottom": null,
            "display": null,
            "flex": null,
            "flex_flow": null,
            "grid_area": null,
            "grid_auto_columns": null,
            "grid_auto_flow": null,
            "grid_auto_rows": null,
            "grid_column": null,
            "grid_gap": null,
            "grid_row": null,
            "grid_template_areas": null,
            "grid_template_columns": null,
            "grid_template_rows": null,
            "height": null,
            "justify_content": null,
            "justify_items": null,
            "left": null,
            "margin": null,
            "max_height": null,
            "max_width": null,
            "min_height": null,
            "min_width": null,
            "object_fit": null,
            "object_position": null,
            "order": null,
            "overflow": null,
            "overflow_x": null,
            "overflow_y": null,
            "padding": null,
            "right": null,
            "top": null,
            "visibility": null,
            "width": null
          }
        },
        "c40f5279cf484587ab16b7aaa1d8c4e5": {
          "model_module": "@jupyter-widgets/controls",
          "model_name": "ProgressStyleModel",
          "model_module_version": "1.5.0",
          "state": {
            "_model_module": "@jupyter-widgets/controls",
            "_model_module_version": "1.5.0",
            "_model_name": "ProgressStyleModel",
            "_view_count": null,
            "_view_module": "@jupyter-widgets/base",
            "_view_module_version": "1.2.0",
            "_view_name": "StyleView",
            "bar_color": null,
            "description_width": ""
          }
        },
        "9d499b7312964fd9a3a80260924bfab5": {
          "model_module": "@jupyter-widgets/base",
          "model_name": "LayoutModel",
          "model_module_version": "1.2.0",
          "state": {
            "_model_module": "@jupyter-widgets/base",
            "_model_module_version": "1.2.0",
            "_model_name": "LayoutModel",
            "_view_count": null,
            "_view_module": "@jupyter-widgets/base",
            "_view_module_version": "1.2.0",
            "_view_name": "LayoutView",
            "align_content": null,
            "align_items": null,
            "align_self": null,
            "border": null,
            "bottom": null,
            "display": null,
            "flex": null,
            "flex_flow": null,
            "grid_area": null,
            "grid_auto_columns": null,
            "grid_auto_flow": null,
            "grid_auto_rows": null,
            "grid_column": null,
            "grid_gap": null,
            "grid_row": null,
            "grid_template_areas": null,
            "grid_template_columns": null,
            "grid_template_rows": null,
            "height": null,
            "justify_content": null,
            "justify_items": null,
            "left": null,
            "margin": null,
            "max_height": null,
            "max_width": null,
            "min_height": null,
            "min_width": null,
            "object_fit": null,
            "object_position": null,
            "order": null,
            "overflow": null,
            "overflow_x": null,
            "overflow_y": null,
            "padding": null,
            "right": null,
            "top": null,
            "visibility": null,
            "width": null
          }
        },
        "359c50eca51d4c279a0461da55f68a46": {
          "model_module": "@jupyter-widgets/controls",
          "model_name": "DescriptionStyleModel",
          "model_module_version": "1.5.0",
          "state": {
            "_model_module": "@jupyter-widgets/controls",
            "_model_module_version": "1.5.0",
            "_model_name": "DescriptionStyleModel",
            "_view_count": null,
            "_view_module": "@jupyter-widgets/base",
            "_view_module_version": "1.2.0",
            "_view_name": "StyleView",
            "description_width": ""
          }
        },
        "e1b8751e318f4c11830512a4afe379cd": {
          "model_module": "@jupyter-widgets/controls",
          "model_name": "HBoxModel",
          "model_module_version": "1.5.0",
          "state": {
            "_dom_classes": [],
            "_model_module": "@jupyter-widgets/controls",
            "_model_module_version": "1.5.0",
            "_model_name": "HBoxModel",
            "_view_count": null,
            "_view_module": "@jupyter-widgets/controls",
            "_view_module_version": "1.5.0",
            "_view_name": "HBoxView",
            "box_style": "",
            "children": [
              "IPY_MODEL_83ed905910db43e5bcf736fe5b96633c",
              "IPY_MODEL_636525432f444a8eaac3b8b382cc44da",
              "IPY_MODEL_30c407b0768249f78f5d1ca8147c1dab"
            ],
            "layout": "IPY_MODEL_4659a07d35904ea99a784728f5559a41"
          }
        },
        "83ed905910db43e5bcf736fe5b96633c": {
          "model_module": "@jupyter-widgets/controls",
          "model_name": "HTMLModel",
          "model_module_version": "1.5.0",
          "state": {
            "_dom_classes": [],
            "_model_module": "@jupyter-widgets/controls",
            "_model_module_version": "1.5.0",
            "_model_name": "HTMLModel",
            "_view_count": null,
            "_view_module": "@jupyter-widgets/controls",
            "_view_module_version": "1.5.0",
            "_view_name": "HTMLView",
            "description": "",
            "description_tooltip": null,
            "layout": "IPY_MODEL_80eab4d333e745b8af9ead2882b1d629",
            "placeholder": "​",
            "style": "IPY_MODEL_6df660a7621d4fab9016fcf3d7fb561d",
            "value": "config.json: 100%"
          }
        },
        "636525432f444a8eaac3b8b382cc44da": {
          "model_module": "@jupyter-widgets/controls",
          "model_name": "FloatProgressModel",
          "model_module_version": "1.5.0",
          "state": {
            "_dom_classes": [],
            "_model_module": "@jupyter-widgets/controls",
            "_model_module_version": "1.5.0",
            "_model_name": "FloatProgressModel",
            "_view_count": null,
            "_view_module": "@jupyter-widgets/controls",
            "_view_module_version": "1.5.0",
            "_view_name": "ProgressView",
            "bar_style": "success",
            "description": "",
            "description_tooltip": null,
            "layout": "IPY_MODEL_bb11032ed7db4bc2aa5a2300c7f80a41",
            "max": 191,
            "min": 0,
            "orientation": "horizontal",
            "style": "IPY_MODEL_493ea0c009d34633b0867ad521058fb2",
            "value": 191
          }
        },
        "30c407b0768249f78f5d1ca8147c1dab": {
          "model_module": "@jupyter-widgets/controls",
          "model_name": "HTMLModel",
          "model_module_version": "1.5.0",
          "state": {
            "_dom_classes": [],
            "_model_module": "@jupyter-widgets/controls",
            "_model_module_version": "1.5.0",
            "_model_name": "HTMLModel",
            "_view_count": null,
            "_view_module": "@jupyter-widgets/controls",
            "_view_module_version": "1.5.0",
            "_view_name": "HTMLView",
            "description": "",
            "description_tooltip": null,
            "layout": "IPY_MODEL_86e79ad5d0744b5ca54a6f4649f5d955",
            "placeholder": "​",
            "style": "IPY_MODEL_d39853c0f9c64ed399931480108b9949",
            "value": " 191/191 [00:00&lt;00:00, 16.2kB/s]"
          }
        },
        "4659a07d35904ea99a784728f5559a41": {
          "model_module": "@jupyter-widgets/base",
          "model_name": "LayoutModel",
          "model_module_version": "1.2.0",
          "state": {
            "_model_module": "@jupyter-widgets/base",
            "_model_module_version": "1.2.0",
            "_model_name": "LayoutModel",
            "_view_count": null,
            "_view_module": "@jupyter-widgets/base",
            "_view_module_version": "1.2.0",
            "_view_name": "LayoutView",
            "align_content": null,
            "align_items": null,
            "align_self": null,
            "border": null,
            "bottom": null,
            "display": null,
            "flex": null,
            "flex_flow": null,
            "grid_area": null,
            "grid_auto_columns": null,
            "grid_auto_flow": null,
            "grid_auto_rows": null,
            "grid_column": null,
            "grid_gap": null,
            "grid_row": null,
            "grid_template_areas": null,
            "grid_template_columns": null,
            "grid_template_rows": null,
            "height": null,
            "justify_content": null,
            "justify_items": null,
            "left": null,
            "margin": null,
            "max_height": null,
            "max_width": null,
            "min_height": null,
            "min_width": null,
            "object_fit": null,
            "object_position": null,
            "order": null,
            "overflow": null,
            "overflow_x": null,
            "overflow_y": null,
            "padding": null,
            "right": null,
            "top": null,
            "visibility": null,
            "width": null
          }
        },
        "80eab4d333e745b8af9ead2882b1d629": {
          "model_module": "@jupyter-widgets/base",
          "model_name": "LayoutModel",
          "model_module_version": "1.2.0",
          "state": {
            "_model_module": "@jupyter-widgets/base",
            "_model_module_version": "1.2.0",
            "_model_name": "LayoutModel",
            "_view_count": null,
            "_view_module": "@jupyter-widgets/base",
            "_view_module_version": "1.2.0",
            "_view_name": "LayoutView",
            "align_content": null,
            "align_items": null,
            "align_self": null,
            "border": null,
            "bottom": null,
            "display": null,
            "flex": null,
            "flex_flow": null,
            "grid_area": null,
            "grid_auto_columns": null,
            "grid_auto_flow": null,
            "grid_auto_rows": null,
            "grid_column": null,
            "grid_gap": null,
            "grid_row": null,
            "grid_template_areas": null,
            "grid_template_columns": null,
            "grid_template_rows": null,
            "height": null,
            "justify_content": null,
            "justify_items": null,
            "left": null,
            "margin": null,
            "max_height": null,
            "max_width": null,
            "min_height": null,
            "min_width": null,
            "object_fit": null,
            "object_position": null,
            "order": null,
            "overflow": null,
            "overflow_x": null,
            "overflow_y": null,
            "padding": null,
            "right": null,
            "top": null,
            "visibility": null,
            "width": null
          }
        },
        "6df660a7621d4fab9016fcf3d7fb561d": {
          "model_module": "@jupyter-widgets/controls",
          "model_name": "DescriptionStyleModel",
          "model_module_version": "1.5.0",
          "state": {
            "_model_module": "@jupyter-widgets/controls",
            "_model_module_version": "1.5.0",
            "_model_name": "DescriptionStyleModel",
            "_view_count": null,
            "_view_module": "@jupyter-widgets/base",
            "_view_module_version": "1.2.0",
            "_view_name": "StyleView",
            "description_width": ""
          }
        },
        "bb11032ed7db4bc2aa5a2300c7f80a41": {
          "model_module": "@jupyter-widgets/base",
          "model_name": "LayoutModel",
          "model_module_version": "1.2.0",
          "state": {
            "_model_module": "@jupyter-widgets/base",
            "_model_module_version": "1.2.0",
            "_model_name": "LayoutModel",
            "_view_count": null,
            "_view_module": "@jupyter-widgets/base",
            "_view_module_version": "1.2.0",
            "_view_name": "LayoutView",
            "align_content": null,
            "align_items": null,
            "align_self": null,
            "border": null,
            "bottom": null,
            "display": null,
            "flex": null,
            "flex_flow": null,
            "grid_area": null,
            "grid_auto_columns": null,
            "grid_auto_flow": null,
            "grid_auto_rows": null,
            "grid_column": null,
            "grid_gap": null,
            "grid_row": null,
            "grid_template_areas": null,
            "grid_template_columns": null,
            "grid_template_rows": null,
            "height": null,
            "justify_content": null,
            "justify_items": null,
            "left": null,
            "margin": null,
            "max_height": null,
            "max_width": null,
            "min_height": null,
            "min_width": null,
            "object_fit": null,
            "object_position": null,
            "order": null,
            "overflow": null,
            "overflow_x": null,
            "overflow_y": null,
            "padding": null,
            "right": null,
            "top": null,
            "visibility": null,
            "width": null
          }
        },
        "493ea0c009d34633b0867ad521058fb2": {
          "model_module": "@jupyter-widgets/controls",
          "model_name": "ProgressStyleModel",
          "model_module_version": "1.5.0",
          "state": {
            "_model_module": "@jupyter-widgets/controls",
            "_model_module_version": "1.5.0",
            "_model_name": "ProgressStyleModel",
            "_view_count": null,
            "_view_module": "@jupyter-widgets/base",
            "_view_module_version": "1.2.0",
            "_view_name": "StyleView",
            "bar_color": null,
            "description_width": ""
          }
        },
        "86e79ad5d0744b5ca54a6f4649f5d955": {
          "model_module": "@jupyter-widgets/base",
          "model_name": "LayoutModel",
          "model_module_version": "1.2.0",
          "state": {
            "_model_module": "@jupyter-widgets/base",
            "_model_module_version": "1.2.0",
            "_model_name": "LayoutModel",
            "_view_count": null,
            "_view_module": "@jupyter-widgets/base",
            "_view_module_version": "1.2.0",
            "_view_name": "LayoutView",
            "align_content": null,
            "align_items": null,
            "align_self": null,
            "border": null,
            "bottom": null,
            "display": null,
            "flex": null,
            "flex_flow": null,
            "grid_area": null,
            "grid_auto_columns": null,
            "grid_auto_flow": null,
            "grid_auto_rows": null,
            "grid_column": null,
            "grid_gap": null,
            "grid_row": null,
            "grid_template_areas": null,
            "grid_template_columns": null,
            "grid_template_rows": null,
            "height": null,
            "justify_content": null,
            "justify_items": null,
            "left": null,
            "margin": null,
            "max_height": null,
            "max_width": null,
            "min_height": null,
            "min_width": null,
            "object_fit": null,
            "object_position": null,
            "order": null,
            "overflow": null,
            "overflow_x": null,
            "overflow_y": null,
            "padding": null,
            "right": null,
            "top": null,
            "visibility": null,
            "width": null
          }
        },
        "d39853c0f9c64ed399931480108b9949": {
          "model_module": "@jupyter-widgets/controls",
          "model_name": "DescriptionStyleModel",
          "model_module_version": "1.5.0",
          "state": {
            "_model_module": "@jupyter-widgets/controls",
            "_model_module_version": "1.5.0",
            "_model_name": "DescriptionStyleModel",
            "_view_count": null,
            "_view_module": "@jupyter-widgets/base",
            "_view_module_version": "1.2.0",
            "_view_name": "StyleView",
            "description_width": ""
          }
        },
        "45a27e2c7ae1439098a225fba64c7baf": {
          "model_module": "@jupyter-widgets/controls",
          "model_name": "HBoxModel",
          "model_module_version": "1.5.0",
          "state": {
            "_dom_classes": [],
            "_model_module": "@jupyter-widgets/controls",
            "_model_module_version": "1.5.0",
            "_model_name": "HBoxModel",
            "_view_count": null,
            "_view_module": "@jupyter-widgets/controls",
            "_view_module_version": "1.5.0",
            "_view_name": "HBoxView",
            "box_style": "",
            "children": [
              "IPY_MODEL_717faf7a31774fb89a4b8a6cf9e30873",
              "IPY_MODEL_99bb6e50cf334072a6c1e8e30e9f6583",
              "IPY_MODEL_9c26fa4a63ee4d5a96af3856b71bd630"
            ],
            "layout": "IPY_MODEL_688dfed4eddb41b687db20b3ea9efd5e"
          }
        },
        "717faf7a31774fb89a4b8a6cf9e30873": {
          "model_module": "@jupyter-widgets/controls",
          "model_name": "HTMLModel",
          "model_module_version": "1.5.0",
          "state": {
            "_dom_classes": [],
            "_model_module": "@jupyter-widgets/controls",
            "_model_module_version": "1.5.0",
            "_model_name": "HTMLModel",
            "_view_count": null,
            "_view_module": "@jupyter-widgets/controls",
            "_view_module_version": "1.5.0",
            "_view_name": "HTMLView",
            "description": "",
            "description_tooltip": null,
            "layout": "IPY_MODEL_895b4414b97144d2892668fe8979f2df",
            "placeholder": "​",
            "style": "IPY_MODEL_5ce2f734a3f64bee93d6d31d936a063a",
            "value": "mistral-7b-instruct-v0.2.Q6_K.gguf: 100%"
          }
        },
        "99bb6e50cf334072a6c1e8e30e9f6583": {
          "model_module": "@jupyter-widgets/controls",
          "model_name": "FloatProgressModel",
          "model_module_version": "1.5.0",
          "state": {
            "_dom_classes": [],
            "_model_module": "@jupyter-widgets/controls",
            "_model_module_version": "1.5.0",
            "_model_name": "FloatProgressModel",
            "_view_count": null,
            "_view_module": "@jupyter-widgets/controls",
            "_view_module_version": "1.5.0",
            "_view_name": "ProgressView",
            "bar_style": "success",
            "description": "",
            "description_tooltip": null,
            "layout": "IPY_MODEL_a78f67b23ae440cc825d1a030c55979a",
            "max": 5942065440,
            "min": 0,
            "orientation": "horizontal",
            "style": "IPY_MODEL_ed4ac9c954cd45348428fef7da0e635e",
            "value": 5942065440
          }
        },
        "9c26fa4a63ee4d5a96af3856b71bd630": {
          "model_module": "@jupyter-widgets/controls",
          "model_name": "HTMLModel",
          "model_module_version": "1.5.0",
          "state": {
            "_dom_classes": [],
            "_model_module": "@jupyter-widgets/controls",
            "_model_module_version": "1.5.0",
            "_model_name": "HTMLModel",
            "_view_count": null,
            "_view_module": "@jupyter-widgets/controls",
            "_view_module_version": "1.5.0",
            "_view_name": "HTMLView",
            "description": "",
            "description_tooltip": null,
            "layout": "IPY_MODEL_aa487ffd2a274a8db4c6d711dfb64c76",
            "placeholder": "​",
            "style": "IPY_MODEL_703968da551146e0bdc55909ae2270e6",
            "value": " 5.94G/5.94G [00:30&lt;00:00, 322MB/s]"
          }
        },
        "688dfed4eddb41b687db20b3ea9efd5e": {
          "model_module": "@jupyter-widgets/base",
          "model_name": "LayoutModel",
          "model_module_version": "1.2.0",
          "state": {
            "_model_module": "@jupyter-widgets/base",
            "_model_module_version": "1.2.0",
            "_model_name": "LayoutModel",
            "_view_count": null,
            "_view_module": "@jupyter-widgets/base",
            "_view_module_version": "1.2.0",
            "_view_name": "LayoutView",
            "align_content": null,
            "align_items": null,
            "align_self": null,
            "border": null,
            "bottom": null,
            "display": null,
            "flex": null,
            "flex_flow": null,
            "grid_area": null,
            "grid_auto_columns": null,
            "grid_auto_flow": null,
            "grid_auto_rows": null,
            "grid_column": null,
            "grid_gap": null,
            "grid_row": null,
            "grid_template_areas": null,
            "grid_template_columns": null,
            "grid_template_rows": null,
            "height": null,
            "justify_content": null,
            "justify_items": null,
            "left": null,
            "margin": null,
            "max_height": null,
            "max_width": null,
            "min_height": null,
            "min_width": null,
            "object_fit": null,
            "object_position": null,
            "order": null,
            "overflow": null,
            "overflow_x": null,
            "overflow_y": null,
            "padding": null,
            "right": null,
            "top": null,
            "visibility": null,
            "width": null
          }
        },
        "895b4414b97144d2892668fe8979f2df": {
          "model_module": "@jupyter-widgets/base",
          "model_name": "LayoutModel",
          "model_module_version": "1.2.0",
          "state": {
            "_model_module": "@jupyter-widgets/base",
            "_model_module_version": "1.2.0",
            "_model_name": "LayoutModel",
            "_view_count": null,
            "_view_module": "@jupyter-widgets/base",
            "_view_module_version": "1.2.0",
            "_view_name": "LayoutView",
            "align_content": null,
            "align_items": null,
            "align_self": null,
            "border": null,
            "bottom": null,
            "display": null,
            "flex": null,
            "flex_flow": null,
            "grid_area": null,
            "grid_auto_columns": null,
            "grid_auto_flow": null,
            "grid_auto_rows": null,
            "grid_column": null,
            "grid_gap": null,
            "grid_row": null,
            "grid_template_areas": null,
            "grid_template_columns": null,
            "grid_template_rows": null,
            "height": null,
            "justify_content": null,
            "justify_items": null,
            "left": null,
            "margin": null,
            "max_height": null,
            "max_width": null,
            "min_height": null,
            "min_width": null,
            "object_fit": null,
            "object_position": null,
            "order": null,
            "overflow": null,
            "overflow_x": null,
            "overflow_y": null,
            "padding": null,
            "right": null,
            "top": null,
            "visibility": null,
            "width": null
          }
        },
        "5ce2f734a3f64bee93d6d31d936a063a": {
          "model_module": "@jupyter-widgets/controls",
          "model_name": "DescriptionStyleModel",
          "model_module_version": "1.5.0",
          "state": {
            "_model_module": "@jupyter-widgets/controls",
            "_model_module_version": "1.5.0",
            "_model_name": "DescriptionStyleModel",
            "_view_count": null,
            "_view_module": "@jupyter-widgets/base",
            "_view_module_version": "1.2.0",
            "_view_name": "StyleView",
            "description_width": ""
          }
        },
        "a78f67b23ae440cc825d1a030c55979a": {
          "model_module": "@jupyter-widgets/base",
          "model_name": "LayoutModel",
          "model_module_version": "1.2.0",
          "state": {
            "_model_module": "@jupyter-widgets/base",
            "_model_module_version": "1.2.0",
            "_model_name": "LayoutModel",
            "_view_count": null,
            "_view_module": "@jupyter-widgets/base",
            "_view_module_version": "1.2.0",
            "_view_name": "LayoutView",
            "align_content": null,
            "align_items": null,
            "align_self": null,
            "border": null,
            "bottom": null,
            "display": null,
            "flex": null,
            "flex_flow": null,
            "grid_area": null,
            "grid_auto_columns": null,
            "grid_auto_flow": null,
            "grid_auto_rows": null,
            "grid_column": null,
            "grid_gap": null,
            "grid_row": null,
            "grid_template_areas": null,
            "grid_template_columns": null,
            "grid_template_rows": null,
            "height": null,
            "justify_content": null,
            "justify_items": null,
            "left": null,
            "margin": null,
            "max_height": null,
            "max_width": null,
            "min_height": null,
            "min_width": null,
            "object_fit": null,
            "object_position": null,
            "order": null,
            "overflow": null,
            "overflow_x": null,
            "overflow_y": null,
            "padding": null,
            "right": null,
            "top": null,
            "visibility": null,
            "width": null
          }
        },
        "ed4ac9c954cd45348428fef7da0e635e": {
          "model_module": "@jupyter-widgets/controls",
          "model_name": "ProgressStyleModel",
          "model_module_version": "1.5.0",
          "state": {
            "_model_module": "@jupyter-widgets/controls",
            "_model_module_version": "1.5.0",
            "_model_name": "ProgressStyleModel",
            "_view_count": null,
            "_view_module": "@jupyter-widgets/base",
            "_view_module_version": "1.2.0",
            "_view_name": "StyleView",
            "bar_color": null,
            "description_width": ""
          }
        },
        "aa487ffd2a274a8db4c6d711dfb64c76": {
          "model_module": "@jupyter-widgets/base",
          "model_name": "LayoutModel",
          "model_module_version": "1.2.0",
          "state": {
            "_model_module": "@jupyter-widgets/base",
            "_model_module_version": "1.2.0",
            "_model_name": "LayoutModel",
            "_view_count": null,
            "_view_module": "@jupyter-widgets/base",
            "_view_module_version": "1.2.0",
            "_view_name": "LayoutView",
            "align_content": null,
            "align_items": null,
            "align_self": null,
            "border": null,
            "bottom": null,
            "display": null,
            "flex": null,
            "flex_flow": null,
            "grid_area": null,
            "grid_auto_columns": null,
            "grid_auto_flow": null,
            "grid_auto_rows": null,
            "grid_column": null,
            "grid_gap": null,
            "grid_row": null,
            "grid_template_areas": null,
            "grid_template_columns": null,
            "grid_template_rows": null,
            "height": null,
            "justify_content": null,
            "justify_items": null,
            "left": null,
            "margin": null,
            "max_height": null,
            "max_width": null,
            "min_height": null,
            "min_width": null,
            "object_fit": null,
            "object_position": null,
            "order": null,
            "overflow": null,
            "overflow_x": null,
            "overflow_y": null,
            "padding": null,
            "right": null,
            "top": null,
            "visibility": null,
            "width": null
          }
        },
        "703968da551146e0bdc55909ae2270e6": {
          "model_module": "@jupyter-widgets/controls",
          "model_name": "DescriptionStyleModel",
          "model_module_version": "1.5.0",
          "state": {
            "_model_module": "@jupyter-widgets/controls",
            "_model_module_version": "1.5.0",
            "_model_name": "DescriptionStyleModel",
            "_view_count": null,
            "_view_module": "@jupyter-widgets/base",
            "_view_module_version": "1.2.0",
            "_view_name": "StyleView",
            "description_width": ""
          }
        }
      }
    }
  },
  "cells": [
    {
      "cell_type": "markdown",
      "metadata": {
        "id": "view-in-github",
        "colab_type": "text"
      },
      "source": [
        "<a href=\"https://colab.research.google.com/github/laxmi1707/RAG_ApplicationForPDF/blob/main/Apple_RAG.ipynb\" target=\"_parent\"><img src=\"https://colab.research.google.com/assets/colab-badge.svg\" alt=\"Open In Colab\"/></a>"
      ]
    },
    {
      "cell_type": "code",
      "execution_count": 1,
      "metadata": {
        "id": "rj7B_MZV_7GB"
      },
      "outputs": [],
      "source": []
    },
    {
      "cell_type": "markdown",
      "source": [
        "This is to do a RAG application over some apple report . It provides domain specific review.\n",
        "Problem statement\n",
        "Develop a RAG application to help business analysts efficiently extract key insights from extensive reports, such as How Apple is Organized for Innovation, enabling faster and more informed decision-making."
      ],
      "metadata": {
        "id": "XsJQyEJ6ALK7"
      }
    },
    {
      "cell_type": "code",
      "source": [
        "#For GPU llma cpu python\n",
        "!CMAKE_ARGS=\"-DLLAMA_CUBLAS=on\" FORCE_CMAKE=1 pip install llama-cpp-python==0.1.85 --force-reinstall --no-cache-dir -q"
      ],
      "metadata": {
        "colab": {
          "base_uri": "https://localhost:8080/"
        },
        "collapsed": true,
        "id": "GyHKcoOEA1kF",
        "outputId": "592d20c9-86b0-4c9a-cf6e-ec7f52b9e269"
      },
      "execution_count": 2,
      "outputs": [
        {
          "output_type": "stream",
          "name": "stdout",
          "text": [
            "\u001b[?25l     \u001b[90m━━━━━━━━━━━━━━━━━━━━━━━━━━━━━━━━━━━━━━━━\u001b[0m \u001b[32m0.0/1.8 MB\u001b[0m \u001b[31m?\u001b[0m eta \u001b[36m-:--:--\u001b[0m\r\u001b[2K     \u001b[90m━━━━━━━━━━━━━━━━━━━━━━━━━━━━━━━━━━━━━━━━\u001b[0m \u001b[32m1.8/1.8 MB\u001b[0m \u001b[31m149.6 MB/s\u001b[0m eta \u001b[36m0:00:00\u001b[0m\n",
            "\u001b[?25h  Installing build dependencies ... \u001b[?25l\u001b[?25hdone\n",
            "  Getting requirements to build wheel ... \u001b[?25l\u001b[?25hdone\n",
            "  Preparing metadata (pyproject.toml) ... \u001b[?25l\u001b[?25hdone\n",
            "\u001b[2K     \u001b[90m━━━━━━━━━━━━━━━━━━━━━━━━━━━━━━━━━━━━━━━\u001b[0m \u001b[32m62.1/62.1 kB\u001b[0m \u001b[31m143.8 MB/s\u001b[0m eta \u001b[36m0:00:00\u001b[0m\n",
            "\u001b[2K   \u001b[90m━━━━━━━━━━━━━━━━━━━━━━━━━━━━━━━━━━━━━━━━\u001b[0m \u001b[32m45.5/45.5 kB\u001b[0m \u001b[31m196.8 MB/s\u001b[0m eta \u001b[36m0:00:00\u001b[0m\n",
            "\u001b[2K   \u001b[90m━━━━━━━━━━━━━━━━━━━━━━━━━━━━━━━━━━━━━━━━\u001b[0m \u001b[32m16.9/16.9 MB\u001b[0m \u001b[31m170.9 MB/s\u001b[0m eta \u001b[36m0:00:00\u001b[0m\n",
            "\u001b[2K   \u001b[90m━━━━━━━━━━━━━━━━━━━━━━━━━━━━━━━━━━━━━━━━\u001b[0m \u001b[32m43.8/43.8 kB\u001b[0m \u001b[31m205.4 MB/s\u001b[0m eta \u001b[36m0:00:00\u001b[0m\n",
            "\u001b[?25h  Building wheel for llama-cpp-python (pyproject.toml) ... \u001b[?25l\u001b[?25hdone\n",
            "\u001b[31mERROR: pip's dependency resolver does not currently take into account all the packages that are installed. This behaviour is the source of the following dependency conflicts.\n",
            "torch 2.6.0+cu124 requires nvidia-cublas-cu12==12.4.5.8; platform_system == \"Linux\" and platform_machine == \"x86_64\", but you have nvidia-cublas-cu12 12.5.3.2 which is incompatible.\n",
            "torch 2.6.0+cu124 requires nvidia-cuda-cupti-cu12==12.4.127; platform_system == \"Linux\" and platform_machine == \"x86_64\", but you have nvidia-cuda-cupti-cu12 12.5.82 which is incompatible.\n",
            "torch 2.6.0+cu124 requires nvidia-cuda-nvrtc-cu12==12.4.127; platform_system == \"Linux\" and platform_machine == \"x86_64\", but you have nvidia-cuda-nvrtc-cu12 12.5.82 which is incompatible.\n",
            "torch 2.6.0+cu124 requires nvidia-cuda-runtime-cu12==12.4.127; platform_system == \"Linux\" and platform_machine == \"x86_64\", but you have nvidia-cuda-runtime-cu12 12.5.82 which is incompatible.\n",
            "torch 2.6.0+cu124 requires nvidia-cudnn-cu12==9.1.0.70; platform_system == \"Linux\" and platform_machine == \"x86_64\", but you have nvidia-cudnn-cu12 9.3.0.75 which is incompatible.\n",
            "torch 2.6.0+cu124 requires nvidia-cufft-cu12==11.2.1.3; platform_system == \"Linux\" and platform_machine == \"x86_64\", but you have nvidia-cufft-cu12 11.2.3.61 which is incompatible.\n",
            "torch 2.6.0+cu124 requires nvidia-curand-cu12==10.3.5.147; platform_system == \"Linux\" and platform_machine == \"x86_64\", but you have nvidia-curand-cu12 10.3.6.82 which is incompatible.\n",
            "torch 2.6.0+cu124 requires nvidia-cusolver-cu12==11.6.1.9; platform_system == \"Linux\" and platform_machine == \"x86_64\", but you have nvidia-cusolver-cu12 11.6.3.83 which is incompatible.\n",
            "torch 2.6.0+cu124 requires nvidia-cusparse-cu12==12.3.1.170; platform_system == \"Linux\" and platform_machine == \"x86_64\", but you have nvidia-cusparse-cu12 12.5.1.3 which is incompatible.\n",
            "torch 2.6.0+cu124 requires nvidia-nvjitlink-cu12==12.4.127; platform_system == \"Linux\" and platform_machine == \"x86_64\", but you have nvidia-nvjitlink-cu12 12.5.82 which is incompatible.\n",
            "cupy-cuda12x 13.3.0 requires numpy<2.3,>=1.22, but you have numpy 2.3.1 which is incompatible.\n",
            "tensorflow 2.18.0 requires numpy<2.1.0,>=1.26.0, but you have numpy 2.3.1 which is incompatible.\n",
            "numba 0.60.0 requires numpy<2.1,>=1.22, but you have numpy 2.3.1 which is incompatible.\u001b[0m\u001b[31m\n",
            "\u001b[0m"
          ]
        }
      ]
    },
    {
      "cell_type": "code",
      "source": [
        "!pip install huggingface_hub==0.23.2 pandas==1.5.3 tiktoken==0.6.0 pymupdf==1.25.1 langchain==0.1.1 langchain-community==0.0.13 chromadb==0.4.22 sentence-transformers==2.3.1 numpy==1.25.2 q"
      ],
      "metadata": {
        "colab": {
          "base_uri": "https://localhost:8080/",
          "height": 1000
        },
        "collapsed": true,
        "id": "unYAeAcpBN5-",
        "outputId": "f62469aa-6dd8-45a5-9dd7-4372aae5fc53"
      },
      "execution_count": 3,
      "outputs": [
        {
          "output_type": "stream",
          "name": "stdout",
          "text": [
            "Collecting huggingface_hub==0.23.2\n",
            "  Downloading huggingface_hub-0.23.2-py3-none-any.whl.metadata (12 kB)\n",
            "Collecting pandas==1.5.3\n",
            "  Downloading pandas-1.5.3-cp311-cp311-manylinux_2_17_x86_64.manylinux2014_x86_64.whl.metadata (11 kB)\n",
            "Collecting tiktoken==0.6.0\n",
            "  Downloading tiktoken-0.6.0-cp311-cp311-manylinux_2_17_x86_64.manylinux2014_x86_64.whl.metadata (6.6 kB)\n",
            "Collecting pymupdf==1.25.1\n",
            "  Downloading pymupdf-1.25.1-cp39-abi3-manylinux2014_x86_64.manylinux_2_17_x86_64.whl.metadata (3.4 kB)\n",
            "Collecting langchain==0.1.1\n",
            "  Downloading langchain-0.1.1-py3-none-any.whl.metadata (13 kB)\n",
            "Collecting langchain-community==0.0.13\n",
            "  Downloading langchain_community-0.0.13-py3-none-any.whl.metadata (7.5 kB)\n",
            "Collecting chromadb==0.4.22\n",
            "  Downloading chromadb-0.4.22-py3-none-any.whl.metadata (7.3 kB)\n",
            "Collecting sentence-transformers==2.3.1\n",
            "  Downloading sentence_transformers-2.3.1-py3-none-any.whl.metadata (11 kB)\n",
            "Collecting numpy==1.25.2\n",
            "  Downloading numpy-1.25.2-cp311-cp311-manylinux_2_17_x86_64.manylinux2014_x86_64.whl.metadata (5.6 kB)\n",
            "Collecting q\n",
            "  Downloading q-2.7-py2.py3-none-any.whl.metadata (811 bytes)\n",
            "Requirement already satisfied: filelock in /usr/local/lib/python3.11/dist-packages (from huggingface_hub==0.23.2) (3.18.0)\n",
            "Requirement already satisfied: fsspec>=2023.5.0 in /usr/local/lib/python3.11/dist-packages (from huggingface_hub==0.23.2) (2025.3.2)\n",
            "Requirement already satisfied: packaging>=20.9 in /usr/local/lib/python3.11/dist-packages (from huggingface_hub==0.23.2) (24.2)\n",
            "Requirement already satisfied: pyyaml>=5.1 in /usr/local/lib/python3.11/dist-packages (from huggingface_hub==0.23.2) (6.0.2)\n",
            "Requirement already satisfied: requests in /usr/local/lib/python3.11/dist-packages (from huggingface_hub==0.23.2) (2.32.3)\n",
            "Requirement already satisfied: tqdm>=4.42.1 in /usr/local/lib/python3.11/dist-packages (from huggingface_hub==0.23.2) (4.67.1)\n",
            "Requirement already satisfied: typing-extensions>=3.7.4.3 in /usr/local/lib/python3.11/dist-packages (from huggingface_hub==0.23.2) (4.14.0)\n",
            "Requirement already satisfied: python-dateutil>=2.8.1 in /usr/local/lib/python3.11/dist-packages (from pandas==1.5.3) (2.9.0.post0)\n",
            "Requirement already satisfied: pytz>=2020.1 in /usr/local/lib/python3.11/dist-packages (from pandas==1.5.3) (2025.2)\n",
            "Requirement already satisfied: regex>=2022.1.18 in /usr/local/lib/python3.11/dist-packages (from tiktoken==0.6.0) (2024.11.6)\n",
            "Requirement already satisfied: SQLAlchemy<3,>=1.4 in /usr/local/lib/python3.11/dist-packages (from langchain==0.1.1) (2.0.41)\n",
            "Requirement already satisfied: aiohttp<4.0.0,>=3.8.3 in /usr/local/lib/python3.11/dist-packages (from langchain==0.1.1) (3.11.15)\n",
            "Collecting dataclasses-json<0.7,>=0.5.7 (from langchain==0.1.1)\n",
            "  Downloading dataclasses_json-0.6.7-py3-none-any.whl.metadata (25 kB)\n",
            "Requirement already satisfied: jsonpatch<2.0,>=1.33 in /usr/local/lib/python3.11/dist-packages (from langchain==0.1.1) (1.33)\n",
            "Collecting langchain-core<0.2,>=0.1.9 (from langchain==0.1.1)\n",
            "  Downloading langchain_core-0.1.53-py3-none-any.whl.metadata (5.9 kB)\n",
            "Collecting langsmith<0.1.0,>=0.0.77 (from langchain==0.1.1)\n",
            "  Downloading langsmith-0.0.92-py3-none-any.whl.metadata (9.9 kB)\n",
            "Requirement already satisfied: pydantic<3,>=1 in /usr/local/lib/python3.11/dist-packages (from langchain==0.1.1) (2.11.7)\n",
            "Requirement already satisfied: tenacity<9.0.0,>=8.1.0 in /usr/local/lib/python3.11/dist-packages (from langchain==0.1.1) (8.5.0)\n",
            "Requirement already satisfied: build>=1.0.3 in /usr/local/lib/python3.11/dist-packages (from chromadb==0.4.22) (1.2.2.post1)\n",
            "Collecting chroma-hnswlib==0.7.3 (from chromadb==0.4.22)\n",
            "  Downloading chroma_hnswlib-0.7.3-cp311-cp311-manylinux_2_17_x86_64.manylinux2014_x86_64.whl.metadata (252 bytes)\n",
            "Requirement already satisfied: fastapi>=0.95.2 in /usr/local/lib/python3.11/dist-packages (from chromadb==0.4.22) (0.115.13)\n",
            "Requirement already satisfied: uvicorn>=0.18.3 in /usr/local/lib/python3.11/dist-packages (from uvicorn[standard]>=0.18.3->chromadb==0.4.22) (0.34.3)\n",
            "Collecting posthog>=2.4.0 (from chromadb==0.4.22)\n",
            "  Downloading posthog-6.0.0-py3-none-any.whl.metadata (6.0 kB)\n",
            "Collecting pulsar-client>=3.1.0 (from chromadb==0.4.22)\n",
            "  Downloading pulsar_client-3.7.0-cp311-cp311-manylinux_2_28_x86_64.whl.metadata (1.2 kB)\n",
            "Collecting onnxruntime>=1.14.1 (from chromadb==0.4.22)\n",
            "  Downloading onnxruntime-1.22.0-cp311-cp311-manylinux_2_27_x86_64.manylinux_2_28_x86_64.whl.metadata (4.5 kB)\n",
            "Collecting opentelemetry-api>=1.2.0 (from chromadb==0.4.22)\n",
            "  Downloading opentelemetry_api-1.34.1-py3-none-any.whl.metadata (1.5 kB)\n",
            "Collecting opentelemetry-exporter-otlp-proto-grpc>=1.2.0 (from chromadb==0.4.22)\n",
            "  Downloading opentelemetry_exporter_otlp_proto_grpc-1.34.1-py3-none-any.whl.metadata (2.4 kB)\n",
            "Collecting opentelemetry-instrumentation-fastapi>=0.41b0 (from chromadb==0.4.22)\n",
            "  Downloading opentelemetry_instrumentation_fastapi-0.55b1-py3-none-any.whl.metadata (2.2 kB)\n",
            "Collecting opentelemetry-sdk>=1.2.0 (from chromadb==0.4.22)\n",
            "  Downloading opentelemetry_sdk-1.34.1-py3-none-any.whl.metadata (1.6 kB)\n",
            "Requirement already satisfied: tokenizers>=0.13.2 in /usr/local/lib/python3.11/dist-packages (from chromadb==0.4.22) (0.21.2)\n",
            "Collecting pypika>=0.48.9 (from chromadb==0.4.22)\n",
            "  Downloading PyPika-0.48.9.tar.gz (67 kB)\n",
            "\u001b[2K     \u001b[90m━━━━━━━━━━━━━━━━━━━━━━━━━━━━━━━━━━━━━━━━\u001b[0m \u001b[32m67.3/67.3 kB\u001b[0m \u001b[31m7.3 MB/s\u001b[0m eta \u001b[36m0:00:00\u001b[0m\n",
            "\u001b[?25h  Installing build dependencies ... \u001b[?25l\u001b[?25hdone\n",
            "  Getting requirements to build wheel ... \u001b[?25l\u001b[?25hdone\n",
            "  Preparing metadata (pyproject.toml) ... \u001b[?25l\u001b[?25hdone\n",
            "Collecting overrides>=7.3.1 (from chromadb==0.4.22)\n",
            "  Downloading overrides-7.7.0-py3-none-any.whl.metadata (5.8 kB)\n",
            "Requirement already satisfied: importlib-resources in /usr/local/lib/python3.11/dist-packages (from chromadb==0.4.22) (6.5.2)\n",
            "Requirement already satisfied: grpcio>=1.58.0 in /usr/local/lib/python3.11/dist-packages (from chromadb==0.4.22) (1.73.0)\n",
            "Collecting bcrypt>=4.0.1 (from chromadb==0.4.22)\n",
            "  Downloading bcrypt-4.3.0-cp39-abi3-manylinux_2_34_x86_64.whl.metadata (10 kB)\n",
            "Requirement already satisfied: typer>=0.9.0 in /usr/local/lib/python3.11/dist-packages (from chromadb==0.4.22) (0.16.0)\n",
            "Collecting kubernetes>=28.1.0 (from chromadb==0.4.22)\n",
            "  Downloading kubernetes-33.1.0-py2.py3-none-any.whl.metadata (1.7 kB)\n",
            "Collecting mmh3>=4.0.1 (from chromadb==0.4.22)\n",
            "  Downloading mmh3-5.1.0-cp311-cp311-manylinux_2_5_x86_64.manylinux1_x86_64.manylinux_2_17_x86_64.manylinux2014_x86_64.whl.metadata (16 kB)\n",
            "Requirement already satisfied: transformers<5.0.0,>=4.32.0 in /usr/local/lib/python3.11/dist-packages (from sentence-transformers==2.3.1) (4.52.4)\n",
            "Requirement already satisfied: torch>=1.11.0 in /usr/local/lib/python3.11/dist-packages (from sentence-transformers==2.3.1) (2.6.0+cu124)\n",
            "Requirement already satisfied: scikit-learn in /usr/local/lib/python3.11/dist-packages (from sentence-transformers==2.3.1) (1.6.1)\n",
            "Requirement already satisfied: scipy in /usr/local/lib/python3.11/dist-packages (from sentence-transformers==2.3.1) (1.15.3)\n",
            "Requirement already satisfied: nltk in /usr/local/lib/python3.11/dist-packages (from sentence-transformers==2.3.1) (3.9.1)\n",
            "Requirement already satisfied: sentencepiece in /usr/local/lib/python3.11/dist-packages (from sentence-transformers==2.3.1) (0.2.0)\n",
            "Requirement already satisfied: Pillow in /usr/local/lib/python3.11/dist-packages (from sentence-transformers==2.3.1) (11.2.1)\n",
            "Requirement already satisfied: aiohappyeyeballs>=2.3.0 in /usr/local/lib/python3.11/dist-packages (from aiohttp<4.0.0,>=3.8.3->langchain==0.1.1) (2.6.1)\n",
            "Requirement already satisfied: aiosignal>=1.1.2 in /usr/local/lib/python3.11/dist-packages (from aiohttp<4.0.0,>=3.8.3->langchain==0.1.1) (1.3.2)\n",
            "Requirement already satisfied: attrs>=17.3.0 in /usr/local/lib/python3.11/dist-packages (from aiohttp<4.0.0,>=3.8.3->langchain==0.1.1) (25.3.0)\n",
            "Requirement already satisfied: frozenlist>=1.1.1 in /usr/local/lib/python3.11/dist-packages (from aiohttp<4.0.0,>=3.8.3->langchain==0.1.1) (1.7.0)\n",
            "Requirement already satisfied: multidict<7.0,>=4.5 in /usr/local/lib/python3.11/dist-packages (from aiohttp<4.0.0,>=3.8.3->langchain==0.1.1) (6.4.4)\n",
            "Requirement already satisfied: propcache>=0.2.0 in /usr/local/lib/python3.11/dist-packages (from aiohttp<4.0.0,>=3.8.3->langchain==0.1.1) (0.3.2)\n",
            "Requirement already satisfied: yarl<2.0,>=1.17.0 in /usr/local/lib/python3.11/dist-packages (from aiohttp<4.0.0,>=3.8.3->langchain==0.1.1) (1.20.1)\n",
            "Requirement already satisfied: pyproject_hooks in /usr/local/lib/python3.11/dist-packages (from build>=1.0.3->chromadb==0.4.22) (1.2.0)\n",
            "Collecting marshmallow<4.0.0,>=3.18.0 (from dataclasses-json<0.7,>=0.5.7->langchain==0.1.1)\n",
            "  Downloading marshmallow-3.26.1-py3-none-any.whl.metadata (7.3 kB)\n",
            "Collecting typing-inspect<1,>=0.4.0 (from dataclasses-json<0.7,>=0.5.7->langchain==0.1.1)\n",
            "  Downloading typing_inspect-0.9.0-py3-none-any.whl.metadata (1.5 kB)\n",
            "Requirement already satisfied: starlette<0.47.0,>=0.40.0 in /usr/local/lib/python3.11/dist-packages (from fastapi>=0.95.2->chromadb==0.4.22) (0.46.2)\n",
            "Requirement already satisfied: jsonpointer>=1.9 in /usr/local/lib/python3.11/dist-packages (from jsonpatch<2.0,>=1.33->langchain==0.1.1) (3.0.0)\n",
            "Requirement already satisfied: certifi>=14.05.14 in /usr/local/lib/python3.11/dist-packages (from kubernetes>=28.1.0->chromadb==0.4.22) (2025.6.15)\n",
            "Requirement already satisfied: six>=1.9.0 in /usr/local/lib/python3.11/dist-packages (from kubernetes>=28.1.0->chromadb==0.4.22) (1.17.0)\n",
            "Requirement already satisfied: google-auth>=1.0.1 in /usr/local/lib/python3.11/dist-packages (from kubernetes>=28.1.0->chromadb==0.4.22) (2.38.0)\n",
            "Requirement already satisfied: websocket-client!=0.40.0,!=0.41.*,!=0.42.*,>=0.32.0 in /usr/local/lib/python3.11/dist-packages (from kubernetes>=28.1.0->chromadb==0.4.22) (1.8.0)\n",
            "Requirement already satisfied: requests-oauthlib in /usr/local/lib/python3.11/dist-packages (from kubernetes>=28.1.0->chromadb==0.4.22) (2.0.0)\n",
            "Requirement already satisfied: oauthlib>=3.2.2 in /usr/local/lib/python3.11/dist-packages (from kubernetes>=28.1.0->chromadb==0.4.22) (3.3.1)\n",
            "Requirement already satisfied: urllib3>=1.24.2 in /usr/local/lib/python3.11/dist-packages (from kubernetes>=28.1.0->chromadb==0.4.22) (2.4.0)\n",
            "Collecting durationpy>=0.7 (from kubernetes>=28.1.0->chromadb==0.4.22)\n",
            "  Downloading durationpy-0.10-py3-none-any.whl.metadata (340 bytes)\n",
            "INFO: pip is looking at multiple versions of langchain-core to determine which version is compatible with other requirements. This could take a while.\n",
            "Collecting langchain-core<0.2,>=0.1.9 (from langchain==0.1.1)\n",
            "  Downloading langchain_core-0.1.52-py3-none-any.whl.metadata (5.9 kB)\n",
            "  Downloading langchain_core-0.1.51-py3-none-any.whl.metadata (5.9 kB)\n",
            "  Downloading langchain_core-0.1.50-py3-none-any.whl.metadata (5.9 kB)\n",
            "  Downloading langchain_core-0.1.49-py3-none-any.whl.metadata (5.9 kB)\n",
            "  Downloading langchain_core-0.1.48-py3-none-any.whl.metadata (5.9 kB)\n",
            "  Downloading langchain_core-0.1.47-py3-none-any.whl.metadata (5.9 kB)\n",
            "  Downloading langchain_core-0.1.46-py3-none-any.whl.metadata (5.9 kB)\n",
            "INFO: pip is still looking at multiple versions of langchain-core to determine which version is compatible with other requirements. This could take a while.\n",
            "  Downloading langchain_core-0.1.45-py3-none-any.whl.metadata (5.9 kB)\n",
            "  Downloading langchain_core-0.1.44-py3-none-any.whl.metadata (5.9 kB)\n",
            "  Downloading langchain_core-0.1.43-py3-none-any.whl.metadata (5.9 kB)\n",
            "  Downloading langchain_core-0.1.42-py3-none-any.whl.metadata (5.9 kB)\n",
            "  Downloading langchain_core-0.1.41-py3-none-any.whl.metadata (5.9 kB)\n",
            "INFO: This is taking longer than usual. You might need to provide the dependency resolver with stricter constraints to reduce runtime. See https://pip.pypa.io/warnings/backtracking for guidance. If you want to abort this run, press Ctrl + C.\n",
            "  Downloading langchain_core-0.1.40-py3-none-any.whl.metadata (5.9 kB)\n",
            "  Downloading langchain_core-0.1.39-py3-none-any.whl.metadata (5.9 kB)\n",
            "  Downloading langchain_core-0.1.38-py3-none-any.whl.metadata (6.0 kB)\n",
            "  Downloading langchain_core-0.1.37-py3-none-any.whl.metadata (6.0 kB)\n",
            "  Downloading langchain_core-0.1.36-py3-none-any.whl.metadata (6.0 kB)\n",
            "  Downloading langchain_core-0.1.35-py3-none-any.whl.metadata (6.0 kB)\n",
            "  Downloading langchain_core-0.1.34-py3-none-any.whl.metadata (6.0 kB)\n",
            "  Downloading langchain_core-0.1.33-py3-none-any.whl.metadata (6.0 kB)\n",
            "Requirement already satisfied: anyio<5,>=3 in /usr/local/lib/python3.11/dist-packages (from langchain-core<0.2,>=0.1.9->langchain==0.1.1) (4.9.0)\n",
            "  Downloading langchain_core-0.1.32-py3-none-any.whl.metadata (6.0 kB)\n",
            "  Downloading langchain_core-0.1.31-py3-none-any.whl.metadata (6.0 kB)\n",
            "  Downloading langchain_core-0.1.30-py3-none-any.whl.metadata (6.0 kB)\n",
            "  Downloading langchain_core-0.1.29-py3-none-any.whl.metadata (6.0 kB)\n",
            "  Downloading langchain_core-0.1.28-py3-none-any.whl.metadata (6.0 kB)\n",
            "  Downloading langchain_core-0.1.27-py3-none-any.whl.metadata (6.0 kB)\n",
            "  Downloading langchain_core-0.1.26-py3-none-any.whl.metadata (6.0 kB)\n",
            "  Downloading langchain_core-0.1.25-py3-none-any.whl.metadata (6.0 kB)\n",
            "  Downloading langchain_core-0.1.24-py3-none-any.whl.metadata (6.0 kB)\n",
            "  Downloading langchain_core-0.1.23-py3-none-any.whl.metadata (6.0 kB)\n",
            "Collecting langsmith<0.1.0,>=0.0.77 (from langchain==0.1.1)\n",
            "  Downloading langsmith-0.0.87-py3-none-any.whl.metadata (10 kB)\n",
            "Collecting packaging>=20.9 (from huggingface_hub==0.23.2)\n",
            "  Downloading packaging-23.2-py3-none-any.whl.metadata (3.2 kB)\n",
            "Collecting coloredlogs (from onnxruntime>=1.14.1->chromadb==0.4.22)\n",
            "  Downloading coloredlogs-15.0.1-py2.py3-none-any.whl.metadata (12 kB)\n",
            "Requirement already satisfied: flatbuffers in /usr/local/lib/python3.11/dist-packages (from onnxruntime>=1.14.1->chromadb==0.4.22) (25.2.10)\n",
            "Requirement already satisfied: protobuf in /usr/local/lib/python3.11/dist-packages (from onnxruntime>=1.14.1->chromadb==0.4.22) (5.29.5)\n",
            "Requirement already satisfied: sympy in /usr/local/lib/python3.11/dist-packages (from onnxruntime>=1.14.1->chromadb==0.4.22) (1.13.1)\n",
            "Requirement already satisfied: importlib-metadata<8.8.0,>=6.0 in /usr/local/lib/python3.11/dist-packages (from opentelemetry-api>=1.2.0->chromadb==0.4.22) (8.7.0)\n",
            "Requirement already satisfied: googleapis-common-protos~=1.52 in /usr/local/lib/python3.11/dist-packages (from opentelemetry-exporter-otlp-proto-grpc>=1.2.0->chromadb==0.4.22) (1.70.0)\n",
            "Collecting opentelemetry-exporter-otlp-proto-common==1.34.1 (from opentelemetry-exporter-otlp-proto-grpc>=1.2.0->chromadb==0.4.22)\n",
            "  Downloading opentelemetry_exporter_otlp_proto_common-1.34.1-py3-none-any.whl.metadata (1.9 kB)\n",
            "Collecting opentelemetry-proto==1.34.1 (from opentelemetry-exporter-otlp-proto-grpc>=1.2.0->chromadb==0.4.22)\n",
            "  Downloading opentelemetry_proto-1.34.1-py3-none-any.whl.metadata (2.4 kB)\n",
            "Collecting opentelemetry-instrumentation-asgi==0.55b1 (from opentelemetry-instrumentation-fastapi>=0.41b0->chromadb==0.4.22)\n",
            "  Downloading opentelemetry_instrumentation_asgi-0.55b1-py3-none-any.whl.metadata (2.0 kB)\n",
            "Collecting opentelemetry-instrumentation==0.55b1 (from opentelemetry-instrumentation-fastapi>=0.41b0->chromadb==0.4.22)\n",
            "  Downloading opentelemetry_instrumentation-0.55b1-py3-none-any.whl.metadata (6.7 kB)\n",
            "Collecting opentelemetry-semantic-conventions==0.55b1 (from opentelemetry-instrumentation-fastapi>=0.41b0->chromadb==0.4.22)\n",
            "  Downloading opentelemetry_semantic_conventions-0.55b1-py3-none-any.whl.metadata (2.5 kB)\n",
            "Collecting opentelemetry-util-http==0.55b1 (from opentelemetry-instrumentation-fastapi>=0.41b0->chromadb==0.4.22)\n",
            "  Downloading opentelemetry_util_http-0.55b1-py3-none-any.whl.metadata (2.6 kB)\n",
            "Requirement already satisfied: wrapt<2.0.0,>=1.0.0 in /usr/local/lib/python3.11/dist-packages (from opentelemetry-instrumentation==0.55b1->opentelemetry-instrumentation-fastapi>=0.41b0->chromadb==0.4.22) (1.17.2)\n",
            "Collecting asgiref~=3.0 (from opentelemetry-instrumentation-asgi==0.55b1->opentelemetry-instrumentation-fastapi>=0.41b0->chromadb==0.4.22)\n",
            "  Downloading asgiref-3.8.1-py3-none-any.whl.metadata (9.3 kB)\n",
            "Collecting backoff>=1.10.0 (from posthog>=2.4.0->chromadb==0.4.22)\n",
            "  Downloading backoff-2.2.1-py3-none-any.whl.metadata (14 kB)\n",
            "Requirement already satisfied: distro>=1.5.0 in /usr/local/lib/python3.11/dist-packages (from posthog>=2.4.0->chromadb==0.4.22) (1.9.0)\n",
            "Requirement already satisfied: annotated-types>=0.6.0 in /usr/local/lib/python3.11/dist-packages (from pydantic<3,>=1->langchain==0.1.1) (0.7.0)\n",
            "Requirement already satisfied: pydantic-core==2.33.2 in /usr/local/lib/python3.11/dist-packages (from pydantic<3,>=1->langchain==0.1.1) (2.33.2)\n",
            "Requirement already satisfied: typing-inspection>=0.4.0 in /usr/local/lib/python3.11/dist-packages (from pydantic<3,>=1->langchain==0.1.1) (0.4.1)\n",
            "Requirement already satisfied: charset-normalizer<4,>=2 in /usr/local/lib/python3.11/dist-packages (from requests->huggingface_hub==0.23.2) (3.4.2)\n",
            "Requirement already satisfied: idna<4,>=2.5 in /usr/local/lib/python3.11/dist-packages (from requests->huggingface_hub==0.23.2) (3.10)\n",
            "Requirement already satisfied: greenlet>=1 in /usr/local/lib/python3.11/dist-packages (from SQLAlchemy<3,>=1.4->langchain==0.1.1) (3.2.3)\n",
            "Requirement already satisfied: networkx in /usr/local/lib/python3.11/dist-packages (from torch>=1.11.0->sentence-transformers==2.3.1) (3.5)\n",
            "Requirement already satisfied: jinja2 in /usr/local/lib/python3.11/dist-packages (from torch>=1.11.0->sentence-transformers==2.3.1) (3.1.6)\n",
            "Collecting nvidia-cuda-nvrtc-cu12==12.4.127 (from torch>=1.11.0->sentence-transformers==2.3.1)\n",
            "  Downloading nvidia_cuda_nvrtc_cu12-12.4.127-py3-none-manylinux2014_x86_64.whl.metadata (1.5 kB)\n",
            "Collecting nvidia-cuda-runtime-cu12==12.4.127 (from torch>=1.11.0->sentence-transformers==2.3.1)\n",
            "  Downloading nvidia_cuda_runtime_cu12-12.4.127-py3-none-manylinux2014_x86_64.whl.metadata (1.5 kB)\n",
            "Collecting nvidia-cuda-cupti-cu12==12.4.127 (from torch>=1.11.0->sentence-transformers==2.3.1)\n",
            "  Downloading nvidia_cuda_cupti_cu12-12.4.127-py3-none-manylinux2014_x86_64.whl.metadata (1.6 kB)\n",
            "Collecting nvidia-cudnn-cu12==9.1.0.70 (from torch>=1.11.0->sentence-transformers==2.3.1)\n",
            "  Downloading nvidia_cudnn_cu12-9.1.0.70-py3-none-manylinux2014_x86_64.whl.metadata (1.6 kB)\n",
            "Collecting nvidia-cublas-cu12==12.4.5.8 (from torch>=1.11.0->sentence-transformers==2.3.1)\n",
            "  Downloading nvidia_cublas_cu12-12.4.5.8-py3-none-manylinux2014_x86_64.whl.metadata (1.5 kB)\n",
            "Collecting nvidia-cufft-cu12==11.2.1.3 (from torch>=1.11.0->sentence-transformers==2.3.1)\n",
            "  Downloading nvidia_cufft_cu12-11.2.1.3-py3-none-manylinux2014_x86_64.whl.metadata (1.5 kB)\n",
            "Collecting nvidia-curand-cu12==10.3.5.147 (from torch>=1.11.0->sentence-transformers==2.3.1)\n",
            "  Downloading nvidia_curand_cu12-10.3.5.147-py3-none-manylinux2014_x86_64.whl.metadata (1.5 kB)\n",
            "Collecting nvidia-cusolver-cu12==11.6.1.9 (from torch>=1.11.0->sentence-transformers==2.3.1)\n",
            "  Downloading nvidia_cusolver_cu12-11.6.1.9-py3-none-manylinux2014_x86_64.whl.metadata (1.6 kB)\n",
            "Collecting nvidia-cusparse-cu12==12.3.1.170 (from torch>=1.11.0->sentence-transformers==2.3.1)\n",
            "  Downloading nvidia_cusparse_cu12-12.3.1.170-py3-none-manylinux2014_x86_64.whl.metadata (1.6 kB)\n",
            "Requirement already satisfied: nvidia-cusparselt-cu12==0.6.2 in /usr/local/lib/python3.11/dist-packages (from torch>=1.11.0->sentence-transformers==2.3.1) (0.6.2)\n",
            "Requirement already satisfied: nvidia-nccl-cu12==2.21.5 in /usr/local/lib/python3.11/dist-packages (from torch>=1.11.0->sentence-transformers==2.3.1) (2.21.5)\n",
            "Requirement already satisfied: nvidia-nvtx-cu12==12.4.127 in /usr/local/lib/python3.11/dist-packages (from torch>=1.11.0->sentence-transformers==2.3.1) (12.4.127)\n",
            "Collecting nvidia-nvjitlink-cu12==12.4.127 (from torch>=1.11.0->sentence-transformers==2.3.1)\n",
            "  Downloading nvidia_nvjitlink_cu12-12.4.127-py3-none-manylinux2014_x86_64.whl.metadata (1.5 kB)\n",
            "Requirement already satisfied: triton==3.2.0 in /usr/local/lib/python3.11/dist-packages (from torch>=1.11.0->sentence-transformers==2.3.1) (3.2.0)\n",
            "Requirement already satisfied: mpmath<1.4,>=1.1.0 in /usr/local/lib/python3.11/dist-packages (from sympy->onnxruntime>=1.14.1->chromadb==0.4.22) (1.3.0)\n",
            "INFO: pip is looking at multiple versions of transformers to determine which version is compatible with other requirements. This could take a while.\n",
            "Collecting transformers<5.0.0,>=4.32.0 (from sentence-transformers==2.3.1)\n",
            "  Downloading transformers-4.53.0-py3-none-any.whl.metadata (39 kB)\n",
            "  Downloading transformers-4.52.3-py3-none-any.whl.metadata (40 kB)\n",
            "\u001b[2K     \u001b[90m━━━━━━━━━━━━━━━━━━━━━━━━━━━━━━━━━━━━━━━━\u001b[0m \u001b[32m40.2/40.2 kB\u001b[0m \u001b[31m4.3 MB/s\u001b[0m eta \u001b[36m0:00:00\u001b[0m\n",
            "\u001b[?25h  Downloading transformers-4.52.2-py3-none-any.whl.metadata (40 kB)\n",
            "\u001b[2K     \u001b[90m━━━━━━━━━━━━━━━━━━━━━━━━━━━━━━━━━━━━━━━━\u001b[0m \u001b[32m40.2/40.2 kB\u001b[0m \u001b[31m3.8 MB/s\u001b[0m eta \u001b[36m0:00:00\u001b[0m\n",
            "\u001b[?25h  Downloading transformers-4.52.1-py3-none-any.whl.metadata (38 kB)\n",
            "  Downloading transformers-4.51.3-py3-none-any.whl.metadata (38 kB)\n",
            "  Downloading transformers-4.51.2-py3-none-any.whl.metadata (38 kB)\n",
            "  Downloading transformers-4.51.1-py3-none-any.whl.metadata (38 kB)\n",
            "INFO: pip is still looking at multiple versions of transformers to determine which version is compatible with other requirements. This could take a while.\n",
            "  Downloading transformers-4.51.0-py3-none-any.whl.metadata (38 kB)\n",
            "  Downloading transformers-4.50.3-py3-none-any.whl.metadata (39 kB)\n",
            "  Downloading transformers-4.50.2-py3-none-any.whl.metadata (39 kB)\n",
            "  Downloading transformers-4.50.1-py3-none-any.whl.metadata (39 kB)\n",
            "  Downloading transformers-4.50.0-py3-none-any.whl.metadata (39 kB)\n",
            "INFO: This is taking longer than usual. You might need to provide the dependency resolver with stricter constraints to reduce runtime. See https://pip.pypa.io/warnings/backtracking for guidance. If you want to abort this run, press Ctrl + C.\n",
            "  Downloading transformers-4.49.0-py3-none-any.whl.metadata (44 kB)\n",
            "\u001b[2K     \u001b[90m━━━━━━━━━━━━━━━━━━━━━━━━━━━━━━━━━━━━━━━━\u001b[0m \u001b[32m44.0/44.0 kB\u001b[0m \u001b[31m4.0 MB/s\u001b[0m eta \u001b[36m0:00:00\u001b[0m\n",
            "\u001b[?25h  Downloading transformers-4.48.3-py3-none-any.whl.metadata (44 kB)\n",
            "\u001b[2K     \u001b[90m━━━━━━━━━━━━━━━━━━━━━━━━━━━━━━━━━━━━━━━━\u001b[0m \u001b[32m44.4/44.4 kB\u001b[0m \u001b[31m4.1 MB/s\u001b[0m eta \u001b[36m0:00:00\u001b[0m\n",
            "\u001b[?25h  Downloading transformers-4.48.2-py3-none-any.whl.metadata (44 kB)\n",
            "\u001b[2K     \u001b[90m━━━━━━━━━━━━━━━━━━━━━━━━━━━━━━━━━━━━━━━━\u001b[0m \u001b[32m44.4/44.4 kB\u001b[0m \u001b[31m4.2 MB/s\u001b[0m eta \u001b[36m0:00:00\u001b[0m\n",
            "\u001b[?25h  Downloading transformers-4.48.1-py3-none-any.whl.metadata (44 kB)\n",
            "\u001b[2K     \u001b[90m━━━━━━━━━━━━━━━━━━━━━━━━━━━━━━━━━━━━━━━━\u001b[0m \u001b[32m44.4/44.4 kB\u001b[0m \u001b[31m3.9 MB/s\u001b[0m eta \u001b[36m0:00:00\u001b[0m\n",
            "\u001b[?25h  Downloading transformers-4.48.0-py3-none-any.whl.metadata (44 kB)\n",
            "\u001b[2K     \u001b[90m━━━━━━━━━━━━━━━━━━━━━━━━━━━━━━━━━━━━━━━━\u001b[0m \u001b[32m44.4/44.4 kB\u001b[0m \u001b[31m3.0 MB/s\u001b[0m eta \u001b[36m0:00:00\u001b[0m\n",
            "\u001b[?25h  Downloading transformers-4.47.1-py3-none-any.whl.metadata (44 kB)\n",
            "\u001b[2K     \u001b[90m━━━━━━━━━━━━━━━━━━━━━━━━━━━━━━━━━━━━━━━━\u001b[0m \u001b[32m44.1/44.1 kB\u001b[0m \u001b[31m2.2 MB/s\u001b[0m eta \u001b[36m0:00:00\u001b[0m\n",
            "\u001b[?25h  Downloading transformers-4.47.0-py3-none-any.whl.metadata (43 kB)\n",
            "\u001b[2K     \u001b[90m━━━━━━━━━━━━━━━━━━━━━━━━━━━━━━━━━━━━━━━━\u001b[0m \u001b[32m43.5/43.5 kB\u001b[0m \u001b[31m3.0 MB/s\u001b[0m eta \u001b[36m0:00:00\u001b[0m\n",
            "\u001b[?25h  Downloading transformers-4.46.3-py3-none-any.whl.metadata (44 kB)\n",
            "\u001b[2K     \u001b[90m━━━━━━━━━━━━━━━━━━━━━━━━━━━━━━━━━━━━━━━━\u001b[0m \u001b[32m44.1/44.1 kB\u001b[0m \u001b[31m3.9 MB/s\u001b[0m eta \u001b[36m0:00:00\u001b[0m\n",
            "\u001b[?25hCollecting tokenizers>=0.13.2 (from chromadb==0.4.22)\n",
            "  Downloading tokenizers-0.20.3-cp311-cp311-manylinux_2_17_x86_64.manylinux2014_x86_64.whl.metadata (6.7 kB)\n",
            "Requirement already satisfied: safetensors>=0.4.1 in /usr/local/lib/python3.11/dist-packages (from transformers<5.0.0,>=4.32.0->sentence-transformers==2.3.1) (0.5.3)\n",
            "Requirement already satisfied: click>=8.0.0 in /usr/local/lib/python3.11/dist-packages (from typer>=0.9.0->chromadb==0.4.22) (8.2.1)\n",
            "Requirement already satisfied: shellingham>=1.3.0 in /usr/local/lib/python3.11/dist-packages (from typer>=0.9.0->chromadb==0.4.22) (1.5.4)\n",
            "Requirement already satisfied: rich>=10.11.0 in /usr/local/lib/python3.11/dist-packages (from typer>=0.9.0->chromadb==0.4.22) (13.9.4)\n",
            "Requirement already satisfied: h11>=0.8 in /usr/local/lib/python3.11/dist-packages (from uvicorn>=0.18.3->uvicorn[standard]>=0.18.3->chromadb==0.4.22) (0.16.0)\n",
            "Collecting httptools>=0.6.3 (from uvicorn[standard]>=0.18.3->chromadb==0.4.22)\n",
            "  Downloading httptools-0.6.4-cp311-cp311-manylinux_2_5_x86_64.manylinux1_x86_64.manylinux_2_17_x86_64.manylinux2014_x86_64.whl.metadata (3.6 kB)\n",
            "Collecting python-dotenv>=0.13 (from uvicorn[standard]>=0.18.3->chromadb==0.4.22)\n",
            "  Downloading python_dotenv-1.1.1-py3-none-any.whl.metadata (24 kB)\n",
            "Collecting uvloop>=0.15.1 (from uvicorn[standard]>=0.18.3->chromadb==0.4.22)\n",
            "  Downloading uvloop-0.21.0-cp311-cp311-manylinux_2_17_x86_64.manylinux2014_x86_64.whl.metadata (4.9 kB)\n",
            "Collecting watchfiles>=0.13 (from uvicorn[standard]>=0.18.3->chromadb==0.4.22)\n",
            "  Downloading watchfiles-1.1.0-cp311-cp311-manylinux_2_17_x86_64.manylinux2014_x86_64.whl.metadata (4.9 kB)\n",
            "Requirement already satisfied: websockets>=10.4 in /usr/local/lib/python3.11/dist-packages (from uvicorn[standard]>=0.18.3->chromadb==0.4.22) (15.0.1)\n",
            "Requirement already satisfied: joblib in /usr/local/lib/python3.11/dist-packages (from nltk->sentence-transformers==2.3.1) (1.5.1)\n",
            "Requirement already satisfied: threadpoolctl>=3.1.0 in /usr/local/lib/python3.11/dist-packages (from scikit-learn->sentence-transformers==2.3.1) (3.6.0)\n",
            "Requirement already satisfied: sniffio>=1.1 in /usr/local/lib/python3.11/dist-packages (from anyio<5,>=3->langchain-core<0.2,>=0.1.9->langchain==0.1.1) (1.3.1)\n",
            "Requirement already satisfied: cachetools<6.0,>=2.0.0 in /usr/local/lib/python3.11/dist-packages (from google-auth>=1.0.1->kubernetes>=28.1.0->chromadb==0.4.22) (5.5.2)\n",
            "Requirement already satisfied: pyasn1-modules>=0.2.1 in /usr/local/lib/python3.11/dist-packages (from google-auth>=1.0.1->kubernetes>=28.1.0->chromadb==0.4.22) (0.4.2)\n",
            "Requirement already satisfied: rsa<5,>=3.1.4 in /usr/local/lib/python3.11/dist-packages (from google-auth>=1.0.1->kubernetes>=28.1.0->chromadb==0.4.22) (4.9.1)\n",
            "Requirement already satisfied: zipp>=3.20 in /usr/local/lib/python3.11/dist-packages (from importlib-metadata<8.8.0,>=6.0->opentelemetry-api>=1.2.0->chromadb==0.4.22) (3.23.0)\n",
            "Requirement already satisfied: markdown-it-py>=2.2.0 in /usr/local/lib/python3.11/dist-packages (from rich>=10.11.0->typer>=0.9.0->chromadb==0.4.22) (3.0.0)\n",
            "Requirement already satisfied: pygments<3.0.0,>=2.13.0 in /usr/local/lib/python3.11/dist-packages (from rich>=10.11.0->typer>=0.9.0->chromadb==0.4.22) (2.19.2)\n",
            "Collecting mypy-extensions>=0.3.0 (from typing-inspect<1,>=0.4.0->dataclasses-json<0.7,>=0.5.7->langchain==0.1.1)\n",
            "  Downloading mypy_extensions-1.1.0-py3-none-any.whl.metadata (1.1 kB)\n",
            "Collecting humanfriendly>=9.1 (from coloredlogs->onnxruntime>=1.14.1->chromadb==0.4.22)\n",
            "  Downloading humanfriendly-10.0-py2.py3-none-any.whl.metadata (9.2 kB)\n",
            "Requirement already satisfied: MarkupSafe>=2.0 in /usr/local/lib/python3.11/dist-packages (from jinja2->torch>=1.11.0->sentence-transformers==2.3.1) (3.0.2)\n",
            "Requirement already satisfied: mdurl~=0.1 in /usr/local/lib/python3.11/dist-packages (from markdown-it-py>=2.2.0->rich>=10.11.0->typer>=0.9.0->chromadb==0.4.22) (0.1.2)\n",
            "Requirement already satisfied: pyasn1<0.7.0,>=0.6.1 in /usr/local/lib/python3.11/dist-packages (from pyasn1-modules>=0.2.1->google-auth>=1.0.1->kubernetes>=28.1.0->chromadb==0.4.22) (0.6.1)\n",
            "Downloading huggingface_hub-0.23.2-py3-none-any.whl (401 kB)\n",
            "\u001b[2K   \u001b[90m━━━━━━━━━━━━━━━━━━━━━━━━━━━━━━━━━━━━━━━━\u001b[0m \u001b[32m401.7/401.7 kB\u001b[0m \u001b[31m38.1 MB/s\u001b[0m eta \u001b[36m0:00:00\u001b[0m\n",
            "\u001b[?25hDownloading pandas-1.5.3-cp311-cp311-manylinux_2_17_x86_64.manylinux2014_x86_64.whl (12.0 MB)\n",
            "\u001b[2K   \u001b[90m━━━━━━━━━━━━━━━━━━━━━━━━━━━━━━━━━━━━━━━━\u001b[0m \u001b[32m12.0/12.0 MB\u001b[0m \u001b[31m131.0 MB/s\u001b[0m eta \u001b[36m0:00:00\u001b[0m\n",
            "\u001b[?25hDownloading tiktoken-0.6.0-cp311-cp311-manylinux_2_17_x86_64.manylinux2014_x86_64.whl (1.8 MB)\n",
            "\u001b[2K   \u001b[90m━━━━━━━━━━━━━━━━━━━━━━━━━━━━━━━━━━━━━━━━\u001b[0m \u001b[32m1.8/1.8 MB\u001b[0m \u001b[31m95.9 MB/s\u001b[0m eta \u001b[36m0:00:00\u001b[0m\n",
            "\u001b[?25hDownloading pymupdf-1.25.1-cp39-abi3-manylinux2014_x86_64.manylinux_2_17_x86_64.whl (20.0 MB)\n",
            "\u001b[2K   \u001b[90m━━━━━━━━━━━━━━━━━━━━━━━━━━━━━━━━━━━━━━━━\u001b[0m \u001b[32m20.0/20.0 MB\u001b[0m \u001b[31m104.5 MB/s\u001b[0m eta \u001b[36m0:00:00\u001b[0m\n",
            "\u001b[?25hDownloading langchain-0.1.1-py3-none-any.whl (802 kB)\n",
            "\u001b[2K   \u001b[90m━━━━━━━━━━━━━━━━━━━━━━━━━━━━━━━━━━━━━━━━\u001b[0m \u001b[32m802.4/802.4 kB\u001b[0m \u001b[31m61.5 MB/s\u001b[0m eta \u001b[36m0:00:00\u001b[0m\n",
            "\u001b[?25hDownloading langchain_community-0.0.13-py3-none-any.whl (1.6 MB)\n",
            "\u001b[2K   \u001b[90m━━━━━━━━━━━━━━━━━━━━━━━━━━━━━━━━━━━━━━━━\u001b[0m \u001b[32m1.6/1.6 MB\u001b[0m \u001b[31m86.4 MB/s\u001b[0m eta \u001b[36m0:00:00\u001b[0m\n",
            "\u001b[?25hDownloading chromadb-0.4.22-py3-none-any.whl (509 kB)\n",
            "\u001b[2K   \u001b[90m━━━━━━━━━━━━━━━━━━━━━━━━━━━━━━━━━━━━━━━━\u001b[0m \u001b[32m509.0/509.0 kB\u001b[0m \u001b[31m45.8 MB/s\u001b[0m eta \u001b[36m0:00:00\u001b[0m\n",
            "\u001b[?25hDownloading sentence_transformers-2.3.1-py3-none-any.whl (132 kB)\n",
            "\u001b[2K   \u001b[90m━━━━━━━━━━━━━━━━━━━━━━━━━━━━━━━━━━━━━━━━\u001b[0m \u001b[32m132.8/132.8 kB\u001b[0m \u001b[31m15.7 MB/s\u001b[0m eta \u001b[36m0:00:00\u001b[0m\n",
            "\u001b[?25hDownloading numpy-1.25.2-cp311-cp311-manylinux_2_17_x86_64.manylinux2014_x86_64.whl (18.2 MB)\n",
            "\u001b[2K   \u001b[90m━━━━━━━━━━━━━━━━━━━━━━━━━━━━━━━━━━━━━━━━\u001b[0m \u001b[32m18.2/18.2 MB\u001b[0m \u001b[31m121.6 MB/s\u001b[0m eta \u001b[36m0:00:00\u001b[0m\n",
            "\u001b[?25hDownloading chroma_hnswlib-0.7.3-cp311-cp311-manylinux_2_17_x86_64.manylinux2014_x86_64.whl (2.4 MB)\n",
            "\u001b[2K   \u001b[90m━━━━━━━━━━━━━━━━━━━━━━━━━━━━━━━━━━━━━━━━\u001b[0m \u001b[32m2.4/2.4 MB\u001b[0m \u001b[31m75.9 MB/s\u001b[0m eta \u001b[36m0:00:00\u001b[0m\n",
            "\u001b[?25hDownloading q-2.7-py2.py3-none-any.whl (10 kB)\n",
            "Downloading bcrypt-4.3.0-cp39-abi3-manylinux_2_34_x86_64.whl (284 kB)\n",
            "\u001b[2K   \u001b[90m━━━━━━━━━━━━━━━━━━━━━━━━━━━━━━━━━━━━━━━━\u001b[0m \u001b[32m284.2/284.2 kB\u001b[0m \u001b[31m28.5 MB/s\u001b[0m eta \u001b[36m0:00:00\u001b[0m\n",
            "\u001b[?25hDownloading dataclasses_json-0.6.7-py3-none-any.whl (28 kB)\n",
            "Downloading kubernetes-33.1.0-py2.py3-none-any.whl (1.9 MB)\n",
            "\u001b[2K   \u001b[90m━━━━━━━━━━━━━━━━━━━━━━━━━━━━━━━━━━━━━━━━\u001b[0m \u001b[32m1.9/1.9 MB\u001b[0m \u001b[31m92.4 MB/s\u001b[0m eta \u001b[36m0:00:00\u001b[0m\n",
            "\u001b[?25hDownloading langchain_core-0.1.23-py3-none-any.whl (241 kB)\n",
            "\u001b[2K   \u001b[90m━━━━━━━━━━━━━━━━━━━━━━━━━━━━━━━━━━━━━━━━\u001b[0m \u001b[32m241.2/241.2 kB\u001b[0m \u001b[31m24.0 MB/s\u001b[0m eta \u001b[36m0:00:00\u001b[0m\n",
            "\u001b[?25hDownloading langsmith-0.0.87-py3-none-any.whl (55 kB)\n",
            "\u001b[2K   \u001b[90m━━━━━━━━━━━━━━━━━━━━━━━━━━━━━━━━━━━━━━━━\u001b[0m \u001b[32m55.4/55.4 kB\u001b[0m \u001b[31m5.7 MB/s\u001b[0m eta \u001b[36m0:00:00\u001b[0m\n",
            "\u001b[?25hDownloading mmh3-5.1.0-cp311-cp311-manylinux_2_5_x86_64.manylinux1_x86_64.manylinux_2_17_x86_64.manylinux2014_x86_64.whl (101 kB)\n",
            "\u001b[2K   \u001b[90m━━━━━━━━━━━━━━━━━━━━━━━━━━━━━━━━━━━━━━━━\u001b[0m \u001b[32m101.6/101.6 kB\u001b[0m \u001b[31m11.5 MB/s\u001b[0m eta \u001b[36m0:00:00\u001b[0m\n",
            "\u001b[?25hDownloading onnxruntime-1.22.0-cp311-cp311-manylinux_2_27_x86_64.manylinux_2_28_x86_64.whl (16.4 MB)\n",
            "\u001b[2K   \u001b[90m━━━━━━━━━━━━━━━━━━━━━━━━━━━━━━━━━━━━━━━━\u001b[0m \u001b[32m16.4/16.4 MB\u001b[0m \u001b[31m110.3 MB/s\u001b[0m eta \u001b[36m0:00:00\u001b[0m\n",
            "\u001b[?25hDownloading opentelemetry_api-1.34.1-py3-none-any.whl (65 kB)\n",
            "\u001b[2K   \u001b[90m━━━━━━━━━━━━━━━━━━━━━━━━━━━━━━━━━━━━━━━━\u001b[0m \u001b[32m65.8/65.8 kB\u001b[0m \u001b[31m6.2 MB/s\u001b[0m eta \u001b[36m0:00:00\u001b[0m\n",
            "\u001b[?25hDownloading opentelemetry_exporter_otlp_proto_grpc-1.34.1-py3-none-any.whl (18 kB)\n",
            "Downloading opentelemetry_exporter_otlp_proto_common-1.34.1-py3-none-any.whl (18 kB)\n",
            "Downloading opentelemetry_proto-1.34.1-py3-none-any.whl (55 kB)\n",
            "\u001b[2K   \u001b[90m━━━━━━━━━━━━━━━━━━━━━━━━━━━━━━━━━━━━━━━━\u001b[0m \u001b[32m55.7/55.7 kB\u001b[0m \u001b[31m5.7 MB/s\u001b[0m eta \u001b[36m0:00:00\u001b[0m\n",
            "\u001b[?25hDownloading opentelemetry_instrumentation_fastapi-0.55b1-py3-none-any.whl (12 kB)\n",
            "Downloading opentelemetry_instrumentation-0.55b1-py3-none-any.whl (31 kB)\n",
            "Downloading opentelemetry_instrumentation_asgi-0.55b1-py3-none-any.whl (16 kB)\n",
            "Downloading opentelemetry_semantic_conventions-0.55b1-py3-none-any.whl (196 kB)\n",
            "\u001b[2K   \u001b[90m━━━━━━━━━━━━━━━━━━━━━━━━━━━━━━━━━━━━━━━━\u001b[0m \u001b[32m196.2/196.2 kB\u001b[0m \u001b[31m20.1 MB/s\u001b[0m eta \u001b[36m0:00:00\u001b[0m\n",
            "\u001b[?25hDownloading opentelemetry_util_http-0.55b1-py3-none-any.whl (7.3 kB)\n",
            "Downloading opentelemetry_sdk-1.34.1-py3-none-any.whl (118 kB)\n",
            "\u001b[2K   \u001b[90m━━━━━━━━━━━━━━━━━━━━━━━━━━━━━━━━━━━━━━━━\u001b[0m \u001b[32m118.5/118.5 kB\u001b[0m \u001b[31m13.2 MB/s\u001b[0m eta \u001b[36m0:00:00\u001b[0m\n",
            "\u001b[?25hDownloading overrides-7.7.0-py3-none-any.whl (17 kB)\n",
            "Downloading packaging-23.2-py3-none-any.whl (53 kB)\n",
            "\u001b[2K   \u001b[90m━━━━━━━━━━━━━━━━━━━━━━━━━━━━━━━━━━━━━━━━\u001b[0m \u001b[32m53.0/53.0 kB\u001b[0m \u001b[31m5.7 MB/s\u001b[0m eta \u001b[36m0:00:00\u001b[0m\n",
            "\u001b[?25hDownloading posthog-6.0.0-py3-none-any.whl (104 kB)\n",
            "\u001b[2K   \u001b[90m━━━━━━━━━━━━━━━━━━━━━━━━━━━━━━━━━━━━━━━━\u001b[0m \u001b[32m104.9/104.9 kB\u001b[0m \u001b[31m12.1 MB/s\u001b[0m eta \u001b[36m0:00:00\u001b[0m\n",
            "\u001b[?25hDownloading pulsar_client-3.7.0-cp311-cp311-manylinux_2_28_x86_64.whl (6.6 MB)\n",
            "\u001b[2K   \u001b[90m━━━━━━━━━━━━━━━━━━━━━━━━━━━━━━━━━━━━━━━━\u001b[0m \u001b[32m6.6/6.6 MB\u001b[0m \u001b[31m123.6 MB/s\u001b[0m eta \u001b[36m0:00:00\u001b[0m\n",
            "\u001b[?25hDownloading nvidia_cublas_cu12-12.4.5.8-py3-none-manylinux2014_x86_64.whl (363.4 MB)\n",
            "\u001b[2K   \u001b[90m━━━━━━━━━━━━━━━━━━━━━━━━━━━━━━━━━━━━━━━━\u001b[0m \u001b[32m363.4/363.4 MB\u001b[0m \u001b[31m2.5 MB/s\u001b[0m eta \u001b[36m0:00:00\u001b[0m\n",
            "\u001b[?25hDownloading nvidia_cuda_cupti_cu12-12.4.127-py3-none-manylinux2014_x86_64.whl (13.8 MB)\n",
            "\u001b[2K   \u001b[90m━━━━━━━━━━━━━━━━━━━━━━━━━━━━━━━━━━━━━━━━\u001b[0m \u001b[32m13.8/13.8 MB\u001b[0m \u001b[31m92.9 MB/s\u001b[0m eta \u001b[36m0:00:00\u001b[0m\n",
            "\u001b[?25hDownloading nvidia_cuda_nvrtc_cu12-12.4.127-py3-none-manylinux2014_x86_64.whl (24.6 MB)\n",
            "\u001b[2K   \u001b[90m━━━━━━━━━━━━━━━━━━━━━━━━━━━━━━━━━━━━━━━━\u001b[0m \u001b[32m24.6/24.6 MB\u001b[0m \u001b[31m72.2 MB/s\u001b[0m eta \u001b[36m0:00:00\u001b[0m\n",
            "\u001b[?25hDownloading nvidia_cuda_runtime_cu12-12.4.127-py3-none-manylinux2014_x86_64.whl (883 kB)\n",
            "\u001b[2K   \u001b[90m━━━━━━━━━━━━━━━━━━━━━━━━━━━━━━━━━━━━━━━━\u001b[0m \u001b[32m883.7/883.7 kB\u001b[0m \u001b[31m54.6 MB/s\u001b[0m eta \u001b[36m0:00:00\u001b[0m\n",
            "\u001b[?25hDownloading nvidia_cudnn_cu12-9.1.0.70-py3-none-manylinux2014_x86_64.whl (664.8 MB)\n",
            "\u001b[2K   \u001b[90m━━━━━━━━━━━━━━━━━━━━━━━━━━━━━━━━━━━━━━━\u001b[0m \u001b[32m664.8/664.8 MB\u001b[0m \u001b[31m767.1 kB/s\u001b[0m eta \u001b[36m0:00:00\u001b[0m\n",
            "\u001b[?25hDownloading nvidia_cufft_cu12-11.2.1.3-py3-none-manylinux2014_x86_64.whl (211.5 MB)\n",
            "\u001b[2K   \u001b[90m━━━━━━━━━━━━━━━━━━━━━━━━━━━━━━━━━━━━━━━━\u001b[0m \u001b[32m211.5/211.5 MB\u001b[0m \u001b[31m5.6 MB/s\u001b[0m eta \u001b[36m0:00:00\u001b[0m\n",
            "\u001b[?25hDownloading nvidia_curand_cu12-10.3.5.147-py3-none-manylinux2014_x86_64.whl (56.3 MB)\n",
            "\u001b[2K   \u001b[90m━━━━━━━━━━━━━━━━━━━━━━━━━━━━━━━━━━━━━━━━\u001b[0m \u001b[32m56.3/56.3 MB\u001b[0m \u001b[31m12.1 MB/s\u001b[0m eta \u001b[36m0:00:00\u001b[0m\n",
            "\u001b[?25hDownloading nvidia_cusolver_cu12-11.6.1.9-py3-none-manylinux2014_x86_64.whl (127.9 MB)\n",
            "\u001b[2K   \u001b[90m━━━━━━━━━━━━━━━━━━━━━━━━━━━━━━━━━━━━━━━━\u001b[0m \u001b[32m127.9/127.9 MB\u001b[0m \u001b[31m7.4 MB/s\u001b[0m eta \u001b[36m0:00:00\u001b[0m\n",
            "\u001b[?25hDownloading nvidia_cusparse_cu12-12.3.1.170-py3-none-manylinux2014_x86_64.whl (207.5 MB)\n",
            "\u001b[2K   \u001b[90m━━━━━━━━━━━━━━━━━━━━━━━━━━━━━━━━━━━━━━━━\u001b[0m \u001b[32m207.5/207.5 MB\u001b[0m \u001b[31m5.7 MB/s\u001b[0m eta \u001b[36m0:00:00\u001b[0m\n",
            "\u001b[?25hDownloading nvidia_nvjitlink_cu12-12.4.127-py3-none-manylinux2014_x86_64.whl (21.1 MB)\n",
            "\u001b[2K   \u001b[90m━━━━━━━━━━━━━━━━━━━━━━━━━━━━━━━━━━━━━━━━\u001b[0m \u001b[32m21.1/21.1 MB\u001b[0m \u001b[31m43.5 MB/s\u001b[0m eta \u001b[36m0:00:00\u001b[0m\n",
            "\u001b[?25hDownloading transformers-4.46.3-py3-none-any.whl (10.0 MB)\n",
            "\u001b[2K   \u001b[90m━━━━━━━━━━━━━━━━━━━━━━━━━━━━━━━━━━━━━━━━\u001b[0m \u001b[32m10.0/10.0 MB\u001b[0m \u001b[31m133.1 MB/s\u001b[0m eta \u001b[36m0:00:00\u001b[0m\n",
            "\u001b[?25hDownloading tokenizers-0.20.3-cp311-cp311-manylinux_2_17_x86_64.manylinux2014_x86_64.whl (3.0 MB)\n",
            "\u001b[2K   \u001b[90m━━━━━━━━━━━━━━━━━━━━━━━━━━━━━━━━━━━━━━━━\u001b[0m \u001b[32m3.0/3.0 MB\u001b[0m \u001b[31m104.3 MB/s\u001b[0m eta \u001b[36m0:00:00\u001b[0m\n",
            "\u001b[?25hDownloading backoff-2.2.1-py3-none-any.whl (15 kB)\n",
            "Downloading durationpy-0.10-py3-none-any.whl (3.9 kB)\n",
            "Downloading httptools-0.6.4-cp311-cp311-manylinux_2_5_x86_64.manylinux1_x86_64.manylinux_2_17_x86_64.manylinux2014_x86_64.whl (459 kB)\n",
            "\u001b[2K   \u001b[90m━━━━━━━━━━━━━━━━━━━━━━━━━━━━━━━━━━━━━━━━\u001b[0m \u001b[32m459.8/459.8 kB\u001b[0m \u001b[31m39.8 MB/s\u001b[0m eta \u001b[36m0:00:00\u001b[0m\n",
            "\u001b[?25hDownloading marshmallow-3.26.1-py3-none-any.whl (50 kB)\n",
            "\u001b[2K   \u001b[90m━━━━━━━━━━━━━━━━━━━━━━━━━━━━━━━━━━━━━━━━\u001b[0m \u001b[32m50.9/50.9 kB\u001b[0m \u001b[31m4.7 MB/s\u001b[0m eta \u001b[36m0:00:00\u001b[0m\n",
            "\u001b[?25hDownloading python_dotenv-1.1.1-py3-none-any.whl (20 kB)\n",
            "Downloading typing_inspect-0.9.0-py3-none-any.whl (8.8 kB)\n",
            "Downloading uvloop-0.21.0-cp311-cp311-manylinux_2_17_x86_64.manylinux2014_x86_64.whl (4.0 MB)\n",
            "\u001b[2K   \u001b[90m━━━━━━━━━━━━━━━━━━━━━━━━━━━━━━━━━━━━━━━━\u001b[0m \u001b[32m4.0/4.0 MB\u001b[0m \u001b[31m106.6 MB/s\u001b[0m eta \u001b[36m0:00:00\u001b[0m\n",
            "\u001b[?25hDownloading watchfiles-1.1.0-cp311-cp311-manylinux_2_17_x86_64.manylinux2014_x86_64.whl (453 kB)\n",
            "\u001b[2K   \u001b[90m━━━━━━━━━━━━━━━━━━━━━━━━━━━━━━━━━━━━━━━━\u001b[0m \u001b[32m453.1/453.1 kB\u001b[0m \u001b[31m38.8 MB/s\u001b[0m eta \u001b[36m0:00:00\u001b[0m\n",
            "\u001b[?25hDownloading coloredlogs-15.0.1-py2.py3-none-any.whl (46 kB)\n",
            "\u001b[2K   \u001b[90m━━━━━━━━━━━━━━━━━━━━━━━━━━━━━━━━━━━━━━━━\u001b[0m \u001b[32m46.0/46.0 kB\u001b[0m \u001b[31m3.9 MB/s\u001b[0m eta \u001b[36m0:00:00\u001b[0m\n",
            "\u001b[?25hDownloading asgiref-3.8.1-py3-none-any.whl (23 kB)\n",
            "Downloading humanfriendly-10.0-py2.py3-none-any.whl (86 kB)\n",
            "\u001b[2K   \u001b[90m━━━━━━━━━━━━━━━━━━━━━━━━━━━━━━━━━━━━━━━━\u001b[0m \u001b[32m86.8/86.8 kB\u001b[0m \u001b[31m8.7 MB/s\u001b[0m eta \u001b[36m0:00:00\u001b[0m\n",
            "\u001b[?25hDownloading mypy_extensions-1.1.0-py3-none-any.whl (5.0 kB)\n",
            "Building wheels for collected packages: pypika\n",
            "  Building wheel for pypika (pyproject.toml) ... \u001b[?25l\u001b[?25hdone\n",
            "  Created wheel for pypika: filename=pypika-0.48.9-py2.py3-none-any.whl size=53803 sha256=bbf5282078e3297a7a33ece8d27d8337eec41249b784725a6b4a35b0c157411a\n",
            "  Stored in directory: /root/.cache/pip/wheels/a3/01/bd/4c40ceb9d5354160cb186dcc153360f4ab7eb23e2b24daf96d\n",
            "Successfully built pypika\n",
            "Installing collected packages: q, pypika, durationpy, uvloop, python-dotenv, pymupdf, pulsar-client, packaging, overrides, opentelemetry-util-http, opentelemetry-proto, nvidia-nvjitlink-cu12, nvidia-curand-cu12, nvidia-cufft-cu12, nvidia-cuda-runtime-cu12, nvidia-cuda-nvrtc-cu12, nvidia-cuda-cupti-cu12, nvidia-cublas-cu12, numpy, mypy-extensions, mmh3, humanfriendly, httptools, bcrypt, backoff, asgiref, watchfiles, typing-inspect, tiktoken, posthog, pandas, opentelemetry-exporter-otlp-proto-common, opentelemetry-api, nvidia-cusparse-cu12, nvidia-cudnn-cu12, marshmallow, huggingface_hub, coloredlogs, chroma-hnswlib, tokenizers, opentelemetry-semantic-conventions, onnxruntime, nvidia-cusolver-cu12, langsmith, kubernetes, dataclasses-json, transformers, opentelemetry-sdk, opentelemetry-instrumentation, langchain-core, sentence-transformers, opentelemetry-instrumentation-asgi, opentelemetry-exporter-otlp-proto-grpc, langchain-community, opentelemetry-instrumentation-fastapi, langchain, chromadb\n",
            "  Attempting uninstall: packaging\n",
            "    Found existing installation: packaging 24.2\n",
            "    Uninstalling packaging-24.2:\n",
            "      Successfully uninstalled packaging-24.2\n",
            "  Attempting uninstall: nvidia-nvjitlink-cu12\n",
            "    Found existing installation: nvidia-nvjitlink-cu12 12.5.82\n",
            "    Uninstalling nvidia-nvjitlink-cu12-12.5.82:\n",
            "      Successfully uninstalled nvidia-nvjitlink-cu12-12.5.82\n",
            "  Attempting uninstall: nvidia-curand-cu12\n",
            "    Found existing installation: nvidia-curand-cu12 10.3.6.82\n",
            "    Uninstalling nvidia-curand-cu12-10.3.6.82:\n",
            "      Successfully uninstalled nvidia-curand-cu12-10.3.6.82\n",
            "  Attempting uninstall: nvidia-cufft-cu12\n",
            "    Found existing installation: nvidia-cufft-cu12 11.2.3.61\n",
            "    Uninstalling nvidia-cufft-cu12-11.2.3.61:\n",
            "      Successfully uninstalled nvidia-cufft-cu12-11.2.3.61\n",
            "  Attempting uninstall: nvidia-cuda-runtime-cu12\n",
            "    Found existing installation: nvidia-cuda-runtime-cu12 12.5.82\n",
            "    Uninstalling nvidia-cuda-runtime-cu12-12.5.82:\n",
            "      Successfully uninstalled nvidia-cuda-runtime-cu12-12.5.82\n",
            "  Attempting uninstall: nvidia-cuda-nvrtc-cu12\n",
            "    Found existing installation: nvidia-cuda-nvrtc-cu12 12.5.82\n",
            "    Uninstalling nvidia-cuda-nvrtc-cu12-12.5.82:\n",
            "      Successfully uninstalled nvidia-cuda-nvrtc-cu12-12.5.82\n",
            "  Attempting uninstall: nvidia-cuda-cupti-cu12\n",
            "    Found existing installation: nvidia-cuda-cupti-cu12 12.5.82\n",
            "    Uninstalling nvidia-cuda-cupti-cu12-12.5.82:\n",
            "      Successfully uninstalled nvidia-cuda-cupti-cu12-12.5.82\n",
            "  Attempting uninstall: nvidia-cublas-cu12\n",
            "    Found existing installation: nvidia-cublas-cu12 12.5.3.2\n",
            "    Uninstalling nvidia-cublas-cu12-12.5.3.2:\n",
            "      Successfully uninstalled nvidia-cublas-cu12-12.5.3.2\n",
            "  Attempting uninstall: numpy\n",
            "    Found existing installation: numpy 2.3.1\n",
            "    Uninstalling numpy-2.3.1:\n",
            "      Successfully uninstalled numpy-2.3.1\n",
            "  Attempting uninstall: tiktoken\n",
            "    Found existing installation: tiktoken 0.9.0\n",
            "    Uninstalling tiktoken-0.9.0:\n",
            "      Successfully uninstalled tiktoken-0.9.0\n",
            "  Attempting uninstall: pandas\n",
            "    Found existing installation: pandas 2.2.2\n",
            "    Uninstalling pandas-2.2.2:\n",
            "      Successfully uninstalled pandas-2.2.2\n",
            "  Attempting uninstall: nvidia-cusparse-cu12\n",
            "    Found existing installation: nvidia-cusparse-cu12 12.5.1.3\n",
            "    Uninstalling nvidia-cusparse-cu12-12.5.1.3:\n",
            "      Successfully uninstalled nvidia-cusparse-cu12-12.5.1.3\n",
            "  Attempting uninstall: nvidia-cudnn-cu12\n",
            "    Found existing installation: nvidia-cudnn-cu12 9.3.0.75\n",
            "    Uninstalling nvidia-cudnn-cu12-9.3.0.75:\n",
            "      Successfully uninstalled nvidia-cudnn-cu12-9.3.0.75\n",
            "  Attempting uninstall: huggingface_hub\n",
            "    Found existing installation: huggingface-hub 0.33.0\n",
            "    Uninstalling huggingface-hub-0.33.0:\n",
            "      Successfully uninstalled huggingface-hub-0.33.0\n",
            "  Attempting uninstall: tokenizers\n",
            "    Found existing installation: tokenizers 0.21.2\n",
            "    Uninstalling tokenizers-0.21.2:\n",
            "      Successfully uninstalled tokenizers-0.21.2\n",
            "  Attempting uninstall: nvidia-cusolver-cu12\n",
            "    Found existing installation: nvidia-cusolver-cu12 11.6.3.83\n",
            "    Uninstalling nvidia-cusolver-cu12-11.6.3.83:\n",
            "      Successfully uninstalled nvidia-cusolver-cu12-11.6.3.83\n",
            "  Attempting uninstall: langsmith\n",
            "    Found existing installation: langsmith 0.4.1\n",
            "    Uninstalling langsmith-0.4.1:\n",
            "      Successfully uninstalled langsmith-0.4.1\n",
            "  Attempting uninstall: transformers\n",
            "    Found existing installation: transformers 4.52.4\n",
            "    Uninstalling transformers-4.52.4:\n",
            "      Successfully uninstalled transformers-4.52.4\n",
            "  Attempting uninstall: langchain-core\n",
            "    Found existing installation: langchain-core 0.3.66\n",
            "    Uninstalling langchain-core-0.3.66:\n",
            "      Successfully uninstalled langchain-core-0.3.66\n",
            "  Attempting uninstall: sentence-transformers\n",
            "    Found existing installation: sentence-transformers 4.1.0\n",
            "    Uninstalling sentence-transformers-4.1.0:\n",
            "      Successfully uninstalled sentence-transformers-4.1.0\n",
            "  Attempting uninstall: langchain\n",
            "    Found existing installation: langchain 0.3.26\n",
            "    Uninstalling langchain-0.3.26:\n",
            "      Successfully uninstalled langchain-0.3.26\n",
            "\u001b[31mERROR: pip's dependency resolver does not currently take into account all the packages that are installed. This behaviour is the source of the following dependency conflicts.\n",
            "google-colab 1.0.0 requires pandas==2.2.2, but you have pandas 1.5.3 which is incompatible.\n",
            "dask-cudf-cu12 25.2.2 requires pandas<2.2.4dev0,>=2.0, but you have pandas 1.5.3 which is incompatible.\n",
            "google-cloud-bigquery 3.34.0 requires packaging>=24.2.0, but you have packaging 23.2 which is incompatible.\n",
            "peft 0.15.2 requires huggingface_hub>=0.25.0, but you have huggingface-hub 0.23.2 which is incompatible.\n",
            "langchain-text-splitters 0.3.8 requires langchain-core<1.0.0,>=0.3.51, but you have langchain-core 0.1.23 which is incompatible.\n",
            "diffusers 0.34.0 requires huggingface-hub>=0.27.0, but you have huggingface-hub 0.23.2 which is incompatible.\n",
            "xarray 2025.3.1 requires pandas>=2.1, but you have pandas 1.5.3 which is incompatible.\n",
            "mizani 0.13.5 requires pandas>=2.2.0, but you have pandas 1.5.3 which is incompatible.\n",
            "gradio 5.31.0 requires huggingface-hub>=0.28.1, but you have huggingface-hub 0.23.2 which is incompatible.\n",
            "cudf-cu12 25.2.1 requires pandas<2.2.4dev0,>=2.0, but you have pandas 1.5.3 which is incompatible.\n",
            "blosc2 3.5.0 requires numpy>=1.26, but you have numpy 1.25.2 which is incompatible.\n",
            "db-dtypes 1.4.3 requires packaging>=24.2.0, but you have packaging 23.2 which is incompatible.\n",
            "plotnine 0.14.5 requires pandas>=2.2.0, but you have pandas 1.5.3 which is incompatible.\n",
            "tensorflow 2.18.0 requires numpy<2.1.0,>=1.26.0, but you have numpy 1.25.2 which is incompatible.\n",
            "thinc 8.3.6 requires numpy<3.0.0,>=2.0.0, but you have numpy 1.25.2 which is incompatible.\n",
            "dask-expr 1.1.21 requires pandas>=2, but you have pandas 1.5.3 which is incompatible.\u001b[0m\u001b[31m\n",
            "\u001b[0mSuccessfully installed asgiref-3.8.1 backoff-2.2.1 bcrypt-4.3.0 chroma-hnswlib-0.7.3 chromadb-0.4.22 coloredlogs-15.0.1 dataclasses-json-0.6.7 durationpy-0.10 httptools-0.6.4 huggingface_hub-0.23.2 humanfriendly-10.0 kubernetes-33.1.0 langchain-0.1.1 langchain-community-0.0.13 langchain-core-0.1.23 langsmith-0.0.87 marshmallow-3.26.1 mmh3-5.1.0 mypy-extensions-1.1.0 numpy-1.25.2 nvidia-cublas-cu12-12.4.5.8 nvidia-cuda-cupti-cu12-12.4.127 nvidia-cuda-nvrtc-cu12-12.4.127 nvidia-cuda-runtime-cu12-12.4.127 nvidia-cudnn-cu12-9.1.0.70 nvidia-cufft-cu12-11.2.1.3 nvidia-curand-cu12-10.3.5.147 nvidia-cusolver-cu12-11.6.1.9 nvidia-cusparse-cu12-12.3.1.170 nvidia-nvjitlink-cu12-12.4.127 onnxruntime-1.22.0 opentelemetry-api-1.34.1 opentelemetry-exporter-otlp-proto-common-1.34.1 opentelemetry-exporter-otlp-proto-grpc-1.34.1 opentelemetry-instrumentation-0.55b1 opentelemetry-instrumentation-asgi-0.55b1 opentelemetry-instrumentation-fastapi-0.55b1 opentelemetry-proto-1.34.1 opentelemetry-sdk-1.34.1 opentelemetry-semantic-conventions-0.55b1 opentelemetry-util-http-0.55b1 overrides-7.7.0 packaging-23.2 pandas-1.5.3 posthog-6.0.0 pulsar-client-3.7.0 pymupdf-1.25.1 pypika-0.48.9 python-dotenv-1.1.1 q-2.7 sentence-transformers-2.3.1 tiktoken-0.6.0 tokenizers-0.20.3 transformers-4.46.3 typing-inspect-0.9.0 uvloop-0.21.0 watchfiles-1.1.0\n"
          ]
        },
        {
          "output_type": "display_data",
          "data": {
            "application/vnd.colab-display-data+json": {
              "pip_warning": {
                "packages": [
                  "langchain_core",
                  "numpy",
                  "packaging",
                  "pandas",
                  "tiktoken",
                  "tiktoken_ext"
                ]
              },
              "id": "9bfa7d9262d8466396f29245db1af1f4"
            }
          },
          "metadata": {}
        }
      ]
    },
    {
      "cell_type": "code",
      "source": [
        "import json,os\n",
        "import numpy as np\n",
        "import tiktoken\n",
        "import pandas as pd\n",
        "\n",
        "\n",
        "#To do chunking\n",
        "from langchain_text_splitters import RecursiveCharacterTextSplitter\n",
        "#This is to load pdf\n",
        "from langchain_community.document_loaders import PyMuPDFLoader\n",
        "#For the embeddings\n",
        "from langchain_community.embeddings.sentence_transformer import SentenceTransformerEmbeddings\n",
        "#For the vector DB\n",
        "from langchain_community.vectorstores import Chroma\n",
        "\n",
        "#download the model from hf\n",
        "from huggingface_hub import hf_hub_download\n",
        "#this model is from hf\n",
        "from llama_cpp import  Llama\n"
      ],
      "metadata": {
        "id": "BGKMDMCmCN2_"
      },
      "execution_count": 1,
      "outputs": []
    },
    {
      "cell_type": "code",
      "source": [],
      "metadata": {
        "id": "2b9DLeQ0FIxr"
      },
      "execution_count": null,
      "outputs": []
    },
    {
      "cell_type": "markdown",
      "source": [
        "#Data Prep for RAG"
      ],
      "metadata": {
        "id": "nw6OmeuBKVfn"
      }
    },
    {
      "cell_type": "markdown",
      "source": [
        "## Loading the data"
      ],
      "metadata": {
        "id": "3aCooOjOKYWW"
      }
    },
    {
      "cell_type": "markdown",
      "source": [],
      "metadata": {
        "id": "y9OPHhMfKa6D"
      }
    },
    {
      "cell_type": "code",
      "source": [
        "from google.colab import drive\n",
        "\n",
        "apple_pdf_path = \"HBR_How_Apple_Is_Organized_For_Innovation-4.pdf\"\n",
        "path =\"/content/drive/MyDrive/AIMLUseCaseProjects/DataSetRAG/\"\n",
        "drive.mount('/content/drive')\n",
        "\n",
        "\n",
        "pdf_loader = PyMuPDFLoader(path+apple_pdf_path)\n",
        "apple= pdf_loader.load()"
      ],
      "metadata": {
        "colab": {
          "base_uri": "https://localhost:8080/"
        },
        "id": "wGZlflqTKfS_",
        "outputId": "eda70d00-3c85-4e70-d884-487a5f70aa3d"
      },
      "execution_count": 2,
      "outputs": [
        {
          "output_type": "stream",
          "name": "stdout",
          "text": [
            "Mounted at /content/drive\n"
          ]
        }
      ]
    },
    {
      "cell_type": "markdown",
      "source": [
        "#Data Overview"
      ],
      "metadata": {
        "id": "BP9DOu8lNltb"
      }
    },
    {
      "cell_type": "markdown",
      "source": [
        "##Checking the first 3 pages"
      ],
      "metadata": {
        "id": "XfEWcU7pNnbx"
      }
    },
    {
      "cell_type": "code",
      "source": [
        "for i in range(3):\n",
        "  print(f\"Page num:{i+1}\", end=\"\\n\")\n",
        "  print(apple[i].page_content, end=\"\\n\")"
      ],
      "metadata": {
        "colab": {
          "base_uri": "https://localhost:8080/"
        },
        "id": "Rips81nNNtg2",
        "outputId": "1154149c-d7f0-4f32-b0a8-49c0d2a435ad"
      },
      "execution_count": 3,
      "outputs": [
        {
          "output_type": "stream",
          "name": "stdout",
          "text": [
            "Page num:1\n",
            "REPRINT R2006F\n",
            "PUBLISHED IN HBR\n",
            "NOVEMBER–DECEMBER 2020\n",
            "ARTICLE\n",
            "ORGANIZATIONAL CULTURE\n",
            "How Apple Is \n",
            "Organized  \n",
            "for Innovation\n",
            "It’s about experts leading experts. \n",
            "by Joel M. Podolny and Morten T. Hansen\n",
            "This article is made available to you with compliments of Apple Inc for your personal use. Further posting, copying or distribution is not permitted.\n",
            "\n",
            "Page num:2\n",
            "2\n",
            "Harvard Business Review\n",
            "November–December 2020\n",
            "This article is made available to you with compliments of Apple Inc for your personal use. Further posting, copying or distribution is not permitted.\n",
            "\n",
            "Page num:3\n",
            "PHOTOGRAPHER MIKAEL JANSSON\n",
            "How Apple Is  \n",
            "Organized  \n",
            "for Innovation\n",
            "It’s about experts  \n",
            "leading experts.\n",
            "ORGANIZATIONAL \n",
            "CULTURE\n",
            "Joel M. \n",
            "Podolny\n",
            "Dean, Apple \n",
            "University\n",
            "Morten T. \n",
            "Hansen\n",
            "Faculty, Apple \n",
            "University\n",
            "AUTHORS\n",
            "FOR ARTICLE REPRINTS CALL 800-988-0886 OR 617-783-7500, OR VISIT HBR.ORG\n",
            "Harvard Business Review\n",
            "November–December 2020  3\n",
            "This article is made available to you with compliments of Apple Inc for your personal use. Further posting, copying or distribution is not permitted.\n",
            "\n"
          ]
        }
      ]
    },
    {
      "cell_type": "code",
      "source": [
        "#See page 6\n",
        "print(f\"Page 6 \",apple[7].page_content)"
      ],
      "metadata": {
        "colab": {
          "base_uri": "https://localhost:8080/"
        },
        "id": "E6BGcZmrOik2",
        "outputId": "3a640410-47bb-4458-db1f-071d5f27f8f6"
      },
      "execution_count": 4,
      "outputs": [
        {
          "output_type": "stream",
          "name": "stdout",
          "text": [
            "Page 6  40 specialist teams: silicon design, camera software, reliabil-\n",
            "ity engineering, motion sensor hardware, video engineering, \n",
            "core motion, and camera sensor design, to name just a few. \n",
            "How on earth does Apple develop and ship products that \n",
            "require such coordination? The answer is collaborative \n",
            "debate. Because no function is responsible for a product or a \n",
            "service on its own, cross-functional collaboration is crucial.\n",
            "When debates reach an impasse, as some inevitably do, \n",
            "higher-level managers weigh in as tiebreakers, including at \n",
            "times the CEO and the senior VPs. To do this at speed with \n",
            "sufficient attention to detail is challenging for even the best \n",
            "of leaders, making it all the more important that the company \n",
            "fill many senior positions from within the ranks of its VPs, \n",
            "who have experience in Apple’s way of operating.\n",
            "However, given Apple’s size and scope, even the executive \n",
            "team can resolve only a limited number of stalemates. The \n",
            "many horizontal dependencies mean that ineffective peer \n",
            "relationships at the VP and director levels have the potential \n",
            "to undermine not only particular proj­ects but the entire \n",
            "company. Consequently, for people to attain and remain in \n",
            "a leadership position within a function, they must be highly \n",
            "effective collaborators.\n",
            "That doesn’t mean people can’t express their points of \n",
            "view. Leaders are expected to hold strong, well-grounded \n",
            "views and advocate forcefully for them, yet also be willing  \n",
            "to change their minds when presented with evidence \n",
            "that others’ views are better. Doing so is not always \n",
            "easy, of course. A leader’s ability to be both partisan and \n",
            "open-minded is facilitated by two things: deep understand-\n",
            "ing of and devotion to the company’s values and common \n",
            "purpose, and a commitment to separating how right from \n",
            "how hard a particular path is so that the difficulty of execut-\n",
            "ing a decision doesn’t prevent its being selected.\n",
            "The development of the iPhone’s portrait mode illustrates \n",
            "a fanatical attention to detail at the leadership level, intense \n",
            "collaborative debate among teams, and the power of a shared \n",
            "purpose to shape and ultimately resolve debates. In 2009 \n",
            "Hubel had the idea of developing an iPhone feature that \n",
            "would allow people to take portrait photos with bokeh— \n",
            "a Japanese term that refers to the pleasing blurring of a \n",
            "background—which photography experts generally consider \n",
            "to be of the highest quality. At that time only expensive \n",
            "single-lens reflex cameras could take such photos, but \n",
            "Hubel thought that with a dual-lens design and advanced \n",
            "8\n",
            "Harvard Business Review\n",
            "November–December 2020\n",
            "This article is made available to you with compliments of Apple Inc for your personal use. Further posting, copying or distribution is not permitted.\n",
            "\n"
          ]
        }
      ]
    },
    {
      "cell_type": "code",
      "source": [
        "#No of pages\n",
        "len(apple)"
      ],
      "metadata": {
        "colab": {
          "base_uri": "https://localhost:8080/"
        },
        "id": "d2GZLqSKOGKv",
        "outputId": "a401d4d8-f053-4cc2-9d77-b615ddeffc74"
      },
      "execution_count": 5,
      "outputs": [
        {
          "output_type": "execute_result",
          "data": {
            "text/plain": [
              "11"
            ]
          },
          "metadata": {},
          "execution_count": 5
        }
      ]
    },
    {
      "cell_type": "markdown",
      "source": [
        "##Chunking the data"
      ],
      "metadata": {
        "id": "0WUu3Ou1PXyQ"
      }
    },
    {
      "cell_type": "code",
      "source": [
        "#Data chunking\n",
        "\n",
        "text_splitter = RecursiveCharacterTextSplitter.from_tiktoken_encoder(\n",
        "    encoding_name =\"cl100k_base\",\n",
        "    chunk_size=512,\n",
        "    chunk_overlap=20\n",
        ")"
      ],
      "metadata": {
        "id": "ZSqB0v73Pcg3"
      },
      "execution_count": 6,
      "outputs": []
    },
    {
      "cell_type": "code",
      "source": [
        "document_chunks= pdf_loader.load_and_split(text_splitter)"
      ],
      "metadata": {
        "id": "2Df5ZpJpP6pl"
      },
      "execution_count": 7,
      "outputs": []
    },
    {
      "cell_type": "code",
      "source": [
        "len(document_chunks)"
      ],
      "metadata": {
        "colab": {
          "base_uri": "https://localhost:8080/"
        },
        "id": "sNpiZmEVQBap",
        "outputId": "514682f0-a1d4-4044-cfd3-8336544d0fac"
      },
      "execution_count": 8,
      "outputs": [
        {
          "output_type": "execute_result",
          "data": {
            "text/plain": [
              "25"
            ]
          },
          "metadata": {},
          "execution_count": 8
        }
      ]
    },
    {
      "cell_type": "code",
      "source": [
        "document_chunks[0].page_content"
      ],
      "metadata": {
        "colab": {
          "base_uri": "https://localhost:8080/",
          "height": 72
        },
        "id": "sF1fyUGsQK9-",
        "outputId": "467b5c30-4267-4acf-fea2-3a452baa46b1"
      },
      "execution_count": 9,
      "outputs": [
        {
          "output_type": "execute_result",
          "data": {
            "text/plain": [
              "'REPRINT R2006F\\nPUBLISHED IN HBR\\nNOVEMBER–DECEMBER 2020\\nARTICLE\\nORGANIZATIONAL CULTURE\\nHow Apple Is \\nOrganized  \\nfor Innovation\\nIt’s about experts leading experts. \\nby Joel M. Podolny and Morten T. Hansen\\nThis article is made available to you with compliments of Apple Inc for your personal use. Further posting, copying or distribution is not permitted.'"
            ],
            "application/vnd.google.colaboratory.intrinsic+json": {
              "type": "string"
            }
          },
          "metadata": {},
          "execution_count": 9
        }
      ]
    },
    {
      "cell_type": "code",
      "source": [
        "document_chunks[1].page_content"
      ],
      "metadata": {
        "colab": {
          "base_uri": "https://localhost:8080/",
          "height": 54
        },
        "id": "wIKXLhoxQiaV",
        "outputId": "96b90e8e-700a-4938-a6c8-92b4aeb0fac7"
      },
      "execution_count": 10,
      "outputs": [
        {
          "output_type": "execute_result",
          "data": {
            "text/plain": [
              "'2\\nHarvard Business Review\\nNovember–December 2020\\nThis article is made available to you with compliments of Apple Inc for your personal use. Further posting, copying or distribution is not permitted.'"
            ],
            "application/vnd.google.colaboratory.intrinsic+json": {
              "type": "string"
            }
          },
          "metadata": {},
          "execution_count": 10
        }
      ]
    },
    {
      "cell_type": "code",
      "source": [
        "document_chunks[-1].page_content"
      ],
      "metadata": {
        "colab": {
          "base_uri": "https://localhost:8080/",
          "height": 127
        },
        "id": "5vkbThvsQ2qp",
        "outputId": "d8562dc2-7007-4b07-aa4f-2bb478562a3b"
      },
      "execution_count": 11,
      "outputs": [
        {
          "output_type": "execute_result",
          "data": {
            "text/plain": [
              "'to cultivate the experts-leading-experts model even within \\na business unit structure. For example, when filling the next \\nsenior management role, pick someone with deep expertise \\nin that area as opposed to someone who might make the best \\ngeneral manager. But a full-fledged transformation requires \\nthat leaders also transition to a functional organization. \\nApple’s track rec\\xadord proves that the rewards may justify the \\nrisks. Its approach can produce extraordinary results.\\u2002\\nHBR Reprint R2006F\\nJOEL M. PODOLNY is a vice president of Apple and the dean  \\nof Apple University. Prior to joining Apple, in 2009, he was  \\nthe dean of the Yale School of Management and on the faculty of \\nHarvard’s and Stanford’s business schools. MORTEN T. HANSEN  \\nis a member of Apple University’s faculty and a professor at the \\nUniversity of California, Berkeley. He was formerly on the faculties  \\nof Harvard Business School and INSEAD.\\nFOR ARTICLE REPRINTS CALL 800-988-0886 OR 617-783-7500, OR VISIT HBR.ORG\\nHarvard Business Review\\nNovember–December 2020 \\u200911\\nThis article is made available to you with compliments of Apple Inc for your personal use. Further posting, copying or distribution is not permitted.'"
            ],
            "application/vnd.google.colaboratory.intrinsic+json": {
              "type": "string"
            }
          },
          "metadata": {},
          "execution_count": 11
        }
      ]
    },
    {
      "cell_type": "markdown",
      "source": [
        "##As expected there are some overlaps\n",
        "\n",
        "This article is made available to you with compliments of Apple Inc for your personal use. Further posting, copying or distribution is not permitted\n",
        "\n",
        "#If we increase the chunk length then overlap increases"
      ],
      "metadata": {
        "id": "EPl0xo5IRAUu"
      }
    },
    {
      "cell_type": "markdown",
      "source": [
        "## Embeddings"
      ],
      "metadata": {
        "id": "FKWgpU1hSwIV"
      }
    },
    {
      "cell_type": "code",
      "source": [
        "embedding_model = SentenceTransformerEmbeddings(model_name=\"thenlper/gte-large\")"
      ],
      "metadata": {
        "colab": {
          "base_uri": "https://localhost:8080/",
          "height": 466,
          "referenced_widgets": [
            "a33aa0ca1a3741069562575c681e64d7",
            "ac294a1964254aef91b808f163d4ae84",
            "ede17d4943bc459fbcb20b859bc685b2",
            "be61336e350f412cad8186b9ca7b9e99",
            "c657b3de08ed4091b264dff6159c84ad",
            "d1475a8939634c56827e87b9d9e84db3",
            "e2dd6a5655994e898f930cd94f2e95a3",
            "b740f03ff28c47d58bbaec3dc544050f",
            "c9f403f6b3344d6aa5e211d9c2fae34d",
            "8ebff44bca0740dd9aa54a9633b56066",
            "d2e712847da04448915c59278ceed213",
            "d2cbef5fb1f3442d8caaf92f7bbc3d68",
            "3e12dcbed2844d5aaa5e0522a7410c6c",
            "f639be94c28540398ded7240c909eee4",
            "fa14c24e1aaf4c678e8547ed321726e7",
            "2825d936ff6e480baf47d4c815fe6bf6",
            "70bf6a4d8b25454aa44351c38140809d",
            "910cc8fc4296495db19a9fb8ee49b1d7",
            "9b6e56a80b86433fb56791c7171ba31f",
            "94ff578c4efa4e83b66e765fdaeb5168",
            "09dec3faa8cd477280b9e8a9c41763c3",
            "c51bdc3206254113b756ddd967115fe6",
            "4634ed0e43d246a6b088f4fc49a11d0c",
            "d826e1a516c346e2b85f8b2476674dfe",
            "75e77768e49c47f09c18c4c75c9a3075",
            "1c254ff3bff24848b9c9e1586b73711b",
            "1c2c7423b00543139ece31a039cb30fb",
            "90e369ef411a4a9fbe007818fb9db1f5",
            "0513c22879684f94b7682643ada06a25",
            "b216de2d3e234944bf01022357076375",
            "ae4325d5ee5d4e78a13adaef0757c064",
            "a6cd0c65fd2f4e599df18f70935da0a9",
            "128f3c4e139046ce8137891fbd2185ab",
            "88060847d43f4d78ac06e30f8d7f010a",
            "35de3e548dcd4ad8b69f597bc9698cfa",
            "afa1ca03635640d3b149aa8e26673ce6",
            "803f0b7a75484b0cb3186f319f79327b",
            "1dbae081b319404abeb9ec18acf99fea",
            "df2f82d7336b4f3b9902b0451349b68e",
            "a4d0df0f843d4bdba09b98db61a7da61",
            "9fe498922f0d4dd3969053c780445182",
            "5abf4cf854934baca37713bd8a924256",
            "ae2b1aeb87fe42f69f8086e130bd29ec",
            "3d09a87a2f4641c3ba51d26a1003e219",
            "224434d2ca094221b6b8912da0361fd5",
            "63e8dd257c61402baa1e4f54fa859f4e",
            "4be9a2ac23414fd99384311014f3e2ae",
            "fad49db93e264186b5bcf9f1170b4cba",
            "7c3ad5f1fab842dea5bbc50eaeb83513",
            "5d7c9a350eb24127ae7ecdca52cb6b50",
            "d8344c7f6fe448448c7ce853a53ff365",
            "3345b3204c994313a0fdbedf135c8191",
            "dae0e6e3bdbf4ad3b2437b9f4cc001c9",
            "1beb65a32fc34c4eb8b2500daa736d6a",
            "c0ae6fc8f0d8443d90c7cbacbff60e8f",
            "bc987b63a2d2496b8bd5a4edaf5499e6",
            "20a75b18451844a2bdf591995e6752f7",
            "1fc73d8d688045609823ddb63227590f",
            "55fe04bfd96b4fd4bf6a25bc78f8d525",
            "683aa74b1b3740ff998eae088648d55d",
            "bc37cb3a18d94228a97a37fd3cde5d9c",
            "801d67bd1ecc4080ba80cf0de4165d8e",
            "94d7ad0d6e5747f2958282a0c269d6d9",
            "048f2eb2528e4ed9a362c82c2ddeefe7",
            "5e86501ba0744a6984948817b6994fc6",
            "056e3679570643b3a15531cbd9d28740",
            "384f3abfe1604ca79282472f84404e49",
            "9392a9e168e042d68381db4dc86dc355",
            "25e8e75928324c9fbf1859b47818203f",
            "4c2800d89d254f8884467b8d0db54210",
            "78c96959343c4401b6adde636e5f7d89",
            "f80dcaadfe204979973f04f4db8d6583",
            "a28f488b77d2472f830a1b17169cf0d3",
            "03e4f97c8e5447bf8107da78c1bcf52d",
            "9bcb327a92bb4fd594cb01d4c463a8a3",
            "c0ef2f1007684c919bd028e6f933f206",
            "af97bf95615144a2ac2f5c47707c7f3b",
            "ec5784b840a94daeb3e3b58eed4878e7",
            "390ec9bc521f4c0eb99da3b8eb59ad49",
            "f902e58a9ae44d48980b963c2d7c9e1b",
            "56dc17bea9e04379865a997c6b70c4d5",
            "757ce92f641842e8ba94dde37989dfcd",
            "f786fc1846b94419b8e24964afeef04c",
            "42b4ddd521374fd2b542dac0cf857b34",
            "89d161288b2d484a9ee86be585a6ab5f",
            "598745b3bdc245299bf5ff540362b035",
            "0171d7e1123e4fd395534c40437353d3",
            "15ef8b00f8274abe8cb607f4db03007d",
            "b32fde7f7dc648128a7e5cb6cf523790",
            "16852bb375964e7dba829b46c705048a",
            "b73469806af04565b178987630b73d9e",
            "d224f2cf2c3541f285fc20a78067c94b",
            "54eb73c45b2e42b19bd135675c0ab3e5",
            "efdf341c1064428d9e97a13573a43780",
            "cd9f0a4216d14c248cec012821559760",
            "4969d561f879406584e75cff9a4b42b0",
            "c40f5279cf484587ab16b7aaa1d8c4e5",
            "9d499b7312964fd9a3a80260924bfab5",
            "359c50eca51d4c279a0461da55f68a46",
            "e1b8751e318f4c11830512a4afe379cd",
            "83ed905910db43e5bcf736fe5b96633c",
            "636525432f444a8eaac3b8b382cc44da",
            "30c407b0768249f78f5d1ca8147c1dab",
            "4659a07d35904ea99a784728f5559a41",
            "80eab4d333e745b8af9ead2882b1d629",
            "6df660a7621d4fab9016fcf3d7fb561d",
            "bb11032ed7db4bc2aa5a2300c7f80a41",
            "493ea0c009d34633b0867ad521058fb2",
            "86e79ad5d0744b5ca54a6f4649f5d955",
            "d39853c0f9c64ed399931480108b9949"
          ]
        },
        "id": "Mwauxp_ReDnU",
        "outputId": "fcba58c6-f45d-4045-c290-0d54277d23de"
      },
      "execution_count": 12,
      "outputs": [
        {
          "output_type": "stream",
          "name": "stderr",
          "text": [
            "/usr/local/lib/python3.11/dist-packages/huggingface_hub/utils/_token.py:89: UserWarning: \n",
            "The secret `HF_TOKEN` does not exist in your Colab secrets.\n",
            "To authenticate with the Hugging Face Hub, create a token in your settings tab (https://huggingface.co/settings/tokens), set it as secret in your Google Colab and restart your session.\n",
            "You will be able to reuse this secret in all of your notebooks.\n",
            "Please note that authentication is recommended but still optional to access public models or datasets.\n",
            "  warnings.warn(\n"
          ]
        },
        {
          "output_type": "display_data",
          "data": {
            "text/plain": [
              "modules.json:   0%|          | 0.00/385 [00:00<?, ?B/s]"
            ],
            "application/vnd.jupyter.widget-view+json": {
              "version_major": 2,
              "version_minor": 0,
              "model_id": "a33aa0ca1a3741069562575c681e64d7"
            }
          },
          "metadata": {}
        },
        {
          "output_type": "display_data",
          "data": {
            "text/plain": [
              "README.md: 0.00B [00:00, ?B/s]"
            ],
            "application/vnd.jupyter.widget-view+json": {
              "version_major": 2,
              "version_minor": 0,
              "model_id": "d2cbef5fb1f3442d8caaf92f7bbc3d68"
            }
          },
          "metadata": {}
        },
        {
          "output_type": "display_data",
          "data": {
            "text/plain": [
              "sentence_bert_config.json:   0%|          | 0.00/57.0 [00:00<?, ?B/s]"
            ],
            "application/vnd.jupyter.widget-view+json": {
              "version_major": 2,
              "version_minor": 0,
              "model_id": "4634ed0e43d246a6b088f4fc49a11d0c"
            }
          },
          "metadata": {}
        },
        {
          "output_type": "display_data",
          "data": {
            "text/plain": [
              "config.json:   0%|          | 0.00/619 [00:00<?, ?B/s]"
            ],
            "application/vnd.jupyter.widget-view+json": {
              "version_major": 2,
              "version_minor": 0,
              "model_id": "88060847d43f4d78ac06e30f8d7f010a"
            }
          },
          "metadata": {}
        },
        {
          "output_type": "display_data",
          "data": {
            "text/plain": [
              "model.safetensors:   0%|          | 0.00/670M [00:00<?, ?B/s]"
            ],
            "application/vnd.jupyter.widget-view+json": {
              "version_major": 2,
              "version_minor": 0,
              "model_id": "224434d2ca094221b6b8912da0361fd5"
            }
          },
          "metadata": {}
        },
        {
          "output_type": "display_data",
          "data": {
            "text/plain": [
              "tokenizer_config.json:   0%|          | 0.00/342 [00:00<?, ?B/s]"
            ],
            "application/vnd.jupyter.widget-view+json": {
              "version_major": 2,
              "version_minor": 0,
              "model_id": "bc987b63a2d2496b8bd5a4edaf5499e6"
            }
          },
          "metadata": {}
        },
        {
          "output_type": "display_data",
          "data": {
            "text/plain": [
              "vocab.txt: 0.00B [00:00, ?B/s]"
            ],
            "application/vnd.jupyter.widget-view+json": {
              "version_major": 2,
              "version_minor": 0,
              "model_id": "384f3abfe1604ca79282472f84404e49"
            }
          },
          "metadata": {}
        },
        {
          "output_type": "display_data",
          "data": {
            "text/plain": [
              "tokenizer.json: 0.00B [00:00, ?B/s]"
            ],
            "application/vnd.jupyter.widget-view+json": {
              "version_major": 2,
              "version_minor": 0,
              "model_id": "ec5784b840a94daeb3e3b58eed4878e7"
            }
          },
          "metadata": {}
        },
        {
          "output_type": "display_data",
          "data": {
            "text/plain": [
              "special_tokens_map.json:   0%|          | 0.00/125 [00:00<?, ?B/s]"
            ],
            "application/vnd.jupyter.widget-view+json": {
              "version_major": 2,
              "version_minor": 0,
              "model_id": "b32fde7f7dc648128a7e5cb6cf523790"
            }
          },
          "metadata": {}
        },
        {
          "output_type": "display_data",
          "data": {
            "text/plain": [
              "config.json:   0%|          | 0.00/191 [00:00<?, ?B/s]"
            ],
            "application/vnd.jupyter.widget-view+json": {
              "version_major": 2,
              "version_minor": 0,
              "model_id": "e1b8751e318f4c11830512a4afe379cd"
            }
          },
          "metadata": {}
        }
      ]
    },
    {
      "cell_type": "code",
      "source": [
        "embedding_1 = embedding_model.embed_query(document_chunks[0].page_content)\n",
        "embedding_2 = embedding_model.embed_query(document_chunks[1].page_content)"
      ],
      "metadata": {
        "id": "UG7fbgNjFKbZ"
      },
      "execution_count": 13,
      "outputs": []
    },
    {
      "cell_type": "code",
      "source": [
        "print(\"Dimensions of the embedding vector\", len(embedding_1))\n",
        "print(\"Dimensions of the embedding vector\", len(embedding_2))\n",
        "\n",
        "print(\"Embedding vector\",embedding_1)\n",
        "print(\"Embedding vector\",embedding_2)"
      ],
      "metadata": {
        "colab": {
          "base_uri": "https://localhost:8080/"
        },
        "id": "ZopE0JxHFi56",
        "outputId": "fbbcb6cf-effc-468b-bfd4-c45d80a21195"
      },
      "execution_count": 14,
      "outputs": [
        {
          "output_type": "stream",
          "name": "stdout",
          "text": [
            "Dimensions of the embedding vector 1024\n",
            "Dimensions of the embedding vector 1024\n",
            "Embedding vector [-0.007790964096784592, -0.0288176741451025, -0.027877110987901688, -0.02246643416583538, 0.022144237533211708, -0.006249097175896168, 0.008647195994853973, 0.016467047855257988, 0.018209118396043777, 0.053493041545152664, 0.013901167549192905, -0.00016959481581579894, 0.007971166633069515, -0.028715034946799278, 0.01758621260523796, -0.00955386646091938, -0.011853267438709736, -0.010937211103737354, 0.010688173584640026, 0.006078250240534544, 0.01815146952867508, 0.008558928966522217, -0.059489812701940536, -0.023468146100640297, -0.05630359798669815, 0.06647870689630508, 0.026126118376851082, 0.010339600034058094, 0.09469927102327347, 0.060104191303253174, -0.030409671366214752, -0.04133659973740578, 0.018987996503710747, -0.0794404149055481, -0.017287464812397957, -0.05677452310919762, 0.04051440581679344, -0.03622545301914215, -0.04527204483747482, -0.028730036690831184, -0.0002669151872396469, -0.022881001234054565, 0.031096534803509712, -0.031759995967149734, -0.044691652059555054, 0.004193033557385206, 0.00779648358002305, -0.047390323132276535, 0.018355008214712143, -0.05658811703324318, 0.010980268009006977, -0.0056526269763708115, -0.01262866985052824, 0.024388723075389862, 0.03816215321421623, -0.005674845539033413, 0.03546811640262604, 0.003756855847314, -0.005723650101572275, 0.03945857286453247, 0.03934377804398537, -0.00021109699446242303, 0.02819039858877659, -0.04790826514363289, 0.026284916326403618, 0.012105235829949379, 0.001389901153743267, -0.026750100776553154, -0.018483564257621765, -0.04037819430232048, -0.01792553998529911, 0.013302170671522617, 0.01837090589106083, -0.03483550623059273, 0.0023835578467696905, -0.01702415943145752, 0.005632253363728523, -0.02225915528833866, -0.007638673763722181, -0.022336238995194435, 0.040111687034368515, 0.0703377053141594, -0.011179760098457336, 0.0454462394118309, -0.04475647583603859, -0.008066712878644466, -0.009505427442491055, -0.019266143441200256, -0.016056450083851814, 0.001798765268176794, 0.020199136808514595, 0.06874877214431763, 0.0001615752262296155, -0.0011714593274518847, 0.020066579803824425, 0.041902218014001846, -0.03645288199186325, 0.008908212184906006, 0.004414613824337721, 0.018918927758932114, 0.037454307079315186, 0.03389330208301544, 0.0016579971415922046, 0.03109831176698208, -0.05913204327225685, 0.012134374119341373, 0.00931454822421074, 0.009343721903860569, 0.023664752021431923, -0.03506592661142349, 0.02311553992331028, 0.00211516791023314, 0.010343699716031551, 0.004496408626437187, -0.012501802295446396, 0.027836089953780174, 0.021700413897633553, 0.023193595930933952, -0.03731156513094902, 0.03327472135424614, 0.012102543376386166, 0.002419260796159506, 0.026587121188640594, -0.01814591884613037, 0.006761073134839535, -0.00477412436157465, -0.0005083294818177819, 0.07106434553861618, -0.03257353603839874, 0.0003193122975062579, 0.012042425572872162, -0.032601453363895416, -0.007024130318313837, 0.022750284522771835, 0.008958022110164165, 0.03437722474336624, -0.013280490413308144, 0.044764261692762375, 0.04738464951515198, -0.04618556797504425, 0.05296250432729721, 0.031030593439936638, 0.011251186951994896, 0.07765626907348633, -0.013507332652807236, 0.010094484314322472, -0.012382839806377888, -0.019070472568273544, -0.01827216148376465, 0.008055848069489002, -0.0006942167528904974, 0.021291546523571014, 0.008655179291963577, 0.031786832958459854, -0.02900967001914978, 0.01619795151054859, -0.02026101015508175, 0.016918297857046127, 0.04510938748717308, 0.057074133306741714, -0.02864854224026203, 0.028916284441947937, 0.016198111698031425, 0.054581474512815475, -0.026038553565740585, 0.055064406245946884, -0.023074829950928688, -0.023056982085108757, -0.028009632602334023, -0.011935614049434662, 0.028383497148752213, 0.0001349111698800698, -0.03809382766485214, -0.0035173180513083935, 0.03788788244128227, 0.06294764578342438, 0.042613375931978226, 0.01685810461640358, 0.03119823709130287, 0.025302043184638023, -0.0009260789956897497, 0.006804457399994135, 0.005450758151710033, 0.048576708883047104, -0.001588071696460247, 0.020416466519236565, -0.011761432513594627, -0.006490425206720829, -0.025265555828809738, -0.029707778245210648, -0.022084476426243782, 0.051353927701711655, -0.03396362066268921, 0.027775252237915993, 0.004502026829868555, -0.003992409445345402, 0.009167466312646866, 0.0017284168861806393, -0.007167996373027563, -0.06490939855575562, -0.04345407336950302, 0.01895572431385517, -0.040961842983961105, 0.007188605144619942, -0.006032079923897982, -0.02668306790292263, 0.0025173937901854515, 0.055527012795209885, -0.061728328466415405, -0.007894684560596943, 0.05826837942004204, 0.005006690043956041, -0.028307514265179634, 0.009736984968185425, -0.004110289271920919, -0.030289843678474426, -0.012046187184751034, 0.0017335317097604275, 0.008298135362565517, -0.002989239292219281, 0.012915133498609066, 0.002013295656070113, 0.053366582840681076, 0.027354929596185684, -0.024595504626631737, 0.011733628809452057, 0.03400722146034241, 0.05750822648406029, -0.05039559677243233, -0.0207001231610775, 0.003736684564501047, 0.04993383586406708, 0.02140851318836212, 0.06211471185088158, 0.0547221377491951, 0.019614918157458305, 0.04470084607601166, 0.042369745671749115, -0.00483612809330225, -0.01748092845082283, 0.043728120625019073, -0.0068342718295753, 0.021110057830810547, 0.008633260615170002, -0.0224594809114933, 0.01939455233514309, -0.004308236762881279, 0.01901870407164097, -0.0012658457271754742, 0.04884294047951698, -0.006421984639018774, 0.03359239175915718, 0.04740355908870697, 0.0333685539662838, -0.019127491861581802, 0.002844342030584812, 0.01904650405049324, 0.04616409167647362, -0.02682727947831154, -0.009472133591771126, -0.015276235528290272, -0.0029776250012218952, -0.014953028410673141, 0.010414058342576027, -0.007102283649146557, 0.0015936470590531826, -0.003012373112142086, 0.03767092153429985, -0.011630742810666561, -0.02977926842868328, -0.051253240555524826, -0.04746251180768013, -0.05241663381457329, -0.01803334802389145, -0.05897463858127594, 0.03775278478860855, -0.005160000175237656, -0.03988344967365265, 0.015785163268446922, -0.006445968057960272, -0.006286634132266045, 0.0038558554369956255, 0.020841486752033234, 0.022990724071860313, 0.021555209532380104, 0.03471910580992699, -0.024621399119496346, 0.025924189016222954, -0.025048861280083656, 0.05576859042048454, -0.017965395003557205, 0.022818082943558693, -0.022824745625257492, -0.02991314046084881, 0.026980772614479065, 0.0009394086082465947, 0.01323199924081564, 0.015169267542660236, -0.053326644003391266, -0.06333599984645844, -0.017394602298736572, 0.025098348036408424, -0.00885979924350977, 0.0019542148802429438, -0.03925124555826187, 0.059576183557510376, -0.0032574040815234184, -0.04988788813352585, 0.058576323091983795, 0.019074367359280586, -0.054842330515384674, 0.03944628685712814, 0.016841184347867966, 0.008440995588898659, -0.056007057428359985, 0.039070699363946915, 0.020657584071159363, 0.0132300341501832, -0.025039171800017357, -0.015793327242136, -0.04571400582790375, -0.031339652836322784, 0.0360579639673233, -0.028336305171251297, -0.0382254384458065, 0.031297218054533005, 0.024913407862186432, -0.08245423436164856, 0.041822921484708786, -0.04291073605418205, -0.0296401996165514, -0.03426656499505043, -0.03563506901264191, 0.049505505710840225, 0.017594803124666214, 0.004333151038736105, 0.01585223898291588, -0.023563837632536888, 0.012970450334250927, 0.06045536324381828, 0.009062177501618862, -0.01959674246609211, 0.013137276284396648, 0.029323764145374298, -0.008128390647470951, 0.03635667264461517, 0.03451365977525711, -0.029900791123509407, 0.01912744529545307, -0.011450729332864285, 0.016852010041475296, 0.006100841332226992, 0.025087645277380943, 0.006875438150018454, 0.04509812220931053, 0.0325390100479126, -0.06517215818166733, -0.007746470160782337, -0.018268432468175888, -0.012776064686477184, -0.01113117765635252, 0.010224065743386745, 0.012900184839963913, 0.009342281147837639, -0.05555979162454605, -0.04407689720392227, 0.00020892776956316084, 0.02728063240647316, 0.051327966153621674, -0.06054956465959549, 0.02499161660671234, 0.0019519519992172718, -0.0609302781522274, 0.059126488864421844, -0.07272762805223465, -0.01424806285649538, 0.06958480179309845, 0.016959521919488907, 0.04803051799535751, -0.05550309643149376, 0.0015918724238872528, -0.019765010103583336, 0.007614363916218281, 0.031771592795848846, 0.005235952790826559, 0.03141225501894951, -0.04935610294342041, 0.016522571444511414, -0.021750878542661667, -0.015315799042582512, 0.01417613122612238, -0.050220850855112076, 0.005926844198256731, -0.0029714303091168404, -0.05930493399500847, -0.03744513913989067, 0.028844179585576057, 0.03469686582684517, 0.030733183026313782, -0.01384195126593113, 0.06750653684139252, 0.014390246942639351, 0.03227886185050011, 0.019757110625505447, -0.011809315532445908, -0.0012791154440492392, -0.023860694840550423, 0.05387502536177635, 0.02192765660583973, -0.01291437353938818, -0.01796935684978962, -0.007027361076325178, -0.008130759000778198, 0.04996415972709656, -0.01882500946521759, -0.011575870215892792, -0.02879689261317253, -0.009010838344693184, 0.0283938217908144, 0.04114779457449913, -0.05839039757847786, -0.005205769557505846, -0.030325502157211304, 0.03295981511473656, 0.04368217661976814, -0.039672914892435074, -0.014434410259127617, -0.050090543925762177, 0.03862776234745979, 0.046950194984674454, -0.023574229329824448, -0.05873848870396614, -0.00991032924503088, -0.030879445374011993, -0.0075566889718174934, 0.00648889783769846, 0.030507050454616547, -0.0049935514107346535, 0.011082793585956097, -0.0340251550078392, 0.023581329733133316, 0.020940208807587624, 0.011161377653479576, 0.020781373605132103, 0.0032252403907477856, 0.03280176594853401, 0.029956402257084846, 0.02602124586701393, -0.03149314969778061, -0.0034039271995425224, 0.03123071976006031, -0.06107205152511597, -0.007740515284240246, 0.011185780167579651, -0.03184143826365471, -0.016777077689766884, 0.029552670195698738, 0.03629566729068756, 0.011563657782971859, 0.0036102021113038063, 0.016774820163846016, 0.00952561292797327, 0.04709632694721222, -0.045781396329402924, -0.03988313302397728, 0.0696684718132019, -0.0005088039906695485, -0.020148679614067078, 0.020345477387309074, 0.05696197226643562, 0.002637644996866584, -0.02015972137451172, 0.019108813256025314, -0.034992314875125885, 0.049399059265851974, -0.040862198919057846, 0.03532979637384415, -0.021374603733420372, -0.04462546110153198, -0.009443663991987705, -0.029057761654257774, 0.036776233464479446, 0.015265562571585178, 0.023055095225572586, -0.04443559795618057, -0.024004127830266953, -0.01850394904613495, -0.003345736302435398, -0.0021182349883019924, 0.03742244094610214, -0.00481844088062644, 0.0013024421641603112, -0.008710366673767567, -0.005779210478067398, 0.003959036432206631, 0.0013443826464936137, -0.024907240644097328, -0.019297076389193535, 0.00536197517067194, -0.02161656692624092, 0.015806857496500015, -0.028361011296510696, -0.036299727857112885, -0.0041368138045072556, 0.011363974772393703, -0.03617100417613983, -0.008297388441860676, -0.0025777893606573343, -0.012101083993911743, -0.0030157624278217554, -0.0321056954562664, -0.0134566156193614, -0.002952076029032469, 0.03981693461537361, 0.030702175572514534, -0.011447249911725521, 0.0011377327609807253, 0.03775738552212715, -0.05102646350860596, 0.06920153647661209, 0.010185075923800468, -0.04966859519481659, -0.04259493947029114, 0.038799531757831573, -0.042637310922145844, 0.029882684350013733, -0.006246666423976421, -0.03161374852061272, -0.059866294264793396, -0.061103660613298416, 0.02201336994767189, -0.030545968562364578, -0.019474592059850693, -0.04854202643036842, 0.004003015346825123, -0.020541341975331306, 0.044377006590366364, -0.01895270310342312, 0.00014560158888343722, 0.0136489262804389, -0.020389661192893982, -0.021665474399924278, -0.04208587855100632, -0.01085385400801897, 0.021570736542344093, -0.007020462770015001, -0.02354677952826023, 0.05561918765306473, 0.010947215370833874, -0.011683745309710503, 0.02136506512761116, -0.010132979601621628, 0.013419322669506073, -0.04057261720299721, -0.06028928607702255, -0.017297061160206795, -0.0271560437977314, 0.02941231057047844, -0.008173285983502865, -0.005933415610343218, -0.024890055879950523, 0.07870903611183167, -0.03865986317396164, 0.008808769285678864, 0.0025498855393379927, 0.010354194790124893, -0.0533001683652401, -0.0036855631042271852, 0.08178318291902542, -0.04400964826345444, 0.0022257782984524965, -0.015142074786126614, 0.04880951717495918, 0.04588903486728668, -0.014098551124334335, -0.05725705251097679, -0.0093896659091115, -0.025058336555957794, -0.03920362517237663, 0.008471130393445492, -0.038925085216760635, -0.008047321811318398, -0.03619411215186119, -0.02269867993891239, 0.04590558260679245, -0.030171548947691917, 0.04733892157673836, 0.056530293077230453, 0.004304584581404924, -0.014619497582316399, -0.018337883055210114, 0.03811933100223541, 0.023429494351148605, -0.019283700734376907, 0.019833682104945183, -0.030563034117221832, -0.01678922027349472, -0.028501566499471664, -0.015630770474672318, -0.03368748724460602, -0.018095726147294044, -0.029478522017598152, 0.06455212831497192, -0.029363706707954407, 0.02292775921523571, -0.008455063216388226, -0.03561030328273773, -0.022680236026644707, 0.04895082861185074, -0.0366908423602581, 0.011062370613217354, 0.03465230390429497, 0.013118511997163296, -0.028607996180653572, -0.000882255844771862, -0.01875315047800541, -0.013024690560996532, -0.039732374250888824, 0.0685451328754425, 0.01750662364065647, -0.05446818470954895, 0.013633043505251408, 0.0643240436911583, -0.05629697069525719, -0.028918322175741196, 0.01744455099105835, 0.02359042502939701, 0.02580270543694496, -0.020631225779652596, 0.021555526182055473, 0.010402376763522625, -0.01153331995010376, 0.030917322263121605, 0.052906498312950134, -0.004069211892783642, 0.0581958144903183, 0.005637120921164751, 0.03443210944533348, -0.03380018472671509, 0.010963006876409054, 0.020862238481640816, -0.00639639887958765, -0.031971197575330734, -0.04770132899284363, 0.013574067503213882, -0.008487053215503693, -0.0478706881403923, 0.057331763207912445, -0.00770119484513998, -0.015501510351896286, 0.04208323732018471, -0.016510626301169395, 0.03127400204539299, -0.015286059118807316, -0.02367408014833927, -0.0017221944872289896, -0.016167132183909416, -0.06157820671796799, -0.03319665789604187, 0.03823684900999069, -0.011654599569737911, 0.02918991446495056, -0.05329829081892967, 0.002096152398735285, 0.0307109747081995, -0.0007936217007227242, -0.0036557000130414963, -0.029645737260580063, -0.030717896297574043, -0.04663419350981712, -0.03769940510392189, -0.01032211072742939, -0.02038099430501461, -0.0024491448421031237, -0.018086135387420654, 0.03150336816906929, -0.034153737127780914, -0.013373016379773617, -0.010302307084202766, -0.028013715520501137, -0.003919086419045925, -0.03828704357147217, 0.03134608268737793, -0.04402796924114227, -0.028097709640860558, -0.044516101479530334, -0.004172173794358969, -0.038958773016929626, 0.00805420521646738, -0.02394804172217846, -0.005397491622716188, 0.016915354877710342, 0.037282686680555344, 0.0026517841033637524, 0.0074029345996677876, -0.02920965850353241, -0.027700206264853477, -0.0055762422271072865, 0.02313896454870701, -0.012674229219555855, 0.03904614970088005, 0.02080518752336502, -0.007310242857784033, 0.03142515942454338, -0.011430729180574417, 0.0009436522959731519, -0.043275874108076096, 0.004628059454262257, -0.014028436504304409, -0.015007667243480682, -0.023177698254585266, -0.024473274126648903, -0.01923666149377823, -0.04189850389957428, 0.03479088470339775, 0.015807662159204483, 0.007824343629181385, 0.00924520380795002, -0.019715305417776108, -0.011247198097407818, 0.05872422456741333, 0.0003798898833338171, 0.02196785993874073, 0.02798309735953808, 0.012529227882623672, 0.03542093560099602, -0.02707001008093357, 0.003758602775633335, 0.02004009485244751, -0.007689786143600941, -0.030521273612976074, -0.04038234427571297, 0.027042459696531296, -0.0018351655453443527, 0.005327194929122925, -0.03644363209605217, -0.04210031405091286, -0.05779841169714928, -0.010217525064945221, -0.013990585692226887, 0.04155614599585533, 0.00652929674834013, 0.006700129248201847, 0.011004636064171791, -0.034534767270088196, -0.025999873876571655, -0.00919745396822691, -0.05374820902943611, -0.03301742672920227, 0.0498046800494194, -0.022981733083724976, 0.0030905487947165966, 0.019206974655389786, -0.015416685491800308, -0.00671812379732728, 0.007235931232571602, -0.010046715848147869, -0.01747894287109375, 0.029035119339823723, 0.007065577898174524, 0.0346083827316761, -0.00664704293012619, -0.023183073848485947, -0.001194868586026132, 0.04268379881978035, -0.029565731063485146, -0.02680071070790291, 0.016120944172143936, 0.027275439351797104, 0.0074727414175868034, -0.005753045901656151, -0.012399011291563511, 0.020977145060896873, 0.02772185206413269, -0.005857805721461773, -0.020638495683670044, 0.012414715252816677, 0.01466013491153717, 0.02363133803009987, 0.026745600625872612, 0.017342517152428627, -0.028475021943449974, 0.038204923272132874, 0.029270553961396217, -0.035655342042446136, -0.0191639494150877, 0.04453709349036217, 0.02914918214082718, -0.044022493064403534, 0.02624405547976494, 0.006934182718396187, 0.035845328122377396, -0.00921659730374813, 0.02571914903819561, -0.006815134081989527, 0.03924538567662239, 0.009836510755121708, 0.029246391728520393, -0.012177589349448681, 0.01593683660030365, 0.05892927199602127, -0.023345712572336197, 0.01682751253247261, 0.007710854988545179, -0.006422147620469332, -0.041791047900915146, -0.008831738494336605, -0.034131817519664764, 0.036219216883182526, 0.015504985116422176, -0.007959701120853424, 0.004764993209391832, -0.030100902542471886, -0.0025434319395571947, -0.03380490466952324, 0.008261454291641712, 0.04351790249347687, -0.06385891139507294, -0.03932693973183632, 0.00761366356164217, -0.03461164981126785, -0.017118025571107864, 0.04378528892993927, 0.027660153806209564, 0.008004220202565193, -0.0014737447490915656, 0.03382500261068344, -0.021254679188132286, 0.04572053253650665, 0.038848672062158585, -0.00688497768715024, -0.028230175375938416, -0.0035776225849986076, -0.0025168508291244507, -0.013432666659355164, -0.0007003038772381842, -4.9065047278418206e-06, -0.0029946432914584875, 0.05739692971110344, -0.01816440187394619, -0.02046595886349678, 0.0634378120303154, -0.04882665351033211, -0.009425338357686996, -0.06799165904521942, 0.03167584165930748, -0.06351757049560547, -0.02243860624730587, 0.02464304119348526, -0.017357131466269493, -0.03813415765762329, 0.050926174968481064, -0.02599661611020565, 0.02446025237441063, 0.02960638329386711, 0.04167356714606285, -0.004836642183363438, 0.04391736164689064, 0.05166783556342125, -0.03357495367527008, -0.02511627785861492, 0.007745249662548304, -0.006395977921783924, -0.02234904281795025, -0.01499373558908701, -0.039938587695360184, -0.02422785386443138, -0.005986621603369713, 0.0028666025027632713, 0.007122422102838755, 0.03696822747588158, 0.009060520678758621, -0.025223521515727043, -0.010320155881345272, 0.04767289757728577, -0.03176216036081314, 0.010347011499106884, -0.0017264597117900848, 0.020329993218183517, -0.009377637878060341, -0.01126922108232975, 0.016482049599289894, -0.021069835871458054, -0.019241508096456528, -0.05539968982338905, 0.060973793268203735, -0.01510560978204012, -0.012919291853904724, -0.02532915212213993, -0.08310048282146454, -0.017121531069278717, 0.010931035503745079, -0.03635343536734581, -0.033055175095796585, 0.02982752025127411, 0.010923370718955994, 0.015215092338621616, -0.018122943118214607, -0.016738375648856163, 0.019999969750642776, 0.015154154039919376, 0.09013837575912476, 0.01167860347777605, 0.05339600518345833, 0.0499299056828022, 0.006308581214398146, 0.008168177679181099, -0.019638067111372948, 0.02954142540693283, -0.026773853227496147, 0.008640792220830917, -0.015588752925395966, 0.0034625858534127474, -0.0024592443369328976, -0.09044933319091797, 0.006175708491355181, 0.011497363448143005, 0.006996328942477703, -0.015047204680740833, -0.06432611495256424, 0.0069238729774951935, -0.04562271758913994, 0.0055416179820895195, -0.052471090108156204, -0.011205759830772877, -0.008602382615208626, 0.01531598623842001, 0.007909245789051056, -0.05286762863397598, 0.14503151178359985, 0.05882878974080086, 0.02779015153646469, 0.0449642688035965, 0.021909087896347046, 0.03582596406340599, 0.03402204066514969, -0.02506377547979355, 0.015771955251693726, -0.0440405011177063, 0.005154151935130358, -0.04119957983493805, 0.013604518957436085, 0.022763721644878387, 0.024934984743595123, 0.05176210403442383, -0.057351067662239075, 0.004385170992463827, -0.010892732068896294, -0.02786608226597309, -0.06916451454162598, 0.01551290974020958, -0.006004972383379936, 0.0070936414413154125, -0.032558731734752655, 0.04178052395582199, 0.03304481878876686, -0.012964347377419472, -0.027395004406571388, -0.01702496036887169, 0.01363049540668726, -0.050579983741045, 0.03079007938504219, -0.013469710014760494, -0.02161390893161297, 0.054395392537117004, 0.018830250948667526, -0.01420212909579277, -3.463731627562083e-05, 0.03581182658672333, -0.018770212307572365, -0.0080253342166543, 0.02659481205046177, -0.04324971139431, -0.00014817033661529422, 0.054086457937955856, -0.030117742717266083, 0.0057609910145401955, 0.007475866004824638, -0.0368170402944088, 0.06867898255586624, -0.04864721745252609, 0.0069801704958081245, 0.026304129511117935, -0.02192387543618679, 0.030198359861969948, 0.023623453453183174, -0.04587927460670471, -0.012791563756763935, -0.014720010571181774, 0.033760227262973785, -0.03470241278409958, -0.014739474281668663, -0.008785691112279892, -0.02950688824057579, -0.014474659226834774, 0.03826701268553734, 0.027867091819643974, 0.020269721746444702, -0.01294794213026762, -0.01245915424078703, 0.01576688326895237, -0.009103762917220592, -0.01634155958890915, 0.05143880099058151, 0.022708788514137268, -0.024878183379769325, 0.04166821762919426, -0.02069276012480259, -0.047794368118047714, -0.01638365350663662, -0.037897784262895584, -0.013090492226183414, -0.02637837454676628, 0.023162398487329483, 0.012230479158461094, -0.04856308177113533, -0.047327395528554916, -0.044408008456230164, 0.039186105132102966, 0.05201376974582672, -0.018154742196202278, -0.031096933409571648, 0.0038803466595709324, -0.0003721035609487444]\n",
            "Embedding vector [-0.008491194806993008, -0.010614107362926006, -0.0038855874445289373, 0.005622991360723972, 0.0009092110558412969, -0.024581730365753174, -0.0037148776464164257, 0.009767480194568634, 0.010138697922229767, 0.058320872485637665, 0.015504078939557076, 0.011453131213784218, -0.0015469265636056662, -0.02435365319252014, 0.024560438469052315, -0.011533595621585846, -0.024241669103503227, -0.03346140682697296, 0.01084201317280531, -0.008066011592745781, 0.006819781381636858, 0.01026026252657175, -0.06488431245088577, -0.040745243430137634, -0.03494834527373314, 0.040379948914051056, 0.016366809606552124, 0.0023179289419203997, 0.10353552550077438, 0.06061103940010071, -0.03905188664793968, -0.026012474671006203, 0.028908660635352135, -0.046270109713077545, -0.013943902216851711, -0.025474734604358673, 0.05122731253504753, -0.024727577343583107, -0.027632957324385643, -0.023929955437779427, 0.015866946429014206, -0.0019200242822989821, 0.043868307024240494, -0.023429054766893387, -0.024791650474071503, -0.01703999564051628, -0.00518649211153388, -0.030407167971134186, -0.00016404969210270792, -0.052432749420404434, 0.0035965978167951107, -0.0062429397366940975, 0.004838415887206793, 0.01075782161206007, 0.03213930130004883, 0.02759615145623684, -0.002458171918988228, -0.018718799576163292, -0.009548799134790897, 0.04468955472111702, 0.02258310839533806, 0.011941428296267986, 0.04446686431765556, -0.05677422136068344, 0.034167803823947906, 0.02420559711754322, 0.0034868044313043356, -0.034362487494945526, -0.0008842179086059332, -0.012024374678730965, -0.022965041920542717, -0.0018219085177406669, -0.019018109887838364, -0.025432253256440163, 0.016525663435459137, -0.03656567260622978, -0.021044377237558365, -0.011714290827512741, 0.0051866997964680195, 0.01113509014248848, 0.004770394880324602, 0.027546284720301628, -0.008879597298800945, 0.02351716347038746, -0.04269661009311676, -0.016540568321943283, 0.03287626802921295, -0.017702102661132812, 0.010747229680418968, -0.008500361815094948, 0.011283070780336857, 0.05834885686635971, -0.00791905913501978, -0.006594034843146801, 0.01853012666106224, 0.04608196020126343, -0.04651806131005287, 0.01484325435012579, 0.0001519572688266635, 0.0007712810765951872, 0.05522940307855606, 0.012376704253256321, 0.0037564013618975878, 0.06845353543758392, -0.06041684374213219, -0.01711786538362503, 0.04235747456550598, -0.03255562484264374, -0.008058090694248676, -0.047241516411304474, -0.014210070483386517, -0.021641483530402184, 0.008656482212245464, 0.004609173163771629, -0.009318271651864052, 0.0006836404791101813, 0.01851910725235939, 0.0412607379257679, -0.033132947981357574, 0.01715133897960186, 0.016330497339367867, 0.03208053857088089, 0.010848592966794968, -0.006271452642977238, 0.016483599320054054, -0.03620195388793945, -0.006856679916381836, 0.05481202155351639, -0.0505363903939724, -0.010899942368268967, 0.007088750135153532, -0.037427157163619995, -0.0011871692258864641, 0.05672761797904968, -0.018838217481970787, 0.007273118942975998, 0.013651682063937187, 0.04425770789384842, 0.030942432582378387, -0.051701560616493225, 0.040747277438640594, 0.023363223299384117, -0.006310636177659035, 0.09579002857208252, -0.0013604616979137063, 0.033073607832193375, -0.015198559500277042, -0.004952669143676758, -0.044087715446949005, 0.0268552266061306, -0.002312585012987256, 0.05477648228406906, -0.014231570065021515, 0.019118163734674454, -0.025453578680753708, 0.020382942631840706, -0.017878960818052292, 0.007077156100422144, 0.011417517438530922, 0.05946243554353714, -0.006869937293231487, 0.04992048814892769, -0.0009670198778621852, 0.045059457421302795, -0.02764439396560192, 0.06624934822320938, -0.03350500389933586, -0.011405742727220058, -0.015460016205906868, -0.02659115195274353, 0.0086343539878726, -0.007489610463380814, -0.039380867034196854, 0.0015019859420135617, 0.0328642763197422, 0.04458807781338692, 0.04477964714169502, 0.004242125432938337, 0.04333624243736267, 0.032843951135873795, -0.030697813257575035, 0.026359273120760918, 0.02058211900293827, 0.07885357737541199, -0.027784621343016624, 0.002977177035063505, 0.005492383148521185, -0.013250540941953659, -0.02492247335612774, -0.04778888821601868, -0.030610250309109688, 0.04839450120925903, -0.03967421129345894, 0.0273283664137125, -0.00027307283016853034, -0.007917897775769234, -0.037817128002643585, -0.008650177158415318, -0.0017498134402558208, -0.05912129208445549, -0.03244948387145996, 0.02012457512319088, -0.04665340110659599, 0.03197470307350159, -0.033167578279972076, -0.018469899892807007, 0.04495220631361008, 0.05862133577466011, -0.06198519095778465, 0.009781992994248867, 0.03817589953541756, 0.004865371156483889, -0.028200948610901833, -0.008395213633775711, 0.015216290019452572, -0.0180942602455616, -0.017344029620289803, 0.047647006809711456, 0.007371322717517614, 0.006846700329333544, 0.018595252186059952, -0.017138611525297165, 0.042188867926597595, 0.013690894469618797, -0.013132982887327671, 0.013141858391463757, 0.04470966011285782, 0.0345977321267128, -0.03642316162586212, 0.013719389215111732, -0.03373182192444801, 0.040311675518751144, 0.006525196600705385, 0.05406224727630615, 0.02151619642972946, 0.007836065255105495, 0.04386324808001518, 0.034937046468257904, 0.013343379832804203, 0.017431894317269325, 0.03437967598438263, 0.00577643234282732, 0.03608938679099083, 0.019727682694792747, -0.004725201521068811, 0.03058716468513012, -0.0002447325095999986, 0.00031991672585718334, 0.011860703118145466, 0.03825308382511139, -0.0158658679574728, 0.03620694577693939, 0.044910021126270294, 0.021575700491666794, -0.04390130192041397, -0.005089765880256891, 0.02778450958430767, 0.05793668329715729, -0.01848212443292141, -0.00616012467071414, -0.01973024569451809, 0.03880630433559418, -0.00984400138258934, 0.01608722098171711, 0.007170380558818579, 0.005355816334486008, -0.003779386868700385, 0.04746684804558754, 0.016034068539738655, -0.02788950316607952, -0.06479837000370026, -0.036036837846040726, -0.06840526312589645, -0.03849290683865547, -0.04796430841088295, 0.02586515061557293, 0.03366445377469063, -0.03282099962234497, 0.030083101242780685, -0.015239969827234745, -0.016970161348581314, 0.0073732477612793446, 0.013195288367569447, 0.020921854302287102, 0.03590927645564079, 0.04457433149218559, -0.04884575679898262, 0.028717245906591415, -0.012385993264615536, 0.047262486070394516, -0.01782023161649704, 0.005385154392570257, -0.0113587137311697, 0.0022998014464974403, 0.026873627677559853, -0.022412464022636414, -0.008807335048913956, -0.017530780285596848, -0.050548721104860306, -0.03849829360842705, 0.007827188819646835, 0.007916205562651157, 0.00428823521360755, -0.006982333492487669, -0.028744207695126534, 0.07794299721717834, 0.0020348397083580494, -0.03256339579820633, 0.08460672944784164, 0.0069452268071472645, -0.05297425761818886, 0.03216920420527458, 0.009100578725337982, 0.015070234425365925, -0.04106336086988449, 0.044011324644088745, 0.05386414751410484, -0.00013660278636962175, -0.027348464354872704, -0.012407846748828888, -0.026394173502922058, -0.024921441450715065, 0.032335445284843445, -0.027490166947245598, -0.04035084322094917, 0.010262368246912956, 0.048114027827978134, -0.10534711182117462, 0.03594152629375458, -0.03572271391749382, -0.026177633553743362, -0.03333091735839844, -0.022881047800183296, 0.03936753049492836, 0.03573675453662872, 0.015971854329109192, 0.02420845255255699, -0.029413670301437378, 0.006451284978538752, 0.04477890208363533, 0.049263253808021545, -0.023734118789434433, 0.01755366660654545, 0.020055007189512253, -0.011391743086278439, 0.028839126229286194, 0.02652241475880146, -0.038860440254211426, -0.0004763465840369463, 0.00452536903321743, 0.01411161944270134, 0.017741812393069267, 0.016177594661712646, 0.023340025916695595, 0.04776677489280701, 0.050141315907239914, -0.03049764782190323, -0.007606456521898508, -0.0014987982576712966, 0.009463566355407238, -0.0014774483861401677, 0.002748041180893779, 0.010053103789687157, 0.002645180094987154, -0.03990571200847626, -0.051633015275001526, 0.027901045978069305, 0.04203944653272629, 0.06694482266902924, -0.05476398020982742, 0.03530198708176613, 0.0172891803085804, -0.049720652401447296, 0.06237565726041794, -0.07489077746868134, -0.01125872042030096, 0.04246180132031441, -0.0007378697628155351, 0.04024926573038101, -0.04150637239217758, -0.0006600620690733194, -0.03514916077256203, 0.02465726248919964, 0.03483641892671585, 0.0026854313910007477, 0.03829571604728699, -0.04735340178012848, -0.002678660210222006, -0.016458429396152496, -0.026209060102701187, -0.02064226008951664, -0.037300217896699905, 0.008524716831743717, -0.006355921272188425, -0.051358211785554886, -0.0481104739010334, 0.026374652981758118, 0.030838606879115105, 0.03147468343377113, -0.011979523114860058, 0.05471115559339523, -0.013922059908509254, 0.012302905321121216, 0.009331862442195415, 0.000961766520049423, -0.015889553353190422, -0.03305147960782051, 0.06756816059350967, -0.004873540252447128, -0.0014078164240345359, -0.01670321263372898, -0.008740058168768883, -0.0060225799679756165, 0.04744745045900345, -0.021349690854549408, -0.028523996472358704, -0.03578431159257889, -0.014591291546821594, 0.011740347370505333, 0.04018077626824379, -0.02074974961578846, -0.001207968918606639, -0.05626574158668518, 0.038717638701200485, 0.04651779681444168, -0.04731432721018791, 0.013797569088637829, -0.044434770941734314, 0.03875572234392166, 0.039414629340171814, -0.014545150101184845, -0.05692330002784729, 0.003995608072727919, -0.02384856902062893, -0.062066830694675446, 0.017483029514551163, 0.00812076497823, -0.010787676088511944, 0.0015710439765825868, -0.034915052354335785, 0.015170327387750149, 0.035601645708084106, 0.0026317730080336332, -0.012270030565559864, 0.01644735597074032, 0.027165615931153297, -0.005494787823408842, 0.041439976543188095, -0.013315381482243538, -0.014008973725140095, 0.052922725677490234, -0.05773372948169708, 0.0003906301863025874, 0.0067337737418711185, -0.04812498763203621, 0.009564049541950226, 0.019317403435707092, 0.02720778062939644, 0.006854700390249491, -0.018920285627245903, 0.019717739894986153, -0.0009854533709585667, 0.04839494079351425, -0.013623766601085663, -0.04267868027091026, 0.04644038900732994, 0.0018757522339001298, -0.024095354601740837, 0.02682505175471306, 0.038219235837459564, -0.0045260717160999775, 0.006569293327629566, 0.031173638999462128, -0.0367862693965435, 0.04325893893837929, -0.01839817501604557, 0.03153747320175171, -0.015663953498005867, -0.04075715318322182, 0.017076898366212845, -0.04886896163225174, 0.02127639576792717, -0.010881904512643814, 0.015404862351715565, -0.059283722192049026, -0.024271663278341293, -0.01802440918982029, -0.0057652294635772705, -0.02250004932284355, 0.04800781235098839, 0.0026981846895068884, 0.021206244826316833, -0.007838799618184566, -0.00556985754519701, -0.025558240711688995, 0.006213205400854349, -0.018428782001137733, -0.014917564578354359, -0.009570817463099957, 0.01681835763156414, 0.01655717007815838, -0.033303890377283096, -0.03358710557222366, 0.004279647953808308, -0.01593938283622265, -0.047814369201660156, -0.04653279483318329, -0.01917983964085579, -0.016923032701015472, -0.024745265021920204, -0.040220580995082855, 0.016132475808262825, 0.007669616024941206, 0.011682981625199318, 0.03680414706468582, -0.005290003959089518, 0.010779394768178463, 0.024258334189653397, -0.0355948880314827, 0.04785512015223503, 0.02938355691730976, -0.0394846610724926, -0.040346261113882065, 0.04684276133775711, -0.04247349500656128, 0.042071957141160965, -0.02995726279914379, -0.04222181439399719, -0.02953159809112549, -0.034097347408533096, -0.020587658509612083, -0.013428774662315845, -0.006888017989695072, -0.036813147366046906, -0.02496086061000824, -0.017559856176376343, 0.0651077926158905, 0.0006263678660616279, -0.009167659096419811, 0.018882986158132553, -0.037479158490896225, -0.015616736374795437, -0.038671959191560745, -0.006454077083617449, -0.023884469643235207, -0.018725639209151268, -0.007841037586331367, 0.0693841353058815, 0.0011412906460464, -0.009226175025105476, 0.0009619344491511583, -0.004439078271389008, 0.00941165816038847, -0.01126488484442234, -0.03702319413423538, -0.03347405418753624, -0.0034416927956044674, 0.024656925350427628, 0.004724906291812658, 0.00019102443184237927, -0.04355612397193909, 0.08201154321432114, -0.033245302736759186, 0.013880725018680096, 0.0022319506388157606, -0.0070659685879945755, -0.03732241690158844, 0.002993316389620304, 0.047337427735328674, -0.035122428089380264, 0.0225366298109293, -0.02624335139989853, 0.04552510380744934, 0.0558677539229393, 0.029855424538254738, -0.05830736458301544, -0.001081025111488998, -0.04680584371089935, -0.047923505306243896, -0.0018057727720588446, -0.025827329605817795, -0.009302802383899689, -0.03877679258584976, -0.03556474670767784, 0.02676633931696415, -0.017841972410678864, 0.07598541676998138, 0.06566432863473892, 0.009450361132621765, 0.0022288754116743803, -0.02741083689033985, 0.0295669324696064, 0.03795943781733513, -0.012783979065716267, 0.03238518163561821, -0.019612058997154236, -0.021795501932501793, 0.01174402330070734, -0.030511723831295967, -0.025017399340867996, -0.044466301798820496, -0.00019789401267189533, 0.04854273796081543, -0.05613906681537628, 0.022470718249678612, 1.6498259356012568e-05, -0.05007883906364441, -0.015493391081690788, 0.0467449389398098, -0.010351805947721004, 0.03005293756723404, 0.03883553668856621, -0.009913509711623192, -0.02677927166223526, -0.0005465195281431079, -0.00836181640625, -0.029310258105397224, -0.047845810651779175, 0.05565382540225983, 0.01884828507900238, -0.048977840691804886, 0.026672178879380226, 0.04915514588356018, -0.05606992542743683, -0.05930403992533684, 0.023905642330646515, 0.020353160798549652, 0.019081078469753265, -0.023359842598438263, 0.023335691541433334, 0.027233866974711418, -0.01227717287838459, 0.020050661638379097, 0.027736065909266472, -0.0070366449654102325, 0.03033391758799553, 0.025533583015203476, 0.028012476861476898, -0.024765627458691597, -0.00920428428798914, 0.026315273717045784, -0.012519186362624168, -0.0422668531537056, -0.03319183737039566, 0.017730869352817535, 0.01655692607164383, -0.0015014680102467537, 0.05861745402216911, -0.0031787054613232613, -0.009832493960857391, 0.04695027694106102, -0.0043389820493757725, 0.03356176242232323, -0.0028110090643167496, -0.027567924931645393, -0.012430386617779732, -0.009510130621492863, -0.05908598378300667, -0.011903115548193455, 0.024933386594057083, 0.005937651731073856, 0.025956619530916214, -0.05993792042136192, 0.0014641248853877187, 0.03358634561300278, -0.005132518708705902, -0.015285923145711422, -0.045717593282461166, -0.04497826471924782, -0.03983854502439499, -0.041282929480075836, 0.008036492392420769, -0.010320338420569897, -0.014322217553853989, 0.00746110687032342, 0.03495853394269943, -0.031546734273433685, -0.025402313098311424, 0.04655048996210098, -0.03428022563457489, -0.011165806092321873, -0.03176524490118027, 0.00892980769276619, -0.026093022897839546, -0.036807578057050705, -0.035937558859586716, 0.007755975238978863, -0.029301008209586143, -0.002778962254524231, -0.02931610308587551, -0.0053347013890743256, -0.0005636268761008978, 0.02478293515741825, 0.003269644221290946, 0.005637874826788902, -0.019656138494610786, -0.03484106436371803, -0.004167783539742231, 0.012932740151882172, 0.006015334744006395, 0.012064448557794094, 0.026127813383936882, -0.015321174636483192, 0.040795739740133286, 0.0033943364396691322, 0.01429392583668232, -0.03989279270172119, 0.022057991474866867, 0.0077131749130785465, 0.0014188522472977638, -0.03753454610705376, -0.04304322227835655, -0.0026173798833042383, -0.044023774564266205, 0.027491096407175064, -0.00602595042437315, 0.015518361702561378, 0.01974431984126568, -0.03575919196009636, -0.021655607968568802, 0.05206321179866791, 0.007563883438706398, 0.03594883903861046, -0.0071826656349003315, 0.018898911774158478, 0.03140811249613762, -0.020938608795404434, 0.01205422542989254, 0.004207685124129057, 0.024665383622050285, -0.038429781794548035, -0.01011110283434391, 0.0033909606281667948, -0.008976969867944717, 0.028105879202485085, -0.024425160139799118, -0.026045359671115875, -0.05878482013940811, -0.009146828204393387, -0.0062232110649347305, 0.05431254580616951, 0.033843185752630234, 0.0323711596429348, 0.01567603088915348, -0.009004604071378708, -0.0759832113981247, 0.01446661539375782, -0.04879802465438843, -0.04223107174038887, 0.03173937276005745, -0.03385186195373535, -0.016864029690623283, 0.022516584023833275, -0.019582394510507584, -0.019321536645293236, -0.011484191752970219, -0.0022421148605644703, -0.01974537782371044, 0.019351735711097717, -0.0016868504462763667, 0.04000118374824524, 0.00022557302145287395, -0.017943155020475388, -0.009165811352431774, 0.06627003103494644, -0.04420465603470802, -0.04151519015431404, 0.011103115044534206, 0.008425632491707802, -0.017305610701441765, 0.001429255004040897, -0.03099260851740837, 0.001354884123429656, 0.02766014076769352, 0.02988111600279808, -0.0009189269039779902, 0.01443953812122345, -0.007907062768936157, 0.03151363506913185, 0.025804053992033005, -0.013345037586987019, -0.03572281077504158, 0.020974814891815186, -0.01297503150999546, -0.024643106386065483, -0.02917035110294819, 0.028504159301519394, 0.006419966462999582, -0.01103117410093546, 0.02669011615216732, 0.01797562837600708, 0.03492186591029167, -0.03516783565282822, 0.018856074661016464, -0.020068414509296417, 0.034629784524440765, 0.02697465941309929, 0.03335244581103325, 0.00801560003310442, 0.040043510496616364, 0.06249199062585831, -0.006965205539017916, 0.0022727439645677805, 0.033231381326913834, 0.012010189704596996, -0.06824543327093124, -0.017731444910168648, -0.06636925041675568, 0.03423963487148285, -0.014379967004060745, -0.012432345189154148, -0.01736789010465145, -0.03671779856085777, 0.019389431923627853, -0.029181774705648422, -0.027180887758731842, 0.04561921954154968, -0.05542484670877457, -0.025664309039711952, -0.004730466287583113, -0.0072579109109938145, -0.022800544276833534, 0.010535608045756817, 0.03553733229637146, 0.025631166994571686, 0.03807530924677849, 0.030357196927070618, -0.0006207585684023798, 0.05389345809817314, 0.023118872195482254, 0.011095012538135052, -0.029790664091706276, -0.005086010321974754, -0.0021233840379863977, -0.008715055882930756, -0.010642025619745255, -0.01804841309785843, -0.03539325296878815, 0.05202585831284523, -0.020483698695898056, -0.024178998544812202, 0.05059579387307167, -0.04273437708616257, -0.0029715660493820906, -0.06623765081167221, 0.05369677022099495, -0.04711480066180229, -0.016193032264709473, 0.04363415017724037, -0.010400027967989445, -0.026383768767118454, 0.04970628395676613, -0.00701636029407382, 0.007534535601735115, 0.026406796649098396, 0.03296554461121559, -0.008162597194314003, 0.006557141896337271, 0.07328684628009796, -0.024396419525146484, -0.014946206472814083, 0.018927037715911865, -0.02073015086352825, -0.021418698132038116, -0.009679767303168774, -0.04241355508565903, -0.016787774860858917, -0.013464116491377354, 0.006967067252844572, -0.004826740361750126, 0.027636056765913963, 0.018525300547480583, -0.03158041834831238, -0.014538983814418316, -0.005592145025730133, -0.03428110480308533, 0.0014002469833940268, -0.005612654611468315, 0.004027551040053368, 0.007117554545402527, -0.0220022052526474, 0.012762057594954967, -0.026268186047673225, 0.00968784186989069, -0.03903162479400635, 0.049181677401065826, 0.0050438581965863705, -0.033734265714883804, -0.02770092338323593, -0.0742875337600708, -0.012501275166869164, 0.0004172499757260084, -0.05961667373776436, -0.034875255078077316, 0.038674622774124146, 0.019645188003778458, 0.027979345992207527, 0.01408603135496378, -0.02672981657087803, 0.0014934387290850282, 0.027724457904696465, 0.07243978977203369, 0.02014215476810932, 0.04655802994966507, 0.03136969357728958, 0.018598085269331932, 0.00881075020879507, -0.032881010323762894, 0.031055251136422157, 0.00330534391105175, -0.01134520210325718, -0.024453578516840935, 0.016864556819200516, -0.015206859447062016, -0.05712250620126724, 0.008528466336429119, 0.020862607285380363, 0.000571044918615371, -0.031718675047159195, -0.07530102133750916, 0.0156897883862257, -0.05788771063089371, 0.01060680765658617, -0.03565918654203415, 0.0006031366647221148, 0.012975774705410004, 0.0026199205312877893, -0.02648574858903885, -0.0635567232966423, 0.14769375324249268, 0.07140034437179565, 0.025364475324749947, 0.012567159719765186, 0.025093115866184235, 0.03309226036071777, 0.029750699177384377, -0.027577705681324005, 0.014142175205051899, -0.03421584889292717, 0.024846011772751808, -0.03040909953415394, 0.022566361352801323, 0.03564776852726936, 0.017314337193965912, 0.05303659290075302, -0.046816471964120865, 0.0005382670788094401, -0.003755531506612897, -0.04965372756123543, -0.07760457694530487, 0.0328267402946949, 0.008904948830604553, 0.008375757373869419, -0.012914477847516537, 0.025812290608882904, 0.009057403542101383, -0.04884319752454758, -0.00910406094044447, -0.0068346778862178326, 0.019391054287552834, -0.03888936713337898, 0.04244903847575188, -0.031964074820280075, -0.03401471674442291, 0.06637468934059143, 0.01748659275472164, -0.036923058331012726, -0.0052507719956338406, 0.025859199464321136, -0.03627709671854973, 0.007574702147394419, 0.032341908663511276, -0.037241142243146896, 0.00010461030615260825, 0.029046615585684776, -0.022957252338528633, 0.0195088442414999, -0.0005024407873861492, -0.05159366875886917, 0.052853647619485855, -0.03147530183196068, 0.017456062138080597, -0.019438428804278374, -0.03312758728861809, 0.013500248081982136, -0.0019211285980418324, -0.04902297258377075, 0.003989561926573515, -0.0012133753625676036, 0.027919575572013855, 0.019926849752664566, -0.015776023268699646, 0.007805501110851765, -0.032113317400217056, 0.011086655780673027, 0.03402412310242653, 0.03208564221858978, 0.006208515260368586, -0.007160472217947245, -0.020759906619787216, 0.027888406068086624, -0.023970501497387886, -0.03459527716040611, 0.03387337177991867, 0.021962014958262444, -0.027925405651330948, 0.03598398715257645, 0.007125142030417919, -0.05228627473115921, -0.012447377666831017, -0.033839449286460876, -0.013109471648931503, -0.023216137662529945, 0.017047882080078125, 0.03996305167675018, -0.047081075608730316, -0.04128982871770859, -0.027178917080163956, 0.03238508477807045, 0.06488548964262009, 0.010281163267791271, -0.003892890876159072, -0.01691153459250927, -0.014824400655925274]\n"
          ]
        }
      ]
    },
    {
      "cell_type": "markdown",
      "source": [
        "Dimensions of embedding vector is 1024\n",
        "All vector dimensions are same\n",
        "\n",
        "\n",
        "\n",
        "*   The embedding vector provides a fixed length vector\n"
      ],
      "metadata": {
        "id": "zmHtKo1gJast"
      }
    },
    {
      "cell_type": "markdown",
      "source": [
        "## **Vector Database**"
      ],
      "metadata": {
        "id": "JJpxvH4gJz65"
      }
    },
    {
      "cell_type": "code",
      "source": [
        "# Uninstall existing chromadb to avoid conflicts\n",
        "!pip uninstall chromadb -y\n",
        "# Install a specific, known-working version of chromadb\n",
        "!pip install chromadb==0.4.18 -q"
      ],
      "metadata": {
        "colab": {
          "base_uri": "https://localhost:8080/"
        },
        "id": "upFiUd_QLMWt",
        "outputId": "dbe864ec-afed-4c53-c27a-9be9d7cc2019"
      },
      "execution_count": 15,
      "outputs": [
        {
          "output_type": "stream",
          "name": "stdout",
          "text": [
            "Found existing installation: chromadb 0.4.22\n",
            "Uninstalling chromadb-0.4.22:\n",
            "  Successfully uninstalled chromadb-0.4.22\n",
            "\u001b[2K   \u001b[90m━━━━━━━━━━━━━━━━━━━━━━━━━━━━━━━━━━━━━━━━\u001b[0m \u001b[32m502.4/502.4 kB\u001b[0m \u001b[31m27.0 MB/s\u001b[0m eta \u001b[36m0:00:00\u001b[0m\n",
            "\u001b[?25h"
          ]
        }
      ]
    },
    {
      "cell_type": "code",
      "source": [
        "!pip show chromadb"
      ],
      "metadata": {
        "colab": {
          "base_uri": "https://localhost:8080/"
        },
        "id": "e5PLOw3vL2V6",
        "outputId": "46e9e61d-1dba-4a62-fd92-30d3ee8ebf4b"
      },
      "execution_count": 16,
      "outputs": [
        {
          "output_type": "stream",
          "name": "stdout",
          "text": [
            "Name: chromadb\n",
            "Version: 0.4.18\n",
            "Summary: Chroma.\n",
            "Home-page: https://github.com/chroma-core/chroma\n",
            "Author: \n",
            "Author-email: Jeff Huber <jeff@trychroma.com>, Anton Troynikov <anton@trychroma.com>\n",
            "License: \n",
            "Location: /usr/local/lib/python3.11/dist-packages\n",
            "Requires: bcrypt, chroma-hnswlib, fastapi, grpcio, importlib-resources, kubernetes, mmh3, numpy, onnxruntime, opentelemetry-api, opentelemetry-exporter-otlp-proto-grpc, opentelemetry-instrumentation-fastapi, opentelemetry-sdk, overrides, posthog, pulsar-client, pydantic, pypika, PyYAML, requests, tenacity, tokenizers, tqdm, typer, typing-extensions, uvicorn\n",
            "Required-by: \n"
          ]
        }
      ]
    },
    {
      "cell_type": "code",
      "source": [
        "out_dir = 'apple_db'"
      ],
      "metadata": {
        "id": "qwIBCGZEJQiO"
      },
      "execution_count": 17,
      "outputs": []
    },
    {
      "cell_type": "code",
      "source": [
        "if not os.path.exists(out_dir):\n",
        "  os.makedirs(out_dir)\n"
      ],
      "metadata": {
        "id": "vRZbkFK-KEtK"
      },
      "execution_count": 18,
      "outputs": []
    },
    {
      "cell_type": "code",
      "source": [
        "vectorstore = Chroma.from_documents(document_chunks,\n",
        "                                    embedding_model,\n",
        "                                    persist_directory=out_dir)"
      ],
      "metadata": {
        "colab": {
          "base_uri": "https://localhost:8080/"
        },
        "id": "G4fMYJY8KU83",
        "outputId": "ddc4b383-6d17-4516-ca45-e74a7e2d7d69"
      },
      "execution_count": 19,
      "outputs": [
        {
          "output_type": "stream",
          "name": "stderr",
          "text": [
            "ERROR:chromadb.telemetry.product.posthog:Failed to send telemetry event ClientStartEvent: capture() takes 1 positional argument but 3 were given\n",
            "ERROR:chromadb.telemetry.product.posthog:Failed to send telemetry event ClientCreateCollectionEvent: capture() takes 1 positional argument but 3 were given\n"
          ]
        }
      ]
    },
    {
      "cell_type": "code",
      "source": [
        "vectorstore = Chroma(persist_directory=out_dir,embedding_function=embedding_model)"
      ],
      "metadata": {
        "colab": {
          "base_uri": "https://localhost:8080/"
        },
        "id": "O-FRER4FKnoz",
        "outputId": "dde5f563-f28b-4568-8b01-41f3b6aaeed2"
      },
      "execution_count": 20,
      "outputs": [
        {
          "output_type": "stream",
          "name": "stderr",
          "text": [
            "ERROR:chromadb.telemetry.product.posthog:Failed to send telemetry event ClientStartEvent: capture() takes 1 positional argument but 3 were given\n",
            "ERROR:chromadb.telemetry.product.posthog:Failed to send telemetry event ClientCreateCollectionEvent: capture() takes 1 positional argument but 3 were given\n"
          ]
        }
      ]
    },
    {
      "cell_type": "code",
      "source": [
        "vectorstore.embeddings"
      ],
      "metadata": {
        "colab": {
          "base_uri": "https://localhost:8080/"
        },
        "id": "holJy3i-N9Zs",
        "outputId": "4fe17fed-54c9-4f0a-ede0-41dee4bd760d"
      },
      "execution_count": 21,
      "outputs": [
        {
          "output_type": "execute_result",
          "data": {
            "text/plain": [
              "HuggingFaceEmbeddings(client=SentenceTransformer(\n",
              "  (0): Transformer({'max_seq_length': 512, 'do_lower_case': False}) with Transformer model: BertModel \n",
              "  (1): Pooling({'word_embedding_dimension': 1024, 'pooling_mode_cls_token': False, 'pooling_mode_mean_tokens': True, 'pooling_mode_max_tokens': False, 'pooling_mode_mean_sqrt_len_tokens': False, 'pooling_mode_weightedmean_tokens': False, 'pooling_mode_lasttoken': False})\n",
              "  (2): Normalize()\n",
              "), model_name='thenlper/gte-large', cache_folder=None, model_kwargs={}, encode_kwargs={}, multi_process=False)"
            ]
          },
          "metadata": {},
          "execution_count": 21
        }
      ]
    },
    {
      "cell_type": "code",
      "source": [
        "vectorstore.similarity_search(\"Apple Steve Jobs iPhone \",k=3)"
      ],
      "metadata": {
        "colab": {
          "base_uri": "https://localhost:8080/"
        },
        "id": "eELJJIiFOTEJ",
        "outputId": "aa5b6d16-57fa-47fe-8cbb-6fe8011605b3"
      },
      "execution_count": 22,
      "outputs": [
        {
          "output_type": "stream",
          "name": "stderr",
          "text": [
            "ERROR:chromadb.telemetry.product.posthog:Failed to send telemetry event CollectionQueryEvent: capture() takes 1 positional argument but 3 were given\n"
          ]
        },
        {
          "output_type": "execute_result",
          "data": {
            "text/plain": [
              "[Document(page_content='WHY A FUNCTIONAL ORGANIZATION?\\nApple’s main purpose is to create products that enrich \\npeople’s daily lives. That involves not only developing \\nentirely new product categories such as the iPhone and the \\nApple Watch, but also continually innovating within those \\ncategories. Perhaps no product feature better reflects Apple’s \\ncommitment to continuous innovation than the iPhone cam-\\nera. When the iPhone was introduced, in 2007, Steve Jobs \\ndevoted only six seconds to its camera in the annual keynote \\nevent for unveiling new products. Since then iPhone camera \\ntechnology has contributed to the photography industry \\nwith a stream of innovations: High dynamic range imaging \\n(2010), panorama photos (2012), True Tone flash (2013), opti-\\ncal image stabilization (2015), the dual-lens camera (2016), \\nportrait mode (2016), portrait lighting (2017), and night mode \\n(2019) are but a few of the improvements.\\nTo create such innovations, Apple relies on a structure \\nthat centers on functional expertise. Its fundamental belief \\nis that those with the most expertise and experience in a \\ndomain should have decision rights for that domain. This \\nis based on two views: First, Apple competes in markets \\nwhere the rates of technological change and disruption are \\nhigh, so it must rely on the judgment and intuition of people \\nwith deep knowledge of the technologies responsible for \\ndisruption. Long before it can get market feedback and solid \\nmarket forecasts, the company must make bets about which \\ntechnologies and designs are likely to succeed in smart-\\nphones, computers, and so on. Relying on technical experts \\nrather than general managers increases the odds that those \\nbets will pay off.\\nSecond, Apple’s commitment to offer the best possible \\nproducts would be undercut if short-term profit and cost \\nABOUT THE ART\\nApple Park, Apple’s corporate headquarters in  \\nCupertino, California, opened in 2017.\\nMikael Jansson/Trunk Archive\\nFOR ARTICLE REPRINTS CALL 800-988-0886 OR 617-783-7500, OR VISIT HBR.ORG\\nHarvard Business Review\\nNovember–December 2020 \\u20095', metadata={'author': '', 'creationDate': \"D:20201005141842-04'00'\", 'creator': 'Adobe InDesign 14.0 (Macintosh)', 'encryption': 'Standard V2 R3 128-bit RC4', 'file_path': '/content/drive/MyDrive/AIMLUseCaseProjects/DataSetRAG/HBR_How_Apple_Is_Organized_For_Innovation-4.pdf', 'format': 'PDF 1.6', 'keywords': '', 'modDate': 'D:20201201183749Z', 'page': 4, 'producer': 'Adobe PDF Library 15.0 (via http://bfo.com/products/pdf?version=2.23.5-r33279)', 'source': '/content/drive/MyDrive/AIMLUseCaseProjects/DataSetRAG/HBR_How_Apple_Is_Organized_For_Innovation-4.pdf', 'subject': '', 'title': '', 'total_pages': 11, 'trapped': ''}),\n",
              " Document(page_content='WELL KNOWN FOR ITS innovations in hardware, software, \\nand services. Thanks to them, it grew from some 8,000 \\nemployees and $7\\u202fbillion in revenue in 1997, the year Steve \\nJobs returned, to 137,000 employees and $260\\u202fbillion in \\nrevenue in 2019. Much less well known are the organizational \\ndesign and the associated leadership model that have played \\na crucial role in the company’s innovation success.\\nWhen Jobs arrived back at Apple, it had a conventional \\nstructure for a company of its size and scope. It was divided \\ninto business units, each with its own P&L responsibilities. \\nGeneral managers ran the Macintosh products group, the \\ninformation appliances division, and the server products \\ndivision, among others. As is often the case with decentral-\\nized business units, managers were inclined to fight with \\none another, over transfer prices in particular. Believing that \\nconventional management had stifled innovation, Jobs, in \\nhis first year returning as CEO, laid off the general managers \\nof all the business units (in a single day), put the entire com-\\npany under one P&L, and combined the disparate functional \\ndepartments of the business units into one functional organi-\\nzation. (See the exhibit “Apple’s Functional Organization.”)\\nThe adoption of a functional structure may have been \\nun\\xadsurprising for a company of Apple’s size at the time. What is \\nsurprising—in fact, remarkable—is that Apple retains it today, \\neven though the company is nearly 40 times as large in terms \\nof revenue and far more complex than it was in 1998. Senior \\nvice presidents are in charge of functions, not products. As \\nwas the case with Jobs before him, CEO Tim Cook occupies the \\nonly position on the organizational chart where the design, \\nengineering, operations, marketing, and retail of any of Apple’s \\nmain products meet. In effect, besides the CEO, the company \\noperates with no conventional general managers: people \\nwho control an entire process from product development \\nthrough sales and are judged according to a P&L statement.\\nBusiness history and organizational theory make the case \\nthat as entrepreneurial firms grow large and complex, they', metadata={'author': '', 'creationDate': \"D:20201005141842-04'00'\", 'creator': 'Adobe InDesign 14.0 (Macintosh)', 'encryption': 'Standard V2 R3 128-bit RC4', 'file_path': '/content/drive/MyDrive/AIMLUseCaseProjects/DataSetRAG/HBR_How_Apple_Is_Organized_For_Innovation-4.pdf', 'format': 'PDF 1.6', 'keywords': '', 'modDate': 'D:20201201183749Z', 'page': 3, 'producer': 'Adobe PDF Library 15.0 (via http://bfo.com/products/pdf?version=2.23.5-r33279)', 'source': '/content/drive/MyDrive/AIMLUseCaseProjects/DataSetRAG/HBR_How_Apple_Is_Organized_For_Innovation-4.pdf', 'subject': '', 'title': '', 'total_pages': 11, 'trapped': ''}),\n",
              " Document(page_content='things, that these photos often had blurring at the edges of a \\nface but sharpness on the eyes. So they charged the algorithm \\nteams with achieving the same effect. When the teams suc-\\nceeded, they knew they had an acceptable standard.\\nAnother issue that emerged was the ability to preview a \\nportrait photo with a blurred background. The camera team \\nhad designed the feature so that users could see its effect on \\ntheir photos only after they had been taken, but the human \\ninterface (HI) design team pushed back, insisting that users \\nshould be able to see a “live preview” and get some guidance \\nabout how to make adjustments before taking the photo. \\nJohnnie Manzari, a member of the HI team, gave the camera \\nteam a demo. “When we saw the demo, we realized that this \\nis what we needed to do,” Townsend told us. The members \\nof his camera hardware team weren’t sure they could do \\nit, but difficulty was not an acceptable excuse for failing to \\ndeliver what would clearly be a superior user experience. After \\nmonths of engineering effort, a key stakeholder, the video \\nengineering team (responsible for the low-level software that \\ncontrols sensor and camera operations) found a way, and the \\ncollaboration paid off. Portrait mode was central to Apple’s \\nmarketing of the iPhone 7 Plus. It proved a major reason for \\nusers’ choosing to buy and delighting in the use of the phone.\\nAs this example shows, Apple’s collaborative debate \\ninvolves people from various functions who disagree, push \\nback, promote or reject ideas, and build on one another’s \\nideas to come up with the best solutions. It requires open-\\u200b\\nmindedness from senior leaders. It also requires those \\nleaders to inspire, prod, or influence colleagues in other  \\nareas to contribute toward achieving their goals.\\nWhile Townsend is accountable for how great the camera \\nis, he needed dozens of other teams—each of which had a \\nlong list of its own commitments—to contribute their time and \\neffort to the portrait mode proj\\xadect. At Apple that’s known as \\naccountability without control: You’re accountable for making \\nthe proj\\xadect succeed even though you don’t control all the other', metadata={'author': '', 'creationDate': \"D:20201005141842-04'00'\", 'creator': 'Adobe InDesign 14.0 (Macintosh)', 'encryption': 'Standard V2 R3 128-bit RC4', 'file_path': '/content/drive/MyDrive/AIMLUseCaseProjects/DataSetRAG/HBR_How_Apple_Is_Organized_For_Innovation-4.pdf', 'format': 'PDF 1.6', 'keywords': '', 'modDate': 'D:20201201183749Z', 'page': 8, 'producer': 'Adobe PDF Library 15.0 (via http://bfo.com/products/pdf?version=2.23.5-r33279)', 'source': '/content/drive/MyDrive/AIMLUseCaseProjects/DataSetRAG/HBR_How_Apple_Is_Organized_For_Innovation-4.pdf', 'subject': '', 'title': '', 'total_pages': 11, 'trapped': ''})]"
            ]
          },
          "metadata": {},
          "execution_count": 22
        }
      ]
    },
    {
      "cell_type": "markdown",
      "source": [
        "From the retrieved chunk we noticed as k=3 , we have been prvided with 3 output content chunks with metadata.\n",
        "All the chunks are related to query words we provided i.e apple , steve jobs , iphone"
      ],
      "metadata": {
        "id": "VXM-eazHO2xf"
      }
    },
    {
      "cell_type": "markdown",
      "source": [
        "##Retriever"
      ],
      "metadata": {
        "id": "O86eWIhnPJ65"
      }
    },
    {
      "cell_type": "code",
      "source": [
        "retirever = vectorstore.as_retriever(\n",
        "    search_type='similarity',\n",
        "    search_kwargs={'k':1}\n",
        ")"
      ],
      "metadata": {
        "id": "0ld6xtaTPMD5"
      },
      "execution_count": 23,
      "outputs": []
    },
    {
      "cell_type": "code",
      "source": [
        "rel_docs = retirever.get_relevant_documents(\"How does does Apple develop and ship products that requires good coordination between the teams? \")\n",
        "rel_docs"
      ],
      "metadata": {
        "colab": {
          "base_uri": "https://localhost:8080/"
        },
        "id": "wguXKm6GWugk",
        "outputId": "e50825f7-7987-4f5d-a44c-7da177f32dc8"
      },
      "execution_count": 24,
      "outputs": [
        {
          "output_type": "execute_result",
          "data": {
            "text/plain": [
              "[Document(page_content='40 specialist teams: silicon design, camera software, reliabil-\\nity engineering, motion sensor hardware, video engineering, \\ncore motion, and camera sensor design, to name just a few. \\nHow on earth does Apple develop and ship products that \\nrequire such coordination? The answer is collaborative \\ndebate. Because no function is responsible for a product or a \\nservice on its own, cross-functional collaboration is crucial.\\nWhen debates reach an impasse, as some inevitably do, \\nhigher-level managers weigh in as tiebreakers, including at \\ntimes the CEO and the senior VPs. To do this at speed with \\nsufficient attention to detail is challenging for even the best \\nof leaders, making it all the more important that the company \\nfill many senior positions from within the ranks of its VPs, \\nwho have experience in Apple’s way of operating.\\nHowever, given Apple’s size and scope, even the executive \\nteam can resolve only a limited number of stalemates. The \\nmany horizontal dependencies mean that ineffective peer \\nrelationships at the VP and director levels have the potential \\nto undermine not only particular proj\\xadects but the entire \\ncompany. Consequently, for people to attain and remain in \\na leadership position within a function, they must be highly \\neffective collaborators.\\nThat doesn’t mean people can’t express their points of \\nview. Leaders are expected to hold strong, well-grounded \\nviews and advocate forcefully for them, yet also be willing  \\nto change their minds when presented with evidence \\nthat others’ views are better. Doing so is not always \\neasy, of course. A leader’s ability to be both partisan and \\nopen-minded is facilitated by two things: deep understand-\\ning of and devotion to the company’s values and common \\npurpose, and a commitment to separating how right from \\nhow hard a particular path is so that the difficulty of execut-\\ning a decision doesn’t prevent its being selected.\\nThe development of the iPhone’s portrait mode illustrates \\na fanatical attention to detail at the leadership level, intense \\ncollaborative debate among teams, and the power of a shared \\npurpose to shape and ultimately resolve debates. In 2009 \\nHubel had the idea of developing an iPhone feature that \\nwould allow people to take portrait photos with bokeh—', metadata={'author': '', 'creationDate': \"D:20201005141842-04'00'\", 'creator': 'Adobe InDesign 14.0 (Macintosh)', 'encryption': 'Standard V2 R3 128-bit RC4', 'file_path': '/content/drive/MyDrive/AIMLUseCaseProjects/DataSetRAG/HBR_How_Apple_Is_Organized_For_Innovation-4.pdf', 'format': 'PDF 1.6', 'keywords': '', 'modDate': 'D:20201201183749Z', 'page': 7, 'producer': 'Adobe PDF Library 15.0 (via http://bfo.com/products/pdf?version=2.23.5-r33279)', 'source': '/content/drive/MyDrive/AIMLUseCaseProjects/DataSetRAG/HBR_How_Apple_Is_Organized_For_Innovation-4.pdf', 'subject': '', 'title': '', 'total_pages': 11, 'trapped': ''})]"
            ]
          },
          "metadata": {},
          "execution_count": 24
        }
      ]
    },
    {
      "cell_type": "markdown",
      "source": [
        "K is the hyperparameter we need to get best context\n",
        "We observe if k=2 it will provide 2 relevant chunks of document which is best fit to answer the query"
      ],
      "metadata": {
        "id": "Y-MR5lRNYqF7"
      }
    },
    {
      "cell_type": "markdown",
      "source": [
        "##Defining the Response Generator"
      ],
      "metadata": {
        "id": "gupZu6ZzY8-O"
      }
    },
    {
      "cell_type": "markdown",
      "source": [
        "Downloading and Loading the model"
      ],
      "metadata": {
        "id": "MNXlIC6zZCN7"
      }
    },
    {
      "cell_type": "code",
      "source": [
        "model_name_or_path = \"TheBloke/Mistral-7B-Instruct-v0.2-GGUF\"\n",
        "model_basename = \"mistral-7b-instruct-v0.2.Q6_K.gguf\"\n"
      ],
      "metadata": {
        "id": "fb4_CYgGZGlL"
      },
      "execution_count": 29,
      "outputs": []
    },
    {
      "cell_type": "code",
      "source": [
        "model_path = hf_hub_download(repo_id=model_name_or_path,filename=model_basename)"
      ],
      "metadata": {
        "colab": {
          "base_uri": "https://localhost:8080/",
          "height": 49,
          "referenced_widgets": [
            "45a27e2c7ae1439098a225fba64c7baf",
            "717faf7a31774fb89a4b8a6cf9e30873",
            "99bb6e50cf334072a6c1e8e30e9f6583",
            "9c26fa4a63ee4d5a96af3856b71bd630",
            "688dfed4eddb41b687db20b3ea9efd5e",
            "895b4414b97144d2892668fe8979f2df",
            "5ce2f734a3f64bee93d6d31d936a063a",
            "a78f67b23ae440cc825d1a030c55979a",
            "ed4ac9c954cd45348428fef7da0e635e",
            "aa487ffd2a274a8db4c6d711dfb64c76",
            "703968da551146e0bdc55909ae2270e6"
          ]
        },
        "id": "PchwF3OrZhJe",
        "outputId": "473f8ac5-54d4-4021-d8ea-1cebaf1ef7cf"
      },
      "execution_count": 30,
      "outputs": [
        {
          "output_type": "display_data",
          "data": {
            "text/plain": [
              "mistral-7b-instruct-v0.2.Q6_K.gguf:   0%|          | 0.00/5.94G [00:00<?, ?B/s]"
            ],
            "application/vnd.jupyter.widget-view+json": {
              "version_major": 2,
              "version_minor": 0,
              "model_id": "45a27e2c7ae1439098a225fba64c7baf"
            }
          },
          "metadata": {}
        }
      ]
    },
    {
      "cell_type": "code",
      "source": [
        "llm = Llama(\n",
        "    model_path = model_path,\n",
        "    n_ctx=2300,\n",
        "    n_gpu_layers=38,\n",
        "    n_batch=512\n",
        ")"
      ],
      "metadata": {
        "colab": {
          "base_uri": "https://localhost:8080/"
        },
        "id": "L1agv5KVgdhC",
        "outputId": "c26884f0-466c-487e-94ba-25f898aeeaca"
      },
      "execution_count": 31,
      "outputs": [
        {
          "output_type": "stream",
          "name": "stderr",
          "text": [
            "AVX = 1 | AVX2 = 1 | AVX512 = 0 | AVX512_VBMI = 0 | AVX512_VNNI = 0 | FMA = 1 | NEON = 0 | ARM_FMA = 0 | F16C = 1 | FP16_VA = 0 | WASM_SIMD = 0 | BLAS = 1 | SSE3 = 1 | SSSE3 = 1 | VSX = 0 | \n"
          ]
        }
      ]
    },
    {
      "cell_type": "code",
      "source": [
        "llm(\"How does apple develop and ship products?\").choices[0]['text']"
      ],
      "metadata": {
        "colab": {
          "base_uri": "https://localhost:8080/"
        },
        "id": "wV0pH14pg4bU",
        "outputId": "08cf35c5-886d-40de-ca7b-751a546764c1"
      },
      "execution_count": 32,
      "outputs": [
        {
          "output_type": "execute_result",
          "data": {
            "text/plain": [
              "{'id': 'cmpl-3146915e-37a7-4236-9f53-530ecf421f5e',\n",
              " 'object': 'text_completion',\n",
              " 'created': 1751164330,\n",
              " 'model': '/root/.cache/huggingface/hub/models--TheBloke--Mistral-7B-Instruct-v0.2-GGUF/snapshots/3a6fbf4a41a1d52e415a4958cde6856d34b2db93/mistral-7b-instruct-v0.2.Q6_K.gguf',\n",
              " 'choices': [{'text': \"\\n\\nApple Inc. is a technology company known for designing, manufacturing, and marketing consumer electronics, computer software, and online services. The company's approach to product development and shipping can be broken down into several stages:\\n\\n1. Research and Development (R&D): Apple invests heavily in R&D to create new technologies and innovations. The company employs a large team of engineers, designers, and researchers to work on upcoming products. Apple's R&D efforts often involve partnerships with other companies and universities.\\n2. Concept and Design: Once Apple has identified a potential product\",\n",
              "   'index': 0,\n",
              "   'logprobs': None,\n",
              "   'finish_reason': 'length'}],\n",
              " 'usage': {'prompt_tokens': 9, 'completion_tokens': 128, 'total_tokens': 137}}"
            ]
          },
          "metadata": {},
          "execution_count": 32
        }
      ]
    },
    {
      "cell_type": "markdown",
      "source": [
        "check if the response belong to article or not .\n",
        "After checking realized the lines are not from article\n",
        "WHY ?\n",
        "To resolve this lets provide more context and align the response\n",
        ""
      ],
      "metadata": {
        "id": "kZE5WHIdjCLo"
      }
    },
    {
      "cell_type": "markdown",
      "source": [
        "##System and User Prompts\n",
        "\n"
      ],
      "metadata": {
        "id": "E1JtRAYcjj9o"
      }
    },
    {
      "cell_type": "markdown",
      "source": [
        "Prompts guide the llm to generate more accurate responses. We do this by defining 2 parts\n",
        "1. The system message describing assitant role\n",
        "2. A user message template including the user question and context  "
      ],
      "metadata": {
        "id": "T-BtVBFMjpRZ"
      }
    },
    {
      "cell_type": "code",
      "source": [
        "qna_system_mesage = \"\"\"\n",
        "You are helpful assitant whose work is to review the reports and provide the appropriate answers from the context.\n",
        "User input might have context required by you to answer the user question.\n",
        "This context will begin with token ###Context.\n",
        "The context contains reference to specific portions of a document relvant to the query.\n",
        "\n",
        "User questions will beging with ###.\n",
        "\n",
        "Only answer from the context provided . Do not mention anything about the context in the final answer.\n",
        "Also mention page number from the context meta data and name of document.\n",
        "If the answer is not found , respond with \"I dont know\".\n",
        "\"\"\""
      ],
      "metadata": {
        "id": "5YMVDBFTj-yk"
      },
      "execution_count": 35,
      "outputs": []
    },
    {
      "cell_type": "code",
      "source": [
        "qna_user_message_template = \"\"\"\n",
        "###Context\n",
        "Here are some of the documents relevant to the question mentioned below.\n",
        "{context}\n",
        "\n",
        "###Question\n",
        "{question}\n",
        "\n",
        "\"\"\""
      ],
      "metadata": {
        "id": "ek5XLQSaljSK"
      },
      "execution_count": 36,
      "outputs": []
    },
    {
      "cell_type": "markdown",
      "source": [
        "###Response Function"
      ],
      "metadata": {
        "id": "elPb9Xael5wE"
      }
    },
    {
      "cell_type": "code",
      "source": [
        "def generate_rag_response(user_input, k=3, max_tokens= 128, temprature=0, top_p =0.95, top_k=50):\n",
        "   global qna_system_mesage, qna_user_message_template\n",
        "\n",
        "   #retirve relevenat chunks\n",
        "   relevant_doc_chunks = retirever.get_relevant_documents(query=user_input, k=k)\n",
        "   context_list= [d.page_content for d in relevant_doc_chunks]\n",
        "\n",
        "   #combine all relevant doc\n",
        "   context_for_query = \". \".join(context_list)\n",
        "\n",
        "   user_message = qna_user_message_template.replace('{context}', context_for_query)\n",
        "   user_message = user_message.replace('{question}', user_input)\n",
        "\n",
        "   prompt = qna_system_mesage + '\\n' +user_message\n",
        "\n",
        "   try:\n",
        "        response = llm(\n",
        "                  prompt=prompt,\n",
        "                  max_tokens=max_tokens,\n",
        "                  temperature=temprature,\n",
        "                  top_p=top_p,\n",
        "                  top_k=top_k\n",
        "                  )\n",
        "        #Extract and print response\n",
        "        response = response['choices'][0]['text'].strip()\n",
        "   except Exception as e:\n",
        "        response = f'Sorry, I encountered the following error: \\n {e}'\n",
        "\n",
        "   return response"
      ],
      "metadata": {
        "id": "Bl0TqYTVl5Uy"
      },
      "execution_count": 40,
      "outputs": []
    },
    {
      "cell_type": "markdown",
      "source": [
        "##Answer Questions using RAG\n",
        "\n"
      ],
      "metadata": {
        "id": "0qqUd_GOqbEp"
      }
    },
    {
      "cell_type": "markdown",
      "source": [],
      "metadata": {
        "id": "wna6u1c1qhHF"
      }
    },
    {
      "cell_type": "markdown",
      "source": [
        "Query 1 : Who are the authors and when this article published?"
      ],
      "metadata": {
        "id": "kmiY0W6iqhOf"
      }
    },
    {
      "cell_type": "code",
      "source": [
        "user_input =  \"Who are the authors and when this article published?\"\n",
        "print(generate_rag_response(user_input) )"
      ],
      "metadata": {
        "colab": {
          "base_uri": "https://localhost:8080/"
        },
        "id": "hhQlsFGnquxD",
        "outputId": "b091f433-3227-4f4c-f4b1-98539060a52f"
      },
      "execution_count": 41,
      "outputs": [
        {
          "output_type": "stream",
          "name": "stderr",
          "text": [
            "Llama.generate: prefix-match hit\n"
          ]
        },
        {
          "output_type": "stream",
          "name": "stdout",
          "text": [
            "Answer:\n",
            "The authors of the article are Joel M. Podolny and Morten T. Hansen. The article was published in November–December 2020. (Harvard Business Review, page 3)\n"
          ]
        }
      ]
    }
  ]
}